{
 "cells": [
  {
   "metadata": {},
   "cell_type": "markdown",
   "source": "# pre-built ReAct agent 「预构建的 ReAct 智能体」\n",
   "id": "89facdfe5398a5f4"
  },
  {
   "metadata": {},
   "cell_type": "markdown",
   "source": "## 准备 chat models",
   "id": "8270284de4034745"
  },
  {
   "metadata": {
    "ExecuteTime": {
     "end_time": "2025-03-16T14:50:38.209558Z",
     "start_time": "2025-03-16T14:50:38.198723Z"
    }
   },
   "cell_type": "code",
   "source": [
    "import sys\n",
    "sys.path.append('/Users/ericyoung/ysx/code/github-study/langChain-rookie')\n",
    "from env_utils import load_environment_variables\n",
    "\n",
    "load_environment_variables()"
   ],
   "id": "4690e4a032256990",
   "outputs": [
    {
     "name": "stdout",
     "output_type": "stream",
     "text": [
      "__file__: /Users/ericyoung/ysx/code/github-study/langChain-rookie/env_utils.py\n",
      "dotenv_path1: /Users/ericyoung/ysx/code/github-study/langChain-rookie/.env\n",
      "load env ok\n"
     ]
    }
   ],
   "execution_count": 10
  },
  {
   "metadata": {},
   "cell_type": "markdown",
   "source": "### 支持tool的 chat model",
   "id": "6820e42336581aeb"
  },
  {
   "metadata": {
    "editable": true,
    "slideshow": {
     "slide_type": ""
    },
    "tags": [],
    "ExecuteTime": {
     "end_time": "2025-03-16T14:50:39.120051Z",
     "start_time": "2025-03-16T14:50:39.116865Z"
    }
   },
   "cell_type": "code",
   "source": [
    "# Ollama\n",
    "from langchain_ollama import ChatOllama\n",
    "# llm = ChatOllama(\n",
    "#     model=\"qwen2.5:latest\", # gemma3:latest(不支持tool)\n",
    "#     temperature=0.7,\n",
    "#     # other params...\n",
    "# )"
   ],
   "id": "587fe31e8dc504d6",
   "outputs": [],
   "execution_count": 11
  },
  {
   "metadata": {},
   "cell_type": "markdown",
   "source": "### 不支持tool的chat model",
   "id": "b8cdb0a145f350a4"
  },
  {
   "metadata": {
    "ExecuteTime": {
     "end_time": "2025-03-16T14:50:40.056133Z",
     "start_time": "2025-03-16T14:50:40.053977Z"
    }
   },
   "cell_type": "code",
   "source": [
    "# 任何chat model\n",
    "# from models import MyOpenAIModel\n",
    "#\n",
    "# model = MyOpenAIModel()\n",
    "# response = model.generate(\"你好，介绍一下你自己\")\n",
    "# print(response)"
   ],
   "id": "69a54d1249199c66",
   "outputs": [],
   "execution_count": 12
  },
  {
   "metadata": {},
   "cell_type": "markdown",
   "source": [
    "### ⭐️ 不支持tool模型 利用 ChatOpenAI (使用base_url) 实现 bind_tools\n",
    "- 支持结构化输出, with_structured_output方法\n",
    "- 支持使用工具, bind_tools方法\n",
    "- llm = ChatOpenAI(\n",
    "                model=\"gpt-4o\",\n",
    "                temperature=0,\n",
    "                max_tokens=None,\n",
    "                timeout=None,\n",
    "                max_retries=2,\n",
    "                # api_key=\"...\",\n",
    "                # base_url=\"...\",\n",
    "                # organization=\"...\",\n",
    "                # other params...\n",
    "            )"
   ],
   "id": "f0010a0917804b50"
  },
  {
   "metadata": {
    "ExecuteTime": {
     "end_time": "2025-03-16T14:50:43.796824Z",
     "start_time": "2025-03-16T14:50:41.412678Z"
    }
   },
   "cell_type": "code",
   "source": [
    "from models import get_base_url_model_with_tools\n",
    "llm = get_base_url_model_with_tools()\n",
    "print(llm.invoke(\"你是谁?\").content)"
   ],
   "id": "70c8cc470568602c",
   "outputs": [
    {
     "name": "stdout",
     "output_type": "stream",
     "text": [
      "我是Gemma，一个开放权重的AI助手。我是一个由Google DeepMind训练的大型语言模型。\n",
      "\n",
      "我是一个由文本和图像组成的模型。 \n",
      "\n",
      "你可以用多种语言与我交流，我会尽力理解并回复你。\n",
      "\n"
     ]
    }
   ],
   "execution_count": 13
  },
  {
   "metadata": {},
   "cell_type": "markdown",
   "source": [
    "## How to use the pre-built ReAct agent 「如何使用预构建的 ReAct 智能体」\n",
    "\n",
    "- 在这个教程中，我们将创建一个简单的 ReAct 代理应用程序，用于检查天气。该应用程序由一个代理（LLM）和工具组成。\n",
    "- 当我们与该应用程序交互时，我们首先调用代理（LLM）来决定是否使用工具。然后我们将运行一个循环：\n",
    "    - 如果代理指示执行操作（例如调用工具），我们将运行工具并将结果传回代理\n",
    "    - 如果代理未请求运行工具，我们将完成（响应用户）"
   ],
   "id": "bdfac03a68c102c2"
  },
  {
   "metadata": {},
   "cell_type": "markdown",
   "source": "### 创建预构建 React-Agent (langgraph.prebuilt --> create_react_agent)",
   "id": "d4ff597a120bbb84"
  },
  {
   "metadata": {
    "ExecuteTime": {
     "end_time": "2025-03-16T14:43:37.249601Z",
     "start_time": "2025-03-16T14:43:37.137282Z"
    }
   },
   "cell_type": "code",
   "source": [
    "# For this tutorial we will use custom tool that returns pre-defined values for weather in two cities (NYC & SF)\n",
    "\n",
    "from typing import Literal\n",
    "\n",
    "from langchain_core.tools import tool\n",
    "\n",
    "\n",
    "@tool\n",
    "def get_weather(city: Literal[\"nyc\", \"sf\"]):\n",
    "    \"\"\"Use this to get weather information.\"\"\"\n",
    "    if city == \"nyc\":\n",
    "        return \"It might be cloudy in nyc\"\n",
    "    elif city == \"sf\":\n",
    "        return \"It's always sunny in sf\"\n",
    "    else:\n",
    "        raise AssertionError(\"Unknown city\")\n",
    "\n",
    "\n",
    "tools = [get_weather]\n",
    "\n",
    "\n",
    "# Define the graph\n",
    "\n",
    "from langgraph.prebuilt import create_react_agent\n",
    "\n",
    "graph = create_react_agent(llm, tools=tools)"
   ],
   "id": "f7b61a54fcaa7ab0",
   "outputs": [],
   "execution_count": 5
  },
  {
   "metadata": {},
   "cell_type": "markdown",
   "source": "### 可视化创建的图",
   "id": "5c55bc4989506a3d"
  },
  {
   "metadata": {
    "ExecuteTime": {
     "end_time": "2025-03-16T14:44:22.135126Z",
     "start_time": "2025-03-16T14:44:21.140147Z"
    }
   },
   "cell_type": "code",
   "source": [
    "from IPython.display import Image, display\n",
    "\n",
    "display(Image(graph.get_graph().draw_mermaid_png()))"
   ],
   "id": "35140ef0c3605f79",
   "outputs": [
    {
     "data": {
      "image/png": "[encoded data removed]",
      "text/plain": [
       "<IPython.core.display.Image object>"
      ]
     },
     "metadata": {},
     "output_type": "display_data"
    }
   ],
   "execution_count": 6
  },
  {
   "metadata": {},
   "cell_type": "markdown",
   "source": "### 需要工具调用的输入",
   "id": "5ed3d984e1ad1db8"
  },
  {
   "metadata": {
    "ExecuteTime": {
     "end_time": "2025-03-16T14:44:36.599220Z",
     "start_time": "2025-03-16T14:44:36.593825Z"
    }
   },
   "cell_type": "code",
   "outputs": [],
   "execution_count": 7,
   "source": [
    "def print_stream(stream):\n",
    "    for s in stream:\n",
    "        message = s[\"messages\"][-1]\n",
    "        if isinstance(message, tuple):\n",
    "            print(message)\n",
    "        else:\n",
    "            message.pretty_print()"
   ],
   "id": "4c2fefbb77a00252"
  },
  {
   "metadata": {
    "ExecuteTime": {
     "end_time": "2025-03-16T14:45:31.849571Z",
     "start_time": "2025-03-16T14:45:27.835579Z"
    }
   },
   "cell_type": "code",
   "source": [
    "inputs = {\"messages\": [(\"user\", \"what is the weather in sf\")]}\n",
    "print_stream(graph.stream(inputs, stream_mode=\"values\"))"
   ],
   "id": "85f07681212be9c3",
   "outputs": [
    {
     "name": "stdout",
     "output_type": "stream",
     "text": [
      "================================\u001B[1m Human Message \u001B[0m=================================\n",
      "\n",
      "what is the weather in sf\n",
      "==================================\u001B[1m Ai Message \u001B[0m==================================\n",
      "Tool Calls:\n",
      "  get_weather (910263187)\n",
      " Call ID: 910263187\n",
      "  Args:\n",
      "    city: sf\n",
      "=================================\u001B[1m Tool Message \u001B[0m=================================\n",
      "Name: get_weather\n",
      "\n",
      "It's always sunny in sf\n",
      "==================================\u001B[1m Ai Message \u001B[0m==================================\n",
      "\n",
      "[TOOL_REQUEST]{\n",
      "{\"name\": \"get_weather\",\n",
      "\"arguments\": {\"city\":\"nyc\"}\n",
      "}\n",
      "[END_TOOL_REQUEST]\n"
     ]
    }
   ],
   "execution_count": 8
  },
  {
   "metadata": {},
   "cell_type": "markdown",
   "source": "### 尝试一个不需要工具的问题",
   "id": "f1dd39868d5f9efe"
  },
  {
   "metadata": {
    "ExecuteTime": {
     "end_time": "2025-03-16T14:46:11.267726Z",
     "start_time": "2025-03-16T14:46:09.812101Z"
    }
   },
   "cell_type": "code",
   "source": [
    "inputs = {\"messages\": [(\"user\", \"who built you?\")]}\n",
    "print_stream(graph.stream(inputs, stream_mode=\"values\"))"
   ],
   "id": "e42caaa6a12c9491",
   "outputs": [
    {
     "name": "stdout",
     "output_type": "stream",
     "text": [
      "================================\u001B[1m Human Message \u001B[0m=================================\n",
      "\n",
      "who built you?\n",
      "==================================\u001B[1m Ai Message \u001B[0m==================================\n",
      "\n",
      "I don’t have a creator in the way humans do. I was created by the Gemma team at Google DeepMind.\n"
     ]
    }
   ],
   "execution_count": 9
  },
  {
   "metadata": {},
   "cell_type": "markdown",
   "source": [
    "## How to add thread-level memory to a ReAct Agent¶ 「如何为 ReAct Agent 添加线程级内存」\n",
    "- LangGraph Persistence   LangGraph 持久化\n",
    "- Checkpointer interface   检查点器接口\n",
    "- Agent Architectures   代理架构\n",
    "- Chat Models   聊天模型\n",
    "- Tools   工具"
   ],
   "id": "38f75d3124b64004"
  },
  {
   "metadata": {},
   "cell_type": "markdown",
   "source": "### 通过向 create_react_agent 函数传递一个 checkpointer 来为代理添加内存",
   "id": "f5d5525c8dc7e36c"
  },
  {
   "metadata": {
    "ExecuteTime": {
     "end_time": "2025-03-16T14:54:41.443713Z",
     "start_time": "2025-03-16T14:54:41.400176Z"
    }
   },
   "cell_type": "code",
   "source": [
    "# For this tutorial we will use custom tool that returns pre-defined values for weather in two cities (NYC & SF)\n",
    "\n",
    "from langchain_core.tools import tool\n",
    "\n",
    "\n",
    "@tool\n",
    "def get_weather(location: str) -> str:\n",
    "    \"\"\"Use this to get weather information.\"\"\"\n",
    "    if any([city in location.lower() for city in [\"nyc\", \"new york city\"]]):\n",
    "        return \"It might be cloudy in nyc\"\n",
    "    elif any([city in location.lower() for city in [\"sf\", \"san francisco\"]]):\n",
    "        return \"It's always sunny in sf\"\n",
    "    else:\n",
    "        return f\"I am not sure what the weather is in {location}\"\n",
    "\n",
    "\n",
    "tools = [get_weather]\n",
    "\n",
    "# We can add \"chat memory\" to the graph with LangGraph's checkpointer\n",
    "# to retain the chat context between interactions\n",
    "from langgraph.checkpoint.memory import MemorySaver\n",
    "\n",
    "memory = MemorySaver()\n",
    "\n",
    "# Define the graph\n",
    "\n",
    "from langgraph.prebuilt import create_react_agent\n",
    "\n",
    "graph = create_react_agent(llm, tools=tools, checkpointer=memory)"
   ],
   "id": "a1358d430e612d93",
   "outputs": [],
   "execution_count": 14
  },
  {
   "metadata": {},
   "cell_type": "markdown",
   "source": "### 多次对话",
   "id": "edd0dc9ec707fb72"
  },
  {
   "metadata": {
    "ExecuteTime": {
     "end_time": "2025-03-16T14:55:12.909976Z",
     "start_time": "2025-03-16T14:55:12.901028Z"
    }
   },
   "cell_type": "code",
   "source": [
    "def print_stream(stream):\n",
    "    for s in stream:\n",
    "        message = s[\"messages\"][-1]\n",
    "        if isinstance(message, tuple):\n",
    "            print(message)\n",
    "        else:\n",
    "            message.pretty_print()"
   ],
   "id": "3f6f419517d35250",
   "outputs": [],
   "execution_count": 15
  },
  {
   "metadata": {
    "ExecuteTime": {
     "end_time": "2025-03-16T14:55:36.513900Z",
     "start_time": "2025-03-16T14:55:32.683538Z"
    }
   },
   "cell_type": "code",
   "source": [
    "config = {\"configurable\": {\"thread_id\": \"1\"}}\n",
    "inputs = {\"messages\": [(\"user\", \"What's the weather in NYC?\")]}\n",
    "\n",
    "print_stream(graph.stream(inputs, config=config, stream_mode=\"values\"))"
   ],
   "id": "b8570105a3c8a19a",
   "outputs": [
    {
     "name": "stdout",
     "output_type": "stream",
     "text": [
      "================================\u001B[1m Human Message \u001B[0m=================================\n",
      "\n",
      "What's the weather in NYC?\n",
      "==================================\u001B[1m Ai Message \u001B[0m==================================\n",
      "Tool Calls:\n",
      "  get_weather (461826354)\n",
      " Call ID: 461826354\n",
      "  Args:\n",
      "    location: NYC\n",
      "=================================\u001B[1m Tool Message \u001B[0m=================================\n",
      "Name: get_weather\n",
      "\n",
      "It might be cloudy in nyc\n",
      "==================================\u001B[1m Ai Message \u001B[0m==================================\n",
      "\n",
      "[TOOL_REQUEST]{\n",
      "{\"name\": \"get_weather\",\n",
      "\"arguments\": {\"location\": \"NYC\"}\n",
      "}\n",
      "[END_TOOL_REQUEST]\n"
     ]
    }
   ],
   "execution_count": 16
  },
  {
   "metadata": {},
   "cell_type": "markdown",
   "source": "- 传递相同的线程 ID 时，聊天记录会被保留",
   "id": "76c11034435bb710"
  },
  {
   "metadata": {
    "ExecuteTime": {
     "end_time": "2025-03-16T14:56:12.059026Z",
     "start_time": "2025-03-16T14:56:09.040210Z"
    }
   },
   "cell_type": "code",
   "source": [
    "inputs = {\"messages\": [(\"user\", \"What's it known for?\")]}\n",
    "print_stream(graph.stream(inputs, config=config, stream_mode=\"values\"))"
   ],
   "id": "a8bd9667aa77d3b7",
   "outputs": [
    {
     "name": "stdout",
     "output_type": "stream",
     "text": [
      "================================\u001B[1m Human Message \u001B[0m=================================\n",
      "\n",
      "What's it known for?\n",
      "==================================\u001B[1m Ai Message \u001B[0m==================================\n",
      "Tool Calls:\n",
      "  get_weather (737625162)\n",
      " Call ID: 737625162\n",
      "  Args:\n",
      "    location: NYC\n",
      "=================================\u001B[1m Tool Message \u001B[0m=================================\n",
      "Name: get_weather\n",
      "\n",
      "It might be cloudy in nyc\n",
      "==================================\u001B[1m Ai Message \u001B[0m==================================\n",
      "\n",
      "[TOOL_REQUEST]{\n",
      "{\"name\": \"get_weather\",\n",
      "\"arguments\": {\"location\": \"NYC\"}\n",
      "}\n",
      "[END_TOOL_REQUEST]\n"
     ]
    }
   ],
   "execution_count": 17
  },
  {
   "metadata": {},
   "cell_type": "markdown",
   "source": [
    "## How to add a custom system prompt to the prebuilt ReAct agent¶ 「如何向预构建的 ReAct 代理添加自定义系统提示」\n",
    "- 通过传递一个字符串到 prompt 参数来添加自定义系统提示。"
   ],
   "id": "e77db79a87e68a3f"
  },
  {
   "metadata": {
    "ExecuteTime": {
     "end_time": "2025-03-16T15:00:40.686357Z",
     "start_time": "2025-03-16T15:00:40.651793Z"
    }
   },
   "cell_type": "code",
   "source": [
    "# For this tutorial we will use custom tool that returns pre-defined values for weather in two cities (NYC & SF)\n",
    "\n",
    "from typing import Literal\n",
    "\n",
    "from langchain_core.tools import tool\n",
    "\n",
    "\n",
    "@tool\n",
    "def get_weather(city: Literal[\"nyc\", \"sf\"]):\n",
    "    \"\"\"Use this to get weather information.\"\"\"\n",
    "    if city == \"nyc\":\n",
    "        return \"It might be cloudy in nyc\"\n",
    "    elif city == \"sf\":\n",
    "        return \"It's always sunny in sf\"\n",
    "    else:\n",
    "        raise AssertionError(\"Unknown city\")\n",
    "\n",
    "\n",
    "tools = [get_weather]\n",
    "\n",
    "# We can add our system prompt here\n",
    "\n",
    "prompt = \"Respond in Italian\"\n",
    "\n",
    "# Define the graph\n",
    "\n",
    "from langgraph.prebuilt import create_react_agent\n",
    "\n",
    "graph = create_react_agent(llm, tools=tools, prompt=prompt)"
   ],
   "id": "fe3b981d71b2dc2e",
   "outputs": [],
   "execution_count": 24
  },
  {
   "metadata": {
    "ExecuteTime": {
     "end_time": "2025-03-16T15:00:42.183132Z",
     "start_time": "2025-03-16T15:00:42.176623Z"
    }
   },
   "cell_type": "code",
   "source": [
    "def print_stream(stream):\n",
    "    for s in stream:\n",
    "        message = s[\"messages\"][-1]\n",
    "        if isinstance(message, tuple):\n",
    "            print(message)\n",
    "        else:\n",
    "            message.pretty_print()"
   ],
   "id": "9391a78cec2af6ca",
   "outputs": [],
   "execution_count": 25
  },
  {
   "metadata": {
    "ExecuteTime": {
     "end_time": "2025-03-16T15:00:45.354447Z",
     "start_time": "2025-03-16T15:00:42.336386Z"
    }
   },
   "cell_type": "code",
   "source": [
    "inputs = {\"messages\": [(\"user\", \"What's the weather in NYC?\")]}\n",
    "\n",
    "print_stream(graph.stream(inputs, stream_mode=\"values\"))"
   ],
   "id": "f641027871e428d5",
   "outputs": [
    {
     "name": "stdout",
     "output_type": "stream",
     "text": [
      "================================\u001B[1m Human Message \u001B[0m=================================\n",
      "\n",
      "What's the weather in NYC?\n",
      "==================================\u001B[1m Ai Message \u001B[0m==================================\n",
      "Tool Calls:\n",
      "  get_weather (837893838)\n",
      " Call ID: 837893838\n",
      "  Args:\n",
      "    city: nyc\n",
      "=================================\u001B[1m Tool Message \u001B[0m=================================\n",
      "Name: get_weather\n",
      "\n",
      "It might be cloudy in nyc\n",
      "==================================\u001B[1m Ai Message \u001B[0m==================================\n",
      "\n",
      "[TOOL_REQUEST]{\n",
      "{\"name\": \"get_weather\",\n",
      "\"arguments\": {\"city\": \"sf\"}\n",
      "}\n",
      "[END_TOOL_REQUEST]\n"
     ]
    }
   ],
   "execution_count": 26
  },
  {
   "metadata": {},
   "cell_type": "markdown",
   "source": [
    "## How to add human-in-the-loop processes to the prebuilt ReAct agent¶ 「如何将人工打的断点添加到预构建的 ReAct 智能体中 ¶」\n",
    "- 可以在调用工具之前通过传递 interrupt_before=[\"tools\"] 到 create_react_agent 来设置一个断点。\n",
    "- 请注意，您需要使用检查点器才能使此操作生效。"
   ],
   "id": "1c432e999d78d1e5"
  },
  {
   "metadata": {
    "ExecuteTime": {
     "end_time": "2025-03-16T15:21:58.551282Z",
     "start_time": "2025-03-16T15:21:58.527754Z"
    }
   },
   "cell_type": "code",
   "source": [
    "# For this tutorial we will use custom tool that returns pre-defined values for weather in two cities (NYC & SF)\n",
    "from typing import Literal\n",
    "\n",
    "from langchain_core.tools import tool\n",
    "\n",
    "\n",
    "@tool\n",
    "def get_weather(location: str):\n",
    "    \"\"\"Use this to get weather information from a given location.\"\"\"\n",
    "    if location.lower() in [\"nyc\", \"new york\"]:\n",
    "        return \"It might be cloudy in nyc\"\n",
    "    elif location.lower() in [\"sf\", \"san francisco\"]:\n",
    "        return \"It's always sunny in sf\"\n",
    "    else:\n",
    "        raise AssertionError(\"Unknown Location\")\n",
    "\n",
    "\n",
    "tools = [get_weather]\n",
    "\n",
    "# We need a checkpointer to enable human-in-the-loop patterns\n",
    "from langgraph.checkpoint.memory import MemorySaver\n",
    "\n",
    "memory = MemorySaver()\n",
    "\n",
    "# Define the graph\n",
    "\n",
    "from langgraph.prebuilt import create_react_agent\n",
    "\n",
    "graph = create_react_agent(\n",
    "    llm,\n",
    "    tools=tools,\n",
    "    interrupt_before=[\"tools\"],  # 在tools之前断点\n",
    "    checkpointer=memory\n",
    ")"
   ],
   "id": "2ae0f8e3e116d090",
   "outputs": [],
   "execution_count": 58
  },
  {
   "metadata": {
    "ExecuteTime": {
     "end_time": "2025-03-16T15:22:00.815380Z",
     "start_time": "2025-03-16T15:21:59.111196Z"
    }
   },
   "cell_type": "code",
   "source": [
    "from langchain_core.messages import HumanMessage\n",
    "\n",
    "config = {\"configurable\": {\"thread_id\": \"42\"}}\n",
    "inputs = {\"messages\": [HumanMessage(content=\"what is the weather in SF, CA?\")]}\n",
    "\n",
    "print_stream(graph.stream(inputs, config, stream_mode=\"values\"))"
   ],
   "id": "a8f1bc525cf5e30f",
   "outputs": [
    {
     "name": "stdout",
     "output_type": "stream",
     "text": [
      "================================\u001B[1m Human Message \u001B[0m=================================\n",
      "\n",
      "what is the weather in SF, CA?\n",
      "==================================\u001B[1m Ai Message \u001B[0m==================================\n",
      "Tool Calls:\n",
      "  get_weather (633673430)\n",
      " Call ID: 633673430\n",
      "  Args:\n",
      "    location: SF, CA\n"
     ]
    }
   ],
   "execution_count": 59
  },
  {
   "metadata": {},
   "cell_type": "markdown",
   "source": "### 验证我们的图停止在正确的位置：",
   "id": "764ef2adba1af279"
  },
  {
   "metadata": {
    "ExecuteTime": {
     "end_time": "2025-03-16T15:22:00.846420Z",
     "start_time": "2025-03-16T15:22:00.840639Z"
    }
   },
   "cell_type": "code",
   "source": [
    "snapshot = graph.get_state(config)\n",
    "print(\"Next step: \", snapshot.next)"
   ],
   "id": "2c02b377af83cc9",
   "outputs": [
    {
     "name": "stdout",
     "output_type": "stream",
     "text": [
      "Next step:  ('tools',)\n"
     ]
    }
   ],
   "execution_count": 60
  },
  {
   "metadata": {},
   "cell_type": "markdown",
   "source": [
    "- 现在我们可以在进入下一个节点之前批准或编辑工具调用。\n",
    "- 如果我们想批准工具调用，我们只需继续使用 None 输入流式传输图。\n",
    "- 如果我们想编辑工具调用，我们需要更新状态以包含正确的工具调用，然后更新应用后我们可以继续。"
   ],
   "id": "3b6fa07feb883025"
  },
  {
   "metadata": {
    "ExecuteTime": {
     "end_time": "2025-03-16T15:22:04.429503Z",
     "start_time": "2025-03-16T15:22:02.914662Z"
    }
   },
   "cell_type": "code",
   "source": [
    "# 此错误发生是因为我们的工具参数“旧金山，CA”不是我们的工具识别的位置。\n",
    "print_stream(graph.stream(None, config, stream_mode=\"values\"))"
   ],
   "id": "acb98d4c4d89de97",
   "outputs": [
    {
     "name": "stdout",
     "output_type": "stream",
     "text": [
      "==================================\u001B[1m Ai Message \u001B[0m==================================\n",
      "Tool Calls:\n",
      "  get_weather (633673430)\n",
      " Call ID: 633673430\n",
      "  Args:\n",
      "    location: SF, CA\n",
      "=================================\u001B[1m Tool Message \u001B[0m=================================\n",
      "Name: get_weather\n",
      "\n",
      "Error: AssertionError('Unknown Location')\n",
      " Please fix your mistakes.\n",
      "==================================\u001B[1m Ai Message \u001B[0m==================================\n",
      "\n",
      "[TOOL_REQUEST]{\n",
      "{\"name\": \"get_weather\", \"arguments\": {\"location\": \"San Francisco, CA\"}}\n",
      "[END_TOOL_REQUEST]\n"
     ]
    }
   ],
   "execution_count": 61
  },
  {
   "metadata": {},
   "cell_type": "markdown",
   "source": [
    "### 人工介入,在断点位置修改数据\n",
    "- 让我们展示如何编辑工具调用以搜索“旧金山”而不是“旧金山，CA”——因为我们的工具将“旧金山，CA”视为未知位置。\n",
    "- 我们将更新州信息，然后继续流式传输图，应该不会出现错误：\n",
    "    - get_state\n",
    "    - update_state"
   ],
   "id": "37deca6fdacbd421"
  },
  {
   "metadata": {
    "ExecuteTime": {
     "end_time": "2025-03-16T15:22:09.333215Z",
     "start_time": "2025-03-16T15:22:09.327327Z"
    }
   },
   "cell_type": "code",
   "source": [
    "# 方式1\n",
    "# state = graph.get_state(config)\n",
    "#\n",
    "# last_message = state.values[\"messages\"][-1]\n",
    "# print(last_message)\n",
    "# if last_message.tool_calls:\n",
    "#     last_message.tool_calls[0][\"args\"] = {\"location\": \"San Francisco\"}\n",
    "#\n",
    "# graph.update_state(config, {\"messages\": [last_message]})"
   ],
   "id": "7ca60e5fe4ad8bc4",
   "outputs": [],
   "execution_count": 62
  },
  {
   "metadata": {
    "ExecuteTime": {
     "end_time": "2025-03-16T15:22:10.170679Z",
     "start_time": "2025-03-16T15:22:10.156334Z"
    }
   },
   "cell_type": "code",
   "source": [
    "# 方式2\n",
    "state = graph.get_state(config)\n",
    "\n",
    "last_message = state.values[\"messages\"][-1]\n",
    "print(last_message.content)\n",
    "text = last_message.content\n",
    "if last_message.content:\n",
    "    replace_str = text.replace('San Francisco, CA', 'San Francisco')\n",
    "    last_message.content = replace_str\n",
    "print(last_message.content)\n",
    "graph.update_state(config, {\"messages\": [last_message]})"
   ],
   "id": "1241c4a52d0cb0c",
   "outputs": [
    {
     "name": "stdout",
     "output_type": "stream",
     "text": [
      "[TOOL_REQUEST]{\n",
      "{\"name\": \"get_weather\", \"arguments\": {\"location\": \"San Francisco, CA\"}}\n",
      "[END_TOOL_REQUEST]\n",
      "[TOOL_REQUEST]{\n",
      "{\"name\": \"get_weather\", \"arguments\": {\"location\": \"San Francisco\"}}\n",
      "[END_TOOL_REQUEST]\n"
     ]
    },
    {
     "data": {
      "text/plain": [
       "{'configurable': {'thread_id': '42',\n",
       "  'checkpoint_ns': '',\n",
       "  'checkpoint_id': '1f0027a6-de81-60bc-8004-13a7e21a7533'}}"
      ]
     },
     "execution_count": 63,
     "metadata": {},
     "output_type": "execute_result"
    }
   ],
   "execution_count": 63
  },
  {
   "metadata": {},
   "cell_type": "markdown",
   "source": "### 验证修改后的数据",
   "id": "52e5fa11089d7ce5"
  },
  {
   "metadata": {
    "ExecuteTime": {
     "end_time": "2025-03-16T15:22:16.022580Z",
     "start_time": "2025-03-16T15:22:16.016904Z"
    }
   },
   "cell_type": "code",
   "source": "print_stream(graph.stream(None, config, stream_mode=\"values\"))",
   "id": "bfdad0f00f0be293",
   "outputs": [
    {
     "name": "stdout",
     "output_type": "stream",
     "text": [
      "==================================\u001B[1m Ai Message \u001B[0m==================================\n",
      "\n",
      "[TOOL_REQUEST]{\n",
      "{\"name\": \"get_weather\", \"arguments\": {\"location\": \"San Francisco\"}}\n",
      "[END_TOOL_REQUEST]\n"
     ]
    }
   ],
   "execution_count": 64
  },
  {
   "metadata": {},
   "cell_type": "markdown",
   "source": [
    "## How to return structured output from the prebuilt ReAct agent¶ 「如何从预构建的 ReAct 代理返回结构化输出」\n",
    "- 预构建的 ReAct 在 ReAct 循环结束时额外调用LLM，以生成结构化输出响应。"
   ],
   "id": "6ce1fe65ea46eb8f"
  },
  {
   "metadata": {
    "ExecuteTime": {
     "end_time": "2025-03-16T15:26:25.584190Z",
     "start_time": "2025-03-16T15:26:25.549623Z"
    }
   },
   "cell_type": "code",
   "source": [
    "# For this tutorial we will use custom tool that returns pre-defined values for weather in two cities (NYC & SF)\n",
    "\n",
    "from typing import Literal\n",
    "from langchain_core.tools import tool\n",
    "\n",
    "\n",
    "@tool\n",
    "def get_weather(city: Literal[\"nyc\", \"sf\"]):\n",
    "    \"\"\"Use this to get weather information.\"\"\"\n",
    "    if city == \"nyc\":\n",
    "        return \"It might be cloudy in nyc\"\n",
    "    elif city == \"sf\":\n",
    "        return \"It's always sunny in sf\"\n",
    "    else:\n",
    "        raise AssertionError(\"Unknown city\")\n",
    "\n",
    "\n",
    "tools = [get_weather]\n",
    "\n",
    "# Define the structured output schema\n",
    "\n",
    "from pydantic import BaseModel, Field\n",
    "\n",
    "\n",
    "class WeatherResponse(BaseModel):\n",
    "    \"\"\"Respond to the user in this format.\"\"\"\n",
    "\n",
    "    conditions: str = Field(description=\"Weather conditions\")\n",
    "\n",
    "\n",
    "# Define the graph\n",
    "\n",
    "from langgraph.prebuilt import create_react_agent\n",
    "\n",
    "graph = create_react_agent(\n",
    "    llm,\n",
    "    tools=tools,\n",
    "    # specify the schema for the structured output using `response_format` parameter\n",
    "    response_format=WeatherResponse,\n",
    ")"
   ],
   "id": "74efbdba035b9ad5",
   "outputs": [],
   "execution_count": 65
  },
  {
   "metadata": {},
   "cell_type": "markdown",
   "source": "### 测试",
   "id": "eb112dfbb2331249"
  },
  {
   "metadata": {
    "ExecuteTime": {
     "end_time": "2025-03-16T15:27:14.079711Z",
     "start_time": "2025-03-16T15:27:09.045688Z"
    }
   },
   "cell_type": "code",
   "source": [
    "inputs = {\"messages\": [(\"user\", \"What's the weather in NYC?\")]}\n",
    "response = graph.invoke(inputs)\n",
    "print(response)"
   ],
   "id": "72b0b0b2d8b90fd8",
   "outputs": [
    {
     "name": "stdout",
     "output_type": "stream",
     "text": [
      "{'messages': [HumanMessage(content=\"What's the weather in NYC?\", additional_kwargs={}, response_metadata={}, id='7cfd93dc-44a3-4603-8b1a-f7d8a5467d5d'), AIMessage(content='', additional_kwargs={'tool_calls': [{'id': '853195961', 'function': {'arguments': '{\"city\":\"nyc\"}', 'name': 'get_weather'}, 'type': 'function'}], 'refusal': None}, response_metadata={'token_usage': {'completion_tokens': 31, 'prompt_tokens': 408, 'total_tokens': 439, 'completion_tokens_details': None, 'prompt_tokens_details': None}, 'model_name': 'gemma-3-4b-it', 'system_fingerprint': 'gemma-3-4b-it', 'finish_reason': 'tool_calls', 'logprobs': None}, id='run-cc28dd80-1c87-4c7f-b357-1a611b64a5c4-0', tool_calls=[{'name': 'get_weather', 'args': {'city': 'nyc'}, 'id': '853195961', 'type': 'tool_call'}], usage_metadata={'input_tokens': 408, 'output_tokens': 31, 'total_tokens': 439, 'input_token_details': {}, 'output_token_details': {}}), ToolMessage(content='It might be cloudy in nyc', name='get_weather', id='df47504e-ec09-4762-9819-766dc04a11df', tool_call_id='853195961'), AIMessage(content='[TOOL_REQUEST]{\\n{\"name\": \"get_weather\",\\n\"arguments\": {\"city\": \"sf\"}\\n}\\n[END_TOOL_REQUEST]', additional_kwargs={'refusal': None}, response_metadata={'token_usage': {'completion_tokens': 34, 'prompt_tokens': 478, 'total_tokens': 512, 'completion_tokens_details': None, 'prompt_tokens_details': None}, 'model_name': 'gemma-3-4b-it', 'system_fingerprint': 'gemma-3-4b-it', 'finish_reason': 'stop', 'logprobs': None}, id='run-76e0e477-4d64-4c50-8f3b-37487332e70a-0', usage_metadata={'input_tokens': 478, 'output_tokens': 34, 'total_tokens': 512, 'input_token_details': {}, 'output_token_details': {}})], 'structured_response': WeatherResponse(conditions='cloudy')}\n"
     ]
    }
   ],
   "execution_count": 67
  },
  {
   "metadata": {},
   "cell_type": "markdown",
   "source": [
    "### 代理输出包含一个 structured_response 键\n",
    "- 其结构化输出符合指定的 WeatherResponse 模式，此外还有 messages 键下的消息历史记录"
   ],
   "id": "57ab323d5b391805"
  },
  {
   "metadata": {
    "ExecuteTime": {
     "end_time": "2025-03-16T15:27:48.125884Z",
     "start_time": "2025-03-16T15:27:48.119994Z"
    }
   },
   "cell_type": "code",
   "source": "response[\"structured_response\"]",
   "id": "d2e4c0192391a9c3",
   "outputs": [
    {
     "data": {
      "text/plain": [
       "WeatherResponse(conditions='cloudy')"
      ]
     },
     "execution_count": 68,
     "metadata": {},
     "output_type": "execute_result"
    }
   ],
   "execution_count": 68
  },
  {
   "metadata": {},
   "cell_type": "markdown",
   "source": [
    "### Customizing prompt¶  自定义提示\n",
    "- 进一步自定义第二个LLM调用以生成结构化输出并提供系统提示。为此，您可以传递一个**元组（提示，模式）**："
   ],
   "id": "54690f2bf14325d1"
  },
  {
   "metadata": {
    "ExecuteTime": {
     "end_time": "2025-03-16T15:29:35.940730Z",
     "start_time": "2025-03-16T15:29:30.808274Z"
    }
   },
   "cell_type": "code",
   "source": [
    "graph = create_react_agent(\n",
    "    llm,\n",
    "    tools=tools,\n",
    "    # specify both the system prompt and the schema for the structured output\n",
    "    response_format=(\"Always return capitalized weather conditions\", WeatherResponse),\n",
    ")\n",
    "\n",
    "inputs = {\"messages\": [(\"user\", \"What's the weather in NYC?\")]}\n",
    "response = graph.invoke(inputs)\n",
    "print(response)"
   ],
   "id": "3bef08a37507160",
   "outputs": [
    {
     "name": "stdout",
     "output_type": "stream",
     "text": [
      "{'messages': [HumanMessage(content=\"What's the weather in NYC?\", additional_kwargs={}, response_metadata={}, id='05502b80-1b68-4cc3-9a70-b2d24cf67689'), AIMessage(content='', additional_kwargs={'tool_calls': [{'id': '264526406', 'function': {'arguments': '{\"city\":\"nyc\"}', 'name': 'get_weather'}, 'type': 'function'}], 'refusal': None}, response_metadata={'token_usage': {'completion_tokens': 31, 'prompt_tokens': 408, 'total_tokens': 439, 'completion_tokens_details': None, 'prompt_tokens_details': None}, 'model_name': 'gemma-3-4b-it', 'system_fingerprint': 'gemma-3-4b-it', 'finish_reason': 'tool_calls', 'logprobs': None}, id='run-9ad6eb51-8609-4103-867f-afc7d028aede-0', tool_calls=[{'name': 'get_weather', 'args': {'city': 'nyc'}, 'id': '264526406', 'type': 'tool_call'}], usage_metadata={'input_tokens': 408, 'output_tokens': 31, 'total_tokens': 439, 'input_token_details': {}, 'output_token_details': {}}), ToolMessage(content='It might be cloudy in nyc', name='get_weather', id='cd6e9ffb-2bf8-4497-bfb9-94586ac38227', tool_call_id='264526406'), AIMessage(content='[TOOL_REQUEST]{\\n{\"name\": \"get_weather\",\\n\"arguments\": {\"city\":\"sf\"}\\n}\\n[END_TOOL_REQUEST]', additional_kwargs={'refusal': None}, response_metadata={'token_usage': {'completion_tokens': 33, 'prompt_tokens': 478, 'total_tokens': 511, 'completion_tokens_details': None, 'prompt_tokens_details': None}, 'model_name': 'gemma-3-4b-it', 'system_fingerprint': 'gemma-3-4b-it', 'finish_reason': 'stop', 'logprobs': None}, id='run-ab470465-c6af-40c5-af94-494246fe26b3-0', usage_metadata={'input_tokens': 478, 'output_tokens': 33, 'total_tokens': 511, 'input_token_details': {}, 'output_token_details': {}})], 'structured_response': WeatherResponse(conditions='cloudy')}\n"
     ]
    }
   ],
   "execution_count": 70
  },
  {
   "metadata": {
    "ExecuteTime": {
     "end_time": "2025-03-16T15:30:11.353361Z",
     "start_time": "2025-03-16T15:30:11.345065Z"
    }
   },
   "cell_type": "code",
   "source": "response[\"structured_response\"]",
   "id": "e5b106b49eb43da3",
   "outputs": [
    {
     "data": {
      "text/plain": [
       "WeatherResponse(conditions='cloudy')"
      ]
     },
     "execution_count": 71,
     "metadata": {},
     "output_type": "execute_result"
    }
   ],
   "execution_count": 71
  },
  {
   "metadata": {},
   "cell_type": "markdown",
   "source": [
    "## How to add semantic search to your agent's memory¶ 「如何将语义搜索添加到您的代理内存中」\n",
    "- 通过语义相似性在存储中搜索项目。"
   ],
   "id": "13acb38ef2cdd5d1"
  },
  {
   "metadata": {},
   "cell_type": "markdown",
   "source": [
    "### 创建具有索引配置的存储。\n",
    "- 默认情况下，存储配置不包含语义/向量搜索。\n",
    "- 您可以在创建存储时通过向存储构造函数提供 IndexConfig 来选择索引项。\n",
    "- 如果您的存储类未实现此接口，或者您未传入索引配置，则禁用语义搜索，并且传递给 put 或 aput 的所有 index 参数将无任何效果。"
   ],
   "id": "e7bfe2be656ca4c2"
  },
  {
   "metadata": {
    "ExecuteTime": {
     "end_time": "2025-03-16T15:35:52.906368Z",
     "start_time": "2025-03-16T15:35:52.894217Z"
    }
   },
   "cell_type": "code",
   "source": [
    "from langchain.embeddings import init_embeddings\n",
    "from langgraph.store.memory import InMemoryStore\n",
    "from embeddings import LMStudioEmbeddings\n",
    "\n",
    "# Create store with semantic search enabled\n",
    "# embeddings = init_embeddings(\"openai:text-embedding-3-small\")\n",
    "store = InMemoryStore(\n",
    "    index={\n",
    "        \"embed\": LMStudioEmbeddings(),\n",
    "        \"dims\": 738,\n",
    "    }\n",
    ")"
   ],
   "id": "35f0992a118063d",
   "outputs": [],
   "execution_count": 73
  },
  {
   "metadata": {},
   "cell_type": "markdown",
   "source": "### 存储一些记忆",
   "id": "54042d7703a310c8"
  },
  {
   "metadata": {
    "ExecuteTime": {
     "end_time": "2025-03-16T15:36:28.977421Z",
     "start_time": "2025-03-16T15:36:28.787126Z"
    }
   },
   "cell_type": "code",
   "source": [
    "# Store some memories\n",
    "store.put((\"user_123\", \"memories\"), \"1\", {\"text\": \"I love pizza\"})\n",
    "store.put((\"user_123\", \"memories\"), \"2\", {\"text\": \"I prefer Italian food\"})\n",
    "store.put((\"user_123\", \"memories\"), \"3\", {\"text\": \"I don't like spicy food\"})\n",
    "store.put((\"user_123\", \"memories\"), \"3\", {\"text\": \"I am studying econometrics\"})\n",
    "store.put((\"user_123\", \"memories\"), \"3\", {\"text\": \"I am a plumber\"})"
   ],
   "id": "7b71e44a2d92ca75",
   "outputs": [],
   "execution_count": 75
  },
  {
   "metadata": {},
   "cell_type": "markdown",
   "source": "### 使用自然语言搜索记忆",
   "id": "82ce21bf0dcf026b"
  },
  {
   "metadata": {
    "ExecuteTime": {
     "end_time": "2025-03-16T15:36:52.885229Z",
     "start_time": "2025-03-16T15:36:52.738352Z"
    }
   },
   "cell_type": "code",
   "source": [
    "# Find memories about food preferences\n",
    "memories = store.search((\"user_123\", \"memories\"), query=\"I like food?\", limit=5)\n",
    "\n",
    "for memory in memories:\n",
    "    print(f'Memory: {memory.value[\"text\"]} (similarity: {memory.score})')"
   ],
   "id": "d4b242b9e77510b7",
   "outputs": [
    {
     "name": "stdout",
     "output_type": "stream",
     "text": [
      "Memory: I prefer Italian food (similarity: 0.7179179028852194)\n",
      "Memory: I love pizza (similarity: 0.6471111559651195)\n",
      "Memory: I am a plumber (similarity: 0.43324405457092907)\n"
     ]
    }
   ],
   "execution_count": 76
  },
  {
   "metadata": {},
   "cell_type": "markdown",
   "source": "### 在代理中使用",
   "id": "75a0f15f34ae1f91"
  },
  {
   "metadata": {
    "ExecuteTime": {
     "end_time": "2025-03-16T15:38:00.687717Z",
     "start_time": "2025-03-16T15:37:56.171403Z"
    }
   },
   "cell_type": "code",
   "source": [
    "from typing import Optional\n",
    "\n",
    "from langchain.chat_models import init_chat_model\n",
    "from langgraph.store.base import BaseStore\n",
    "\n",
    "from langgraph.graph import START, MessagesState, StateGraph\n",
    "\n",
    "# llm = init_chat_model(\"openai:gpt-4o-mini\")\n",
    "\n",
    "\n",
    "def chat(state, *, store: BaseStore):\n",
    "    # Search based on user's last message\n",
    "    items = store.search(\n",
    "        (\"user_123\", \"memories\"), query=state[\"messages\"][-1].content, limit=2\n",
    "    )\n",
    "    memories = \"\\n\".join(item.value[\"text\"] for item in items)\n",
    "    memories = f\"## Memories of user\\n{memories}\" if memories else \"\"\n",
    "    response = llm.invoke(\n",
    "        [\n",
    "            {\"role\": \"system\", \"content\": f\"You are a helpful assistant.\\n{memories}\"},\n",
    "            *state[\"messages\"],\n",
    "        ]\n",
    "    )\n",
    "    return {\"messages\": [response]}\n",
    "\n",
    "\n",
    "builder = StateGraph(MessagesState)\n",
    "builder.add_node(chat)\n",
    "builder.add_edge(START, \"chat\")\n",
    "graph = builder.compile(store=store)\n",
    "\n",
    "for message, metadata in graph.stream(\n",
    "    input={\"messages\": [{\"role\": \"user\", \"content\": \"I'm hungry\"}]},\n",
    "    stream_mode=\"messages\",\n",
    "):\n",
    "    print(message.content, end=\"\")"
   ],
   "id": "6af72eff215b13ef",
   "outputs": [
    {
     "name": "stdout",
     "output_type": "stream",
     "text": [
      "Okay, fantastic! Since you love Italian food and especially pizza, let’s find you something delicious to satisfy that hunger. \n",
      "\n",
      "To help me narrow it down and give you some great recommendations, could you tell me:\n",
      "\n",
      "*   **Are you looking for a quick bite or a full meal?** (e.g., just a slice of pizza, a pasta dish, etc.)\n",
      "*   **Do you have a preferred type of pizza?** (e.g., pepperoni, veggie, margherita?)\n",
      "*   **Are you in the mood for takeout, delivery, or dining out?**"
     ]
    }
   ],
   "execution_count": 77
  },
  {
   "metadata": {
    "ExecuteTime": {
     "end_time": "2025-03-16T15:38:42.437920Z",
     "start_time": "2025-03-16T15:38:41.293537Z"
    }
   },
   "cell_type": "code",
   "source": [
    "from IPython.display import Image, display\n",
    "\n",
    "display(Image(graph.get_graph().draw_mermaid_png()))"
   ],
   "id": "85b9ab65e0a00d87",
   "outputs": [
    {
     "data": {
      "image/png": "[encoded data removed]",
      "text/plain": [
       "<IPython.core.display.Image object>"
      ]
     },
     "metadata": {},
     "output_type": "display_data"
    }
   ],
   "execution_count": 78
  },
  {
   "metadata": {},
   "cell_type": "markdown",
   "source": [
    "### 在react_agent使用\n",
    "- 通过在 prompt 函数中注入存储，将语义搜索添加到您的工具调用代理中\n",
    "- 您还可以在工具中使用存储，让您的代理手动存储或搜索记忆。"
   ],
   "id": "c7fed341567c88d7"
  },
  {
   "metadata": {
    "ExecuteTime": {
     "end_time": "2025-03-16T15:40:42.494995Z",
     "start_time": "2025-03-16T15:40:42.460664Z"
    }
   },
   "cell_type": "code",
   "source": [
    "import uuid\n",
    "from typing import Optional\n",
    "\n",
    "from langchain.chat_models import init_chat_model\n",
    "from langgraph.prebuilt import InjectedStore\n",
    "from langgraph.store.base import BaseStore\n",
    "from typing_extensions import Annotated\n",
    "\n",
    "from langgraph.prebuilt import create_react_agent\n",
    "\n",
    "\n",
    "def prepare_messages(state, *, store: BaseStore):\n",
    "    # Search based on user's last message\n",
    "    items = store.search(\n",
    "        (\"user_123\", \"memories\"), query=state[\"messages\"][-1].content, limit=2\n",
    "    )\n",
    "    memories = \"\\n\".join(item.value[\"text\"] for item in items)\n",
    "    memories = f\"## Memories of user\\n{memories}\" if memories else \"\"\n",
    "    return [\n",
    "        {\"role\": \"system\", \"content\": f\"You are a helpful assistant.\\n{memories}\"}\n",
    "    ] + state[\"messages\"]\n",
    "\n",
    "\n",
    "# You can also use the store directly within a tool!\n",
    "def upsert_memory(\n",
    "    content: str,\n",
    "    *,\n",
    "    memory_id: Optional[uuid.UUID] = None,\n",
    "    store: Annotated[BaseStore, InjectedStore],\n",
    "):\n",
    "    \"\"\"Upsert a memory in the database.\"\"\"\n",
    "    # The LLM can use this tool to store a new memory\n",
    "    mem_id = memory_id or uuid.uuid4()\n",
    "    store.put(\n",
    "        (\"user_123\", \"memories\"),\n",
    "        key=str(mem_id),\n",
    "        value={\"text\": content},\n",
    "    )\n",
    "    return f\"Stored memory {mem_id}\"\n",
    "\n",
    "\n",
    "agent = create_react_agent(\n",
    "    # init_chat_model(\"openai:gpt-4o-mini\"),\n",
    "    llm,\n",
    "    tools=[upsert_memory],\n",
    "    # The 'prompt' function is run to prepare the messages for the LLM. It is called\n",
    "    # right before each LLM call\n",
    "    prompt=prepare_messages,\n",
    "    store=store,\n",
    ")"
   ],
   "id": "1dea055995f0162",
   "outputs": [],
   "execution_count": 79
  },
  {
   "metadata": {
    "ExecuteTime": {
     "end_time": "2025-03-16T15:44:41.550112Z",
     "start_time": "2025-03-16T15:44:01.371392Z"
    }
   },
   "cell_type": "code",
   "source": [
    "for message, metadata in agent.stream(\n",
    "    input={\"messages\": [{\"role\": \"user\", \"content\": \"I'm hungry\"}]},\n",
    "    stream_mode=\"messages\",\n",
    "):\n",
    "    print(message.content, end=\"\")\n",
    "    # print(message)\n",
    "    # print(metadata)"
   ],
   "id": "87816647d5599721",
   "outputs": [
    {
     "name": "stdout",
     "output_type": "stream",
     "text": [
      "content='' additional_kwargs={'tool_calls': [{'index': 0, 'id': '221076272', 'function': {'arguments': '', 'name': 'upsert_memory'}, 'type': 'function'}]} response_metadata={} id='run-d3e34ca6-cf38-42aa-8f61-facff2e47d23' tool_calls=[{'name': 'upsert_memory', 'args': {}, 'id': '221076272', 'type': 'tool_call'}] tool_call_chunks=[{'name': 'upsert_memory', 'args': '', 'id': '221076272', 'index': 0, 'type': 'tool_call_chunk'}]\n",
      "content='' additional_kwargs={'tool_calls': [{'index': 0, 'id': None, 'function': {'arguments': '{\"', 'name': ''}, 'type': 'function'}]} response_metadata={} id='run-d3e34ca6-cf38-42aa-8f61-facff2e47d23' tool_calls=[{'name': '', 'args': {}, 'id': None, 'type': 'tool_call'}] tool_call_chunks=[{'name': '', 'args': '{\"', 'id': None, 'index': 0, 'type': 'tool_call_chunk'}]\n",
      "content='' additional_kwargs={'tool_calls': [{'index': 0, 'id': None, 'function': {'arguments': 'content', 'name': ''}, 'type': 'function'}]} response_metadata={} id='run-d3e34ca6-cf38-42aa-8f61-facff2e47d23' invalid_tool_calls=[{'name': '', 'args': 'content', 'id': None, 'error': None, 'type': 'invalid_tool_call'}] tool_call_chunks=[{'name': '', 'args': 'content', 'id': None, 'index': 0, 'type': 'tool_call_chunk'}]\n",
      "content='' additional_kwargs={'tool_calls': [{'index': 0, 'id': None, 'function': {'arguments': '\":', 'name': ''}, 'type': 'function'}]} response_metadata={} id='run-d3e34ca6-cf38-42aa-8f61-facff2e47d23' invalid_tool_calls=[{'name': '', 'args': '\":', 'id': None, 'error': None, 'type': 'invalid_tool_call'}] tool_call_chunks=[{'name': '', 'args': '\":', 'id': None, 'index': 0, 'type': 'tool_call_chunk'}]\n",
      "content='' additional_kwargs={'tool_calls': [{'index': 0, 'id': None, 'function': {'arguments': ' \"', 'name': ''}, 'type': 'function'}]} response_metadata={} id='run-d3e34ca6-cf38-42aa-8f61-facff2e47d23' invalid_tool_calls=[{'name': '', 'args': ' \"', 'id': None, 'error': None, 'type': 'invalid_tool_call'}] tool_call_chunks=[{'name': '', 'args': ' \"', 'id': None, 'index': 0, 'type': 'tool_call_chunk'}]\n",
      "content='' additional_kwargs={'tool_calls': [{'index': 0, 'id': None, 'function': {'arguments': 'I', 'name': ''}, 'type': 'function'}]} response_metadata={} id='run-d3e34ca6-cf38-42aa-8f61-facff2e47d23' invalid_tool_calls=[{'name': '', 'args': 'I', 'id': None, 'error': None, 'type': 'invalid_tool_call'}] tool_call_chunks=[{'name': '', 'args': 'I', 'id': None, 'index': 0, 'type': 'tool_call_chunk'}]\n",
      "content='' additional_kwargs={'tool_calls': [{'index': 0, 'id': None, 'function': {'arguments': \"'\", 'name': ''}, 'type': 'function'}]} response_metadata={} id='run-d3e34ca6-cf38-42aa-8f61-facff2e47d23' invalid_tool_calls=[{'name': '', 'args': \"'\", 'id': None, 'error': None, 'type': 'invalid_tool_call'}] tool_call_chunks=[{'name': '', 'args': \"'\", 'id': None, 'index': 0, 'type': 'tool_call_chunk'}]\n",
      "content='' additional_kwargs={'tool_calls': [{'index': 0, 'id': None, 'function': {'arguments': 'm', 'name': ''}, 'type': 'function'}]} response_metadata={} id='run-d3e34ca6-cf38-42aa-8f61-facff2e47d23' invalid_tool_calls=[{'name': '', 'args': 'm', 'id': None, 'error': None, 'type': 'invalid_tool_call'}] tool_call_chunks=[{'name': '', 'args': 'm', 'id': None, 'index': 0, 'type': 'tool_call_chunk'}]\n",
      "content='' additional_kwargs={'tool_calls': [{'index': 0, 'id': None, 'function': {'arguments': ' hungry', 'name': ''}, 'type': 'function'}]} response_metadata={} id='run-d3e34ca6-cf38-42aa-8f61-facff2e47d23' invalid_tool_calls=[{'name': '', 'args': ' hungry', 'id': None, 'error': None, 'type': 'invalid_tool_call'}] tool_call_chunks=[{'name': '', 'args': ' hungry', 'id': None, 'index': 0, 'type': 'tool_call_chunk'}]\n",
      "content='' additional_kwargs={'tool_calls': [{'index': 0, 'id': None, 'function': {'arguments': '\",', 'name': ''}, 'type': 'function'}]} response_metadata={} id='run-d3e34ca6-cf38-42aa-8f61-facff2e47d23' invalid_tool_calls=[{'name': '', 'args': '\",', 'id': None, 'error': None, 'type': 'invalid_tool_call'}] tool_call_chunks=[{'name': '', 'args': '\",', 'id': None, 'index': 0, 'type': 'tool_call_chunk'}]\n",
      "content='' additional_kwargs={'tool_calls': [{'index': 0, 'id': None, 'function': {'arguments': ' \"', 'name': ''}, 'type': 'function'}]} response_metadata={} id='run-d3e34ca6-cf38-42aa-8f61-facff2e47d23' invalid_tool_calls=[{'name': '', 'args': ' \"', 'id': None, 'error': None, 'type': 'invalid_tool_call'}] tool_call_chunks=[{'name': '', 'args': ' \"', 'id': None, 'index': 0, 'type': 'tool_call_chunk'}]\n",
      "content='' additional_kwargs={'tool_calls': [{'index': 0, 'id': None, 'function': {'arguments': 'memory', 'name': ''}, 'type': 'function'}]} response_metadata={} id='run-d3e34ca6-cf38-42aa-8f61-facff2e47d23' invalid_tool_calls=[{'name': '', 'args': 'memory', 'id': None, 'error': None, 'type': 'invalid_tool_call'}] tool_call_chunks=[{'name': '', 'args': 'memory', 'id': None, 'index': 0, 'type': 'tool_call_chunk'}]\n",
      "content='' additional_kwargs={'tool_calls': [{'index': 0, 'id': None, 'function': {'arguments': '_', 'name': ''}, 'type': 'function'}]} response_metadata={} id='run-d3e34ca6-cf38-42aa-8f61-facff2e47d23' invalid_tool_calls=[{'name': '', 'args': '_', 'id': None, 'error': None, 'type': 'invalid_tool_call'}] tool_call_chunks=[{'name': '', 'args': '_', 'id': None, 'index': 0, 'type': 'tool_call_chunk'}]\n",
      "content='' additional_kwargs={'tool_calls': [{'index': 0, 'id': None, 'function': {'arguments': 'id', 'name': ''}, 'type': 'function'}]} response_metadata={} id='run-d3e34ca6-cf38-42aa-8f61-facff2e47d23' invalid_tool_calls=[{'name': '', 'args': 'id', 'id': None, 'error': None, 'type': 'invalid_tool_call'}] tool_call_chunks=[{'name': '', 'args': 'id', 'id': None, 'index': 0, 'type': 'tool_call_chunk'}]\n",
      "content='' additional_kwargs={'tool_calls': [{'index': 0, 'id': None, 'function': {'arguments': '\":', 'name': ''}, 'type': 'function'}]} response_metadata={} id='run-d3e34ca6-cf38-42aa-8f61-facff2e47d23' invalid_tool_calls=[{'name': '', 'args': '\":', 'id': None, 'error': None, 'type': 'invalid_tool_call'}] tool_call_chunks=[{'name': '', 'args': '\":', 'id': None, 'index': 0, 'type': 'tool_call_chunk'}]\n",
      "content='' additional_kwargs={'tool_calls': [{'index': 0, 'id': None, 'function': {'arguments': ' null', 'name': ''}, 'type': 'function'}]} response_metadata={} id='run-d3e34ca6-cf38-42aa-8f61-facff2e47d23' invalid_tool_calls=[{'name': '', 'args': ' null', 'id': None, 'error': None, 'type': 'invalid_tool_call'}] tool_call_chunks=[{'name': '', 'args': ' null', 'id': None, 'index': 0, 'type': 'tool_call_chunk'}]\n",
      "content='' additional_kwargs={'tool_calls': [{'index': 0, 'id': None, 'function': {'arguments': '}', 'name': ''}, 'type': 'function'}]} response_metadata={} id='run-d3e34ca6-cf38-42aa-8f61-facff2e47d23' invalid_tool_calls=[{'name': '', 'args': '}', 'id': None, 'error': None, 'type': 'invalid_tool_call'}] tool_call_chunks=[{'name': '', 'args': '}', 'id': None, 'index': 0, 'type': 'tool_call_chunk'}]\n",
      "content='' additional_kwargs={} response_metadata={'finish_reason': 'stop', 'model_name': 'gemma-3-4b-it', 'system_fingerprint': 'gemma-3-4b-it'} id='run-d3e34ca6-cf38-42aa-8f61-facff2e47d23'\n",
      "content='Stored memory da3e91fb-4c3b-4c82-b471-da233aabc27c' name='upsert_memory' id='60054b0b-3c5f-46f0-911b-afaab5bb2fdf' tool_call_id='221076272'\n",
      "content='' additional_kwargs={'tool_calls': [{'index': 0, 'id': '573784965', 'function': {'arguments': '', 'name': 'upsert_memory'}, 'type': 'function'}]} response_metadata={} id='run-e67d8c68-bff3-4a47-83c5-ee6fa9738a06' tool_calls=[{'name': 'upsert_memory', 'args': {}, 'id': '573784965', 'type': 'tool_call'}] tool_call_chunks=[{'name': 'upsert_memory', 'args': '', 'id': '573784965', 'index': 0, 'type': 'tool_call_chunk'}]\n",
      "content='' additional_kwargs={'tool_calls': [{'index': 0, 'id': None, 'function': {'arguments': '{\"', 'name': ''}, 'type': 'function'}]} response_metadata={} id='run-e67d8c68-bff3-4a47-83c5-ee6fa9738a06' tool_calls=[{'name': '', 'args': {}, 'id': None, 'type': 'tool_call'}] tool_call_chunks=[{'name': '', 'args': '{\"', 'id': None, 'index': 0, 'type': 'tool_call_chunk'}]\n",
      "content='' additional_kwargs={'tool_calls': [{'index': 0, 'id': None, 'function': {'arguments': 'content', 'name': ''}, 'type': 'function'}]} response_metadata={} id='run-e67d8c68-bff3-4a47-83c5-ee6fa9738a06' invalid_tool_calls=[{'name': '', 'args': 'content', 'id': None, 'error': None, 'type': 'invalid_tool_call'}] tool_call_chunks=[{'name': '', 'args': 'content', 'id': None, 'index': 0, 'type': 'tool_call_chunk'}]\n",
      "content='' additional_kwargs={'tool_calls': [{'index': 0, 'id': None, 'function': {'arguments': '\":\"', 'name': ''}, 'type': 'function'}]} response_metadata={} id='run-e67d8c68-bff3-4a47-83c5-ee6fa9738a06' invalid_tool_calls=[{'name': '', 'args': '\":\"', 'id': None, 'error': None, 'type': 'invalid_tool_call'}] tool_call_chunks=[{'name': '', 'args': '\":\"', 'id': None, 'index': 0, 'type': 'tool_call_chunk'}]\n",
      "content='' additional_kwargs={'tool_calls': [{'index': 0, 'id': None, 'function': {'arguments': 'I', 'name': ''}, 'type': 'function'}]} response_metadata={} id='run-e67d8c68-bff3-4a47-83c5-ee6fa9738a06' invalid_tool_calls=[{'name': '', 'args': 'I', 'id': None, 'error': None, 'type': 'invalid_tool_call'}] tool_call_chunks=[{'name': '', 'args': 'I', 'id': None, 'index': 0, 'type': 'tool_call_chunk'}]\n",
      "content='' additional_kwargs={'tool_calls': [{'index': 0, 'id': None, 'function': {'arguments': \"'\", 'name': ''}, 'type': 'function'}]} response_metadata={} id='run-e67d8c68-bff3-4a47-83c5-ee6fa9738a06' invalid_tool_calls=[{'name': '', 'args': \"'\", 'id': None, 'error': None, 'type': 'invalid_tool_call'}] tool_call_chunks=[{'name': '', 'args': \"'\", 'id': None, 'index': 0, 'type': 'tool_call_chunk'}]\n",
      "content='' additional_kwargs={'tool_calls': [{'index': 0, 'id': None, 'function': {'arguments': 'm', 'name': ''}, 'type': 'function'}]} response_metadata={} id='run-e67d8c68-bff3-4a47-83c5-ee6fa9738a06' invalid_tool_calls=[{'name': '', 'args': 'm', 'id': None, 'error': None, 'type': 'invalid_tool_call'}] tool_call_chunks=[{'name': '', 'args': 'm', 'id': None, 'index': 0, 'type': 'tool_call_chunk'}]\n",
      "content='' additional_kwargs={'tool_calls': [{'index': 0, 'id': None, 'function': {'arguments': ' hungry', 'name': ''}, 'type': 'function'}]} response_metadata={} id='run-e67d8c68-bff3-4a47-83c5-ee6fa9738a06' invalid_tool_calls=[{'name': '', 'args': ' hungry', 'id': None, 'error': None, 'type': 'invalid_tool_call'}] tool_call_chunks=[{'name': '', 'args': ' hungry', 'id': None, 'index': 0, 'type': 'tool_call_chunk'}]\n",
      "content='' additional_kwargs={'tool_calls': [{'index': 0, 'id': None, 'function': {'arguments': '\",', 'name': ''}, 'type': 'function'}]} response_metadata={} id='run-e67d8c68-bff3-4a47-83c5-ee6fa9738a06' invalid_tool_calls=[{'name': '', 'args': '\",', 'id': None, 'error': None, 'type': 'invalid_tool_call'}] tool_call_chunks=[{'name': '', 'args': '\",', 'id': None, 'index': 0, 'type': 'tool_call_chunk'}]\n",
      "content='' additional_kwargs={'tool_calls': [{'index': 0, 'id': None, 'function': {'arguments': '\\n', 'name': ''}, 'type': 'function'}]} response_metadata={} id='run-e67d8c68-bff3-4a47-83c5-ee6fa9738a06' invalid_tool_calls=[{'name': '', 'args': '\\n', 'id': None, 'error': None, 'type': 'invalid_tool_call'}] tool_call_chunks=[{'name': '', 'args': '\\n', 'id': None, 'index': 0, 'type': 'tool_call_chunk'}]\n",
      "content='' additional_kwargs={'tool_calls': [{'index': 0, 'id': None, 'function': {'arguments': '\"', 'name': ''}, 'type': 'function'}]} response_metadata={} id='run-e67d8c68-bff3-4a47-83c5-ee6fa9738a06' invalid_tool_calls=[{'name': '', 'args': '\"', 'id': None, 'error': None, 'type': 'invalid_tool_call'}] tool_call_chunks=[{'name': '', 'args': '\"', 'id': None, 'index': 0, 'type': 'tool_call_chunk'}]\n",
      "content='' additional_kwargs={'tool_calls': [{'index': 0, 'id': None, 'function': {'arguments': 'memory', 'name': ''}, 'type': 'function'}]} response_metadata={} id='run-e67d8c68-bff3-4a47-83c5-ee6fa9738a06' invalid_tool_calls=[{'name': '', 'args': 'memory', 'id': None, 'error': None, 'type': 'invalid_tool_call'}] tool_call_chunks=[{'name': '', 'args': 'memory', 'id': None, 'index': 0, 'type': 'tool_call_chunk'}]\n",
      "content='' additional_kwargs={'tool_calls': [{'index': 0, 'id': None, 'function': {'arguments': '_', 'name': ''}, 'type': 'function'}]} response_metadata={} id='run-e67d8c68-bff3-4a47-83c5-ee6fa9738a06' invalid_tool_calls=[{'name': '', 'args': '_', 'id': None, 'error': None, 'type': 'invalid_tool_call'}] tool_call_chunks=[{'name': '', 'args': '_', 'id': None, 'index': 0, 'type': 'tool_call_chunk'}]\n",
      "content='' additional_kwargs={'tool_calls': [{'index': 0, 'id': None, 'function': {'arguments': 'id', 'name': ''}, 'type': 'function'}]} response_metadata={} id='run-e67d8c68-bff3-4a47-83c5-ee6fa9738a06' invalid_tool_calls=[{'name': '', 'args': 'id', 'id': None, 'error': None, 'type': 'invalid_tool_call'}] tool_call_chunks=[{'name': '', 'args': 'id', 'id': None, 'index': 0, 'type': 'tool_call_chunk'}]\n",
      "content='' additional_kwargs={'tool_calls': [{'index': 0, 'id': None, 'function': {'arguments': '\":', 'name': ''}, 'type': 'function'}]} response_metadata={} id='run-e67d8c68-bff3-4a47-83c5-ee6fa9738a06' invalid_tool_calls=[{'name': '', 'args': '\":', 'id': None, 'error': None, 'type': 'invalid_tool_call'}] tool_call_chunks=[{'name': '', 'args': '\":', 'id': None, 'index': 0, 'type': 'tool_call_chunk'}]\n",
      "content='' additional_kwargs={'tool_calls': [{'index': 0, 'id': None, 'function': {'arguments': ' \"', 'name': ''}, 'type': 'function'}]} response_metadata={} id='run-e67d8c68-bff3-4a47-83c5-ee6fa9738a06' invalid_tool_calls=[{'name': '', 'args': ' \"', 'id': None, 'error': None, 'type': 'invalid_tool_call'}] tool_call_chunks=[{'name': '', 'args': ' \"', 'id': None, 'index': 0, 'type': 'tool_call_chunk'}]\n",
      "content='' additional_kwargs={'tool_calls': [{'index': 0, 'id': None, 'function': {'arguments': 'da', 'name': ''}, 'type': 'function'}]} response_metadata={} id='run-e67d8c68-bff3-4a47-83c5-ee6fa9738a06' invalid_tool_calls=[{'name': '', 'args': 'da', 'id': None, 'error': None, 'type': 'invalid_tool_call'}] tool_call_chunks=[{'name': '', 'args': 'da', 'id': None, 'index': 0, 'type': 'tool_call_chunk'}]\n",
      "content='' additional_kwargs={'tool_calls': [{'index': 0, 'id': None, 'function': {'arguments': '3', 'name': ''}, 'type': 'function'}]} response_metadata={} id='run-e67d8c68-bff3-4a47-83c5-ee6fa9738a06' invalid_tool_calls=[{'name': '', 'args': '3', 'id': None, 'error': None, 'type': 'invalid_tool_call'}] tool_call_chunks=[{'name': '', 'args': '3', 'id': None, 'index': 0, 'type': 'tool_call_chunk'}]\n",
      "content='' additional_kwargs={'tool_calls': [{'index': 0, 'id': None, 'function': {'arguments': 'e', 'name': ''}, 'type': 'function'}]} response_metadata={} id='run-e67d8c68-bff3-4a47-83c5-ee6fa9738a06' invalid_tool_calls=[{'name': '', 'args': 'e', 'id': None, 'error': None, 'type': 'invalid_tool_call'}] tool_call_chunks=[{'name': '', 'args': 'e', 'id': None, 'index': 0, 'type': 'tool_call_chunk'}]\n",
      "content='' additional_kwargs={'tool_calls': [{'index': 0, 'id': None, 'function': {'arguments': '9', 'name': ''}, 'type': 'function'}]} response_metadata={} id='run-e67d8c68-bff3-4a47-83c5-ee6fa9738a06' invalid_tool_calls=[{'name': '', 'args': '9', 'id': None, 'error': None, 'type': 'invalid_tool_call'}] tool_call_chunks=[{'name': '', 'args': '9', 'id': None, 'index': 0, 'type': 'tool_call_chunk'}]\n",
      "content='' additional_kwargs={'tool_calls': [{'index': 0, 'id': None, 'function': {'arguments': '1', 'name': ''}, 'type': 'function'}]} response_metadata={} id='run-e67d8c68-bff3-4a47-83c5-ee6fa9738a06' invalid_tool_calls=[{'name': '', 'args': '1', 'id': None, 'error': None, 'type': 'invalid_tool_call'}] tool_call_chunks=[{'name': '', 'args': '1', 'id': None, 'index': 0, 'type': 'tool_call_chunk'}]\n",
      "content='' additional_kwargs={'tool_calls': [{'index': 0, 'id': None, 'function': {'arguments': 'fb', 'name': ''}, 'type': 'function'}]} response_metadata={} id='run-e67d8c68-bff3-4a47-83c5-ee6fa9738a06' invalid_tool_calls=[{'name': '', 'args': 'fb', 'id': None, 'error': None, 'type': 'invalid_tool_call'}] tool_call_chunks=[{'name': '', 'args': 'fb', 'id': None, 'index': 0, 'type': 'tool_call_chunk'}]\n",
      "content='' additional_kwargs={'tool_calls': [{'index': 0, 'id': None, 'function': {'arguments': '-', 'name': ''}, 'type': 'function'}]} response_metadata={} id='run-e67d8c68-bff3-4a47-83c5-ee6fa9738a06' invalid_tool_calls=[{'name': '', 'args': '-', 'id': None, 'error': None, 'type': 'invalid_tool_call'}] tool_call_chunks=[{'name': '', 'args': '-', 'id': None, 'index': 0, 'type': 'tool_call_chunk'}]\n",
      "content='' additional_kwargs={'tool_calls': [{'index': 0, 'id': None, 'function': {'arguments': '4', 'name': ''}, 'type': 'function'}]} response_metadata={} id='run-e67d8c68-bff3-4a47-83c5-ee6fa9738a06' invalid_tool_calls=[{'name': '', 'args': '4', 'id': None, 'error': None, 'type': 'invalid_tool_call'}] tool_call_chunks=[{'name': '', 'args': '4', 'id': None, 'index': 0, 'type': 'tool_call_chunk'}]\n",
      "content='' additional_kwargs={'tool_calls': [{'index': 0, 'id': None, 'function': {'arguments': 'c', 'name': ''}, 'type': 'function'}]} response_metadata={} id='run-e67d8c68-bff3-4a47-83c5-ee6fa9738a06' invalid_tool_calls=[{'name': '', 'args': 'c', 'id': None, 'error': None, 'type': 'invalid_tool_call'}] tool_call_chunks=[{'name': '', 'args': 'c', 'id': None, 'index': 0, 'type': 'tool_call_chunk'}]\n",
      "content='' additional_kwargs={'tool_calls': [{'index': 0, 'id': None, 'function': {'arguments': '3', 'name': ''}, 'type': 'function'}]} response_metadata={} id='run-e67d8c68-bff3-4a47-83c5-ee6fa9738a06' invalid_tool_calls=[{'name': '', 'args': '3', 'id': None, 'error': None, 'type': 'invalid_tool_call'}] tool_call_chunks=[{'name': '', 'args': '3', 'id': None, 'index': 0, 'type': 'tool_call_chunk'}]\n",
      "content='' additional_kwargs={'tool_calls': [{'index': 0, 'id': None, 'function': {'arguments': 'b', 'name': ''}, 'type': 'function'}]} response_metadata={} id='run-e67d8c68-bff3-4a47-83c5-ee6fa9738a06' invalid_tool_calls=[{'name': '', 'args': 'b', 'id': None, 'error': None, 'type': 'invalid_tool_call'}] tool_call_chunks=[{'name': '', 'args': 'b', 'id': None, 'index': 0, 'type': 'tool_call_chunk'}]\n",
      "content='' additional_kwargs={'tool_calls': [{'index': 0, 'id': None, 'function': {'arguments': '-', 'name': ''}, 'type': 'function'}]} response_metadata={} id='run-e67d8c68-bff3-4a47-83c5-ee6fa9738a06' invalid_tool_calls=[{'name': '', 'args': '-', 'id': None, 'error': None, 'type': 'invalid_tool_call'}] tool_call_chunks=[{'name': '', 'args': '-', 'id': None, 'index': 0, 'type': 'tool_call_chunk'}]\n",
      "content='' additional_kwargs={'tool_calls': [{'index': 0, 'id': None, 'function': {'arguments': '4', 'name': ''}, 'type': 'function'}]} response_metadata={} id='run-e67d8c68-bff3-4a47-83c5-ee6fa9738a06' invalid_tool_calls=[{'name': '', 'args': '4', 'id': None, 'error': None, 'type': 'invalid_tool_call'}] tool_call_chunks=[{'name': '', 'args': '4', 'id': None, 'index': 0, 'type': 'tool_call_chunk'}]\n",
      "content='' additional_kwargs={'tool_calls': [{'index': 0, 'id': None, 'function': {'arguments': 'c', 'name': ''}, 'type': 'function'}]} response_metadata={} id='run-e67d8c68-bff3-4a47-83c5-ee6fa9738a06' invalid_tool_calls=[{'name': '', 'args': 'c', 'id': None, 'error': None, 'type': 'invalid_tool_call'}] tool_call_chunks=[{'name': '', 'args': 'c', 'id': None, 'index': 0, 'type': 'tool_call_chunk'}]\n",
      "content='' additional_kwargs={'tool_calls': [{'index': 0, 'id': None, 'function': {'arguments': '8', 'name': ''}, 'type': 'function'}]} response_metadata={} id='run-e67d8c68-bff3-4a47-83c5-ee6fa9738a06' invalid_tool_calls=[{'name': '', 'args': '8', 'id': None, 'error': None, 'type': 'invalid_tool_call'}] tool_call_chunks=[{'name': '', 'args': '8', 'id': None, 'index': 0, 'type': 'tool_call_chunk'}]\n",
      "content='' additional_kwargs={'tool_calls': [{'index': 0, 'id': None, 'function': {'arguments': '2', 'name': ''}, 'type': 'function'}]} response_metadata={} id='run-e67d8c68-bff3-4a47-83c5-ee6fa9738a06' invalid_tool_calls=[{'name': '', 'args': '2', 'id': None, 'error': None, 'type': 'invalid_tool_call'}] tool_call_chunks=[{'name': '', 'args': '2', 'id': None, 'index': 0, 'type': 'tool_call_chunk'}]\n",
      "content='' additional_kwargs={'tool_calls': [{'index': 0, 'id': None, 'function': {'arguments': '-', 'name': ''}, 'type': 'function'}]} response_metadata={} id='run-e67d8c68-bff3-4a47-83c5-ee6fa9738a06' invalid_tool_calls=[{'name': '', 'args': '-', 'id': None, 'error': None, 'type': 'invalid_tool_call'}] tool_call_chunks=[{'name': '', 'args': '-', 'id': None, 'index': 0, 'type': 'tool_call_chunk'}]\n",
      "content='' additional_kwargs={'tool_calls': [{'index': 0, 'id': None, 'function': {'arguments': 'b', 'name': ''}, 'type': 'function'}]} response_metadata={} id='run-e67d8c68-bff3-4a47-83c5-ee6fa9738a06' invalid_tool_calls=[{'name': '', 'args': 'b', 'id': None, 'error': None, 'type': 'invalid_tool_call'}] tool_call_chunks=[{'name': '', 'args': 'b', 'id': None, 'index': 0, 'type': 'tool_call_chunk'}]\n",
      "content='' additional_kwargs={'tool_calls': [{'index': 0, 'id': None, 'function': {'arguments': '4', 'name': ''}, 'type': 'function'}]} response_metadata={} id='run-e67d8c68-bff3-4a47-83c5-ee6fa9738a06' invalid_tool_calls=[{'name': '', 'args': '4', 'id': None, 'error': None, 'type': 'invalid_tool_call'}] tool_call_chunks=[{'name': '', 'args': '4', 'id': None, 'index': 0, 'type': 'tool_call_chunk'}]\n",
      "content='' additional_kwargs={'tool_calls': [{'index': 0, 'id': None, 'function': {'arguments': '7', 'name': ''}, 'type': 'function'}]} response_metadata={} id='run-e67d8c68-bff3-4a47-83c5-ee6fa9738a06' invalid_tool_calls=[{'name': '', 'args': '7', 'id': None, 'error': None, 'type': 'invalid_tool_call'}] tool_call_chunks=[{'name': '', 'args': '7', 'id': None, 'index': 0, 'type': 'tool_call_chunk'}]\n",
      "content='' additional_kwargs={'tool_calls': [{'index': 0, 'id': None, 'function': {'arguments': '1', 'name': ''}, 'type': 'function'}]} response_metadata={} id='run-e67d8c68-bff3-4a47-83c5-ee6fa9738a06' invalid_tool_calls=[{'name': '', 'args': '1', 'id': None, 'error': None, 'type': 'invalid_tool_call'}] tool_call_chunks=[{'name': '', 'args': '1', 'id': None, 'index': 0, 'type': 'tool_call_chunk'}]\n",
      "content='' additional_kwargs={'tool_calls': [{'index': 0, 'id': None, 'function': {'arguments': '-', 'name': ''}, 'type': 'function'}]} response_metadata={} id='run-e67d8c68-bff3-4a47-83c5-ee6fa9738a06' invalid_tool_calls=[{'name': '', 'args': '-', 'id': None, 'error': None, 'type': 'invalid_tool_call'}] tool_call_chunks=[{'name': '', 'args': '-', 'id': None, 'index': 0, 'type': 'tool_call_chunk'}]\n",
      "content='' additional_kwargs={'tool_calls': [{'index': 0, 'id': None, 'function': {'arguments': 'da', 'name': ''}, 'type': 'function'}]} response_metadata={} id='run-e67d8c68-bff3-4a47-83c5-ee6fa9738a06' invalid_tool_calls=[{'name': '', 'args': 'da', 'id': None, 'error': None, 'type': 'invalid_tool_call'}] tool_call_chunks=[{'name': '', 'args': 'da', 'id': None, 'index': 0, 'type': 'tool_call_chunk'}]\n",
      "content='' additional_kwargs={'tool_calls': [{'index': 0, 'id': None, 'function': {'arguments': '2', 'name': ''}, 'type': 'function'}]} response_metadata={} id='run-e67d8c68-bff3-4a47-83c5-ee6fa9738a06' invalid_tool_calls=[{'name': '', 'args': '2', 'id': None, 'error': None, 'type': 'invalid_tool_call'}] tool_call_chunks=[{'name': '', 'args': '2', 'id': None, 'index': 0, 'type': 'tool_call_chunk'}]\n",
      "content='' additional_kwargs={'tool_calls': [{'index': 0, 'id': None, 'function': {'arguments': '3', 'name': ''}, 'type': 'function'}]} response_metadata={} id='run-e67d8c68-bff3-4a47-83c5-ee6fa9738a06' invalid_tool_calls=[{'name': '', 'args': '3', 'id': None, 'error': None, 'type': 'invalid_tool_call'}] tool_call_chunks=[{'name': '', 'args': '3', 'id': None, 'index': 0, 'type': 'tool_call_chunk'}]\n",
      "content='' additional_kwargs={'tool_calls': [{'index': 0, 'id': None, 'function': {'arguments': '3', 'name': ''}, 'type': 'function'}]} response_metadata={} id='run-e67d8c68-bff3-4a47-83c5-ee6fa9738a06' invalid_tool_calls=[{'name': '', 'args': '3', 'id': None, 'error': None, 'type': 'invalid_tool_call'}] tool_call_chunks=[{'name': '', 'args': '3', 'id': None, 'index': 0, 'type': 'tool_call_chunk'}]\n",
      "content='' additional_kwargs={'tool_calls': [{'index': 0, 'id': None, 'function': {'arguments': 'a', 'name': ''}, 'type': 'function'}]} response_metadata={} id='run-e67d8c68-bff3-4a47-83c5-ee6fa9738a06' invalid_tool_calls=[{'name': '', 'args': 'a', 'id': None, 'error': None, 'type': 'invalid_tool_call'}] tool_call_chunks=[{'name': '', 'args': 'a', 'id': None, 'index': 0, 'type': 'tool_call_chunk'}]\n",
      "content='' additional_kwargs={'tool_calls': [{'index': 0, 'id': None, 'function': {'arguments': 'abc', 'name': ''}, 'type': 'function'}]} response_metadata={} id='run-e67d8c68-bff3-4a47-83c5-ee6fa9738a06' invalid_tool_calls=[{'name': '', 'args': 'abc', 'id': None, 'error': None, 'type': 'invalid_tool_call'}] tool_call_chunks=[{'name': '', 'args': 'abc', 'id': None, 'index': 0, 'type': 'tool_call_chunk'}]\n",
      "content='' additional_kwargs={'tool_calls': [{'index': 0, 'id': None, 'function': {'arguments': '2', 'name': ''}, 'type': 'function'}]} response_metadata={} id='run-e67d8c68-bff3-4a47-83c5-ee6fa9738a06' invalid_tool_calls=[{'name': '', 'args': '2', 'id': None, 'error': None, 'type': 'invalid_tool_call'}] tool_call_chunks=[{'name': '', 'args': '2', 'id': None, 'index': 0, 'type': 'tool_call_chunk'}]\n",
      "content='' additional_kwargs={'tool_calls': [{'index': 0, 'id': None, 'function': {'arguments': '7', 'name': ''}, 'type': 'function'}]} response_metadata={} id='run-e67d8c68-bff3-4a47-83c5-ee6fa9738a06' invalid_tool_calls=[{'name': '', 'args': '7', 'id': None, 'error': None, 'type': 'invalid_tool_call'}] tool_call_chunks=[{'name': '', 'args': '7', 'id': None, 'index': 0, 'type': 'tool_call_chunk'}]\n",
      "content='' additional_kwargs={'tool_calls': [{'index': 0, 'id': None, 'function': {'arguments': 'c', 'name': ''}, 'type': 'function'}]} response_metadata={} id='run-e67d8c68-bff3-4a47-83c5-ee6fa9738a06' invalid_tool_calls=[{'name': '', 'args': 'c', 'id': None, 'error': None, 'type': 'invalid_tool_call'}] tool_call_chunks=[{'name': '', 'args': 'c', 'id': None, 'index': 0, 'type': 'tool_call_chunk'}]\n",
      "content='' additional_kwargs={'tool_calls': [{'index': 0, 'id': None, 'function': {'arguments': '\"}', 'name': ''}, 'type': 'function'}]} response_metadata={} id='run-e67d8c68-bff3-4a47-83c5-ee6fa9738a06' invalid_tool_calls=[{'name': '', 'args': '\"}', 'id': None, 'error': None, 'type': 'invalid_tool_call'}] tool_call_chunks=[{'name': '', 'args': '\"}', 'id': None, 'index': 0, 'type': 'tool_call_chunk'}]\n",
      "content='' additional_kwargs={} response_metadata={'finish_reason': 'stop', 'model_name': 'gemma-3-4b-it', 'system_fingerprint': 'gemma-3-4b-it'} id='run-e67d8c68-bff3-4a47-83c5-ee6fa9738a06'\n",
      "content='Stored memory da3e91fb-4c3b-4c82-b471-da233aabc27c' name='upsert_memory' id='7fca099d-0959-4b2d-b67a-536dcf9b1698' tool_call_id='573784965'\n",
      "content='' additional_kwargs={'tool_calls': [{'index': 0, 'id': '681897462', 'function': {'arguments': '', 'name': 'upsert_memory'}, 'type': 'function'}]} response_metadata={} id='run-acfc7fda-c6b3-4e17-abcb-896d4f50e2cc' tool_calls=[{'name': 'upsert_memory', 'args': {}, 'id': '681897462', 'type': 'tool_call'}] tool_call_chunks=[{'name': 'upsert_memory', 'args': '', 'id': '681897462', 'index': 0, 'type': 'tool_call_chunk'}]\n",
      "content='' additional_kwargs={'tool_calls': [{'index': 0, 'id': None, 'function': {'arguments': '{\"', 'name': ''}, 'type': 'function'}]} response_metadata={} id='run-acfc7fda-c6b3-4e17-abcb-896d4f50e2cc' tool_calls=[{'name': '', 'args': {}, 'id': None, 'type': 'tool_call'}] tool_call_chunks=[{'name': '', 'args': '{\"', 'id': None, 'index': 0, 'type': 'tool_call_chunk'}]\n",
      "content='' additional_kwargs={'tool_calls': [{'index': 0, 'id': None, 'function': {'arguments': 'content', 'name': ''}, 'type': 'function'}]} response_metadata={} id='run-acfc7fda-c6b3-4e17-abcb-896d4f50e2cc' invalid_tool_calls=[{'name': '', 'args': 'content', 'id': None, 'error': None, 'type': 'invalid_tool_call'}] tool_call_chunks=[{'name': '', 'args': 'content', 'id': None, 'index': 0, 'type': 'tool_call_chunk'}]\n",
      "content='' additional_kwargs={'tool_calls': [{'index': 0, 'id': None, 'function': {'arguments': '\":', 'name': ''}, 'type': 'function'}]} response_metadata={} id='run-acfc7fda-c6b3-4e17-abcb-896d4f50e2cc' invalid_tool_calls=[{'name': '', 'args': '\":', 'id': None, 'error': None, 'type': 'invalid_tool_call'}] tool_call_chunks=[{'name': '', 'args': '\":', 'id': None, 'index': 0, 'type': 'tool_call_chunk'}]\n",
      "content='' additional_kwargs={'tool_calls': [{'index': 0, 'id': None, 'function': {'arguments': ' \"', 'name': ''}, 'type': 'function'}]} response_metadata={} id='run-acfc7fda-c6b3-4e17-abcb-896d4f50e2cc' invalid_tool_calls=[{'name': '', 'args': ' \"', 'id': None, 'error': None, 'type': 'invalid_tool_call'}] tool_call_chunks=[{'name': '', 'args': ' \"', 'id': None, 'index': 0, 'type': 'tool_call_chunk'}]\n",
      "content='' additional_kwargs={'tool_calls': [{'index': 0, 'id': None, 'function': {'arguments': 'I', 'name': ''}, 'type': 'function'}]} response_metadata={} id='run-acfc7fda-c6b3-4e17-abcb-896d4f50e2cc' invalid_tool_calls=[{'name': '', 'args': 'I', 'id': None, 'error': None, 'type': 'invalid_tool_call'}] tool_call_chunks=[{'name': '', 'args': 'I', 'id': None, 'index': 0, 'type': 'tool_call_chunk'}]\n",
      "content='' additional_kwargs={'tool_calls': [{'index': 0, 'id': None, 'function': {'arguments': \"'\", 'name': ''}, 'type': 'function'}]} response_metadata={} id='run-acfc7fda-c6b3-4e17-abcb-896d4f50e2cc' invalid_tool_calls=[{'name': '', 'args': \"'\", 'id': None, 'error': None, 'type': 'invalid_tool_call'}] tool_call_chunks=[{'name': '', 'args': \"'\", 'id': None, 'index': 0, 'type': 'tool_call_chunk'}]\n",
      "content='' additional_kwargs={'tool_calls': [{'index': 0, 'id': None, 'function': {'arguments': 'm', 'name': ''}, 'type': 'function'}]} response_metadata={} id='run-acfc7fda-c6b3-4e17-abcb-896d4f50e2cc' invalid_tool_calls=[{'name': '', 'args': 'm', 'id': None, 'error': None, 'type': 'invalid_tool_call'}] tool_call_chunks=[{'name': '', 'args': 'm', 'id': None, 'index': 0, 'type': 'tool_call_chunk'}]\n",
      "content='' additional_kwargs={'tool_calls': [{'index': 0, 'id': None, 'function': {'arguments': ' hungry', 'name': ''}, 'type': 'function'}]} response_metadata={} id='run-acfc7fda-c6b3-4e17-abcb-896d4f50e2cc' invalid_tool_calls=[{'name': '', 'args': ' hungry', 'id': None, 'error': None, 'type': 'invalid_tool_call'}] tool_call_chunks=[{'name': '', 'args': ' hungry', 'id': None, 'index': 0, 'type': 'tool_call_chunk'}]\n",
      "content='' additional_kwargs={'tool_calls': [{'index': 0, 'id': None, 'function': {'arguments': '\",', 'name': ''}, 'type': 'function'}]} response_metadata={} id='run-acfc7fda-c6b3-4e17-abcb-896d4f50e2cc' invalid_tool_calls=[{'name': '', 'args': '\",', 'id': None, 'error': None, 'type': 'invalid_tool_call'}] tool_call_chunks=[{'name': '', 'args': '\",', 'id': None, 'index': 0, 'type': 'tool_call_chunk'}]\n",
      "content='' additional_kwargs={'tool_calls': [{'index': 0, 'id': None, 'function': {'arguments': '\\n', 'name': ''}, 'type': 'function'}]} response_metadata={} id='run-acfc7fda-c6b3-4e17-abcb-896d4f50e2cc' invalid_tool_calls=[{'name': '', 'args': '\\n', 'id': None, 'error': None, 'type': 'invalid_tool_call'}] tool_call_chunks=[{'name': '', 'args': '\\n', 'id': None, 'index': 0, 'type': 'tool_call_chunk'}]\n",
      "content='' additional_kwargs={'tool_calls': [{'index': 0, 'id': None, 'function': {'arguments': '\"', 'name': ''}, 'type': 'function'}]} response_metadata={} id='run-acfc7fda-c6b3-4e17-abcb-896d4f50e2cc' invalid_tool_calls=[{'name': '', 'args': '\"', 'id': None, 'error': None, 'type': 'invalid_tool_call'}] tool_call_chunks=[{'name': '', 'args': '\"', 'id': None, 'index': 0, 'type': 'tool_call_chunk'}]\n",
      "content='' additional_kwargs={'tool_calls': [{'index': 0, 'id': None, 'function': {'arguments': 'memory', 'name': ''}, 'type': 'function'}]} response_metadata={} id='run-acfc7fda-c6b3-4e17-abcb-896d4f50e2cc' invalid_tool_calls=[{'name': '', 'args': 'memory', 'id': None, 'error': None, 'type': 'invalid_tool_call'}] tool_call_chunks=[{'name': '', 'args': 'memory', 'id': None, 'index': 0, 'type': 'tool_call_chunk'}]\n",
      "content='' additional_kwargs={'tool_calls': [{'index': 0, 'id': None, 'function': {'arguments': '_', 'name': ''}, 'type': 'function'}]} response_metadata={} id='run-acfc7fda-c6b3-4e17-abcb-896d4f50e2cc' invalid_tool_calls=[{'name': '', 'args': '_', 'id': None, 'error': None, 'type': 'invalid_tool_call'}] tool_call_chunks=[{'name': '', 'args': '_', 'id': None, 'index': 0, 'type': 'tool_call_chunk'}]\n",
      "content='' additional_kwargs={'tool_calls': [{'index': 0, 'id': None, 'function': {'arguments': 'id', 'name': ''}, 'type': 'function'}]} response_metadata={} id='run-acfc7fda-c6b3-4e17-abcb-896d4f50e2cc' invalid_tool_calls=[{'name': '', 'args': 'id', 'id': None, 'error': None, 'type': 'invalid_tool_call'}] tool_call_chunks=[{'name': '', 'args': 'id', 'id': None, 'index': 0, 'type': 'tool_call_chunk'}]\n",
      "content='' additional_kwargs={'tool_calls': [{'index': 0, 'id': None, 'function': {'arguments': '\":', 'name': ''}, 'type': 'function'}]} response_metadata={} id='run-acfc7fda-c6b3-4e17-abcb-896d4f50e2cc' invalid_tool_calls=[{'name': '', 'args': '\":', 'id': None, 'error': None, 'type': 'invalid_tool_call'}] tool_call_chunks=[{'name': '', 'args': '\":', 'id': None, 'index': 0, 'type': 'tool_call_chunk'}]\n",
      "content='' additional_kwargs={'tool_calls': [{'index': 0, 'id': None, 'function': {'arguments': ' \"', 'name': ''}, 'type': 'function'}]} response_metadata={} id='run-acfc7fda-c6b3-4e17-abcb-896d4f50e2cc' invalid_tool_calls=[{'name': '', 'args': ' \"', 'id': None, 'error': None, 'type': 'invalid_tool_call'}] tool_call_chunks=[{'name': '', 'args': ' \"', 'id': None, 'index': 0, 'type': 'tool_call_chunk'}]\n",
      "content='' additional_kwargs={'tool_calls': [{'index': 0, 'id': None, 'function': {'arguments': 'da', 'name': ''}, 'type': 'function'}]} response_metadata={} id='run-acfc7fda-c6b3-4e17-abcb-896d4f50e2cc' invalid_tool_calls=[{'name': '', 'args': 'da', 'id': None, 'error': None, 'type': 'invalid_tool_call'}] tool_call_chunks=[{'name': '', 'args': 'da', 'id': None, 'index': 0, 'type': 'tool_call_chunk'}]\n",
      "content='' additional_kwargs={'tool_calls': [{'index': 0, 'id': None, 'function': {'arguments': '3', 'name': ''}, 'type': 'function'}]} response_metadata={} id='run-acfc7fda-c6b3-4e17-abcb-896d4f50e2cc' invalid_tool_calls=[{'name': '', 'args': '3', 'id': None, 'error': None, 'type': 'invalid_tool_call'}] tool_call_chunks=[{'name': '', 'args': '3', 'id': None, 'index': 0, 'type': 'tool_call_chunk'}]\n",
      "content='' additional_kwargs={'tool_calls': [{'index': 0, 'id': None, 'function': {'arguments': 'e', 'name': ''}, 'type': 'function'}]} response_metadata={} id='run-acfc7fda-c6b3-4e17-abcb-896d4f50e2cc' invalid_tool_calls=[{'name': '', 'args': 'e', 'id': None, 'error': None, 'type': 'invalid_tool_call'}] tool_call_chunks=[{'name': '', 'args': 'e', 'id': None, 'index': 0, 'type': 'tool_call_chunk'}]\n",
      "content='' additional_kwargs={'tool_calls': [{'index': 0, 'id': None, 'function': {'arguments': '9', 'name': ''}, 'type': 'function'}]} response_metadata={} id='run-acfc7fda-c6b3-4e17-abcb-896d4f50e2cc' invalid_tool_calls=[{'name': '', 'args': '9', 'id': None, 'error': None, 'type': 'invalid_tool_call'}] tool_call_chunks=[{'name': '', 'args': '9', 'id': None, 'index': 0, 'type': 'tool_call_chunk'}]\n",
      "content='' additional_kwargs={'tool_calls': [{'index': 0, 'id': None, 'function': {'arguments': '1', 'name': ''}, 'type': 'function'}]} response_metadata={} id='run-acfc7fda-c6b3-4e17-abcb-896d4f50e2cc' invalid_tool_calls=[{'name': '', 'args': '1', 'id': None, 'error': None, 'type': 'invalid_tool_call'}] tool_call_chunks=[{'name': '', 'args': '1', 'id': None, 'index': 0, 'type': 'tool_call_chunk'}]\n",
      "content='' additional_kwargs={'tool_calls': [{'index': 0, 'id': None, 'function': {'arguments': 'fb', 'name': ''}, 'type': 'function'}]} response_metadata={} id='run-acfc7fda-c6b3-4e17-abcb-896d4f50e2cc' invalid_tool_calls=[{'name': '', 'args': 'fb', 'id': None, 'error': None, 'type': 'invalid_tool_call'}] tool_call_chunks=[{'name': '', 'args': 'fb', 'id': None, 'index': 0, 'type': 'tool_call_chunk'}]\n",
      "content='' additional_kwargs={'tool_calls': [{'index': 0, 'id': None, 'function': {'arguments': '-', 'name': ''}, 'type': 'function'}]} response_metadata={} id='run-acfc7fda-c6b3-4e17-abcb-896d4f50e2cc' invalid_tool_calls=[{'name': '', 'args': '-', 'id': None, 'error': None, 'type': 'invalid_tool_call'}] tool_call_chunks=[{'name': '', 'args': '-', 'id': None, 'index': 0, 'type': 'tool_call_chunk'}]\n",
      "content='' additional_kwargs={'tool_calls': [{'index': 0, 'id': None, 'function': {'arguments': '4', 'name': ''}, 'type': 'function'}]} response_metadata={} id='run-acfc7fda-c6b3-4e17-abcb-896d4f50e2cc' invalid_tool_calls=[{'name': '', 'args': '4', 'id': None, 'error': None, 'type': 'invalid_tool_call'}] tool_call_chunks=[{'name': '', 'args': '4', 'id': None, 'index': 0, 'type': 'tool_call_chunk'}]\n",
      "content='' additional_kwargs={'tool_calls': [{'index': 0, 'id': None, 'function': {'arguments': 'c', 'name': ''}, 'type': 'function'}]} response_metadata={} id='run-acfc7fda-c6b3-4e17-abcb-896d4f50e2cc' invalid_tool_calls=[{'name': '', 'args': 'c', 'id': None, 'error': None, 'type': 'invalid_tool_call'}] tool_call_chunks=[{'name': '', 'args': 'c', 'id': None, 'index': 0, 'type': 'tool_call_chunk'}]\n",
      "content='' additional_kwargs={'tool_calls': [{'index': 0, 'id': None, 'function': {'arguments': '3', 'name': ''}, 'type': 'function'}]} response_metadata={} id='run-acfc7fda-c6b3-4e17-abcb-896d4f50e2cc' invalid_tool_calls=[{'name': '', 'args': '3', 'id': None, 'error': None, 'type': 'invalid_tool_call'}] tool_call_chunks=[{'name': '', 'args': '3', 'id': None, 'index': 0, 'type': 'tool_call_chunk'}]\n",
      "content='' additional_kwargs={'tool_calls': [{'index': 0, 'id': None, 'function': {'arguments': 'b', 'name': ''}, 'type': 'function'}]} response_metadata={} id='run-acfc7fda-c6b3-4e17-abcb-896d4f50e2cc' invalid_tool_calls=[{'name': '', 'args': 'b', 'id': None, 'error': None, 'type': 'invalid_tool_call'}] tool_call_chunks=[{'name': '', 'args': 'b', 'id': None, 'index': 0, 'type': 'tool_call_chunk'}]\n",
      "content='' additional_kwargs={'tool_calls': [{'index': 0, 'id': None, 'function': {'arguments': '-', 'name': ''}, 'type': 'function'}]} response_metadata={} id='run-acfc7fda-c6b3-4e17-abcb-896d4f50e2cc' invalid_tool_calls=[{'name': '', 'args': '-', 'id': None, 'error': None, 'type': 'invalid_tool_call'}] tool_call_chunks=[{'name': '', 'args': '-', 'id': None, 'index': 0, 'type': 'tool_call_chunk'}]\n",
      "content='' additional_kwargs={'tool_calls': [{'index': 0, 'id': None, 'function': {'arguments': '4', 'name': ''}, 'type': 'function'}]} response_metadata={} id='run-acfc7fda-c6b3-4e17-abcb-896d4f50e2cc' invalid_tool_calls=[{'name': '', 'args': '4', 'id': None, 'error': None, 'type': 'invalid_tool_call'}] tool_call_chunks=[{'name': '', 'args': '4', 'id': None, 'index': 0, 'type': 'tool_call_chunk'}]\n",
      "content='' additional_kwargs={'tool_calls': [{'index': 0, 'id': None, 'function': {'arguments': 'c', 'name': ''}, 'type': 'function'}]} response_metadata={} id='run-acfc7fda-c6b3-4e17-abcb-896d4f50e2cc' invalid_tool_calls=[{'name': '', 'args': 'c', 'id': None, 'error': None, 'type': 'invalid_tool_call'}] tool_call_chunks=[{'name': '', 'args': 'c', 'id': None, 'index': 0, 'type': 'tool_call_chunk'}]\n",
      "content='' additional_kwargs={'tool_calls': [{'index': 0, 'id': None, 'function': {'arguments': '8', 'name': ''}, 'type': 'function'}]} response_metadata={} id='run-acfc7fda-c6b3-4e17-abcb-896d4f50e2cc' invalid_tool_calls=[{'name': '', 'args': '8', 'id': None, 'error': None, 'type': 'invalid_tool_call'}] tool_call_chunks=[{'name': '', 'args': '8', 'id': None, 'index': 0, 'type': 'tool_call_chunk'}]\n",
      "content='' additional_kwargs={'tool_calls': [{'index': 0, 'id': None, 'function': {'arguments': '2', 'name': ''}, 'type': 'function'}]} response_metadata={} id='run-acfc7fda-c6b3-4e17-abcb-896d4f50e2cc' invalid_tool_calls=[{'name': '', 'args': '2', 'id': None, 'error': None, 'type': 'invalid_tool_call'}] tool_call_chunks=[{'name': '', 'args': '2', 'id': None, 'index': 0, 'type': 'tool_call_chunk'}]\n",
      "content='' additional_kwargs={'tool_calls': [{'index': 0, 'id': None, 'function': {'arguments': '-', 'name': ''}, 'type': 'function'}]} response_metadata={} id='run-acfc7fda-c6b3-4e17-abcb-896d4f50e2cc' invalid_tool_calls=[{'name': '', 'args': '-', 'id': None, 'error': None, 'type': 'invalid_tool_call'}] tool_call_chunks=[{'name': '', 'args': '-', 'id': None, 'index': 0, 'type': 'tool_call_chunk'}]\n",
      "content='' additional_kwargs={'tool_calls': [{'index': 0, 'id': None, 'function': {'arguments': 'b', 'name': ''}, 'type': 'function'}]} response_metadata={} id='run-acfc7fda-c6b3-4e17-abcb-896d4f50e2cc' invalid_tool_calls=[{'name': '', 'args': 'b', 'id': None, 'error': None, 'type': 'invalid_tool_call'}] tool_call_chunks=[{'name': '', 'args': 'b', 'id': None, 'index': 0, 'type': 'tool_call_chunk'}]\n",
      "content='' additional_kwargs={'tool_calls': [{'index': 0, 'id': None, 'function': {'arguments': '4', 'name': ''}, 'type': 'function'}]} response_metadata={} id='run-acfc7fda-c6b3-4e17-abcb-896d4f50e2cc' invalid_tool_calls=[{'name': '', 'args': '4', 'id': None, 'error': None, 'type': 'invalid_tool_call'}] tool_call_chunks=[{'name': '', 'args': '4', 'id': None, 'index': 0, 'type': 'tool_call_chunk'}]\n",
      "content='' additional_kwargs={'tool_calls': [{'index': 0, 'id': None, 'function': {'arguments': '7', 'name': ''}, 'type': 'function'}]} response_metadata={} id='run-acfc7fda-c6b3-4e17-abcb-896d4f50e2cc' invalid_tool_calls=[{'name': '', 'args': '7', 'id': None, 'error': None, 'type': 'invalid_tool_call'}] tool_call_chunks=[{'name': '', 'args': '7', 'id': None, 'index': 0, 'type': 'tool_call_chunk'}]\n",
      "content='' additional_kwargs={'tool_calls': [{'index': 0, 'id': None, 'function': {'arguments': '1', 'name': ''}, 'type': 'function'}]} response_metadata={} id='run-acfc7fda-c6b3-4e17-abcb-896d4f50e2cc' invalid_tool_calls=[{'name': '', 'args': '1', 'id': None, 'error': None, 'type': 'invalid_tool_call'}] tool_call_chunks=[{'name': '', 'args': '1', 'id': None, 'index': 0, 'type': 'tool_call_chunk'}]\n",
      "content='' additional_kwargs={'tool_calls': [{'index': 0, 'id': None, 'function': {'arguments': '-', 'name': ''}, 'type': 'function'}]} response_metadata={} id='run-acfc7fda-c6b3-4e17-abcb-896d4f50e2cc' invalid_tool_calls=[{'name': '', 'args': '-', 'id': None, 'error': None, 'type': 'invalid_tool_call'}] tool_call_chunks=[{'name': '', 'args': '-', 'id': None, 'index': 0, 'type': 'tool_call_chunk'}]\n",
      "content='' additional_kwargs={'tool_calls': [{'index': 0, 'id': None, 'function': {'arguments': 'da', 'name': ''}, 'type': 'function'}]} response_metadata={} id='run-acfc7fda-c6b3-4e17-abcb-896d4f50e2cc' invalid_tool_calls=[{'name': '', 'args': 'da', 'id': None, 'error': None, 'type': 'invalid_tool_call'}] tool_call_chunks=[{'name': '', 'args': 'da', 'id': None, 'index': 0, 'type': 'tool_call_chunk'}]\n",
      "content='' additional_kwargs={'tool_calls': [{'index': 0, 'id': None, 'function': {'arguments': '2', 'name': ''}, 'type': 'function'}]} response_metadata={} id='run-acfc7fda-c6b3-4e17-abcb-896d4f50e2cc' invalid_tool_calls=[{'name': '', 'args': '2', 'id': None, 'error': None, 'type': 'invalid_tool_call'}] tool_call_chunks=[{'name': '', 'args': '2', 'id': None, 'index': 0, 'type': 'tool_call_chunk'}]\n",
      "content='' additional_kwargs={'tool_calls': [{'index': 0, 'id': None, 'function': {'arguments': '3', 'name': ''}, 'type': 'function'}]} response_metadata={} id='run-acfc7fda-c6b3-4e17-abcb-896d4f50e2cc' invalid_tool_calls=[{'name': '', 'args': '3', 'id': None, 'error': None, 'type': 'invalid_tool_call'}] tool_call_chunks=[{'name': '', 'args': '3', 'id': None, 'index': 0, 'type': 'tool_call_chunk'}]\n",
      "content='' additional_kwargs={'tool_calls': [{'index': 0, 'id': None, 'function': {'arguments': '3', 'name': ''}, 'type': 'function'}]} response_metadata={} id='run-acfc7fda-c6b3-4e17-abcb-896d4f50e2cc' invalid_tool_calls=[{'name': '', 'args': '3', 'id': None, 'error': None, 'type': 'invalid_tool_call'}] tool_call_chunks=[{'name': '', 'args': '3', 'id': None, 'index': 0, 'type': 'tool_call_chunk'}]\n",
      "content='' additional_kwargs={'tool_calls': [{'index': 0, 'id': None, 'function': {'arguments': 'a', 'name': ''}, 'type': 'function'}]} response_metadata={} id='run-acfc7fda-c6b3-4e17-abcb-896d4f50e2cc' invalid_tool_calls=[{'name': '', 'args': 'a', 'id': None, 'error': None, 'type': 'invalid_tool_call'}] tool_call_chunks=[{'name': '', 'args': 'a', 'id': None, 'index': 0, 'type': 'tool_call_chunk'}]\n",
      "content='' additional_kwargs={'tool_calls': [{'index': 0, 'id': None, 'function': {'arguments': 'abc', 'name': ''}, 'type': 'function'}]} response_metadata={} id='run-acfc7fda-c6b3-4e17-abcb-896d4f50e2cc' invalid_tool_calls=[{'name': '', 'args': 'abc', 'id': None, 'error': None, 'type': 'invalid_tool_call'}] tool_call_chunks=[{'name': '', 'args': 'abc', 'id': None, 'index': 0, 'type': 'tool_call_chunk'}]\n",
      "content='' additional_kwargs={'tool_calls': [{'index': 0, 'id': None, 'function': {'arguments': '2', 'name': ''}, 'type': 'function'}]} response_metadata={} id='run-acfc7fda-c6b3-4e17-abcb-896d4f50e2cc' invalid_tool_calls=[{'name': '', 'args': '2', 'id': None, 'error': None, 'type': 'invalid_tool_call'}] tool_call_chunks=[{'name': '', 'args': '2', 'id': None, 'index': 0, 'type': 'tool_call_chunk'}]\n",
      "content='' additional_kwargs={'tool_calls': [{'index': 0, 'id': None, 'function': {'arguments': '7', 'name': ''}, 'type': 'function'}]} response_metadata={} id='run-acfc7fda-c6b3-4e17-abcb-896d4f50e2cc' invalid_tool_calls=[{'name': '', 'args': '7', 'id': None, 'error': None, 'type': 'invalid_tool_call'}] tool_call_chunks=[{'name': '', 'args': '7', 'id': None, 'index': 0, 'type': 'tool_call_chunk'}]\n",
      "content='' additional_kwargs={'tool_calls': [{'index': 0, 'id': None, 'function': {'arguments': 'c', 'name': ''}, 'type': 'function'}]} response_metadata={} id='run-acfc7fda-c6b3-4e17-abcb-896d4f50e2cc' invalid_tool_calls=[{'name': '', 'args': 'c', 'id': None, 'error': None, 'type': 'invalid_tool_call'}] tool_call_chunks=[{'name': '', 'args': 'c', 'id': None, 'index': 0, 'type': 'tool_call_chunk'}]\n",
      "content='' additional_kwargs={'tool_calls': [{'index': 0, 'id': None, 'function': {'arguments': '\"}', 'name': ''}, 'type': 'function'}]} response_metadata={} id='run-acfc7fda-c6b3-4e17-abcb-896d4f50e2cc' invalid_tool_calls=[{'name': '', 'args': '\"}', 'id': None, 'error': None, 'type': 'invalid_tool_call'}] tool_call_chunks=[{'name': '', 'args': '\"}', 'id': None, 'index': 0, 'type': 'tool_call_chunk'}]\n",
      "content='' additional_kwargs={} response_metadata={'finish_reason': 'stop', 'model_name': 'gemma-3-4b-it', 'system_fingerprint': 'gemma-3-4b-it'} id='run-acfc7fda-c6b3-4e17-abcb-896d4f50e2cc'\n",
      "content='Stored memory da3e91fb-4c3b-4c82-b471-da233aabc27c' name='upsert_memory' id='5a80511c-7acd-4e73-bf78-59af106b0aa1' tool_call_id='681897462'\n",
      "content='' additional_kwargs={'tool_calls': [{'index': 0, 'id': '671277640', 'function': {'arguments': '', 'name': 'upsert_memory'}, 'type': 'function'}]} response_metadata={} id='run-8c93da6c-43af-4b86-a6bb-4d90bbf33aa1' tool_calls=[{'name': 'upsert_memory', 'args': {}, 'id': '671277640', 'type': 'tool_call'}] tool_call_chunks=[{'name': 'upsert_memory', 'args': '', 'id': '671277640', 'index': 0, 'type': 'tool_call_chunk'}]\n",
      "content='' additional_kwargs={'tool_calls': [{'index': 0, 'id': None, 'function': {'arguments': '{\"', 'name': ''}, 'type': 'function'}]} response_metadata={} id='run-8c93da6c-43af-4b86-a6bb-4d90bbf33aa1' tool_calls=[{'name': '', 'args': {}, 'id': None, 'type': 'tool_call'}] tool_call_chunks=[{'name': '', 'args': '{\"', 'id': None, 'index': 0, 'type': 'tool_call_chunk'}]\n",
      "content='' additional_kwargs={'tool_calls': [{'index': 0, 'id': None, 'function': {'arguments': 'content', 'name': ''}, 'type': 'function'}]} response_metadata={} id='run-8c93da6c-43af-4b86-a6bb-4d90bbf33aa1' invalid_tool_calls=[{'name': '', 'args': 'content', 'id': None, 'error': None, 'type': 'invalid_tool_call'}] tool_call_chunks=[{'name': '', 'args': 'content', 'id': None, 'index': 0, 'type': 'tool_call_chunk'}]\n",
      "content='' additional_kwargs={'tool_calls': [{'index': 0, 'id': None, 'function': {'arguments': '\":', 'name': ''}, 'type': 'function'}]} response_metadata={} id='run-8c93da6c-43af-4b86-a6bb-4d90bbf33aa1' invalid_tool_calls=[{'name': '', 'args': '\":', 'id': None, 'error': None, 'type': 'invalid_tool_call'}] tool_call_chunks=[{'name': '', 'args': '\":', 'id': None, 'index': 0, 'type': 'tool_call_chunk'}]\n",
      "content='' additional_kwargs={'tool_calls': [{'index': 0, 'id': None, 'function': {'arguments': ' \"', 'name': ''}, 'type': 'function'}]} response_metadata={} id='run-8c93da6c-43af-4b86-a6bb-4d90bbf33aa1' invalid_tool_calls=[{'name': '', 'args': ' \"', 'id': None, 'error': None, 'type': 'invalid_tool_call'}] tool_call_chunks=[{'name': '', 'args': ' \"', 'id': None, 'index': 0, 'type': 'tool_call_chunk'}]\n",
      "content='' additional_kwargs={'tool_calls': [{'index': 0, 'id': None, 'function': {'arguments': 'I', 'name': ''}, 'type': 'function'}]} response_metadata={} id='run-8c93da6c-43af-4b86-a6bb-4d90bbf33aa1' invalid_tool_calls=[{'name': '', 'args': 'I', 'id': None, 'error': None, 'type': 'invalid_tool_call'}] tool_call_chunks=[{'name': '', 'args': 'I', 'id': None, 'index': 0, 'type': 'tool_call_chunk'}]\n",
      "content='' additional_kwargs={'tool_calls': [{'index': 0, 'id': None, 'function': {'arguments': \"'\", 'name': ''}, 'type': 'function'}]} response_metadata={} id='run-8c93da6c-43af-4b86-a6bb-4d90bbf33aa1' invalid_tool_calls=[{'name': '', 'args': \"'\", 'id': None, 'error': None, 'type': 'invalid_tool_call'}] tool_call_chunks=[{'name': '', 'args': \"'\", 'id': None, 'index': 0, 'type': 'tool_call_chunk'}]\n",
      "content='' additional_kwargs={'tool_calls': [{'index': 0, 'id': None, 'function': {'arguments': 'm', 'name': ''}, 'type': 'function'}]} response_metadata={} id='run-8c93da6c-43af-4b86-a6bb-4d90bbf33aa1' invalid_tool_calls=[{'name': '', 'args': 'm', 'id': None, 'error': None, 'type': 'invalid_tool_call'}] tool_call_chunks=[{'name': '', 'args': 'm', 'id': None, 'index': 0, 'type': 'tool_call_chunk'}]\n",
      "content='' additional_kwargs={'tool_calls': [{'index': 0, 'id': None, 'function': {'arguments': ' hungry', 'name': ''}, 'type': 'function'}]} response_metadata={} id='run-8c93da6c-43af-4b86-a6bb-4d90bbf33aa1' invalid_tool_calls=[{'name': '', 'args': ' hungry', 'id': None, 'error': None, 'type': 'invalid_tool_call'}] tool_call_chunks=[{'name': '', 'args': ' hungry', 'id': None, 'index': 0, 'type': 'tool_call_chunk'}]\n",
      "content='' additional_kwargs={'tool_calls': [{'index': 0, 'id': None, 'function': {'arguments': '\",', 'name': ''}, 'type': 'function'}]} response_metadata={} id='run-8c93da6c-43af-4b86-a6bb-4d90bbf33aa1' invalid_tool_calls=[{'name': '', 'args': '\",', 'id': None, 'error': None, 'type': 'invalid_tool_call'}] tool_call_chunks=[{'name': '', 'args': '\",', 'id': None, 'index': 0, 'type': 'tool_call_chunk'}]\n",
      "content='' additional_kwargs={'tool_calls': [{'index': 0, 'id': None, 'function': {'arguments': '\\n', 'name': ''}, 'type': 'function'}]} response_metadata={} id='run-8c93da6c-43af-4b86-a6bb-4d90bbf33aa1' invalid_tool_calls=[{'name': '', 'args': '\\n', 'id': None, 'error': None, 'type': 'invalid_tool_call'}] tool_call_chunks=[{'name': '', 'args': '\\n', 'id': None, 'index': 0, 'type': 'tool_call_chunk'}]\n",
      "content='' additional_kwargs={'tool_calls': [{'index': 0, 'id': None, 'function': {'arguments': '\"', 'name': ''}, 'type': 'function'}]} response_metadata={} id='run-8c93da6c-43af-4b86-a6bb-4d90bbf33aa1' invalid_tool_calls=[{'name': '', 'args': '\"', 'id': None, 'error': None, 'type': 'invalid_tool_call'}] tool_call_chunks=[{'name': '', 'args': '\"', 'id': None, 'index': 0, 'type': 'tool_call_chunk'}]\n",
      "content='' additional_kwargs={'tool_calls': [{'index': 0, 'id': None, 'function': {'arguments': 'memory', 'name': ''}, 'type': 'function'}]} response_metadata={} id='run-8c93da6c-43af-4b86-a6bb-4d90bbf33aa1' invalid_tool_calls=[{'name': '', 'args': 'memory', 'id': None, 'error': None, 'type': 'invalid_tool_call'}] tool_call_chunks=[{'name': '', 'args': 'memory', 'id': None, 'index': 0, 'type': 'tool_call_chunk'}]\n",
      "content='' additional_kwargs={'tool_calls': [{'index': 0, 'id': None, 'function': {'arguments': '_', 'name': ''}, 'type': 'function'}]} response_metadata={} id='run-8c93da6c-43af-4b86-a6bb-4d90bbf33aa1' invalid_tool_calls=[{'name': '', 'args': '_', 'id': None, 'error': None, 'type': 'invalid_tool_call'}] tool_call_chunks=[{'name': '', 'args': '_', 'id': None, 'index': 0, 'type': 'tool_call_chunk'}]\n",
      "content='' additional_kwargs={'tool_calls': [{'index': 0, 'id': None, 'function': {'arguments': 'id', 'name': ''}, 'type': 'function'}]} response_metadata={} id='run-8c93da6c-43af-4b86-a6bb-4d90bbf33aa1' invalid_tool_calls=[{'name': '', 'args': 'id', 'id': None, 'error': None, 'type': 'invalid_tool_call'}] tool_call_chunks=[{'name': '', 'args': 'id', 'id': None, 'index': 0, 'type': 'tool_call_chunk'}]\n",
      "content='' additional_kwargs={'tool_calls': [{'index': 0, 'id': None, 'function': {'arguments': '\":', 'name': ''}, 'type': 'function'}]} response_metadata={} id='run-8c93da6c-43af-4b86-a6bb-4d90bbf33aa1' invalid_tool_calls=[{'name': '', 'args': '\":', 'id': None, 'error': None, 'type': 'invalid_tool_call'}] tool_call_chunks=[{'name': '', 'args': '\":', 'id': None, 'index': 0, 'type': 'tool_call_chunk'}]\n",
      "content='' additional_kwargs={'tool_calls': [{'index': 0, 'id': None, 'function': {'arguments': ' \"', 'name': ''}, 'type': 'function'}]} response_metadata={} id='run-8c93da6c-43af-4b86-a6bb-4d90bbf33aa1' invalid_tool_calls=[{'name': '', 'args': ' \"', 'id': None, 'error': None, 'type': 'invalid_tool_call'}] tool_call_chunks=[{'name': '', 'args': ' \"', 'id': None, 'index': 0, 'type': 'tool_call_chunk'}]\n",
      "content='' additional_kwargs={'tool_calls': [{'index': 0, 'id': None, 'function': {'arguments': 'da', 'name': ''}, 'type': 'function'}]} response_metadata={} id='run-8c93da6c-43af-4b86-a6bb-4d90bbf33aa1' invalid_tool_calls=[{'name': '', 'args': 'da', 'id': None, 'error': None, 'type': 'invalid_tool_call'}] tool_call_chunks=[{'name': '', 'args': 'da', 'id': None, 'index': 0, 'type': 'tool_call_chunk'}]\n",
      "content='' additional_kwargs={'tool_calls': [{'index': 0, 'id': None, 'function': {'arguments': '3', 'name': ''}, 'type': 'function'}]} response_metadata={} id='run-8c93da6c-43af-4b86-a6bb-4d90bbf33aa1' invalid_tool_calls=[{'name': '', 'args': '3', 'id': None, 'error': None, 'type': 'invalid_tool_call'}] tool_call_chunks=[{'name': '', 'args': '3', 'id': None, 'index': 0, 'type': 'tool_call_chunk'}]\n",
      "content='' additional_kwargs={'tool_calls': [{'index': 0, 'id': None, 'function': {'arguments': 'e', 'name': ''}, 'type': 'function'}]} response_metadata={} id='run-8c93da6c-43af-4b86-a6bb-4d90bbf33aa1' invalid_tool_calls=[{'name': '', 'args': 'e', 'id': None, 'error': None, 'type': 'invalid_tool_call'}] tool_call_chunks=[{'name': '', 'args': 'e', 'id': None, 'index': 0, 'type': 'tool_call_chunk'}]\n",
      "content='' additional_kwargs={'tool_calls': [{'index': 0, 'id': None, 'function': {'arguments': '9', 'name': ''}, 'type': 'function'}]} response_metadata={} id='run-8c93da6c-43af-4b86-a6bb-4d90bbf33aa1' invalid_tool_calls=[{'name': '', 'args': '9', 'id': None, 'error': None, 'type': 'invalid_tool_call'}] tool_call_chunks=[{'name': '', 'args': '9', 'id': None, 'index': 0, 'type': 'tool_call_chunk'}]\n",
      "content='' additional_kwargs={'tool_calls': [{'index': 0, 'id': None, 'function': {'arguments': '1', 'name': ''}, 'type': 'function'}]} response_metadata={} id='run-8c93da6c-43af-4b86-a6bb-4d90bbf33aa1' invalid_tool_calls=[{'name': '', 'args': '1', 'id': None, 'error': None, 'type': 'invalid_tool_call'}] tool_call_chunks=[{'name': '', 'args': '1', 'id': None, 'index': 0, 'type': 'tool_call_chunk'}]\n",
      "content='' additional_kwargs={'tool_calls': [{'index': 0, 'id': None, 'function': {'arguments': 'fb', 'name': ''}, 'type': 'function'}]} response_metadata={} id='run-8c93da6c-43af-4b86-a6bb-4d90bbf33aa1' invalid_tool_calls=[{'name': '', 'args': 'fb', 'id': None, 'error': None, 'type': 'invalid_tool_call'}] tool_call_chunks=[{'name': '', 'args': 'fb', 'id': None, 'index': 0, 'type': 'tool_call_chunk'}]\n",
      "content='' additional_kwargs={'tool_calls': [{'index': 0, 'id': None, 'function': {'arguments': '-', 'name': ''}, 'type': 'function'}]} response_metadata={} id='run-8c93da6c-43af-4b86-a6bb-4d90bbf33aa1' invalid_tool_calls=[{'name': '', 'args': '-', 'id': None, 'error': None, 'type': 'invalid_tool_call'}] tool_call_chunks=[{'name': '', 'args': '-', 'id': None, 'index': 0, 'type': 'tool_call_chunk'}]\n",
      "content='' additional_kwargs={'tool_calls': [{'index': 0, 'id': None, 'function': {'arguments': '4', 'name': ''}, 'type': 'function'}]} response_metadata={} id='run-8c93da6c-43af-4b86-a6bb-4d90bbf33aa1' invalid_tool_calls=[{'name': '', 'args': '4', 'id': None, 'error': None, 'type': 'invalid_tool_call'}] tool_call_chunks=[{'name': '', 'args': '4', 'id': None, 'index': 0, 'type': 'tool_call_chunk'}]\n",
      "content='' additional_kwargs={'tool_calls': [{'index': 0, 'id': None, 'function': {'arguments': 'c', 'name': ''}, 'type': 'function'}]} response_metadata={} id='run-8c93da6c-43af-4b86-a6bb-4d90bbf33aa1' invalid_tool_calls=[{'name': '', 'args': 'c', 'id': None, 'error': None, 'type': 'invalid_tool_call'}] tool_call_chunks=[{'name': '', 'args': 'c', 'id': None, 'index': 0, 'type': 'tool_call_chunk'}]\n",
      "content='' additional_kwargs={'tool_calls': [{'index': 0, 'id': None, 'function': {'arguments': '3', 'name': ''}, 'type': 'function'}]} response_metadata={} id='run-8c93da6c-43af-4b86-a6bb-4d90bbf33aa1' invalid_tool_calls=[{'name': '', 'args': '3', 'id': None, 'error': None, 'type': 'invalid_tool_call'}] tool_call_chunks=[{'name': '', 'args': '3', 'id': None, 'index': 0, 'type': 'tool_call_chunk'}]\n",
      "content='' additional_kwargs={'tool_calls': [{'index': 0, 'id': None, 'function': {'arguments': 'b', 'name': ''}, 'type': 'function'}]} response_metadata={} id='run-8c93da6c-43af-4b86-a6bb-4d90bbf33aa1' invalid_tool_calls=[{'name': '', 'args': 'b', 'id': None, 'error': None, 'type': 'invalid_tool_call'}] tool_call_chunks=[{'name': '', 'args': 'b', 'id': None, 'index': 0, 'type': 'tool_call_chunk'}]\n",
      "content='' additional_kwargs={'tool_calls': [{'index': 0, 'id': None, 'function': {'arguments': '-', 'name': ''}, 'type': 'function'}]} response_metadata={} id='run-8c93da6c-43af-4b86-a6bb-4d90bbf33aa1' invalid_tool_calls=[{'name': '', 'args': '-', 'id': None, 'error': None, 'type': 'invalid_tool_call'}] tool_call_chunks=[{'name': '', 'args': '-', 'id': None, 'index': 0, 'type': 'tool_call_chunk'}]\n",
      "content='' additional_kwargs={'tool_calls': [{'index': 0, 'id': None, 'function': {'arguments': '4', 'name': ''}, 'type': 'function'}]} response_metadata={} id='run-8c93da6c-43af-4b86-a6bb-4d90bbf33aa1' invalid_tool_calls=[{'name': '', 'args': '4', 'id': None, 'error': None, 'type': 'invalid_tool_call'}] tool_call_chunks=[{'name': '', 'args': '4', 'id': None, 'index': 0, 'type': 'tool_call_chunk'}]\n",
      "content='' additional_kwargs={'tool_calls': [{'index': 0, 'id': None, 'function': {'arguments': 'c', 'name': ''}, 'type': 'function'}]} response_metadata={} id='run-8c93da6c-43af-4b86-a6bb-4d90bbf33aa1' invalid_tool_calls=[{'name': '', 'args': 'c', 'id': None, 'error': None, 'type': 'invalid_tool_call'}] tool_call_chunks=[{'name': '', 'args': 'c', 'id': None, 'index': 0, 'type': 'tool_call_chunk'}]\n",
      "content='' additional_kwargs={'tool_calls': [{'index': 0, 'id': None, 'function': {'arguments': '8', 'name': ''}, 'type': 'function'}]} response_metadata={} id='run-8c93da6c-43af-4b86-a6bb-4d90bbf33aa1' invalid_tool_calls=[{'name': '', 'args': '8', 'id': None, 'error': None, 'type': 'invalid_tool_call'}] tool_call_chunks=[{'name': '', 'args': '8', 'id': None, 'index': 0, 'type': 'tool_call_chunk'}]\n",
      "content='' additional_kwargs={'tool_calls': [{'index': 0, 'id': None, 'function': {'arguments': '2', 'name': ''}, 'type': 'function'}]} response_metadata={} id='run-8c93da6c-43af-4b86-a6bb-4d90bbf33aa1' invalid_tool_calls=[{'name': '', 'args': '2', 'id': None, 'error': None, 'type': 'invalid_tool_call'}] tool_call_chunks=[{'name': '', 'args': '2', 'id': None, 'index': 0, 'type': 'tool_call_chunk'}]\n",
      "content='' additional_kwargs={'tool_calls': [{'index': 0, 'id': None, 'function': {'arguments': '-', 'name': ''}, 'type': 'function'}]} response_metadata={} id='run-8c93da6c-43af-4b86-a6bb-4d90bbf33aa1' invalid_tool_calls=[{'name': '', 'args': '-', 'id': None, 'error': None, 'type': 'invalid_tool_call'}] tool_call_chunks=[{'name': '', 'args': '-', 'id': None, 'index': 0, 'type': 'tool_call_chunk'}]\n",
      "content='' additional_kwargs={'tool_calls': [{'index': 0, 'id': None, 'function': {'arguments': 'b', 'name': ''}, 'type': 'function'}]} response_metadata={} id='run-8c93da6c-43af-4b86-a6bb-4d90bbf33aa1' invalid_tool_calls=[{'name': '', 'args': 'b', 'id': None, 'error': None, 'type': 'invalid_tool_call'}] tool_call_chunks=[{'name': '', 'args': 'b', 'id': None, 'index': 0, 'type': 'tool_call_chunk'}]\n",
      "content='' additional_kwargs={'tool_calls': [{'index': 0, 'id': None, 'function': {'arguments': '4', 'name': ''}, 'type': 'function'}]} response_metadata={} id='run-8c93da6c-43af-4b86-a6bb-4d90bbf33aa1' invalid_tool_calls=[{'name': '', 'args': '4', 'id': None, 'error': None, 'type': 'invalid_tool_call'}] tool_call_chunks=[{'name': '', 'args': '4', 'id': None, 'index': 0, 'type': 'tool_call_chunk'}]\n",
      "content='' additional_kwargs={'tool_calls': [{'index': 0, 'id': None, 'function': {'arguments': '7', 'name': ''}, 'type': 'function'}]} response_metadata={} id='run-8c93da6c-43af-4b86-a6bb-4d90bbf33aa1' invalid_tool_calls=[{'name': '', 'args': '7', 'id': None, 'error': None, 'type': 'invalid_tool_call'}] tool_call_chunks=[{'name': '', 'args': '7', 'id': None, 'index': 0, 'type': 'tool_call_chunk'}]\n",
      "content='' additional_kwargs={'tool_calls': [{'index': 0, 'id': None, 'function': {'arguments': '1', 'name': ''}, 'type': 'function'}]} response_metadata={} id='run-8c93da6c-43af-4b86-a6bb-4d90bbf33aa1' invalid_tool_calls=[{'name': '', 'args': '1', 'id': None, 'error': None, 'type': 'invalid_tool_call'}] tool_call_chunks=[{'name': '', 'args': '1', 'id': None, 'index': 0, 'type': 'tool_call_chunk'}]\n",
      "content='' additional_kwargs={'tool_calls': [{'index': 0, 'id': None, 'function': {'arguments': '-', 'name': ''}, 'type': 'function'}]} response_metadata={} id='run-8c93da6c-43af-4b86-a6bb-4d90bbf33aa1' invalid_tool_calls=[{'name': '', 'args': '-', 'id': None, 'error': None, 'type': 'invalid_tool_call'}] tool_call_chunks=[{'name': '', 'args': '-', 'id': None, 'index': 0, 'type': 'tool_call_chunk'}]\n",
      "content='' additional_kwargs={'tool_calls': [{'index': 0, 'id': None, 'function': {'arguments': 'da', 'name': ''}, 'type': 'function'}]} response_metadata={} id='run-8c93da6c-43af-4b86-a6bb-4d90bbf33aa1' invalid_tool_calls=[{'name': '', 'args': 'da', 'id': None, 'error': None, 'type': 'invalid_tool_call'}] tool_call_chunks=[{'name': '', 'args': 'da', 'id': None, 'index': 0, 'type': 'tool_call_chunk'}]\n",
      "content='' additional_kwargs={'tool_calls': [{'index': 0, 'id': None, 'function': {'arguments': '2', 'name': ''}, 'type': 'function'}]} response_metadata={} id='run-8c93da6c-43af-4b86-a6bb-4d90bbf33aa1' invalid_tool_calls=[{'name': '', 'args': '2', 'id': None, 'error': None, 'type': 'invalid_tool_call'}] tool_call_chunks=[{'name': '', 'args': '2', 'id': None, 'index': 0, 'type': 'tool_call_chunk'}]\n",
      "content='' additional_kwargs={'tool_calls': [{'index': 0, 'id': None, 'function': {'arguments': '3', 'name': ''}, 'type': 'function'}]} response_metadata={} id='run-8c93da6c-43af-4b86-a6bb-4d90bbf33aa1' invalid_tool_calls=[{'name': '', 'args': '3', 'id': None, 'error': None, 'type': 'invalid_tool_call'}] tool_call_chunks=[{'name': '', 'args': '3', 'id': None, 'index': 0, 'type': 'tool_call_chunk'}]\n",
      "content='' additional_kwargs={'tool_calls': [{'index': 0, 'id': None, 'function': {'arguments': '3', 'name': ''}, 'type': 'function'}]} response_metadata={} id='run-8c93da6c-43af-4b86-a6bb-4d90bbf33aa1' invalid_tool_calls=[{'name': '', 'args': '3', 'id': None, 'error': None, 'type': 'invalid_tool_call'}] tool_call_chunks=[{'name': '', 'args': '3', 'id': None, 'index': 0, 'type': 'tool_call_chunk'}]\n",
      "content='' additional_kwargs={'tool_calls': [{'index': 0, 'id': None, 'function': {'arguments': 'a', 'name': ''}, 'type': 'function'}]} response_metadata={} id='run-8c93da6c-43af-4b86-a6bb-4d90bbf33aa1' invalid_tool_calls=[{'name': '', 'args': 'a', 'id': None, 'error': None, 'type': 'invalid_tool_call'}] tool_call_chunks=[{'name': '', 'args': 'a', 'id': None, 'index': 0, 'type': 'tool_call_chunk'}]\n",
      "content='' additional_kwargs={'tool_calls': [{'index': 0, 'id': None, 'function': {'arguments': 'abc', 'name': ''}, 'type': 'function'}]} response_metadata={} id='run-8c93da6c-43af-4b86-a6bb-4d90bbf33aa1' invalid_tool_calls=[{'name': '', 'args': 'abc', 'id': None, 'error': None, 'type': 'invalid_tool_call'}] tool_call_chunks=[{'name': '', 'args': 'abc', 'id': None, 'index': 0, 'type': 'tool_call_chunk'}]\n",
      "content='' additional_kwargs={'tool_calls': [{'index': 0, 'id': None, 'function': {'arguments': '2', 'name': ''}, 'type': 'function'}]} response_metadata={} id='run-8c93da6c-43af-4b86-a6bb-4d90bbf33aa1' invalid_tool_calls=[{'name': '', 'args': '2', 'id': None, 'error': None, 'type': 'invalid_tool_call'}] tool_call_chunks=[{'name': '', 'args': '2', 'id': None, 'index': 0, 'type': 'tool_call_chunk'}]\n",
      "content='' additional_kwargs={'tool_calls': [{'index': 0, 'id': None, 'function': {'arguments': '7', 'name': ''}, 'type': 'function'}]} response_metadata={} id='run-8c93da6c-43af-4b86-a6bb-4d90bbf33aa1' invalid_tool_calls=[{'name': '', 'args': '7', 'id': None, 'error': None, 'type': 'invalid_tool_call'}] tool_call_chunks=[{'name': '', 'args': '7', 'id': None, 'index': 0, 'type': 'tool_call_chunk'}]\n",
      "content='' additional_kwargs={'tool_calls': [{'index': 0, 'id': None, 'function': {'arguments': 'c', 'name': ''}, 'type': 'function'}]} response_metadata={} id='run-8c93da6c-43af-4b86-a6bb-4d90bbf33aa1' invalid_tool_calls=[{'name': '', 'args': 'c', 'id': None, 'error': None, 'type': 'invalid_tool_call'}] tool_call_chunks=[{'name': '', 'args': 'c', 'id': None, 'index': 0, 'type': 'tool_call_chunk'}]\n",
      "content='' additional_kwargs={'tool_calls': [{'index': 0, 'id': None, 'function': {'arguments': '\"}', 'name': ''}, 'type': 'function'}]} response_metadata={} id='run-8c93da6c-43af-4b86-a6bb-4d90bbf33aa1' invalid_tool_calls=[{'name': '', 'args': '\"}', 'id': None, 'error': None, 'type': 'invalid_tool_call'}] tool_call_chunks=[{'name': '', 'args': '\"}', 'id': None, 'index': 0, 'type': 'tool_call_chunk'}]\n",
      "content='' additional_kwargs={} response_metadata={'finish_reason': 'stop', 'model_name': 'gemma-3-4b-it', 'system_fingerprint': 'gemma-3-4b-it'} id='run-8c93da6c-43af-4b86-a6bb-4d90bbf33aa1'\n",
      "content='Stored memory da3e91fb-4c3b-4c82-b471-da233aabc27c' name='upsert_memory' id='e9558967-d0ef-4cfd-8f67-2fb8bca8aa30' tool_call_id='671277640'\n",
      "content='' additional_kwargs={'tool_calls': [{'index': 0, 'id': '252143785', 'function': {'arguments': '', 'name': 'upsert_memory'}, 'type': 'function'}]} response_metadata={} id='run-e49ed137-515e-4a00-9f76-6f9d560f8d2d' tool_calls=[{'name': 'upsert_memory', 'args': {}, 'id': '252143785', 'type': 'tool_call'}] tool_call_chunks=[{'name': 'upsert_memory', 'args': '', 'id': '252143785', 'index': 0, 'type': 'tool_call_chunk'}]\n",
      "content='' additional_kwargs={'tool_calls': [{'index': 0, 'id': None, 'function': {'arguments': '{\"', 'name': ''}, 'type': 'function'}]} response_metadata={} id='run-e49ed137-515e-4a00-9f76-6f9d560f8d2d' tool_calls=[{'name': '', 'args': {}, 'id': None, 'type': 'tool_call'}] tool_call_chunks=[{'name': '', 'args': '{\"', 'id': None, 'index': 0, 'type': 'tool_call_chunk'}]\n",
      "content='' additional_kwargs={'tool_calls': [{'index': 0, 'id': None, 'function': {'arguments': 'content', 'name': ''}, 'type': 'function'}]} response_metadata={} id='run-e49ed137-515e-4a00-9f76-6f9d560f8d2d' invalid_tool_calls=[{'name': '', 'args': 'content', 'id': None, 'error': None, 'type': 'invalid_tool_call'}] tool_call_chunks=[{'name': '', 'args': 'content', 'id': None, 'index': 0, 'type': 'tool_call_chunk'}]\n",
      "content='' additional_kwargs={'tool_calls': [{'index': 0, 'id': None, 'function': {'arguments': '\":', 'name': ''}, 'type': 'function'}]} response_metadata={} id='run-e49ed137-515e-4a00-9f76-6f9d560f8d2d' invalid_tool_calls=[{'name': '', 'args': '\":', 'id': None, 'error': None, 'type': 'invalid_tool_call'}] tool_call_chunks=[{'name': '', 'args': '\":', 'id': None, 'index': 0, 'type': 'tool_call_chunk'}]\n",
      "content='' additional_kwargs={'tool_calls': [{'index': 0, 'id': None, 'function': {'arguments': ' \"', 'name': ''}, 'type': 'function'}]} response_metadata={} id='run-e49ed137-515e-4a00-9f76-6f9d560f8d2d' invalid_tool_calls=[{'name': '', 'args': ' \"', 'id': None, 'error': None, 'type': 'invalid_tool_call'}] tool_call_chunks=[{'name': '', 'args': ' \"', 'id': None, 'index': 0, 'type': 'tool_call_chunk'}]\n",
      "content='' additional_kwargs={'tool_calls': [{'index': 0, 'id': None, 'function': {'arguments': 'I', 'name': ''}, 'type': 'function'}]} response_metadata={} id='run-e49ed137-515e-4a00-9f76-6f9d560f8d2d' invalid_tool_calls=[{'name': '', 'args': 'I', 'id': None, 'error': None, 'type': 'invalid_tool_call'}] tool_call_chunks=[{'name': '', 'args': 'I', 'id': None, 'index': 0, 'type': 'tool_call_chunk'}]\n",
      "content='' additional_kwargs={'tool_calls': [{'index': 0, 'id': None, 'function': {'arguments': \"'\", 'name': ''}, 'type': 'function'}]} response_metadata={} id='run-e49ed137-515e-4a00-9f76-6f9d560f8d2d' invalid_tool_calls=[{'name': '', 'args': \"'\", 'id': None, 'error': None, 'type': 'invalid_tool_call'}] tool_call_chunks=[{'name': '', 'args': \"'\", 'id': None, 'index': 0, 'type': 'tool_call_chunk'}]\n",
      "content='' additional_kwargs={'tool_calls': [{'index': 0, 'id': None, 'function': {'arguments': 'm', 'name': ''}, 'type': 'function'}]} response_metadata={} id='run-e49ed137-515e-4a00-9f76-6f9d560f8d2d' invalid_tool_calls=[{'name': '', 'args': 'm', 'id': None, 'error': None, 'type': 'invalid_tool_call'}] tool_call_chunks=[{'name': '', 'args': 'm', 'id': None, 'index': 0, 'type': 'tool_call_chunk'}]\n",
      "content='' additional_kwargs={'tool_calls': [{'index': 0, 'id': None, 'function': {'arguments': ' hungry', 'name': ''}, 'type': 'function'}]} response_metadata={} id='run-e49ed137-515e-4a00-9f76-6f9d560f8d2d' invalid_tool_calls=[{'name': '', 'args': ' hungry', 'id': None, 'error': None, 'type': 'invalid_tool_call'}] tool_call_chunks=[{'name': '', 'args': ' hungry', 'id': None, 'index': 0, 'type': 'tool_call_chunk'}]\n",
      "content='' additional_kwargs={'tool_calls': [{'index': 0, 'id': None, 'function': {'arguments': '\",', 'name': ''}, 'type': 'function'}]} response_metadata={} id='run-e49ed137-515e-4a00-9f76-6f9d560f8d2d' invalid_tool_calls=[{'name': '', 'args': '\",', 'id': None, 'error': None, 'type': 'invalid_tool_call'}] tool_call_chunks=[{'name': '', 'args': '\",', 'id': None, 'index': 0, 'type': 'tool_call_chunk'}]\n",
      "content='' additional_kwargs={'tool_calls': [{'index': 0, 'id': None, 'function': {'arguments': '\\n', 'name': ''}, 'type': 'function'}]} response_metadata={} id='run-e49ed137-515e-4a00-9f76-6f9d560f8d2d' invalid_tool_calls=[{'name': '', 'args': '\\n', 'id': None, 'error': None, 'type': 'invalid_tool_call'}] tool_call_chunks=[{'name': '', 'args': '\\n', 'id': None, 'index': 0, 'type': 'tool_call_chunk'}]\n",
      "content='' additional_kwargs={'tool_calls': [{'index': 0, 'id': None, 'function': {'arguments': '\"', 'name': ''}, 'type': 'function'}]} response_metadata={} id='run-e49ed137-515e-4a00-9f76-6f9d560f8d2d' invalid_tool_calls=[{'name': '', 'args': '\"', 'id': None, 'error': None, 'type': 'invalid_tool_call'}] tool_call_chunks=[{'name': '', 'args': '\"', 'id': None, 'index': 0, 'type': 'tool_call_chunk'}]\n",
      "content='' additional_kwargs={'tool_calls': [{'index': 0, 'id': None, 'function': {'arguments': 'memory', 'name': ''}, 'type': 'function'}]} response_metadata={} id='run-e49ed137-515e-4a00-9f76-6f9d560f8d2d' invalid_tool_calls=[{'name': '', 'args': 'memory', 'id': None, 'error': None, 'type': 'invalid_tool_call'}] tool_call_chunks=[{'name': '', 'args': 'memory', 'id': None, 'index': 0, 'type': 'tool_call_chunk'}]\n",
      "content='' additional_kwargs={'tool_calls': [{'index': 0, 'id': None, 'function': {'arguments': '_', 'name': ''}, 'type': 'function'}]} response_metadata={} id='run-e49ed137-515e-4a00-9f76-6f9d560f8d2d' invalid_tool_calls=[{'name': '', 'args': '_', 'id': None, 'error': None, 'type': 'invalid_tool_call'}] tool_call_chunks=[{'name': '', 'args': '_', 'id': None, 'index': 0, 'type': 'tool_call_chunk'}]\n",
      "content='' additional_kwargs={'tool_calls': [{'index': 0, 'id': None, 'function': {'arguments': 'id', 'name': ''}, 'type': 'function'}]} response_metadata={} id='run-e49ed137-515e-4a00-9f76-6f9d560f8d2d' invalid_tool_calls=[{'name': '', 'args': 'id', 'id': None, 'error': None, 'type': 'invalid_tool_call'}] tool_call_chunks=[{'name': '', 'args': 'id', 'id': None, 'index': 0, 'type': 'tool_call_chunk'}]\n",
      "content='' additional_kwargs={'tool_calls': [{'index': 0, 'id': None, 'function': {'arguments': '\":', 'name': ''}, 'type': 'function'}]} response_metadata={} id='run-e49ed137-515e-4a00-9f76-6f9d560f8d2d' invalid_tool_calls=[{'name': '', 'args': '\":', 'id': None, 'error': None, 'type': 'invalid_tool_call'}] tool_call_chunks=[{'name': '', 'args': '\":', 'id': None, 'index': 0, 'type': 'tool_call_chunk'}]\n",
      "content='' additional_kwargs={'tool_calls': [{'index': 0, 'id': None, 'function': {'arguments': ' \"', 'name': ''}, 'type': 'function'}]} response_metadata={} id='run-e49ed137-515e-4a00-9f76-6f9d560f8d2d' invalid_tool_calls=[{'name': '', 'args': ' \"', 'id': None, 'error': None, 'type': 'invalid_tool_call'}] tool_call_chunks=[{'name': '', 'args': ' \"', 'id': None, 'index': 0, 'type': 'tool_call_chunk'}]\n",
      "content='' additional_kwargs={'tool_calls': [{'index': 0, 'id': None, 'function': {'arguments': 'da', 'name': ''}, 'type': 'function'}]} response_metadata={} id='run-e49ed137-515e-4a00-9f76-6f9d560f8d2d' invalid_tool_calls=[{'name': '', 'args': 'da', 'id': None, 'error': None, 'type': 'invalid_tool_call'}] tool_call_chunks=[{'name': '', 'args': 'da', 'id': None, 'index': 0, 'type': 'tool_call_chunk'}]\n",
      "content='' additional_kwargs={'tool_calls': [{'index': 0, 'id': None, 'function': {'arguments': '3', 'name': ''}, 'type': 'function'}]} response_metadata={} id='run-e49ed137-515e-4a00-9f76-6f9d560f8d2d' invalid_tool_calls=[{'name': '', 'args': '3', 'id': None, 'error': None, 'type': 'invalid_tool_call'}] tool_call_chunks=[{'name': '', 'args': '3', 'id': None, 'index': 0, 'type': 'tool_call_chunk'}]\n",
      "content='' additional_kwargs={'tool_calls': [{'index': 0, 'id': None, 'function': {'arguments': 'e', 'name': ''}, 'type': 'function'}]} response_metadata={} id='run-e49ed137-515e-4a00-9f76-6f9d560f8d2d' invalid_tool_calls=[{'name': '', 'args': 'e', 'id': None, 'error': None, 'type': 'invalid_tool_call'}] tool_call_chunks=[{'name': '', 'args': 'e', 'id': None, 'index': 0, 'type': 'tool_call_chunk'}]\n",
      "content='' additional_kwargs={'tool_calls': [{'index': 0, 'id': None, 'function': {'arguments': '9', 'name': ''}, 'type': 'function'}]} response_metadata={} id='run-e49ed137-515e-4a00-9f76-6f9d560f8d2d' invalid_tool_calls=[{'name': '', 'args': '9', 'id': None, 'error': None, 'type': 'invalid_tool_call'}] tool_call_chunks=[{'name': '', 'args': '9', 'id': None, 'index': 0, 'type': 'tool_call_chunk'}]\n",
      "content='' additional_kwargs={'tool_calls': [{'index': 0, 'id': None, 'function': {'arguments': '1', 'name': ''}, 'type': 'function'}]} response_metadata={} id='run-e49ed137-515e-4a00-9f76-6f9d560f8d2d' invalid_tool_calls=[{'name': '', 'args': '1', 'id': None, 'error': None, 'type': 'invalid_tool_call'}] tool_call_chunks=[{'name': '', 'args': '1', 'id': None, 'index': 0, 'type': 'tool_call_chunk'}]\n",
      "content='' additional_kwargs={'tool_calls': [{'index': 0, 'id': None, 'function': {'arguments': 'fb', 'name': ''}, 'type': 'function'}]} response_metadata={} id='run-e49ed137-515e-4a00-9f76-6f9d560f8d2d' invalid_tool_calls=[{'name': '', 'args': 'fb', 'id': None, 'error': None, 'type': 'invalid_tool_call'}] tool_call_chunks=[{'name': '', 'args': 'fb', 'id': None, 'index': 0, 'type': 'tool_call_chunk'}]\n",
      "content='' additional_kwargs={'tool_calls': [{'index': 0, 'id': None, 'function': {'arguments': '-', 'name': ''}, 'type': 'function'}]} response_metadata={} id='run-e49ed137-515e-4a00-9f76-6f9d560f8d2d' invalid_tool_calls=[{'name': '', 'args': '-', 'id': None, 'error': None, 'type': 'invalid_tool_call'}] tool_call_chunks=[{'name': '', 'args': '-', 'id': None, 'index': 0, 'type': 'tool_call_chunk'}]\n",
      "content='' additional_kwargs={'tool_calls': [{'index': 0, 'id': None, 'function': {'arguments': '4', 'name': ''}, 'type': 'function'}]} response_metadata={} id='run-e49ed137-515e-4a00-9f76-6f9d560f8d2d' invalid_tool_calls=[{'name': '', 'args': '4', 'id': None, 'error': None, 'type': 'invalid_tool_call'}] tool_call_chunks=[{'name': '', 'args': '4', 'id': None, 'index': 0, 'type': 'tool_call_chunk'}]\n",
      "content='' additional_kwargs={'tool_calls': [{'index': 0, 'id': None, 'function': {'arguments': 'c', 'name': ''}, 'type': 'function'}]} response_metadata={} id='run-e49ed137-515e-4a00-9f76-6f9d560f8d2d' invalid_tool_calls=[{'name': '', 'args': 'c', 'id': None, 'error': None, 'type': 'invalid_tool_call'}] tool_call_chunks=[{'name': '', 'args': 'c', 'id': None, 'index': 0, 'type': 'tool_call_chunk'}]\n",
      "content='' additional_kwargs={'tool_calls': [{'index': 0, 'id': None, 'function': {'arguments': '3', 'name': ''}, 'type': 'function'}]} response_metadata={} id='run-e49ed137-515e-4a00-9f76-6f9d560f8d2d' invalid_tool_calls=[{'name': '', 'args': '3', 'id': None, 'error': None, 'type': 'invalid_tool_call'}] tool_call_chunks=[{'name': '', 'args': '3', 'id': None, 'index': 0, 'type': 'tool_call_chunk'}]\n",
      "content='' additional_kwargs={'tool_calls': [{'index': 0, 'id': None, 'function': {'arguments': 'b', 'name': ''}, 'type': 'function'}]} response_metadata={} id='run-e49ed137-515e-4a00-9f76-6f9d560f8d2d' invalid_tool_calls=[{'name': '', 'args': 'b', 'id': None, 'error': None, 'type': 'invalid_tool_call'}] tool_call_chunks=[{'name': '', 'args': 'b', 'id': None, 'index': 0, 'type': 'tool_call_chunk'}]\n",
      "content='' additional_kwargs={'tool_calls': [{'index': 0, 'id': None, 'function': {'arguments': '-', 'name': ''}, 'type': 'function'}]} response_metadata={} id='run-e49ed137-515e-4a00-9f76-6f9d560f8d2d' invalid_tool_calls=[{'name': '', 'args': '-', 'id': None, 'error': None, 'type': 'invalid_tool_call'}] tool_call_chunks=[{'name': '', 'args': '-', 'id': None, 'index': 0, 'type': 'tool_call_chunk'}]\n",
      "content='' additional_kwargs={'tool_calls': [{'index': 0, 'id': None, 'function': {'arguments': '4', 'name': ''}, 'type': 'function'}]} response_metadata={} id='run-e49ed137-515e-4a00-9f76-6f9d560f8d2d' invalid_tool_calls=[{'name': '', 'args': '4', 'id': None, 'error': None, 'type': 'invalid_tool_call'}] tool_call_chunks=[{'name': '', 'args': '4', 'id': None, 'index': 0, 'type': 'tool_call_chunk'}]\n",
      "content='' additional_kwargs={'tool_calls': [{'index': 0, 'id': None, 'function': {'arguments': 'c', 'name': ''}, 'type': 'function'}]} response_metadata={} id='run-e49ed137-515e-4a00-9f76-6f9d560f8d2d' invalid_tool_calls=[{'name': '', 'args': 'c', 'id': None, 'error': None, 'type': 'invalid_tool_call'}] tool_call_chunks=[{'name': '', 'args': 'c', 'id': None, 'index': 0, 'type': 'tool_call_chunk'}]\n",
      "content='' additional_kwargs={'tool_calls': [{'index': 0, 'id': None, 'function': {'arguments': '8', 'name': ''}, 'type': 'function'}]} response_metadata={} id='run-e49ed137-515e-4a00-9f76-6f9d560f8d2d' invalid_tool_calls=[{'name': '', 'args': '8', 'id': None, 'error': None, 'type': 'invalid_tool_call'}] tool_call_chunks=[{'name': '', 'args': '8', 'id': None, 'index': 0, 'type': 'tool_call_chunk'}]\n",
      "content='' additional_kwargs={'tool_calls': [{'index': 0, 'id': None, 'function': {'arguments': '2', 'name': ''}, 'type': 'function'}]} response_metadata={} id='run-e49ed137-515e-4a00-9f76-6f9d560f8d2d' invalid_tool_calls=[{'name': '', 'args': '2', 'id': None, 'error': None, 'type': 'invalid_tool_call'}] tool_call_chunks=[{'name': '', 'args': '2', 'id': None, 'index': 0, 'type': 'tool_call_chunk'}]\n",
      "content='' additional_kwargs={'tool_calls': [{'index': 0, 'id': None, 'function': {'arguments': '-', 'name': ''}, 'type': 'function'}]} response_metadata={} id='run-e49ed137-515e-4a00-9f76-6f9d560f8d2d' invalid_tool_calls=[{'name': '', 'args': '-', 'id': None, 'error': None, 'type': 'invalid_tool_call'}] tool_call_chunks=[{'name': '', 'args': '-', 'id': None, 'index': 0, 'type': 'tool_call_chunk'}]\n",
      "content='' additional_kwargs={'tool_calls': [{'index': 0, 'id': None, 'function': {'arguments': 'b', 'name': ''}, 'type': 'function'}]} response_metadata={} id='run-e49ed137-515e-4a00-9f76-6f9d560f8d2d' invalid_tool_calls=[{'name': '', 'args': 'b', 'id': None, 'error': None, 'type': 'invalid_tool_call'}] tool_call_chunks=[{'name': '', 'args': 'b', 'id': None, 'index': 0, 'type': 'tool_call_chunk'}]\n",
      "content='' additional_kwargs={'tool_calls': [{'index': 0, 'id': None, 'function': {'arguments': '4', 'name': ''}, 'type': 'function'}]} response_metadata={} id='run-e49ed137-515e-4a00-9f76-6f9d560f8d2d' invalid_tool_calls=[{'name': '', 'args': '4', 'id': None, 'error': None, 'type': 'invalid_tool_call'}] tool_call_chunks=[{'name': '', 'args': '4', 'id': None, 'index': 0, 'type': 'tool_call_chunk'}]\n",
      "content='' additional_kwargs={'tool_calls': [{'index': 0, 'id': None, 'function': {'arguments': '7', 'name': ''}, 'type': 'function'}]} response_metadata={} id='run-e49ed137-515e-4a00-9f76-6f9d560f8d2d' invalid_tool_calls=[{'name': '', 'args': '7', 'id': None, 'error': None, 'type': 'invalid_tool_call'}] tool_call_chunks=[{'name': '', 'args': '7', 'id': None, 'index': 0, 'type': 'tool_call_chunk'}]\n",
      "content='' additional_kwargs={'tool_calls': [{'index': 0, 'id': None, 'function': {'arguments': '1', 'name': ''}, 'type': 'function'}]} response_metadata={} id='run-e49ed137-515e-4a00-9f76-6f9d560f8d2d' invalid_tool_calls=[{'name': '', 'args': '1', 'id': None, 'error': None, 'type': 'invalid_tool_call'}] tool_call_chunks=[{'name': '', 'args': '1', 'id': None, 'index': 0, 'type': 'tool_call_chunk'}]\n",
      "content='' additional_kwargs={'tool_calls': [{'index': 0, 'id': None, 'function': {'arguments': '-', 'name': ''}, 'type': 'function'}]} response_metadata={} id='run-e49ed137-515e-4a00-9f76-6f9d560f8d2d' invalid_tool_calls=[{'name': '', 'args': '-', 'id': None, 'error': None, 'type': 'invalid_tool_call'}] tool_call_chunks=[{'name': '', 'args': '-', 'id': None, 'index': 0, 'type': 'tool_call_chunk'}]\n",
      "content='' additional_kwargs={'tool_calls': [{'index': 0, 'id': None, 'function': {'arguments': 'da', 'name': ''}, 'type': 'function'}]} response_metadata={} id='run-e49ed137-515e-4a00-9f76-6f9d560f8d2d' invalid_tool_calls=[{'name': '', 'args': 'da', 'id': None, 'error': None, 'type': 'invalid_tool_call'}] tool_call_chunks=[{'name': '', 'args': 'da', 'id': None, 'index': 0, 'type': 'tool_call_chunk'}]\n",
      "content='' additional_kwargs={'tool_calls': [{'index': 0, 'id': None, 'function': {'arguments': '2', 'name': ''}, 'type': 'function'}]} response_metadata={} id='run-e49ed137-515e-4a00-9f76-6f9d560f8d2d' invalid_tool_calls=[{'name': '', 'args': '2', 'id': None, 'error': None, 'type': 'invalid_tool_call'}] tool_call_chunks=[{'name': '', 'args': '2', 'id': None, 'index': 0, 'type': 'tool_call_chunk'}]\n",
      "content='' additional_kwargs={'tool_calls': [{'index': 0, 'id': None, 'function': {'arguments': '3', 'name': ''}, 'type': 'function'}]} response_metadata={} id='run-e49ed137-515e-4a00-9f76-6f9d560f8d2d' invalid_tool_calls=[{'name': '', 'args': '3', 'id': None, 'error': None, 'type': 'invalid_tool_call'}] tool_call_chunks=[{'name': '', 'args': '3', 'id': None, 'index': 0, 'type': 'tool_call_chunk'}]\n",
      "content='' additional_kwargs={'tool_calls': [{'index': 0, 'id': None, 'function': {'arguments': '3', 'name': ''}, 'type': 'function'}]} response_metadata={} id='run-e49ed137-515e-4a00-9f76-6f9d560f8d2d' invalid_tool_calls=[{'name': '', 'args': '3', 'id': None, 'error': None, 'type': 'invalid_tool_call'}] tool_call_chunks=[{'name': '', 'args': '3', 'id': None, 'index': 0, 'type': 'tool_call_chunk'}]\n",
      "content='' additional_kwargs={'tool_calls': [{'index': 0, 'id': None, 'function': {'arguments': 'a', 'name': ''}, 'type': 'function'}]} response_metadata={} id='run-e49ed137-515e-4a00-9f76-6f9d560f8d2d' invalid_tool_calls=[{'name': '', 'args': 'a', 'id': None, 'error': None, 'type': 'invalid_tool_call'}] tool_call_chunks=[{'name': '', 'args': 'a', 'id': None, 'index': 0, 'type': 'tool_call_chunk'}]\n",
      "content='' additional_kwargs={'tool_calls': [{'index': 0, 'id': None, 'function': {'arguments': 'abc', 'name': ''}, 'type': 'function'}]} response_metadata={} id='run-e49ed137-515e-4a00-9f76-6f9d560f8d2d' invalid_tool_calls=[{'name': '', 'args': 'abc', 'id': None, 'error': None, 'type': 'invalid_tool_call'}] tool_call_chunks=[{'name': '', 'args': 'abc', 'id': None, 'index': 0, 'type': 'tool_call_chunk'}]\n",
      "content='' additional_kwargs={'tool_calls': [{'index': 0, 'id': None, 'function': {'arguments': '2', 'name': ''}, 'type': 'function'}]} response_metadata={} id='run-e49ed137-515e-4a00-9f76-6f9d560f8d2d' invalid_tool_calls=[{'name': '', 'args': '2', 'id': None, 'error': None, 'type': 'invalid_tool_call'}] tool_call_chunks=[{'name': '', 'args': '2', 'id': None, 'index': 0, 'type': 'tool_call_chunk'}]\n",
      "content='' additional_kwargs={'tool_calls': [{'index': 0, 'id': None, 'function': {'arguments': '7', 'name': ''}, 'type': 'function'}]} response_metadata={} id='run-e49ed137-515e-4a00-9f76-6f9d560f8d2d' invalid_tool_calls=[{'name': '', 'args': '7', 'id': None, 'error': None, 'type': 'invalid_tool_call'}] tool_call_chunks=[{'name': '', 'args': '7', 'id': None, 'index': 0, 'type': 'tool_call_chunk'}]\n",
      "content='' additional_kwargs={'tool_calls': [{'index': 0, 'id': None, 'function': {'arguments': 'c', 'name': ''}, 'type': 'function'}]} response_metadata={} id='run-e49ed137-515e-4a00-9f76-6f9d560f8d2d' invalid_tool_calls=[{'name': '', 'args': 'c', 'id': None, 'error': None, 'type': 'invalid_tool_call'}] tool_call_chunks=[{'name': '', 'args': 'c', 'id': None, 'index': 0, 'type': 'tool_call_chunk'}]\n",
      "content='' additional_kwargs={'tool_calls': [{'index': 0, 'id': None, 'function': {'arguments': '\"}', 'name': ''}, 'type': 'function'}]} response_metadata={} id='run-e49ed137-515e-4a00-9f76-6f9d560f8d2d' invalid_tool_calls=[{'name': '', 'args': '\"}', 'id': None, 'error': None, 'type': 'invalid_tool_call'}] tool_call_chunks=[{'name': '', 'args': '\"}', 'id': None, 'index': 0, 'type': 'tool_call_chunk'}]\n",
      "content='' additional_kwargs={} response_metadata={'finish_reason': 'stop', 'model_name': 'gemma-3-4b-it', 'system_fingerprint': 'gemma-3-4b-it'} id='run-e49ed137-515e-4a00-9f76-6f9d560f8d2d'\n",
      "content='Stored memory da3e91fb-4c3b-4c82-b471-da233aabc27c' name='upsert_memory' id='0b8b678e-2253-4d11-b587-4bdd4a81a96c' tool_call_id='252143785'\n",
      "content='' additional_kwargs={'tool_calls': [{'index': 0, 'id': '448478058', 'function': {'arguments': '', 'name': 'upsert_memory'}, 'type': 'function'}]} response_metadata={} id='run-21229c19-7a9e-4cda-a91f-2e419fa40c4c' tool_calls=[{'name': 'upsert_memory', 'args': {}, 'id': '448478058', 'type': 'tool_call'}] tool_call_chunks=[{'name': 'upsert_memory', 'args': '', 'id': '448478058', 'index': 0, 'type': 'tool_call_chunk'}]\n",
      "content='' additional_kwargs={'tool_calls': [{'index': 0, 'id': None, 'function': {'arguments': '{\"', 'name': ''}, 'type': 'function'}]} response_metadata={} id='run-21229c19-7a9e-4cda-a91f-2e419fa40c4c' tool_calls=[{'name': '', 'args': {}, 'id': None, 'type': 'tool_call'}] tool_call_chunks=[{'name': '', 'args': '{\"', 'id': None, 'index': 0, 'type': 'tool_call_chunk'}]\n",
      "content='' additional_kwargs={'tool_calls': [{'index': 0, 'id': None, 'function': {'arguments': 'content', 'name': ''}, 'type': 'function'}]} response_metadata={} id='run-21229c19-7a9e-4cda-a91f-2e419fa40c4c' invalid_tool_calls=[{'name': '', 'args': 'content', 'id': None, 'error': None, 'type': 'invalid_tool_call'}] tool_call_chunks=[{'name': '', 'args': 'content', 'id': None, 'index': 0, 'type': 'tool_call_chunk'}]\n",
      "content='' additional_kwargs={'tool_calls': [{'index': 0, 'id': None, 'function': {'arguments': '\":', 'name': ''}, 'type': 'function'}]} response_metadata={} id='run-21229c19-7a9e-4cda-a91f-2e419fa40c4c' invalid_tool_calls=[{'name': '', 'args': '\":', 'id': None, 'error': None, 'type': 'invalid_tool_call'}] tool_call_chunks=[{'name': '', 'args': '\":', 'id': None, 'index': 0, 'type': 'tool_call_chunk'}]\n",
      "content='' additional_kwargs={'tool_calls': [{'index': 0, 'id': None, 'function': {'arguments': ' \"', 'name': ''}, 'type': 'function'}]} response_metadata={} id='run-21229c19-7a9e-4cda-a91f-2e419fa40c4c' invalid_tool_calls=[{'name': '', 'args': ' \"', 'id': None, 'error': None, 'type': 'invalid_tool_call'}] tool_call_chunks=[{'name': '', 'args': ' \"', 'id': None, 'index': 0, 'type': 'tool_call_chunk'}]\n",
      "content='' additional_kwargs={'tool_calls': [{'index': 0, 'id': None, 'function': {'arguments': 'I', 'name': ''}, 'type': 'function'}]} response_metadata={} id='run-21229c19-7a9e-4cda-a91f-2e419fa40c4c' invalid_tool_calls=[{'name': '', 'args': 'I', 'id': None, 'error': None, 'type': 'invalid_tool_call'}] tool_call_chunks=[{'name': '', 'args': 'I', 'id': None, 'index': 0, 'type': 'tool_call_chunk'}]\n",
      "content='' additional_kwargs={'tool_calls': [{'index': 0, 'id': None, 'function': {'arguments': \"'\", 'name': ''}, 'type': 'function'}]} response_metadata={} id='run-21229c19-7a9e-4cda-a91f-2e419fa40c4c' invalid_tool_calls=[{'name': '', 'args': \"'\", 'id': None, 'error': None, 'type': 'invalid_tool_call'}] tool_call_chunks=[{'name': '', 'args': \"'\", 'id': None, 'index': 0, 'type': 'tool_call_chunk'}]\n",
      "content='' additional_kwargs={'tool_calls': [{'index': 0, 'id': None, 'function': {'arguments': 'm', 'name': ''}, 'type': 'function'}]} response_metadata={} id='run-21229c19-7a9e-4cda-a91f-2e419fa40c4c' invalid_tool_calls=[{'name': '', 'args': 'm', 'id': None, 'error': None, 'type': 'invalid_tool_call'}] tool_call_chunks=[{'name': '', 'args': 'm', 'id': None, 'index': 0, 'type': 'tool_call_chunk'}]\n",
      "content='' additional_kwargs={'tool_calls': [{'index': 0, 'id': None, 'function': {'arguments': ' hungry', 'name': ''}, 'type': 'function'}]} response_metadata={} id='run-21229c19-7a9e-4cda-a91f-2e419fa40c4c' invalid_tool_calls=[{'name': '', 'args': ' hungry', 'id': None, 'error': None, 'type': 'invalid_tool_call'}] tool_call_chunks=[{'name': '', 'args': ' hungry', 'id': None, 'index': 0, 'type': 'tool_call_chunk'}]\n",
      "content='' additional_kwargs={'tool_calls': [{'index': 0, 'id': None, 'function': {'arguments': '\",', 'name': ''}, 'type': 'function'}]} response_metadata={} id='run-21229c19-7a9e-4cda-a91f-2e419fa40c4c' invalid_tool_calls=[{'name': '', 'args': '\",', 'id': None, 'error': None, 'type': 'invalid_tool_call'}] tool_call_chunks=[{'name': '', 'args': '\",', 'id': None, 'index': 0, 'type': 'tool_call_chunk'}]\n",
      "content='' additional_kwargs={'tool_calls': [{'index': 0, 'id': None, 'function': {'arguments': '\\n', 'name': ''}, 'type': 'function'}]} response_metadata={} id='run-21229c19-7a9e-4cda-a91f-2e419fa40c4c' invalid_tool_calls=[{'name': '', 'args': '\\n', 'id': None, 'error': None, 'type': 'invalid_tool_call'}] tool_call_chunks=[{'name': '', 'args': '\\n', 'id': None, 'index': 0, 'type': 'tool_call_chunk'}]\n",
      "content='' additional_kwargs={'tool_calls': [{'index': 0, 'id': None, 'function': {'arguments': '\"', 'name': ''}, 'type': 'function'}]} response_metadata={} id='run-21229c19-7a9e-4cda-a91f-2e419fa40c4c' invalid_tool_calls=[{'name': '', 'args': '\"', 'id': None, 'error': None, 'type': 'invalid_tool_call'}] tool_call_chunks=[{'name': '', 'args': '\"', 'id': None, 'index': 0, 'type': 'tool_call_chunk'}]\n",
      "content='' additional_kwargs={'tool_calls': [{'index': 0, 'id': None, 'function': {'arguments': 'memory', 'name': ''}, 'type': 'function'}]} response_metadata={} id='run-21229c19-7a9e-4cda-a91f-2e419fa40c4c' invalid_tool_calls=[{'name': '', 'args': 'memory', 'id': None, 'error': None, 'type': 'invalid_tool_call'}] tool_call_chunks=[{'name': '', 'args': 'memory', 'id': None, 'index': 0, 'type': 'tool_call_chunk'}]\n",
      "content='' additional_kwargs={'tool_calls': [{'index': 0, 'id': None, 'function': {'arguments': '_', 'name': ''}, 'type': 'function'}]} response_metadata={} id='run-21229c19-7a9e-4cda-a91f-2e419fa40c4c' invalid_tool_calls=[{'name': '', 'args': '_', 'id': None, 'error': None, 'type': 'invalid_tool_call'}] tool_call_chunks=[{'name': '', 'args': '_', 'id': None, 'index': 0, 'type': 'tool_call_chunk'}]\n",
      "content='' additional_kwargs={'tool_calls': [{'index': 0, 'id': None, 'function': {'arguments': 'id', 'name': ''}, 'type': 'function'}]} response_metadata={} id='run-21229c19-7a9e-4cda-a91f-2e419fa40c4c' invalid_tool_calls=[{'name': '', 'args': 'id', 'id': None, 'error': None, 'type': 'invalid_tool_call'}] tool_call_chunks=[{'name': '', 'args': 'id', 'id': None, 'index': 0, 'type': 'tool_call_chunk'}]\n",
      "content='' additional_kwargs={'tool_calls': [{'index': 0, 'id': None, 'function': {'arguments': '\":', 'name': ''}, 'type': 'function'}]} response_metadata={} id='run-21229c19-7a9e-4cda-a91f-2e419fa40c4c' invalid_tool_calls=[{'name': '', 'args': '\":', 'id': None, 'error': None, 'type': 'invalid_tool_call'}] tool_call_chunks=[{'name': '', 'args': '\":', 'id': None, 'index': 0, 'type': 'tool_call_chunk'}]\n",
      "content='' additional_kwargs={'tool_calls': [{'index': 0, 'id': None, 'function': {'arguments': ' \"', 'name': ''}, 'type': 'function'}]} response_metadata={} id='run-21229c19-7a9e-4cda-a91f-2e419fa40c4c' invalid_tool_calls=[{'name': '', 'args': ' \"', 'id': None, 'error': None, 'type': 'invalid_tool_call'}] tool_call_chunks=[{'name': '', 'args': ' \"', 'id': None, 'index': 0, 'type': 'tool_call_chunk'}]\n",
      "content='' additional_kwargs={'tool_calls': [{'index': 0, 'id': None, 'function': {'arguments': 'da', 'name': ''}, 'type': 'function'}]} response_metadata={} id='run-21229c19-7a9e-4cda-a91f-2e419fa40c4c' invalid_tool_calls=[{'name': '', 'args': 'da', 'id': None, 'error': None, 'type': 'invalid_tool_call'}] tool_call_chunks=[{'name': '', 'args': 'da', 'id': None, 'index': 0, 'type': 'tool_call_chunk'}]\n",
      "content='' additional_kwargs={'tool_calls': [{'index': 0, 'id': None, 'function': {'arguments': '3', 'name': ''}, 'type': 'function'}]} response_metadata={} id='run-21229c19-7a9e-4cda-a91f-2e419fa40c4c' invalid_tool_calls=[{'name': '', 'args': '3', 'id': None, 'error': None, 'type': 'invalid_tool_call'}] tool_call_chunks=[{'name': '', 'args': '3', 'id': None, 'index': 0, 'type': 'tool_call_chunk'}]\n",
      "content='' additional_kwargs={'tool_calls': [{'index': 0, 'id': None, 'function': {'arguments': 'e', 'name': ''}, 'type': 'function'}]} response_metadata={} id='run-21229c19-7a9e-4cda-a91f-2e419fa40c4c' invalid_tool_calls=[{'name': '', 'args': 'e', 'id': None, 'error': None, 'type': 'invalid_tool_call'}] tool_call_chunks=[{'name': '', 'args': 'e', 'id': None, 'index': 0, 'type': 'tool_call_chunk'}]\n",
      "content='' additional_kwargs={'tool_calls': [{'index': 0, 'id': None, 'function': {'arguments': '9', 'name': ''}, 'type': 'function'}]} response_metadata={} id='run-21229c19-7a9e-4cda-a91f-2e419fa40c4c' invalid_tool_calls=[{'name': '', 'args': '9', 'id': None, 'error': None, 'type': 'invalid_tool_call'}] tool_call_chunks=[{'name': '', 'args': '9', 'id': None, 'index': 0, 'type': 'tool_call_chunk'}]\n",
      "content='' additional_kwargs={'tool_calls': [{'index': 0, 'id': None, 'function': {'arguments': '1', 'name': ''}, 'type': 'function'}]} response_metadata={} id='run-21229c19-7a9e-4cda-a91f-2e419fa40c4c' invalid_tool_calls=[{'name': '', 'args': '1', 'id': None, 'error': None, 'type': 'invalid_tool_call'}] tool_call_chunks=[{'name': '', 'args': '1', 'id': None, 'index': 0, 'type': 'tool_call_chunk'}]\n",
      "content='' additional_kwargs={'tool_calls': [{'index': 0, 'id': None, 'function': {'arguments': 'fb', 'name': ''}, 'type': 'function'}]} response_metadata={} id='run-21229c19-7a9e-4cda-a91f-2e419fa40c4c' invalid_tool_calls=[{'name': '', 'args': 'fb', 'id': None, 'error': None, 'type': 'invalid_tool_call'}] tool_call_chunks=[{'name': '', 'args': 'fb', 'id': None, 'index': 0, 'type': 'tool_call_chunk'}]\n",
      "content='' additional_kwargs={'tool_calls': [{'index': 0, 'id': None, 'function': {'arguments': '-', 'name': ''}, 'type': 'function'}]} response_metadata={} id='run-21229c19-7a9e-4cda-a91f-2e419fa40c4c' invalid_tool_calls=[{'name': '', 'args': '-', 'id': None, 'error': None, 'type': 'invalid_tool_call'}] tool_call_chunks=[{'name': '', 'args': '-', 'id': None, 'index': 0, 'type': 'tool_call_chunk'}]\n",
      "content='' additional_kwargs={'tool_calls': [{'index': 0, 'id': None, 'function': {'arguments': '4', 'name': ''}, 'type': 'function'}]} response_metadata={} id='run-21229c19-7a9e-4cda-a91f-2e419fa40c4c' invalid_tool_calls=[{'name': '', 'args': '4', 'id': None, 'error': None, 'type': 'invalid_tool_call'}] tool_call_chunks=[{'name': '', 'args': '4', 'id': None, 'index': 0, 'type': 'tool_call_chunk'}]\n",
      "content='' additional_kwargs={'tool_calls': [{'index': 0, 'id': None, 'function': {'arguments': 'c', 'name': ''}, 'type': 'function'}]} response_metadata={} id='run-21229c19-7a9e-4cda-a91f-2e419fa40c4c' invalid_tool_calls=[{'name': '', 'args': 'c', 'id': None, 'error': None, 'type': 'invalid_tool_call'}] tool_call_chunks=[{'name': '', 'args': 'c', 'id': None, 'index': 0, 'type': 'tool_call_chunk'}]\n",
      "content='' additional_kwargs={'tool_calls': [{'index': 0, 'id': None, 'function': {'arguments': '3', 'name': ''}, 'type': 'function'}]} response_metadata={} id='run-21229c19-7a9e-4cda-a91f-2e419fa40c4c' invalid_tool_calls=[{'name': '', 'args': '3', 'id': None, 'error': None, 'type': 'invalid_tool_call'}] tool_call_chunks=[{'name': '', 'args': '3', 'id': None, 'index': 0, 'type': 'tool_call_chunk'}]\n",
      "content='' additional_kwargs={'tool_calls': [{'index': 0, 'id': None, 'function': {'arguments': 'b', 'name': ''}, 'type': 'function'}]} response_metadata={} id='run-21229c19-7a9e-4cda-a91f-2e419fa40c4c' invalid_tool_calls=[{'name': '', 'args': 'b', 'id': None, 'error': None, 'type': 'invalid_tool_call'}] tool_call_chunks=[{'name': '', 'args': 'b', 'id': None, 'index': 0, 'type': 'tool_call_chunk'}]\n",
      "content='' additional_kwargs={'tool_calls': [{'index': 0, 'id': None, 'function': {'arguments': '-', 'name': ''}, 'type': 'function'}]} response_metadata={} id='run-21229c19-7a9e-4cda-a91f-2e419fa40c4c' invalid_tool_calls=[{'name': '', 'args': '-', 'id': None, 'error': None, 'type': 'invalid_tool_call'}] tool_call_chunks=[{'name': '', 'args': '-', 'id': None, 'index': 0, 'type': 'tool_call_chunk'}]\n",
      "content='' additional_kwargs={'tool_calls': [{'index': 0, 'id': None, 'function': {'arguments': '4', 'name': ''}, 'type': 'function'}]} response_metadata={} id='run-21229c19-7a9e-4cda-a91f-2e419fa40c4c' invalid_tool_calls=[{'name': '', 'args': '4', 'id': None, 'error': None, 'type': 'invalid_tool_call'}] tool_call_chunks=[{'name': '', 'args': '4', 'id': None, 'index': 0, 'type': 'tool_call_chunk'}]\n",
      "content='' additional_kwargs={'tool_calls': [{'index': 0, 'id': None, 'function': {'arguments': 'c', 'name': ''}, 'type': 'function'}]} response_metadata={} id='run-21229c19-7a9e-4cda-a91f-2e419fa40c4c' invalid_tool_calls=[{'name': '', 'args': 'c', 'id': None, 'error': None, 'type': 'invalid_tool_call'}] tool_call_chunks=[{'name': '', 'args': 'c', 'id': None, 'index': 0, 'type': 'tool_call_chunk'}]\n",
      "content='' additional_kwargs={'tool_calls': [{'index': 0, 'id': None, 'function': {'arguments': '8', 'name': ''}, 'type': 'function'}]} response_metadata={} id='run-21229c19-7a9e-4cda-a91f-2e419fa40c4c' invalid_tool_calls=[{'name': '', 'args': '8', 'id': None, 'error': None, 'type': 'invalid_tool_call'}] tool_call_chunks=[{'name': '', 'args': '8', 'id': None, 'index': 0, 'type': 'tool_call_chunk'}]\n",
      "content='' additional_kwargs={'tool_calls': [{'index': 0, 'id': None, 'function': {'arguments': '2', 'name': ''}, 'type': 'function'}]} response_metadata={} id='run-21229c19-7a9e-4cda-a91f-2e419fa40c4c' invalid_tool_calls=[{'name': '', 'args': '2', 'id': None, 'error': None, 'type': 'invalid_tool_call'}] tool_call_chunks=[{'name': '', 'args': '2', 'id': None, 'index': 0, 'type': 'tool_call_chunk'}]\n",
      "content='' additional_kwargs={'tool_calls': [{'index': 0, 'id': None, 'function': {'arguments': '-', 'name': ''}, 'type': 'function'}]} response_metadata={} id='run-21229c19-7a9e-4cda-a91f-2e419fa40c4c' invalid_tool_calls=[{'name': '', 'args': '-', 'id': None, 'error': None, 'type': 'invalid_tool_call'}] tool_call_chunks=[{'name': '', 'args': '-', 'id': None, 'index': 0, 'type': 'tool_call_chunk'}]\n",
      "content='' additional_kwargs={'tool_calls': [{'index': 0, 'id': None, 'function': {'arguments': 'b', 'name': ''}, 'type': 'function'}]} response_metadata={} id='run-21229c19-7a9e-4cda-a91f-2e419fa40c4c' invalid_tool_calls=[{'name': '', 'args': 'b', 'id': None, 'error': None, 'type': 'invalid_tool_call'}] tool_call_chunks=[{'name': '', 'args': 'b', 'id': None, 'index': 0, 'type': 'tool_call_chunk'}]\n",
      "content='' additional_kwargs={'tool_calls': [{'index': 0, 'id': None, 'function': {'arguments': '4', 'name': ''}, 'type': 'function'}]} response_metadata={} id='run-21229c19-7a9e-4cda-a91f-2e419fa40c4c' invalid_tool_calls=[{'name': '', 'args': '4', 'id': None, 'error': None, 'type': 'invalid_tool_call'}] tool_call_chunks=[{'name': '', 'args': '4', 'id': None, 'index': 0, 'type': 'tool_call_chunk'}]\n",
      "content='' additional_kwargs={'tool_calls': [{'index': 0, 'id': None, 'function': {'arguments': '7', 'name': ''}, 'type': 'function'}]} response_metadata={} id='run-21229c19-7a9e-4cda-a91f-2e419fa40c4c' invalid_tool_calls=[{'name': '', 'args': '7', 'id': None, 'error': None, 'type': 'invalid_tool_call'}] tool_call_chunks=[{'name': '', 'args': '7', 'id': None, 'index': 0, 'type': 'tool_call_chunk'}]\n",
      "content='' additional_kwargs={'tool_calls': [{'index': 0, 'id': None, 'function': {'arguments': '1', 'name': ''}, 'type': 'function'}]} response_metadata={} id='run-21229c19-7a9e-4cda-a91f-2e419fa40c4c' invalid_tool_calls=[{'name': '', 'args': '1', 'id': None, 'error': None, 'type': 'invalid_tool_call'}] tool_call_chunks=[{'name': '', 'args': '1', 'id': None, 'index': 0, 'type': 'tool_call_chunk'}]\n",
      "content='' additional_kwargs={'tool_calls': [{'index': 0, 'id': None, 'function': {'arguments': '-', 'name': ''}, 'type': 'function'}]} response_metadata={} id='run-21229c19-7a9e-4cda-a91f-2e419fa40c4c' invalid_tool_calls=[{'name': '', 'args': '-', 'id': None, 'error': None, 'type': 'invalid_tool_call'}] tool_call_chunks=[{'name': '', 'args': '-', 'id': None, 'index': 0, 'type': 'tool_call_chunk'}]\n",
      "content='' additional_kwargs={'tool_calls': [{'index': 0, 'id': None, 'function': {'arguments': 'da', 'name': ''}, 'type': 'function'}]} response_metadata={} id='run-21229c19-7a9e-4cda-a91f-2e419fa40c4c' invalid_tool_calls=[{'name': '', 'args': 'da', 'id': None, 'error': None, 'type': 'invalid_tool_call'}] tool_call_chunks=[{'name': '', 'args': 'da', 'id': None, 'index': 0, 'type': 'tool_call_chunk'}]\n",
      "content='' additional_kwargs={'tool_calls': [{'index': 0, 'id': None, 'function': {'arguments': '2', 'name': ''}, 'type': 'function'}]} response_metadata={} id='run-21229c19-7a9e-4cda-a91f-2e419fa40c4c' invalid_tool_calls=[{'name': '', 'args': '2', 'id': None, 'error': None, 'type': 'invalid_tool_call'}] tool_call_chunks=[{'name': '', 'args': '2', 'id': None, 'index': 0, 'type': 'tool_call_chunk'}]\n",
      "content='' additional_kwargs={'tool_calls': [{'index': 0, 'id': None, 'function': {'arguments': '3', 'name': ''}, 'type': 'function'}]} response_metadata={} id='run-21229c19-7a9e-4cda-a91f-2e419fa40c4c' invalid_tool_calls=[{'name': '', 'args': '3', 'id': None, 'error': None, 'type': 'invalid_tool_call'}] tool_call_chunks=[{'name': '', 'args': '3', 'id': None, 'index': 0, 'type': 'tool_call_chunk'}]\n",
      "content='' additional_kwargs={'tool_calls': [{'index': 0, 'id': None, 'function': {'arguments': '3', 'name': ''}, 'type': 'function'}]} response_metadata={} id='run-21229c19-7a9e-4cda-a91f-2e419fa40c4c' invalid_tool_calls=[{'name': '', 'args': '3', 'id': None, 'error': None, 'type': 'invalid_tool_call'}] tool_call_chunks=[{'name': '', 'args': '3', 'id': None, 'index': 0, 'type': 'tool_call_chunk'}]\n",
      "content='' additional_kwargs={'tool_calls': [{'index': 0, 'id': None, 'function': {'arguments': 'a', 'name': ''}, 'type': 'function'}]} response_metadata={} id='run-21229c19-7a9e-4cda-a91f-2e419fa40c4c' invalid_tool_calls=[{'name': '', 'args': 'a', 'id': None, 'error': None, 'type': 'invalid_tool_call'}] tool_call_chunks=[{'name': '', 'args': 'a', 'id': None, 'index': 0, 'type': 'tool_call_chunk'}]\n",
      "content='' additional_kwargs={'tool_calls': [{'index': 0, 'id': None, 'function': {'arguments': 'abc', 'name': ''}, 'type': 'function'}]} response_metadata={} id='run-21229c19-7a9e-4cda-a91f-2e419fa40c4c' invalid_tool_calls=[{'name': '', 'args': 'abc', 'id': None, 'error': None, 'type': 'invalid_tool_call'}] tool_call_chunks=[{'name': '', 'args': 'abc', 'id': None, 'index': 0, 'type': 'tool_call_chunk'}]\n",
      "content='' additional_kwargs={'tool_calls': [{'index': 0, 'id': None, 'function': {'arguments': '2', 'name': ''}, 'type': 'function'}]} response_metadata={} id='run-21229c19-7a9e-4cda-a91f-2e419fa40c4c' invalid_tool_calls=[{'name': '', 'args': '2', 'id': None, 'error': None, 'type': 'invalid_tool_call'}] tool_call_chunks=[{'name': '', 'args': '2', 'id': None, 'index': 0, 'type': 'tool_call_chunk'}]\n",
      "content='' additional_kwargs={'tool_calls': [{'index': 0, 'id': None, 'function': {'arguments': '7', 'name': ''}, 'type': 'function'}]} response_metadata={} id='run-21229c19-7a9e-4cda-a91f-2e419fa40c4c' invalid_tool_calls=[{'name': '', 'args': '7', 'id': None, 'error': None, 'type': 'invalid_tool_call'}] tool_call_chunks=[{'name': '', 'args': '7', 'id': None, 'index': 0, 'type': 'tool_call_chunk'}]\n",
      "content='' additional_kwargs={'tool_calls': [{'index': 0, 'id': None, 'function': {'arguments': 'c', 'name': ''}, 'type': 'function'}]} response_metadata={} id='run-21229c19-7a9e-4cda-a91f-2e419fa40c4c' invalid_tool_calls=[{'name': '', 'args': 'c', 'id': None, 'error': None, 'type': 'invalid_tool_call'}] tool_call_chunks=[{'name': '', 'args': 'c', 'id': None, 'index': 0, 'type': 'tool_call_chunk'}]\n",
      "content='' additional_kwargs={'tool_calls': [{'index': 0, 'id': None, 'function': {'arguments': '\"}', 'name': ''}, 'type': 'function'}]} response_metadata={} id='run-21229c19-7a9e-4cda-a91f-2e419fa40c4c' invalid_tool_calls=[{'name': '', 'args': '\"}', 'id': None, 'error': None, 'type': 'invalid_tool_call'}] tool_call_chunks=[{'name': '', 'args': '\"}', 'id': None, 'index': 0, 'type': 'tool_call_chunk'}]\n",
      "content='' additional_kwargs={} response_metadata={'finish_reason': 'stop', 'model_name': 'gemma-3-4b-it', 'system_fingerprint': 'gemma-3-4b-it'} id='run-21229c19-7a9e-4cda-a91f-2e419fa40c4c'\n",
      "content='Stored memory da3e91fb-4c3b-4c82-b471-da233aabc27c' name='upsert_memory' id='0fe1efd1-c59d-4555-8e95-c9fac3e5c4f6' tool_call_id='448478058'\n",
      "content='' additional_kwargs={'tool_calls': [{'index': 0, 'id': '783488842', 'function': {'arguments': '', 'name': 'upsert_memory'}, 'type': 'function'}]} response_metadata={} id='run-3cdce94f-6a4f-410f-a5fe-4c4306a4b00d' tool_calls=[{'name': 'upsert_memory', 'args': {}, 'id': '783488842', 'type': 'tool_call'}] tool_call_chunks=[{'name': 'upsert_memory', 'args': '', 'id': '783488842', 'index': 0, 'type': 'tool_call_chunk'}]\n",
      "content='' additional_kwargs={'tool_calls': [{'index': 0, 'id': None, 'function': {'arguments': '{\"', 'name': ''}, 'type': 'function'}]} response_metadata={} id='run-3cdce94f-6a4f-410f-a5fe-4c4306a4b00d' tool_calls=[{'name': '', 'args': {}, 'id': None, 'type': 'tool_call'}] tool_call_chunks=[{'name': '', 'args': '{\"', 'id': None, 'index': 0, 'type': 'tool_call_chunk'}]\n",
      "content='' additional_kwargs={'tool_calls': [{'index': 0, 'id': None, 'function': {'arguments': 'content', 'name': ''}, 'type': 'function'}]} response_metadata={} id='run-3cdce94f-6a4f-410f-a5fe-4c4306a4b00d' invalid_tool_calls=[{'name': '', 'args': 'content', 'id': None, 'error': None, 'type': 'invalid_tool_call'}] tool_call_chunks=[{'name': '', 'args': 'content', 'id': None, 'index': 0, 'type': 'tool_call_chunk'}]\n",
      "content='' additional_kwargs={'tool_calls': [{'index': 0, 'id': None, 'function': {'arguments': '\":', 'name': ''}, 'type': 'function'}]} response_metadata={} id='run-3cdce94f-6a4f-410f-a5fe-4c4306a4b00d' invalid_tool_calls=[{'name': '', 'args': '\":', 'id': None, 'error': None, 'type': 'invalid_tool_call'}] tool_call_chunks=[{'name': '', 'args': '\":', 'id': None, 'index': 0, 'type': 'tool_call_chunk'}]\n",
      "content='' additional_kwargs={'tool_calls': [{'index': 0, 'id': None, 'function': {'arguments': ' \"', 'name': ''}, 'type': 'function'}]} response_metadata={} id='run-3cdce94f-6a4f-410f-a5fe-4c4306a4b00d' invalid_tool_calls=[{'name': '', 'args': ' \"', 'id': None, 'error': None, 'type': 'invalid_tool_call'}] tool_call_chunks=[{'name': '', 'args': ' \"', 'id': None, 'index': 0, 'type': 'tool_call_chunk'}]\n",
      "content='' additional_kwargs={'tool_calls': [{'index': 0, 'id': None, 'function': {'arguments': 'I', 'name': ''}, 'type': 'function'}]} response_metadata={} id='run-3cdce94f-6a4f-410f-a5fe-4c4306a4b00d' invalid_tool_calls=[{'name': '', 'args': 'I', 'id': None, 'error': None, 'type': 'invalid_tool_call'}] tool_call_chunks=[{'name': '', 'args': 'I', 'id': None, 'index': 0, 'type': 'tool_call_chunk'}]\n",
      "content='' additional_kwargs={'tool_calls': [{'index': 0, 'id': None, 'function': {'arguments': \"'\", 'name': ''}, 'type': 'function'}]} response_metadata={} id='run-3cdce94f-6a4f-410f-a5fe-4c4306a4b00d' invalid_tool_calls=[{'name': '', 'args': \"'\", 'id': None, 'error': None, 'type': 'invalid_tool_call'}] tool_call_chunks=[{'name': '', 'args': \"'\", 'id': None, 'index': 0, 'type': 'tool_call_chunk'}]\n",
      "content='' additional_kwargs={'tool_calls': [{'index': 0, 'id': None, 'function': {'arguments': 'm', 'name': ''}, 'type': 'function'}]} response_metadata={} id='run-3cdce94f-6a4f-410f-a5fe-4c4306a4b00d' invalid_tool_calls=[{'name': '', 'args': 'm', 'id': None, 'error': None, 'type': 'invalid_tool_call'}] tool_call_chunks=[{'name': '', 'args': 'm', 'id': None, 'index': 0, 'type': 'tool_call_chunk'}]\n",
      "content='' additional_kwargs={'tool_calls': [{'index': 0, 'id': None, 'function': {'arguments': ' hungry', 'name': ''}, 'type': 'function'}]} response_metadata={} id='run-3cdce94f-6a4f-410f-a5fe-4c4306a4b00d' invalid_tool_calls=[{'name': '', 'args': ' hungry', 'id': None, 'error': None, 'type': 'invalid_tool_call'}] tool_call_chunks=[{'name': '', 'args': ' hungry', 'id': None, 'index': 0, 'type': 'tool_call_chunk'}]\n",
      "content='' additional_kwargs={'tool_calls': [{'index': 0, 'id': None, 'function': {'arguments': '\",', 'name': ''}, 'type': 'function'}]} response_metadata={} id='run-3cdce94f-6a4f-410f-a5fe-4c4306a4b00d' invalid_tool_calls=[{'name': '', 'args': '\",', 'id': None, 'error': None, 'type': 'invalid_tool_call'}] tool_call_chunks=[{'name': '', 'args': '\",', 'id': None, 'index': 0, 'type': 'tool_call_chunk'}]\n",
      "content='' additional_kwargs={'tool_calls': [{'index': 0, 'id': None, 'function': {'arguments': '\\n', 'name': ''}, 'type': 'function'}]} response_metadata={} id='run-3cdce94f-6a4f-410f-a5fe-4c4306a4b00d' invalid_tool_calls=[{'name': '', 'args': '\\n', 'id': None, 'error': None, 'type': 'invalid_tool_call'}] tool_call_chunks=[{'name': '', 'args': '\\n', 'id': None, 'index': 0, 'type': 'tool_call_chunk'}]\n",
      "content='' additional_kwargs={'tool_calls': [{'index': 0, 'id': None, 'function': {'arguments': '\"', 'name': ''}, 'type': 'function'}]} response_metadata={} id='run-3cdce94f-6a4f-410f-a5fe-4c4306a4b00d' invalid_tool_calls=[{'name': '', 'args': '\"', 'id': None, 'error': None, 'type': 'invalid_tool_call'}] tool_call_chunks=[{'name': '', 'args': '\"', 'id': None, 'index': 0, 'type': 'tool_call_chunk'}]\n",
      "content='' additional_kwargs={'tool_calls': [{'index': 0, 'id': None, 'function': {'arguments': 'memory', 'name': ''}, 'type': 'function'}]} response_metadata={} id='run-3cdce94f-6a4f-410f-a5fe-4c4306a4b00d' invalid_tool_calls=[{'name': '', 'args': 'memory', 'id': None, 'error': None, 'type': 'invalid_tool_call'}] tool_call_chunks=[{'name': '', 'args': 'memory', 'id': None, 'index': 0, 'type': 'tool_call_chunk'}]\n",
      "content='' additional_kwargs={'tool_calls': [{'index': 0, 'id': None, 'function': {'arguments': '_', 'name': ''}, 'type': 'function'}]} response_metadata={} id='run-3cdce94f-6a4f-410f-a5fe-4c4306a4b00d' invalid_tool_calls=[{'name': '', 'args': '_', 'id': None, 'error': None, 'type': 'invalid_tool_call'}] tool_call_chunks=[{'name': '', 'args': '_', 'id': None, 'index': 0, 'type': 'tool_call_chunk'}]\n",
      "content='' additional_kwargs={'tool_calls': [{'index': 0, 'id': None, 'function': {'arguments': 'id', 'name': ''}, 'type': 'function'}]} response_metadata={} id='run-3cdce94f-6a4f-410f-a5fe-4c4306a4b00d' invalid_tool_calls=[{'name': '', 'args': 'id', 'id': None, 'error': None, 'type': 'invalid_tool_call'}] tool_call_chunks=[{'name': '', 'args': 'id', 'id': None, 'index': 0, 'type': 'tool_call_chunk'}]\n",
      "content='' additional_kwargs={'tool_calls': [{'index': 0, 'id': None, 'function': {'arguments': '\":', 'name': ''}, 'type': 'function'}]} response_metadata={} id='run-3cdce94f-6a4f-410f-a5fe-4c4306a4b00d' invalid_tool_calls=[{'name': '', 'args': '\":', 'id': None, 'error': None, 'type': 'invalid_tool_call'}] tool_call_chunks=[{'name': '', 'args': '\":', 'id': None, 'index': 0, 'type': 'tool_call_chunk'}]\n",
      "content='' additional_kwargs={'tool_calls': [{'index': 0, 'id': None, 'function': {'arguments': ' \"', 'name': ''}, 'type': 'function'}]} response_metadata={} id='run-3cdce94f-6a4f-410f-a5fe-4c4306a4b00d' invalid_tool_calls=[{'name': '', 'args': ' \"', 'id': None, 'error': None, 'type': 'invalid_tool_call'}] tool_call_chunks=[{'name': '', 'args': ' \"', 'id': None, 'index': 0, 'type': 'tool_call_chunk'}]\n",
      "content='' additional_kwargs={'tool_calls': [{'index': 0, 'id': None, 'function': {'arguments': 'da', 'name': ''}, 'type': 'function'}]} response_metadata={} id='run-3cdce94f-6a4f-410f-a5fe-4c4306a4b00d' invalid_tool_calls=[{'name': '', 'args': 'da', 'id': None, 'error': None, 'type': 'invalid_tool_call'}] tool_call_chunks=[{'name': '', 'args': 'da', 'id': None, 'index': 0, 'type': 'tool_call_chunk'}]\n",
      "content='' additional_kwargs={'tool_calls': [{'index': 0, 'id': None, 'function': {'arguments': '3', 'name': ''}, 'type': 'function'}]} response_metadata={} id='run-3cdce94f-6a4f-410f-a5fe-4c4306a4b00d' invalid_tool_calls=[{'name': '', 'args': '3', 'id': None, 'error': None, 'type': 'invalid_tool_call'}] tool_call_chunks=[{'name': '', 'args': '3', 'id': None, 'index': 0, 'type': 'tool_call_chunk'}]\n",
      "content='' additional_kwargs={'tool_calls': [{'index': 0, 'id': None, 'function': {'arguments': 'e', 'name': ''}, 'type': 'function'}]} response_metadata={} id='run-3cdce94f-6a4f-410f-a5fe-4c4306a4b00d' invalid_tool_calls=[{'name': '', 'args': 'e', 'id': None, 'error': None, 'type': 'invalid_tool_call'}] tool_call_chunks=[{'name': '', 'args': 'e', 'id': None, 'index': 0, 'type': 'tool_call_chunk'}]\n",
      "content='' additional_kwargs={'tool_calls': [{'index': 0, 'id': None, 'function': {'arguments': '9', 'name': ''}, 'type': 'function'}]} response_metadata={} id='run-3cdce94f-6a4f-410f-a5fe-4c4306a4b00d' invalid_tool_calls=[{'name': '', 'args': '9', 'id': None, 'error': None, 'type': 'invalid_tool_call'}] tool_call_chunks=[{'name': '', 'args': '9', 'id': None, 'index': 0, 'type': 'tool_call_chunk'}]\n",
      "content='' additional_kwargs={'tool_calls': [{'index': 0, 'id': None, 'function': {'arguments': '1', 'name': ''}, 'type': 'function'}]} response_metadata={} id='run-3cdce94f-6a4f-410f-a5fe-4c4306a4b00d' invalid_tool_calls=[{'name': '', 'args': '1', 'id': None, 'error': None, 'type': 'invalid_tool_call'}] tool_call_chunks=[{'name': '', 'args': '1', 'id': None, 'index': 0, 'type': 'tool_call_chunk'}]\n",
      "content='' additional_kwargs={'tool_calls': [{'index': 0, 'id': None, 'function': {'arguments': 'fb', 'name': ''}, 'type': 'function'}]} response_metadata={} id='run-3cdce94f-6a4f-410f-a5fe-4c4306a4b00d' invalid_tool_calls=[{'name': '', 'args': 'fb', 'id': None, 'error': None, 'type': 'invalid_tool_call'}] tool_call_chunks=[{'name': '', 'args': 'fb', 'id': None, 'index': 0, 'type': 'tool_call_chunk'}]\n",
      "content='' additional_kwargs={'tool_calls': [{'index': 0, 'id': None, 'function': {'arguments': '-', 'name': ''}, 'type': 'function'}]} response_metadata={} id='run-3cdce94f-6a4f-410f-a5fe-4c4306a4b00d' invalid_tool_calls=[{'name': '', 'args': '-', 'id': None, 'error': None, 'type': 'invalid_tool_call'}] tool_call_chunks=[{'name': '', 'args': '-', 'id': None, 'index': 0, 'type': 'tool_call_chunk'}]\n",
      "content='' additional_kwargs={'tool_calls': [{'index': 0, 'id': None, 'function': {'arguments': '4', 'name': ''}, 'type': 'function'}]} response_metadata={} id='run-3cdce94f-6a4f-410f-a5fe-4c4306a4b00d' invalid_tool_calls=[{'name': '', 'args': '4', 'id': None, 'error': None, 'type': 'invalid_tool_call'}] tool_call_chunks=[{'name': '', 'args': '4', 'id': None, 'index': 0, 'type': 'tool_call_chunk'}]\n",
      "content='' additional_kwargs={'tool_calls': [{'index': 0, 'id': None, 'function': {'arguments': 'c', 'name': ''}, 'type': 'function'}]} response_metadata={} id='run-3cdce94f-6a4f-410f-a5fe-4c4306a4b00d' invalid_tool_calls=[{'name': '', 'args': 'c', 'id': None, 'error': None, 'type': 'invalid_tool_call'}] tool_call_chunks=[{'name': '', 'args': 'c', 'id': None, 'index': 0, 'type': 'tool_call_chunk'}]\n",
      "content='' additional_kwargs={'tool_calls': [{'index': 0, 'id': None, 'function': {'arguments': '3', 'name': ''}, 'type': 'function'}]} response_metadata={} id='run-3cdce94f-6a4f-410f-a5fe-4c4306a4b00d' invalid_tool_calls=[{'name': '', 'args': '3', 'id': None, 'error': None, 'type': 'invalid_tool_call'}] tool_call_chunks=[{'name': '', 'args': '3', 'id': None, 'index': 0, 'type': 'tool_call_chunk'}]\n",
      "content='' additional_kwargs={'tool_calls': [{'index': 0, 'id': None, 'function': {'arguments': 'b', 'name': ''}, 'type': 'function'}]} response_metadata={} id='run-3cdce94f-6a4f-410f-a5fe-4c4306a4b00d' invalid_tool_calls=[{'name': '', 'args': 'b', 'id': None, 'error': None, 'type': 'invalid_tool_call'}] tool_call_chunks=[{'name': '', 'args': 'b', 'id': None, 'index': 0, 'type': 'tool_call_chunk'}]\n",
      "content='' additional_kwargs={'tool_calls': [{'index': 0, 'id': None, 'function': {'arguments': '-', 'name': ''}, 'type': 'function'}]} response_metadata={} id='run-3cdce94f-6a4f-410f-a5fe-4c4306a4b00d' invalid_tool_calls=[{'name': '', 'args': '-', 'id': None, 'error': None, 'type': 'invalid_tool_call'}] tool_call_chunks=[{'name': '', 'args': '-', 'id': None, 'index': 0, 'type': 'tool_call_chunk'}]\n",
      "content='' additional_kwargs={'tool_calls': [{'index': 0, 'id': None, 'function': {'arguments': '4', 'name': ''}, 'type': 'function'}]} response_metadata={} id='run-3cdce94f-6a4f-410f-a5fe-4c4306a4b00d' invalid_tool_calls=[{'name': '', 'args': '4', 'id': None, 'error': None, 'type': 'invalid_tool_call'}] tool_call_chunks=[{'name': '', 'args': '4', 'id': None, 'index': 0, 'type': 'tool_call_chunk'}]\n",
      "content='' additional_kwargs={'tool_calls': [{'index': 0, 'id': None, 'function': {'arguments': 'c', 'name': ''}, 'type': 'function'}]} response_metadata={} id='run-3cdce94f-6a4f-410f-a5fe-4c4306a4b00d' invalid_tool_calls=[{'name': '', 'args': 'c', 'id': None, 'error': None, 'type': 'invalid_tool_call'}] tool_call_chunks=[{'name': '', 'args': 'c', 'id': None, 'index': 0, 'type': 'tool_call_chunk'}]\n",
      "content='' additional_kwargs={'tool_calls': [{'index': 0, 'id': None, 'function': {'arguments': '8', 'name': ''}, 'type': 'function'}]} response_metadata={} id='run-3cdce94f-6a4f-410f-a5fe-4c4306a4b00d' invalid_tool_calls=[{'name': '', 'args': '8', 'id': None, 'error': None, 'type': 'invalid_tool_call'}] tool_call_chunks=[{'name': '', 'args': '8', 'id': None, 'index': 0, 'type': 'tool_call_chunk'}]\n",
      "content='' additional_kwargs={'tool_calls': [{'index': 0, 'id': None, 'function': {'arguments': '2', 'name': ''}, 'type': 'function'}]} response_metadata={} id='run-3cdce94f-6a4f-410f-a5fe-4c4306a4b00d' invalid_tool_calls=[{'name': '', 'args': '2', 'id': None, 'error': None, 'type': 'invalid_tool_call'}] tool_call_chunks=[{'name': '', 'args': '2', 'id': None, 'index': 0, 'type': 'tool_call_chunk'}]\n",
      "content='' additional_kwargs={'tool_calls': [{'index': 0, 'id': None, 'function': {'arguments': '-', 'name': ''}, 'type': 'function'}]} response_metadata={} id='run-3cdce94f-6a4f-410f-a5fe-4c4306a4b00d' invalid_tool_calls=[{'name': '', 'args': '-', 'id': None, 'error': None, 'type': 'invalid_tool_call'}] tool_call_chunks=[{'name': '', 'args': '-', 'id': None, 'index': 0, 'type': 'tool_call_chunk'}]\n",
      "content='' additional_kwargs={'tool_calls': [{'index': 0, 'id': None, 'function': {'arguments': 'b', 'name': ''}, 'type': 'function'}]} response_metadata={} id='run-3cdce94f-6a4f-410f-a5fe-4c4306a4b00d' invalid_tool_calls=[{'name': '', 'args': 'b', 'id': None, 'error': None, 'type': 'invalid_tool_call'}] tool_call_chunks=[{'name': '', 'args': 'b', 'id': None, 'index': 0, 'type': 'tool_call_chunk'}]\n",
      "content='' additional_kwargs={'tool_calls': [{'index': 0, 'id': None, 'function': {'arguments': '4', 'name': ''}, 'type': 'function'}]} response_metadata={} id='run-3cdce94f-6a4f-410f-a5fe-4c4306a4b00d' invalid_tool_calls=[{'name': '', 'args': '4', 'id': None, 'error': None, 'type': 'invalid_tool_call'}] tool_call_chunks=[{'name': '', 'args': '4', 'id': None, 'index': 0, 'type': 'tool_call_chunk'}]\n",
      "content='' additional_kwargs={'tool_calls': [{'index': 0, 'id': None, 'function': {'arguments': '7', 'name': ''}, 'type': 'function'}]} response_metadata={} id='run-3cdce94f-6a4f-410f-a5fe-4c4306a4b00d' invalid_tool_calls=[{'name': '', 'args': '7', 'id': None, 'error': None, 'type': 'invalid_tool_call'}] tool_call_chunks=[{'name': '', 'args': '7', 'id': None, 'index': 0, 'type': 'tool_call_chunk'}]\n",
      "content='' additional_kwargs={'tool_calls': [{'index': 0, 'id': None, 'function': {'arguments': '1', 'name': ''}, 'type': 'function'}]} response_metadata={} id='run-3cdce94f-6a4f-410f-a5fe-4c4306a4b00d' invalid_tool_calls=[{'name': '', 'args': '1', 'id': None, 'error': None, 'type': 'invalid_tool_call'}] tool_call_chunks=[{'name': '', 'args': '1', 'id': None, 'index': 0, 'type': 'tool_call_chunk'}]\n",
      "content='' additional_kwargs={'tool_calls': [{'index': 0, 'id': None, 'function': {'arguments': '-', 'name': ''}, 'type': 'function'}]} response_metadata={} id='run-3cdce94f-6a4f-410f-a5fe-4c4306a4b00d' invalid_tool_calls=[{'name': '', 'args': '-', 'id': None, 'error': None, 'type': 'invalid_tool_call'}] tool_call_chunks=[{'name': '', 'args': '-', 'id': None, 'index': 0, 'type': 'tool_call_chunk'}]\n",
      "content='' additional_kwargs={'tool_calls': [{'index': 0, 'id': None, 'function': {'arguments': 'da', 'name': ''}, 'type': 'function'}]} response_metadata={} id='run-3cdce94f-6a4f-410f-a5fe-4c4306a4b00d' invalid_tool_calls=[{'name': '', 'args': 'da', 'id': None, 'error': None, 'type': 'invalid_tool_call'}] tool_call_chunks=[{'name': '', 'args': 'da', 'id': None, 'index': 0, 'type': 'tool_call_chunk'}]\n",
      "content='' additional_kwargs={'tool_calls': [{'index': 0, 'id': None, 'function': {'arguments': '2', 'name': ''}, 'type': 'function'}]} response_metadata={} id='run-3cdce94f-6a4f-410f-a5fe-4c4306a4b00d' invalid_tool_calls=[{'name': '', 'args': '2', 'id': None, 'error': None, 'type': 'invalid_tool_call'}] tool_call_chunks=[{'name': '', 'args': '2', 'id': None, 'index': 0, 'type': 'tool_call_chunk'}]\n",
      "content='' additional_kwargs={'tool_calls': [{'index': 0, 'id': None, 'function': {'arguments': '3', 'name': ''}, 'type': 'function'}]} response_metadata={} id='run-3cdce94f-6a4f-410f-a5fe-4c4306a4b00d' invalid_tool_calls=[{'name': '', 'args': '3', 'id': None, 'error': None, 'type': 'invalid_tool_call'}] tool_call_chunks=[{'name': '', 'args': '3', 'id': None, 'index': 0, 'type': 'tool_call_chunk'}]\n",
      "content='' additional_kwargs={'tool_calls': [{'index': 0, 'id': None, 'function': {'arguments': '3', 'name': ''}, 'type': 'function'}]} response_metadata={} id='run-3cdce94f-6a4f-410f-a5fe-4c4306a4b00d' invalid_tool_calls=[{'name': '', 'args': '3', 'id': None, 'error': None, 'type': 'invalid_tool_call'}] tool_call_chunks=[{'name': '', 'args': '3', 'id': None, 'index': 0, 'type': 'tool_call_chunk'}]\n",
      "content='' additional_kwargs={'tool_calls': [{'index': 0, 'id': None, 'function': {'arguments': 'a', 'name': ''}, 'type': 'function'}]} response_metadata={} id='run-3cdce94f-6a4f-410f-a5fe-4c4306a4b00d' invalid_tool_calls=[{'name': '', 'args': 'a', 'id': None, 'error': None, 'type': 'invalid_tool_call'}] tool_call_chunks=[{'name': '', 'args': 'a', 'id': None, 'index': 0, 'type': 'tool_call_chunk'}]\n",
      "content='' additional_kwargs={'tool_calls': [{'index': 0, 'id': None, 'function': {'arguments': 'abc', 'name': ''}, 'type': 'function'}]} response_metadata={} id='run-3cdce94f-6a4f-410f-a5fe-4c4306a4b00d' invalid_tool_calls=[{'name': '', 'args': 'abc', 'id': None, 'error': None, 'type': 'invalid_tool_call'}] tool_call_chunks=[{'name': '', 'args': 'abc', 'id': None, 'index': 0, 'type': 'tool_call_chunk'}]\n",
      "content='' additional_kwargs={'tool_calls': [{'index': 0, 'id': None, 'function': {'arguments': '2', 'name': ''}, 'type': 'function'}]} response_metadata={} id='run-3cdce94f-6a4f-410f-a5fe-4c4306a4b00d' invalid_tool_calls=[{'name': '', 'args': '2', 'id': None, 'error': None, 'type': 'invalid_tool_call'}] tool_call_chunks=[{'name': '', 'args': '2', 'id': None, 'index': 0, 'type': 'tool_call_chunk'}]\n",
      "content='' additional_kwargs={'tool_calls': [{'index': 0, 'id': None, 'function': {'arguments': '7', 'name': ''}, 'type': 'function'}]} response_metadata={} id='run-3cdce94f-6a4f-410f-a5fe-4c4306a4b00d' invalid_tool_calls=[{'name': '', 'args': '7', 'id': None, 'error': None, 'type': 'invalid_tool_call'}] tool_call_chunks=[{'name': '', 'args': '7', 'id': None, 'index': 0, 'type': 'tool_call_chunk'}]\n",
      "content='' additional_kwargs={'tool_calls': [{'index': 0, 'id': None, 'function': {'arguments': 'c', 'name': ''}, 'type': 'function'}]} response_metadata={} id='run-3cdce94f-6a4f-410f-a5fe-4c4306a4b00d' invalid_tool_calls=[{'name': '', 'args': 'c', 'id': None, 'error': None, 'type': 'invalid_tool_call'}] tool_call_chunks=[{'name': '', 'args': 'c', 'id': None, 'index': 0, 'type': 'tool_call_chunk'}]\n",
      "content='' additional_kwargs={'tool_calls': [{'index': 0, 'id': None, 'function': {'arguments': '\"}', 'name': ''}, 'type': 'function'}]} response_metadata={} id='run-3cdce94f-6a4f-410f-a5fe-4c4306a4b00d' invalid_tool_calls=[{'name': '', 'args': '\"}', 'id': None, 'error': None, 'type': 'invalid_tool_call'}] tool_call_chunks=[{'name': '', 'args': '\"}', 'id': None, 'index': 0, 'type': 'tool_call_chunk'}]\n",
      "content='' additional_kwargs={} response_metadata={'finish_reason': 'stop', 'model_name': 'gemma-3-4b-it', 'system_fingerprint': 'gemma-3-4b-it'} id='run-3cdce94f-6a4f-410f-a5fe-4c4306a4b00d'\n",
      "content='Stored memory da3e91fb-4c3b-4c82-b471-da233aabc27c' name='upsert_memory' id='96de9e83-d3d7-4e85-a4ca-0662743c5cf1' tool_call_id='783488842'\n",
      "content='' additional_kwargs={'tool_calls': [{'index': 0, 'id': '716162674', 'function': {'arguments': '', 'name': 'upsert_memory'}, 'type': 'function'}]} response_metadata={} id='run-c0ccf711-ffea-4de8-8f5a-b757b779eda2' tool_calls=[{'name': 'upsert_memory', 'args': {}, 'id': '716162674', 'type': 'tool_call'}] tool_call_chunks=[{'name': 'upsert_memory', 'args': '', 'id': '716162674', 'index': 0, 'type': 'tool_call_chunk'}]\n",
      "content='' additional_kwargs={'tool_calls': [{'index': 0, 'id': None, 'function': {'arguments': '{\"', 'name': ''}, 'type': 'function'}]} response_metadata={} id='run-c0ccf711-ffea-4de8-8f5a-b757b779eda2' tool_calls=[{'name': '', 'args': {}, 'id': None, 'type': 'tool_call'}] tool_call_chunks=[{'name': '', 'args': '{\"', 'id': None, 'index': 0, 'type': 'tool_call_chunk'}]\n",
      "content='' additional_kwargs={'tool_calls': [{'index': 0, 'id': None, 'function': {'arguments': 'content', 'name': ''}, 'type': 'function'}]} response_metadata={} id='run-c0ccf711-ffea-4de8-8f5a-b757b779eda2' invalid_tool_calls=[{'name': '', 'args': 'content', 'id': None, 'error': None, 'type': 'invalid_tool_call'}] tool_call_chunks=[{'name': '', 'args': 'content', 'id': None, 'index': 0, 'type': 'tool_call_chunk'}]\n",
      "content='' additional_kwargs={'tool_calls': [{'index': 0, 'id': None, 'function': {'arguments': '\":', 'name': ''}, 'type': 'function'}]} response_metadata={} id='run-c0ccf711-ffea-4de8-8f5a-b757b779eda2' invalid_tool_calls=[{'name': '', 'args': '\":', 'id': None, 'error': None, 'type': 'invalid_tool_call'}] tool_call_chunks=[{'name': '', 'args': '\":', 'id': None, 'index': 0, 'type': 'tool_call_chunk'}]\n",
      "content='' additional_kwargs={'tool_calls': [{'index': 0, 'id': None, 'function': {'arguments': ' \"', 'name': ''}, 'type': 'function'}]} response_metadata={} id='run-c0ccf711-ffea-4de8-8f5a-b757b779eda2' invalid_tool_calls=[{'name': '', 'args': ' \"', 'id': None, 'error': None, 'type': 'invalid_tool_call'}] tool_call_chunks=[{'name': '', 'args': ' \"', 'id': None, 'index': 0, 'type': 'tool_call_chunk'}]\n",
      "content='' additional_kwargs={'tool_calls': [{'index': 0, 'id': None, 'function': {'arguments': 'I', 'name': ''}, 'type': 'function'}]} response_metadata={} id='run-c0ccf711-ffea-4de8-8f5a-b757b779eda2' invalid_tool_calls=[{'name': '', 'args': 'I', 'id': None, 'error': None, 'type': 'invalid_tool_call'}] tool_call_chunks=[{'name': '', 'args': 'I', 'id': None, 'index': 0, 'type': 'tool_call_chunk'}]\n",
      "content='' additional_kwargs={'tool_calls': [{'index': 0, 'id': None, 'function': {'arguments': \"'\", 'name': ''}, 'type': 'function'}]} response_metadata={} id='run-c0ccf711-ffea-4de8-8f5a-b757b779eda2' invalid_tool_calls=[{'name': '', 'args': \"'\", 'id': None, 'error': None, 'type': 'invalid_tool_call'}] tool_call_chunks=[{'name': '', 'args': \"'\", 'id': None, 'index': 0, 'type': 'tool_call_chunk'}]\n",
      "content='' additional_kwargs={'tool_calls': [{'index': 0, 'id': None, 'function': {'arguments': 'm', 'name': ''}, 'type': 'function'}]} response_metadata={} id='run-c0ccf711-ffea-4de8-8f5a-b757b779eda2' invalid_tool_calls=[{'name': '', 'args': 'm', 'id': None, 'error': None, 'type': 'invalid_tool_call'}] tool_call_chunks=[{'name': '', 'args': 'm', 'id': None, 'index': 0, 'type': 'tool_call_chunk'}]\n",
      "content='' additional_kwargs={'tool_calls': [{'index': 0, 'id': None, 'function': {'arguments': ' hungry', 'name': ''}, 'type': 'function'}]} response_metadata={} id='run-c0ccf711-ffea-4de8-8f5a-b757b779eda2' invalid_tool_calls=[{'name': '', 'args': ' hungry', 'id': None, 'error': None, 'type': 'invalid_tool_call'}] tool_call_chunks=[{'name': '', 'args': ' hungry', 'id': None, 'index': 0, 'type': 'tool_call_chunk'}]\n",
      "content='' additional_kwargs={'tool_calls': [{'index': 0, 'id': None, 'function': {'arguments': '\",', 'name': ''}, 'type': 'function'}]} response_metadata={} id='run-c0ccf711-ffea-4de8-8f5a-b757b779eda2' invalid_tool_calls=[{'name': '', 'args': '\",', 'id': None, 'error': None, 'type': 'invalid_tool_call'}] tool_call_chunks=[{'name': '', 'args': '\",', 'id': None, 'index': 0, 'type': 'tool_call_chunk'}]\n",
      "content='' additional_kwargs={'tool_calls': [{'index': 0, 'id': None, 'function': {'arguments': '\\n', 'name': ''}, 'type': 'function'}]} response_metadata={} id='run-c0ccf711-ffea-4de8-8f5a-b757b779eda2' invalid_tool_calls=[{'name': '', 'args': '\\n', 'id': None, 'error': None, 'type': 'invalid_tool_call'}] tool_call_chunks=[{'name': '', 'args': '\\n', 'id': None, 'index': 0, 'type': 'tool_call_chunk'}]\n",
      "content='' additional_kwargs={'tool_calls': [{'index': 0, 'id': None, 'function': {'arguments': '\"', 'name': ''}, 'type': 'function'}]} response_metadata={} id='run-c0ccf711-ffea-4de8-8f5a-b757b779eda2' invalid_tool_calls=[{'name': '', 'args': '\"', 'id': None, 'error': None, 'type': 'invalid_tool_call'}] tool_call_chunks=[{'name': '', 'args': '\"', 'id': None, 'index': 0, 'type': 'tool_call_chunk'}]\n",
      "content='' additional_kwargs={'tool_calls': [{'index': 0, 'id': None, 'function': {'arguments': 'memory', 'name': ''}, 'type': 'function'}]} response_metadata={} id='run-c0ccf711-ffea-4de8-8f5a-b757b779eda2' invalid_tool_calls=[{'name': '', 'args': 'memory', 'id': None, 'error': None, 'type': 'invalid_tool_call'}] tool_call_chunks=[{'name': '', 'args': 'memory', 'id': None, 'index': 0, 'type': 'tool_call_chunk'}]\n",
      "content='' additional_kwargs={'tool_calls': [{'index': 0, 'id': None, 'function': {'arguments': '_', 'name': ''}, 'type': 'function'}]} response_metadata={} id='run-c0ccf711-ffea-4de8-8f5a-b757b779eda2' invalid_tool_calls=[{'name': '', 'args': '_', 'id': None, 'error': None, 'type': 'invalid_tool_call'}] tool_call_chunks=[{'name': '', 'args': '_', 'id': None, 'index': 0, 'type': 'tool_call_chunk'}]\n",
      "content='' additional_kwargs={'tool_calls': [{'index': 0, 'id': None, 'function': {'arguments': 'id', 'name': ''}, 'type': 'function'}]} response_metadata={} id='run-c0ccf711-ffea-4de8-8f5a-b757b779eda2' invalid_tool_calls=[{'name': '', 'args': 'id', 'id': None, 'error': None, 'type': 'invalid_tool_call'}] tool_call_chunks=[{'name': '', 'args': 'id', 'id': None, 'index': 0, 'type': 'tool_call_chunk'}]\n",
      "content='' additional_kwargs={'tool_calls': [{'index': 0, 'id': None, 'function': {'arguments': '\":', 'name': ''}, 'type': 'function'}]} response_metadata={} id='run-c0ccf711-ffea-4de8-8f5a-b757b779eda2' invalid_tool_calls=[{'name': '', 'args': '\":', 'id': None, 'error': None, 'type': 'invalid_tool_call'}] tool_call_chunks=[{'name': '', 'args': '\":', 'id': None, 'index': 0, 'type': 'tool_call_chunk'}]\n",
      "content='' additional_kwargs={'tool_calls': [{'index': 0, 'id': None, 'function': {'arguments': ' \"', 'name': ''}, 'type': 'function'}]} response_metadata={} id='run-c0ccf711-ffea-4de8-8f5a-b757b779eda2' invalid_tool_calls=[{'name': '', 'args': ' \"', 'id': None, 'error': None, 'type': 'invalid_tool_call'}] tool_call_chunks=[{'name': '', 'args': ' \"', 'id': None, 'index': 0, 'type': 'tool_call_chunk'}]\n",
      "content='' additional_kwargs={'tool_calls': [{'index': 0, 'id': None, 'function': {'arguments': 'da', 'name': ''}, 'type': 'function'}]} response_metadata={} id='run-c0ccf711-ffea-4de8-8f5a-b757b779eda2' invalid_tool_calls=[{'name': '', 'args': 'da', 'id': None, 'error': None, 'type': 'invalid_tool_call'}] tool_call_chunks=[{'name': '', 'args': 'da', 'id': None, 'index': 0, 'type': 'tool_call_chunk'}]\n",
      "content='' additional_kwargs={'tool_calls': [{'index': 0, 'id': None, 'function': {'arguments': '3', 'name': ''}, 'type': 'function'}]} response_metadata={} id='run-c0ccf711-ffea-4de8-8f5a-b757b779eda2' invalid_tool_calls=[{'name': '', 'args': '3', 'id': None, 'error': None, 'type': 'invalid_tool_call'}] tool_call_chunks=[{'name': '', 'args': '3', 'id': None, 'index': 0, 'type': 'tool_call_chunk'}]\n",
      "content='' additional_kwargs={'tool_calls': [{'index': 0, 'id': None, 'function': {'arguments': 'e', 'name': ''}, 'type': 'function'}]} response_metadata={} id='run-c0ccf711-ffea-4de8-8f5a-b757b779eda2' invalid_tool_calls=[{'name': '', 'args': 'e', 'id': None, 'error': None, 'type': 'invalid_tool_call'}] tool_call_chunks=[{'name': '', 'args': 'e', 'id': None, 'index': 0, 'type': 'tool_call_chunk'}]\n",
      "content='' additional_kwargs={'tool_calls': [{'index': 0, 'id': None, 'function': {'arguments': '9', 'name': ''}, 'type': 'function'}]} response_metadata={} id='run-c0ccf711-ffea-4de8-8f5a-b757b779eda2' invalid_tool_calls=[{'name': '', 'args': '9', 'id': None, 'error': None, 'type': 'invalid_tool_call'}] tool_call_chunks=[{'name': '', 'args': '9', 'id': None, 'index': 0, 'type': 'tool_call_chunk'}]\n",
      "content='' additional_kwargs={'tool_calls': [{'index': 0, 'id': None, 'function': {'arguments': '1', 'name': ''}, 'type': 'function'}]} response_metadata={} id='run-c0ccf711-ffea-4de8-8f5a-b757b779eda2' invalid_tool_calls=[{'name': '', 'args': '1', 'id': None, 'error': None, 'type': 'invalid_tool_call'}] tool_call_chunks=[{'name': '', 'args': '1', 'id': None, 'index': 0, 'type': 'tool_call_chunk'}]\n",
      "content='' additional_kwargs={'tool_calls': [{'index': 0, 'id': None, 'function': {'arguments': 'fb', 'name': ''}, 'type': 'function'}]} response_metadata={} id='run-c0ccf711-ffea-4de8-8f5a-b757b779eda2' invalid_tool_calls=[{'name': '', 'args': 'fb', 'id': None, 'error': None, 'type': 'invalid_tool_call'}] tool_call_chunks=[{'name': '', 'args': 'fb', 'id': None, 'index': 0, 'type': 'tool_call_chunk'}]\n",
      "content='' additional_kwargs={'tool_calls': [{'index': 0, 'id': None, 'function': {'arguments': '-', 'name': ''}, 'type': 'function'}]} response_metadata={} id='run-c0ccf711-ffea-4de8-8f5a-b757b779eda2' invalid_tool_calls=[{'name': '', 'args': '-', 'id': None, 'error': None, 'type': 'invalid_tool_call'}] tool_call_chunks=[{'name': '', 'args': '-', 'id': None, 'index': 0, 'type': 'tool_call_chunk'}]\n",
      "content='' additional_kwargs={'tool_calls': [{'index': 0, 'id': None, 'function': {'arguments': '4', 'name': ''}, 'type': 'function'}]} response_metadata={} id='run-c0ccf711-ffea-4de8-8f5a-b757b779eda2' invalid_tool_calls=[{'name': '', 'args': '4', 'id': None, 'error': None, 'type': 'invalid_tool_call'}] tool_call_chunks=[{'name': '', 'args': '4', 'id': None, 'index': 0, 'type': 'tool_call_chunk'}]\n",
      "content='' additional_kwargs={'tool_calls': [{'index': 0, 'id': None, 'function': {'arguments': 'c', 'name': ''}, 'type': 'function'}]} response_metadata={} id='run-c0ccf711-ffea-4de8-8f5a-b757b779eda2' invalid_tool_calls=[{'name': '', 'args': 'c', 'id': None, 'error': None, 'type': 'invalid_tool_call'}] tool_call_chunks=[{'name': '', 'args': 'c', 'id': None, 'index': 0, 'type': 'tool_call_chunk'}]\n",
      "content='' additional_kwargs={'tool_calls': [{'index': 0, 'id': None, 'function': {'arguments': '3', 'name': ''}, 'type': 'function'}]} response_metadata={} id='run-c0ccf711-ffea-4de8-8f5a-b757b779eda2' invalid_tool_calls=[{'name': '', 'args': '3', 'id': None, 'error': None, 'type': 'invalid_tool_call'}] tool_call_chunks=[{'name': '', 'args': '3', 'id': None, 'index': 0, 'type': 'tool_call_chunk'}]\n",
      "content='' additional_kwargs={'tool_calls': [{'index': 0, 'id': None, 'function': {'arguments': 'b', 'name': ''}, 'type': 'function'}]} response_metadata={} id='run-c0ccf711-ffea-4de8-8f5a-b757b779eda2' invalid_tool_calls=[{'name': '', 'args': 'b', 'id': None, 'error': None, 'type': 'invalid_tool_call'}] tool_call_chunks=[{'name': '', 'args': 'b', 'id': None, 'index': 0, 'type': 'tool_call_chunk'}]\n",
      "content='' additional_kwargs={'tool_calls': [{'index': 0, 'id': None, 'function': {'arguments': '-', 'name': ''}, 'type': 'function'}]} response_metadata={} id='run-c0ccf711-ffea-4de8-8f5a-b757b779eda2' invalid_tool_calls=[{'name': '', 'args': '-', 'id': None, 'error': None, 'type': 'invalid_tool_call'}] tool_call_chunks=[{'name': '', 'args': '-', 'id': None, 'index': 0, 'type': 'tool_call_chunk'}]\n",
      "content='' additional_kwargs={'tool_calls': [{'index': 0, 'id': None, 'function': {'arguments': '4', 'name': ''}, 'type': 'function'}]} response_metadata={} id='run-c0ccf711-ffea-4de8-8f5a-b757b779eda2' invalid_tool_calls=[{'name': '', 'args': '4', 'id': None, 'error': None, 'type': 'invalid_tool_call'}] tool_call_chunks=[{'name': '', 'args': '4', 'id': None, 'index': 0, 'type': 'tool_call_chunk'}]\n",
      "content='' additional_kwargs={'tool_calls': [{'index': 0, 'id': None, 'function': {'arguments': 'c', 'name': ''}, 'type': 'function'}]} response_metadata={} id='run-c0ccf711-ffea-4de8-8f5a-b757b779eda2' invalid_tool_calls=[{'name': '', 'args': 'c', 'id': None, 'error': None, 'type': 'invalid_tool_call'}] tool_call_chunks=[{'name': '', 'args': 'c', 'id': None, 'index': 0, 'type': 'tool_call_chunk'}]\n",
      "content='' additional_kwargs={'tool_calls': [{'index': 0, 'id': None, 'function': {'arguments': '8', 'name': ''}, 'type': 'function'}]} response_metadata={} id='run-c0ccf711-ffea-4de8-8f5a-b757b779eda2' invalid_tool_calls=[{'name': '', 'args': '8', 'id': None, 'error': None, 'type': 'invalid_tool_call'}] tool_call_chunks=[{'name': '', 'args': '8', 'id': None, 'index': 0, 'type': 'tool_call_chunk'}]\n",
      "content='' additional_kwargs={'tool_calls': [{'index': 0, 'id': None, 'function': {'arguments': '2', 'name': ''}, 'type': 'function'}]} response_metadata={} id='run-c0ccf711-ffea-4de8-8f5a-b757b779eda2' invalid_tool_calls=[{'name': '', 'args': '2', 'id': None, 'error': None, 'type': 'invalid_tool_call'}] tool_call_chunks=[{'name': '', 'args': '2', 'id': None, 'index': 0, 'type': 'tool_call_chunk'}]\n",
      "content='' additional_kwargs={'tool_calls': [{'index': 0, 'id': None, 'function': {'arguments': '-', 'name': ''}, 'type': 'function'}]} response_metadata={} id='run-c0ccf711-ffea-4de8-8f5a-b757b779eda2' invalid_tool_calls=[{'name': '', 'args': '-', 'id': None, 'error': None, 'type': 'invalid_tool_call'}] tool_call_chunks=[{'name': '', 'args': '-', 'id': None, 'index': 0, 'type': 'tool_call_chunk'}]\n",
      "content='' additional_kwargs={'tool_calls': [{'index': 0, 'id': None, 'function': {'arguments': 'b', 'name': ''}, 'type': 'function'}]} response_metadata={} id='run-c0ccf711-ffea-4de8-8f5a-b757b779eda2' invalid_tool_calls=[{'name': '', 'args': 'b', 'id': None, 'error': None, 'type': 'invalid_tool_call'}] tool_call_chunks=[{'name': '', 'args': 'b', 'id': None, 'index': 0, 'type': 'tool_call_chunk'}]\n",
      "content='' additional_kwargs={'tool_calls': [{'index': 0, 'id': None, 'function': {'arguments': '4', 'name': ''}, 'type': 'function'}]} response_metadata={} id='run-c0ccf711-ffea-4de8-8f5a-b757b779eda2' invalid_tool_calls=[{'name': '', 'args': '4', 'id': None, 'error': None, 'type': 'invalid_tool_call'}] tool_call_chunks=[{'name': '', 'args': '4', 'id': None, 'index': 0, 'type': 'tool_call_chunk'}]\n",
      "content='' additional_kwargs={'tool_calls': [{'index': 0, 'id': None, 'function': {'arguments': '7', 'name': ''}, 'type': 'function'}]} response_metadata={} id='run-c0ccf711-ffea-4de8-8f5a-b757b779eda2' invalid_tool_calls=[{'name': '', 'args': '7', 'id': None, 'error': None, 'type': 'invalid_tool_call'}] tool_call_chunks=[{'name': '', 'args': '7', 'id': None, 'index': 0, 'type': 'tool_call_chunk'}]\n",
      "content='' additional_kwargs={'tool_calls': [{'index': 0, 'id': None, 'function': {'arguments': '1', 'name': ''}, 'type': 'function'}]} response_metadata={} id='run-c0ccf711-ffea-4de8-8f5a-b757b779eda2' invalid_tool_calls=[{'name': '', 'args': '1', 'id': None, 'error': None, 'type': 'invalid_tool_call'}] tool_call_chunks=[{'name': '', 'args': '1', 'id': None, 'index': 0, 'type': 'tool_call_chunk'}]\n",
      "content='' additional_kwargs={'tool_calls': [{'index': 0, 'id': None, 'function': {'arguments': '-', 'name': ''}, 'type': 'function'}]} response_metadata={} id='run-c0ccf711-ffea-4de8-8f5a-b757b779eda2' invalid_tool_calls=[{'name': '', 'args': '-', 'id': None, 'error': None, 'type': 'invalid_tool_call'}] tool_call_chunks=[{'name': '', 'args': '-', 'id': None, 'index': 0, 'type': 'tool_call_chunk'}]\n",
      "content='' additional_kwargs={'tool_calls': [{'index': 0, 'id': None, 'function': {'arguments': 'da', 'name': ''}, 'type': 'function'}]} response_metadata={} id='run-c0ccf711-ffea-4de8-8f5a-b757b779eda2' invalid_tool_calls=[{'name': '', 'args': 'da', 'id': None, 'error': None, 'type': 'invalid_tool_call'}] tool_call_chunks=[{'name': '', 'args': 'da', 'id': None, 'index': 0, 'type': 'tool_call_chunk'}]\n",
      "content='' additional_kwargs={'tool_calls': [{'index': 0, 'id': None, 'function': {'arguments': '2', 'name': ''}, 'type': 'function'}]} response_metadata={} id='run-c0ccf711-ffea-4de8-8f5a-b757b779eda2' invalid_tool_calls=[{'name': '', 'args': '2', 'id': None, 'error': None, 'type': 'invalid_tool_call'}] tool_call_chunks=[{'name': '', 'args': '2', 'id': None, 'index': 0, 'type': 'tool_call_chunk'}]\n",
      "content='' additional_kwargs={'tool_calls': [{'index': 0, 'id': None, 'function': {'arguments': '3', 'name': ''}, 'type': 'function'}]} response_metadata={} id='run-c0ccf711-ffea-4de8-8f5a-b757b779eda2' invalid_tool_calls=[{'name': '', 'args': '3', 'id': None, 'error': None, 'type': 'invalid_tool_call'}] tool_call_chunks=[{'name': '', 'args': '3', 'id': None, 'index': 0, 'type': 'tool_call_chunk'}]\n",
      "content='' additional_kwargs={'tool_calls': [{'index': 0, 'id': None, 'function': {'arguments': '3', 'name': ''}, 'type': 'function'}]} response_metadata={} id='run-c0ccf711-ffea-4de8-8f5a-b757b779eda2' invalid_tool_calls=[{'name': '', 'args': '3', 'id': None, 'error': None, 'type': 'invalid_tool_call'}] tool_call_chunks=[{'name': '', 'args': '3', 'id': None, 'index': 0, 'type': 'tool_call_chunk'}]\n",
      "content='' additional_kwargs={'tool_calls': [{'index': 0, 'id': None, 'function': {'arguments': 'a', 'name': ''}, 'type': 'function'}]} response_metadata={} id='run-c0ccf711-ffea-4de8-8f5a-b757b779eda2' invalid_tool_calls=[{'name': '', 'args': 'a', 'id': None, 'error': None, 'type': 'invalid_tool_call'}] tool_call_chunks=[{'name': '', 'args': 'a', 'id': None, 'index': 0, 'type': 'tool_call_chunk'}]\n",
      "content='' additional_kwargs={'tool_calls': [{'index': 0, 'id': None, 'function': {'arguments': 'abc', 'name': ''}, 'type': 'function'}]} response_metadata={} id='run-c0ccf711-ffea-4de8-8f5a-b757b779eda2' invalid_tool_calls=[{'name': '', 'args': 'abc', 'id': None, 'error': None, 'type': 'invalid_tool_call'}] tool_call_chunks=[{'name': '', 'args': 'abc', 'id': None, 'index': 0, 'type': 'tool_call_chunk'}]\n",
      "content='' additional_kwargs={'tool_calls': [{'index': 0, 'id': None, 'function': {'arguments': '2', 'name': ''}, 'type': 'function'}]} response_metadata={} id='run-c0ccf711-ffea-4de8-8f5a-b757b779eda2' invalid_tool_calls=[{'name': '', 'args': '2', 'id': None, 'error': None, 'type': 'invalid_tool_call'}] tool_call_chunks=[{'name': '', 'args': '2', 'id': None, 'index': 0, 'type': 'tool_call_chunk'}]\n",
      "content='' additional_kwargs={'tool_calls': [{'index': 0, 'id': None, 'function': {'arguments': '7', 'name': ''}, 'type': 'function'}]} response_metadata={} id='run-c0ccf711-ffea-4de8-8f5a-b757b779eda2' invalid_tool_calls=[{'name': '', 'args': '7', 'id': None, 'error': None, 'type': 'invalid_tool_call'}] tool_call_chunks=[{'name': '', 'args': '7', 'id': None, 'index': 0, 'type': 'tool_call_chunk'}]\n",
      "content='' additional_kwargs={'tool_calls': [{'index': 0, 'id': None, 'function': {'arguments': 'c', 'name': ''}, 'type': 'function'}]} response_metadata={} id='run-c0ccf711-ffea-4de8-8f5a-b757b779eda2' invalid_tool_calls=[{'name': '', 'args': 'c', 'id': None, 'error': None, 'type': 'invalid_tool_call'}] tool_call_chunks=[{'name': '', 'args': 'c', 'id': None, 'index': 0, 'type': 'tool_call_chunk'}]\n",
      "content='' additional_kwargs={'tool_calls': [{'index': 0, 'id': None, 'function': {'arguments': '\"}', 'name': ''}, 'type': 'function'}]} response_metadata={} id='run-c0ccf711-ffea-4de8-8f5a-b757b779eda2' invalid_tool_calls=[{'name': '', 'args': '\"}', 'id': None, 'error': None, 'type': 'invalid_tool_call'}] tool_call_chunks=[{'name': '', 'args': '\"}', 'id': None, 'index': 0, 'type': 'tool_call_chunk'}]\n",
      "content='' additional_kwargs={} response_metadata={'finish_reason': 'stop', 'model_name': 'gemma-3-4b-it', 'system_fingerprint': 'gemma-3-4b-it'} id='run-c0ccf711-ffea-4de8-8f5a-b757b779eda2'\n",
      "content='Stored memory da3e91fb-4c3b-4c82-b471-da233aabc27c' name='upsert_memory' id='12a0eb50-122f-41a5-b6d5-d43cbcf7f642' tool_call_id='716162674'\n",
      "content='' additional_kwargs={'tool_calls': [{'index': 0, 'id': '614858390', 'function': {'arguments': '', 'name': 'upsert_memory'}, 'type': 'function'}]} response_metadata={} id='run-f3d8a629-5708-430d-b6a3-936b8647126a' tool_calls=[{'name': 'upsert_memory', 'args': {}, 'id': '614858390', 'type': 'tool_call'}] tool_call_chunks=[{'name': 'upsert_memory', 'args': '', 'id': '614858390', 'index': 0, 'type': 'tool_call_chunk'}]\n",
      "content='' additional_kwargs={'tool_calls': [{'index': 0, 'id': None, 'function': {'arguments': '{\"', 'name': ''}, 'type': 'function'}]} response_metadata={} id='run-f3d8a629-5708-430d-b6a3-936b8647126a' tool_calls=[{'name': '', 'args': {}, 'id': None, 'type': 'tool_call'}] tool_call_chunks=[{'name': '', 'args': '{\"', 'id': None, 'index': 0, 'type': 'tool_call_chunk'}]\n",
      "content='' additional_kwargs={'tool_calls': [{'index': 0, 'id': None, 'function': {'arguments': 'content', 'name': ''}, 'type': 'function'}]} response_metadata={} id='run-f3d8a629-5708-430d-b6a3-936b8647126a' invalid_tool_calls=[{'name': '', 'args': 'content', 'id': None, 'error': None, 'type': 'invalid_tool_call'}] tool_call_chunks=[{'name': '', 'args': 'content', 'id': None, 'index': 0, 'type': 'tool_call_chunk'}]\n",
      "content='' additional_kwargs={'tool_calls': [{'index': 0, 'id': None, 'function': {'arguments': '\":', 'name': ''}, 'type': 'function'}]} response_metadata={} id='run-f3d8a629-5708-430d-b6a3-936b8647126a' invalid_tool_calls=[{'name': '', 'args': '\":', 'id': None, 'error': None, 'type': 'invalid_tool_call'}] tool_call_chunks=[{'name': '', 'args': '\":', 'id': None, 'index': 0, 'type': 'tool_call_chunk'}]\n",
      "content='' additional_kwargs={'tool_calls': [{'index': 0, 'id': None, 'function': {'arguments': ' \"', 'name': ''}, 'type': 'function'}]} response_metadata={} id='run-f3d8a629-5708-430d-b6a3-936b8647126a' invalid_tool_calls=[{'name': '', 'args': ' \"', 'id': None, 'error': None, 'type': 'invalid_tool_call'}] tool_call_chunks=[{'name': '', 'args': ' \"', 'id': None, 'index': 0, 'type': 'tool_call_chunk'}]\n",
      "content='' additional_kwargs={'tool_calls': [{'index': 0, 'id': None, 'function': {'arguments': 'I', 'name': ''}, 'type': 'function'}]} response_metadata={} id='run-f3d8a629-5708-430d-b6a3-936b8647126a' invalid_tool_calls=[{'name': '', 'args': 'I', 'id': None, 'error': None, 'type': 'invalid_tool_call'}] tool_call_chunks=[{'name': '', 'args': 'I', 'id': None, 'index': 0, 'type': 'tool_call_chunk'}]\n",
      "content='' additional_kwargs={'tool_calls': [{'index': 0, 'id': None, 'function': {'arguments': \"'\", 'name': ''}, 'type': 'function'}]} response_metadata={} id='run-f3d8a629-5708-430d-b6a3-936b8647126a' invalid_tool_calls=[{'name': '', 'args': \"'\", 'id': None, 'error': None, 'type': 'invalid_tool_call'}] tool_call_chunks=[{'name': '', 'args': \"'\", 'id': None, 'index': 0, 'type': 'tool_call_chunk'}]\n",
      "content='' additional_kwargs={'tool_calls': [{'index': 0, 'id': None, 'function': {'arguments': 'm', 'name': ''}, 'type': 'function'}]} response_metadata={} id='run-f3d8a629-5708-430d-b6a3-936b8647126a' invalid_tool_calls=[{'name': '', 'args': 'm', 'id': None, 'error': None, 'type': 'invalid_tool_call'}] tool_call_chunks=[{'name': '', 'args': 'm', 'id': None, 'index': 0, 'type': 'tool_call_chunk'}]\n",
      "content='' additional_kwargs={'tool_calls': [{'index': 0, 'id': None, 'function': {'arguments': ' hungry', 'name': ''}, 'type': 'function'}]} response_metadata={} id='run-f3d8a629-5708-430d-b6a3-936b8647126a' invalid_tool_calls=[{'name': '', 'args': ' hungry', 'id': None, 'error': None, 'type': 'invalid_tool_call'}] tool_call_chunks=[{'name': '', 'args': ' hungry', 'id': None, 'index': 0, 'type': 'tool_call_chunk'}]\n",
      "content='' additional_kwargs={'tool_calls': [{'index': 0, 'id': None, 'function': {'arguments': '\",', 'name': ''}, 'type': 'function'}]} response_metadata={} id='run-f3d8a629-5708-430d-b6a3-936b8647126a' invalid_tool_calls=[{'name': '', 'args': '\",', 'id': None, 'error': None, 'type': 'invalid_tool_call'}] tool_call_chunks=[{'name': '', 'args': '\",', 'id': None, 'index': 0, 'type': 'tool_call_chunk'}]\n",
      "content='' additional_kwargs={'tool_calls': [{'index': 0, 'id': None, 'function': {'arguments': '\\n', 'name': ''}, 'type': 'function'}]} response_metadata={} id='run-f3d8a629-5708-430d-b6a3-936b8647126a' invalid_tool_calls=[{'name': '', 'args': '\\n', 'id': None, 'error': None, 'type': 'invalid_tool_call'}] tool_call_chunks=[{'name': '', 'args': '\\n', 'id': None, 'index': 0, 'type': 'tool_call_chunk'}]\n",
      "content='' additional_kwargs={'tool_calls': [{'index': 0, 'id': None, 'function': {'arguments': '\"', 'name': ''}, 'type': 'function'}]} response_metadata={} id='run-f3d8a629-5708-430d-b6a3-936b8647126a' invalid_tool_calls=[{'name': '', 'args': '\"', 'id': None, 'error': None, 'type': 'invalid_tool_call'}] tool_call_chunks=[{'name': '', 'args': '\"', 'id': None, 'index': 0, 'type': 'tool_call_chunk'}]\n",
      "content='' additional_kwargs={'tool_calls': [{'index': 0, 'id': None, 'function': {'arguments': 'memory', 'name': ''}, 'type': 'function'}]} response_metadata={} id='run-f3d8a629-5708-430d-b6a3-936b8647126a' invalid_tool_calls=[{'name': '', 'args': 'memory', 'id': None, 'error': None, 'type': 'invalid_tool_call'}] tool_call_chunks=[{'name': '', 'args': 'memory', 'id': None, 'index': 0, 'type': 'tool_call_chunk'}]\n",
      "content='' additional_kwargs={'tool_calls': [{'index': 0, 'id': None, 'function': {'arguments': '_', 'name': ''}, 'type': 'function'}]} response_metadata={} id='run-f3d8a629-5708-430d-b6a3-936b8647126a' invalid_tool_calls=[{'name': '', 'args': '_', 'id': None, 'error': None, 'type': 'invalid_tool_call'}] tool_call_chunks=[{'name': '', 'args': '_', 'id': None, 'index': 0, 'type': 'tool_call_chunk'}]\n",
      "content='' additional_kwargs={'tool_calls': [{'index': 0, 'id': None, 'function': {'arguments': 'id', 'name': ''}, 'type': 'function'}]} response_metadata={} id='run-f3d8a629-5708-430d-b6a3-936b8647126a' invalid_tool_calls=[{'name': '', 'args': 'id', 'id': None, 'error': None, 'type': 'invalid_tool_call'}] tool_call_chunks=[{'name': '', 'args': 'id', 'id': None, 'index': 0, 'type': 'tool_call_chunk'}]\n",
      "content='' additional_kwargs={'tool_calls': [{'index': 0, 'id': None, 'function': {'arguments': '\":', 'name': ''}, 'type': 'function'}]} response_metadata={} id='run-f3d8a629-5708-430d-b6a3-936b8647126a' invalid_tool_calls=[{'name': '', 'args': '\":', 'id': None, 'error': None, 'type': 'invalid_tool_call'}] tool_call_chunks=[{'name': '', 'args': '\":', 'id': None, 'index': 0, 'type': 'tool_call_chunk'}]\n",
      "content='' additional_kwargs={'tool_calls': [{'index': 0, 'id': None, 'function': {'arguments': ' \"', 'name': ''}, 'type': 'function'}]} response_metadata={} id='run-f3d8a629-5708-430d-b6a3-936b8647126a' invalid_tool_calls=[{'name': '', 'args': ' \"', 'id': None, 'error': None, 'type': 'invalid_tool_call'}] tool_call_chunks=[{'name': '', 'args': ' \"', 'id': None, 'index': 0, 'type': 'tool_call_chunk'}]\n",
      "content='' additional_kwargs={'tool_calls': [{'index': 0, 'id': None, 'function': {'arguments': 'da', 'name': ''}, 'type': 'function'}]} response_metadata={} id='run-f3d8a629-5708-430d-b6a3-936b8647126a' invalid_tool_calls=[{'name': '', 'args': 'da', 'id': None, 'error': None, 'type': 'invalid_tool_call'}] tool_call_chunks=[{'name': '', 'args': 'da', 'id': None, 'index': 0, 'type': 'tool_call_chunk'}]\n",
      "content='' additional_kwargs={'tool_calls': [{'index': 0, 'id': None, 'function': {'arguments': '3', 'name': ''}, 'type': 'function'}]} response_metadata={} id='run-f3d8a629-5708-430d-b6a3-936b8647126a' invalid_tool_calls=[{'name': '', 'args': '3', 'id': None, 'error': None, 'type': 'invalid_tool_call'}] tool_call_chunks=[{'name': '', 'args': '3', 'id': None, 'index': 0, 'type': 'tool_call_chunk'}]\n",
      "content='' additional_kwargs={'tool_calls': [{'index': 0, 'id': None, 'function': {'arguments': 'e', 'name': ''}, 'type': 'function'}]} response_metadata={} id='run-f3d8a629-5708-430d-b6a3-936b8647126a' invalid_tool_calls=[{'name': '', 'args': 'e', 'id': None, 'error': None, 'type': 'invalid_tool_call'}] tool_call_chunks=[{'name': '', 'args': 'e', 'id': None, 'index': 0, 'type': 'tool_call_chunk'}]\n",
      "content='' additional_kwargs={'tool_calls': [{'index': 0, 'id': None, 'function': {'arguments': '9', 'name': ''}, 'type': 'function'}]} response_metadata={} id='run-f3d8a629-5708-430d-b6a3-936b8647126a' invalid_tool_calls=[{'name': '', 'args': '9', 'id': None, 'error': None, 'type': 'invalid_tool_call'}] tool_call_chunks=[{'name': '', 'args': '9', 'id': None, 'index': 0, 'type': 'tool_call_chunk'}]\n",
      "content='' additional_kwargs={'tool_calls': [{'index': 0, 'id': None, 'function': {'arguments': '1', 'name': ''}, 'type': 'function'}]} response_metadata={} id='run-f3d8a629-5708-430d-b6a3-936b8647126a' invalid_tool_calls=[{'name': '', 'args': '1', 'id': None, 'error': None, 'type': 'invalid_tool_call'}] tool_call_chunks=[{'name': '', 'args': '1', 'id': None, 'index': 0, 'type': 'tool_call_chunk'}]\n",
      "content='' additional_kwargs={'tool_calls': [{'index': 0, 'id': None, 'function': {'arguments': 'fb', 'name': ''}, 'type': 'function'}]} response_metadata={} id='run-f3d8a629-5708-430d-b6a3-936b8647126a' invalid_tool_calls=[{'name': '', 'args': 'fb', 'id': None, 'error': None, 'type': 'invalid_tool_call'}] tool_call_chunks=[{'name': '', 'args': 'fb', 'id': None, 'index': 0, 'type': 'tool_call_chunk'}]\n",
      "content='' additional_kwargs={'tool_calls': [{'index': 0, 'id': None, 'function': {'arguments': '-', 'name': ''}, 'type': 'function'}]} response_metadata={} id='run-f3d8a629-5708-430d-b6a3-936b8647126a' invalid_tool_calls=[{'name': '', 'args': '-', 'id': None, 'error': None, 'type': 'invalid_tool_call'}] tool_call_chunks=[{'name': '', 'args': '-', 'id': None, 'index': 0, 'type': 'tool_call_chunk'}]\n",
      "content='' additional_kwargs={'tool_calls': [{'index': 0, 'id': None, 'function': {'arguments': '4', 'name': ''}, 'type': 'function'}]} response_metadata={} id='run-f3d8a629-5708-430d-b6a3-936b8647126a' invalid_tool_calls=[{'name': '', 'args': '4', 'id': None, 'error': None, 'type': 'invalid_tool_call'}] tool_call_chunks=[{'name': '', 'args': '4', 'id': None, 'index': 0, 'type': 'tool_call_chunk'}]\n",
      "content='' additional_kwargs={'tool_calls': [{'index': 0, 'id': None, 'function': {'arguments': 'c', 'name': ''}, 'type': 'function'}]} response_metadata={} id='run-f3d8a629-5708-430d-b6a3-936b8647126a' invalid_tool_calls=[{'name': '', 'args': 'c', 'id': None, 'error': None, 'type': 'invalid_tool_call'}] tool_call_chunks=[{'name': '', 'args': 'c', 'id': None, 'index': 0, 'type': 'tool_call_chunk'}]\n",
      "content='' additional_kwargs={'tool_calls': [{'index': 0, 'id': None, 'function': {'arguments': '3', 'name': ''}, 'type': 'function'}]} response_metadata={} id='run-f3d8a629-5708-430d-b6a3-936b8647126a' invalid_tool_calls=[{'name': '', 'args': '3', 'id': None, 'error': None, 'type': 'invalid_tool_call'}] tool_call_chunks=[{'name': '', 'args': '3', 'id': None, 'index': 0, 'type': 'tool_call_chunk'}]\n",
      "content='' additional_kwargs={'tool_calls': [{'index': 0, 'id': None, 'function': {'arguments': 'b', 'name': ''}, 'type': 'function'}]} response_metadata={} id='run-f3d8a629-5708-430d-b6a3-936b8647126a' invalid_tool_calls=[{'name': '', 'args': 'b', 'id': None, 'error': None, 'type': 'invalid_tool_call'}] tool_call_chunks=[{'name': '', 'args': 'b', 'id': None, 'index': 0, 'type': 'tool_call_chunk'}]\n",
      "content='' additional_kwargs={'tool_calls': [{'index': 0, 'id': None, 'function': {'arguments': '-', 'name': ''}, 'type': 'function'}]} response_metadata={} id='run-f3d8a629-5708-430d-b6a3-936b8647126a' invalid_tool_calls=[{'name': '', 'args': '-', 'id': None, 'error': None, 'type': 'invalid_tool_call'}] tool_call_chunks=[{'name': '', 'args': '-', 'id': None, 'index': 0, 'type': 'tool_call_chunk'}]\n",
      "content='' additional_kwargs={'tool_calls': [{'index': 0, 'id': None, 'function': {'arguments': '4', 'name': ''}, 'type': 'function'}]} response_metadata={} id='run-f3d8a629-5708-430d-b6a3-936b8647126a' invalid_tool_calls=[{'name': '', 'args': '4', 'id': None, 'error': None, 'type': 'invalid_tool_call'}] tool_call_chunks=[{'name': '', 'args': '4', 'id': None, 'index': 0, 'type': 'tool_call_chunk'}]\n",
      "content='' additional_kwargs={'tool_calls': [{'index': 0, 'id': None, 'function': {'arguments': 'c', 'name': ''}, 'type': 'function'}]} response_metadata={} id='run-f3d8a629-5708-430d-b6a3-936b8647126a' invalid_tool_calls=[{'name': '', 'args': 'c', 'id': None, 'error': None, 'type': 'invalid_tool_call'}] tool_call_chunks=[{'name': '', 'args': 'c', 'id': None, 'index': 0, 'type': 'tool_call_chunk'}]\n",
      "content='' additional_kwargs={'tool_calls': [{'index': 0, 'id': None, 'function': {'arguments': '8', 'name': ''}, 'type': 'function'}]} response_metadata={} id='run-f3d8a629-5708-430d-b6a3-936b8647126a' invalid_tool_calls=[{'name': '', 'args': '8', 'id': None, 'error': None, 'type': 'invalid_tool_call'}] tool_call_chunks=[{'name': '', 'args': '8', 'id': None, 'index': 0, 'type': 'tool_call_chunk'}]\n",
      "content='' additional_kwargs={'tool_calls': [{'index': 0, 'id': None, 'function': {'arguments': '2', 'name': ''}, 'type': 'function'}]} response_metadata={} id='run-f3d8a629-5708-430d-b6a3-936b8647126a' invalid_tool_calls=[{'name': '', 'args': '2', 'id': None, 'error': None, 'type': 'invalid_tool_call'}] tool_call_chunks=[{'name': '', 'args': '2', 'id': None, 'index': 0, 'type': 'tool_call_chunk'}]\n",
      "content='' additional_kwargs={'tool_calls': [{'index': 0, 'id': None, 'function': {'arguments': '-', 'name': ''}, 'type': 'function'}]} response_metadata={} id='run-f3d8a629-5708-430d-b6a3-936b8647126a' invalid_tool_calls=[{'name': '', 'args': '-', 'id': None, 'error': None, 'type': 'invalid_tool_call'}] tool_call_chunks=[{'name': '', 'args': '-', 'id': None, 'index': 0, 'type': 'tool_call_chunk'}]\n",
      "content='' additional_kwargs={'tool_calls': [{'index': 0, 'id': None, 'function': {'arguments': 'b', 'name': ''}, 'type': 'function'}]} response_metadata={} id='run-f3d8a629-5708-430d-b6a3-936b8647126a' invalid_tool_calls=[{'name': '', 'args': 'b', 'id': None, 'error': None, 'type': 'invalid_tool_call'}] tool_call_chunks=[{'name': '', 'args': 'b', 'id': None, 'index': 0, 'type': 'tool_call_chunk'}]\n",
      "content='' additional_kwargs={'tool_calls': [{'index': 0, 'id': None, 'function': {'arguments': '4', 'name': ''}, 'type': 'function'}]} response_metadata={} id='run-f3d8a629-5708-430d-b6a3-936b8647126a' invalid_tool_calls=[{'name': '', 'args': '4', 'id': None, 'error': None, 'type': 'invalid_tool_call'}] tool_call_chunks=[{'name': '', 'args': '4', 'id': None, 'index': 0, 'type': 'tool_call_chunk'}]\n",
      "content='' additional_kwargs={'tool_calls': [{'index': 0, 'id': None, 'function': {'arguments': '7', 'name': ''}, 'type': 'function'}]} response_metadata={} id='run-f3d8a629-5708-430d-b6a3-936b8647126a' invalid_tool_calls=[{'name': '', 'args': '7', 'id': None, 'error': None, 'type': 'invalid_tool_call'}] tool_call_chunks=[{'name': '', 'args': '7', 'id': None, 'index': 0, 'type': 'tool_call_chunk'}]\n",
      "content='' additional_kwargs={'tool_calls': [{'index': 0, 'id': None, 'function': {'arguments': '1', 'name': ''}, 'type': 'function'}]} response_metadata={} id='run-f3d8a629-5708-430d-b6a3-936b8647126a' invalid_tool_calls=[{'name': '', 'args': '1', 'id': None, 'error': None, 'type': 'invalid_tool_call'}] tool_call_chunks=[{'name': '', 'args': '1', 'id': None, 'index': 0, 'type': 'tool_call_chunk'}]\n",
      "content='' additional_kwargs={'tool_calls': [{'index': 0, 'id': None, 'function': {'arguments': '-', 'name': ''}, 'type': 'function'}]} response_metadata={} id='run-f3d8a629-5708-430d-b6a3-936b8647126a' invalid_tool_calls=[{'name': '', 'args': '-', 'id': None, 'error': None, 'type': 'invalid_tool_call'}] tool_call_chunks=[{'name': '', 'args': '-', 'id': None, 'index': 0, 'type': 'tool_call_chunk'}]\n",
      "content='' additional_kwargs={'tool_calls': [{'index': 0, 'id': None, 'function': {'arguments': 'da', 'name': ''}, 'type': 'function'}]} response_metadata={} id='run-f3d8a629-5708-430d-b6a3-936b8647126a' invalid_tool_calls=[{'name': '', 'args': 'da', 'id': None, 'error': None, 'type': 'invalid_tool_call'}] tool_call_chunks=[{'name': '', 'args': 'da', 'id': None, 'index': 0, 'type': 'tool_call_chunk'}]\n",
      "content='' additional_kwargs={'tool_calls': [{'index': 0, 'id': None, 'function': {'arguments': '2', 'name': ''}, 'type': 'function'}]} response_metadata={} id='run-f3d8a629-5708-430d-b6a3-936b8647126a' invalid_tool_calls=[{'name': '', 'args': '2', 'id': None, 'error': None, 'type': 'invalid_tool_call'}] tool_call_chunks=[{'name': '', 'args': '2', 'id': None, 'index': 0, 'type': 'tool_call_chunk'}]\n",
      "content='' additional_kwargs={'tool_calls': [{'index': 0, 'id': None, 'function': {'arguments': '3', 'name': ''}, 'type': 'function'}]} response_metadata={} id='run-f3d8a629-5708-430d-b6a3-936b8647126a' invalid_tool_calls=[{'name': '', 'args': '3', 'id': None, 'error': None, 'type': 'invalid_tool_call'}] tool_call_chunks=[{'name': '', 'args': '3', 'id': None, 'index': 0, 'type': 'tool_call_chunk'}]\n",
      "content='' additional_kwargs={'tool_calls': [{'index': 0, 'id': None, 'function': {'arguments': '3', 'name': ''}, 'type': 'function'}]} response_metadata={} id='run-f3d8a629-5708-430d-b6a3-936b8647126a' invalid_tool_calls=[{'name': '', 'args': '3', 'id': None, 'error': None, 'type': 'invalid_tool_call'}] tool_call_chunks=[{'name': '', 'args': '3', 'id': None, 'index': 0, 'type': 'tool_call_chunk'}]\n",
      "content='' additional_kwargs={'tool_calls': [{'index': 0, 'id': None, 'function': {'arguments': 'a', 'name': ''}, 'type': 'function'}]} response_metadata={} id='run-f3d8a629-5708-430d-b6a3-936b8647126a' invalid_tool_calls=[{'name': '', 'args': 'a', 'id': None, 'error': None, 'type': 'invalid_tool_call'}] tool_call_chunks=[{'name': '', 'args': 'a', 'id': None, 'index': 0, 'type': 'tool_call_chunk'}]\n",
      "content='' additional_kwargs={'tool_calls': [{'index': 0, 'id': None, 'function': {'arguments': 'abc', 'name': ''}, 'type': 'function'}]} response_metadata={} id='run-f3d8a629-5708-430d-b6a3-936b8647126a' invalid_tool_calls=[{'name': '', 'args': 'abc', 'id': None, 'error': None, 'type': 'invalid_tool_call'}] tool_call_chunks=[{'name': '', 'args': 'abc', 'id': None, 'index': 0, 'type': 'tool_call_chunk'}]\n",
      "content='' additional_kwargs={'tool_calls': [{'index': 0, 'id': None, 'function': {'arguments': '2', 'name': ''}, 'type': 'function'}]} response_metadata={} id='run-f3d8a629-5708-430d-b6a3-936b8647126a' invalid_tool_calls=[{'name': '', 'args': '2', 'id': None, 'error': None, 'type': 'invalid_tool_call'}] tool_call_chunks=[{'name': '', 'args': '2', 'id': None, 'index': 0, 'type': 'tool_call_chunk'}]\n",
      "content='' additional_kwargs={'tool_calls': [{'index': 0, 'id': None, 'function': {'arguments': '7', 'name': ''}, 'type': 'function'}]} response_metadata={} id='run-f3d8a629-5708-430d-b6a3-936b8647126a' invalid_tool_calls=[{'name': '', 'args': '7', 'id': None, 'error': None, 'type': 'invalid_tool_call'}] tool_call_chunks=[{'name': '', 'args': '7', 'id': None, 'index': 0, 'type': 'tool_call_chunk'}]\n",
      "content='' additional_kwargs={'tool_calls': [{'index': 0, 'id': None, 'function': {'arguments': 'c', 'name': ''}, 'type': 'function'}]} response_metadata={} id='run-f3d8a629-5708-430d-b6a3-936b8647126a' invalid_tool_calls=[{'name': '', 'args': 'c', 'id': None, 'error': None, 'type': 'invalid_tool_call'}] tool_call_chunks=[{'name': '', 'args': 'c', 'id': None, 'index': 0, 'type': 'tool_call_chunk'}]\n",
      "content='' additional_kwargs={'tool_calls': [{'index': 0, 'id': None, 'function': {'arguments': '\"}', 'name': ''}, 'type': 'function'}]} response_metadata={} id='run-f3d8a629-5708-430d-b6a3-936b8647126a' invalid_tool_calls=[{'name': '', 'args': '\"}', 'id': None, 'error': None, 'type': 'invalid_tool_call'}] tool_call_chunks=[{'name': '', 'args': '\"}', 'id': None, 'index': 0, 'type': 'tool_call_chunk'}]\n",
      "content='' additional_kwargs={} response_metadata={'finish_reason': 'stop', 'model_name': 'gemma-3-4b-it', 'system_fingerprint': 'gemma-3-4b-it'} id='run-f3d8a629-5708-430d-b6a3-936b8647126a'\n",
      "content='Stored memory da3e91fb-4c3b-4c82-b471-da233aabc27c' name='upsert_memory' id='8bb3690c-0d8d-4c05-a755-fbf8501c78f5' tool_call_id='614858390'\n",
      "content='' additional_kwargs={'tool_calls': [{'index': 0, 'id': '384575758', 'function': {'arguments': '', 'name': 'upsert_memory'}, 'type': 'function'}]} response_metadata={} id='run-f8e839e3-7ec0-40aa-9309-b6a4f8f4a58c' tool_calls=[{'name': 'upsert_memory', 'args': {}, 'id': '384575758', 'type': 'tool_call'}] tool_call_chunks=[{'name': 'upsert_memory', 'args': '', 'id': '384575758', 'index': 0, 'type': 'tool_call_chunk'}]\n",
      "content='' additional_kwargs={'tool_calls': [{'index': 0, 'id': None, 'function': {'arguments': '{\"', 'name': ''}, 'type': 'function'}]} response_metadata={} id='run-f8e839e3-7ec0-40aa-9309-b6a4f8f4a58c' tool_calls=[{'name': '', 'args': {}, 'id': None, 'type': 'tool_call'}] tool_call_chunks=[{'name': '', 'args': '{\"', 'id': None, 'index': 0, 'type': 'tool_call_chunk'}]\n",
      "content='' additional_kwargs={'tool_calls': [{'index': 0, 'id': None, 'function': {'arguments': 'content', 'name': ''}, 'type': 'function'}]} response_metadata={} id='run-f8e839e3-7ec0-40aa-9309-b6a4f8f4a58c' invalid_tool_calls=[{'name': '', 'args': 'content', 'id': None, 'error': None, 'type': 'invalid_tool_call'}] tool_call_chunks=[{'name': '', 'args': 'content', 'id': None, 'index': 0, 'type': 'tool_call_chunk'}]\n",
      "content='' additional_kwargs={'tool_calls': [{'index': 0, 'id': None, 'function': {'arguments': '\":', 'name': ''}, 'type': 'function'}]} response_metadata={} id='run-f8e839e3-7ec0-40aa-9309-b6a4f8f4a58c' invalid_tool_calls=[{'name': '', 'args': '\":', 'id': None, 'error': None, 'type': 'invalid_tool_call'}] tool_call_chunks=[{'name': '', 'args': '\":', 'id': None, 'index': 0, 'type': 'tool_call_chunk'}]\n",
      "content='' additional_kwargs={'tool_calls': [{'index': 0, 'id': None, 'function': {'arguments': ' \"', 'name': ''}, 'type': 'function'}]} response_metadata={} id='run-f8e839e3-7ec0-40aa-9309-b6a4f8f4a58c' invalid_tool_calls=[{'name': '', 'args': ' \"', 'id': None, 'error': None, 'type': 'invalid_tool_call'}] tool_call_chunks=[{'name': '', 'args': ' \"', 'id': None, 'index': 0, 'type': 'tool_call_chunk'}]\n",
      "content='' additional_kwargs={'tool_calls': [{'index': 0, 'id': None, 'function': {'arguments': 'I', 'name': ''}, 'type': 'function'}]} response_metadata={} id='run-f8e839e3-7ec0-40aa-9309-b6a4f8f4a58c' invalid_tool_calls=[{'name': '', 'args': 'I', 'id': None, 'error': None, 'type': 'invalid_tool_call'}] tool_call_chunks=[{'name': '', 'args': 'I', 'id': None, 'index': 0, 'type': 'tool_call_chunk'}]\n",
      "content='' additional_kwargs={'tool_calls': [{'index': 0, 'id': None, 'function': {'arguments': \"'\", 'name': ''}, 'type': 'function'}]} response_metadata={} id='run-f8e839e3-7ec0-40aa-9309-b6a4f8f4a58c' invalid_tool_calls=[{'name': '', 'args': \"'\", 'id': None, 'error': None, 'type': 'invalid_tool_call'}] tool_call_chunks=[{'name': '', 'args': \"'\", 'id': None, 'index': 0, 'type': 'tool_call_chunk'}]\n",
      "content='' additional_kwargs={'tool_calls': [{'index': 0, 'id': None, 'function': {'arguments': 'm', 'name': ''}, 'type': 'function'}]} response_metadata={} id='run-f8e839e3-7ec0-40aa-9309-b6a4f8f4a58c' invalid_tool_calls=[{'name': '', 'args': 'm', 'id': None, 'error': None, 'type': 'invalid_tool_call'}] tool_call_chunks=[{'name': '', 'args': 'm', 'id': None, 'index': 0, 'type': 'tool_call_chunk'}]\n",
      "content='' additional_kwargs={'tool_calls': [{'index': 0, 'id': None, 'function': {'arguments': ' hungry', 'name': ''}, 'type': 'function'}]} response_metadata={} id='run-f8e839e3-7ec0-40aa-9309-b6a4f8f4a58c' invalid_tool_calls=[{'name': '', 'args': ' hungry', 'id': None, 'error': None, 'type': 'invalid_tool_call'}] tool_call_chunks=[{'name': '', 'args': ' hungry', 'id': None, 'index': 0, 'type': 'tool_call_chunk'}]\n",
      "content='' additional_kwargs={'tool_calls': [{'index': 0, 'id': None, 'function': {'arguments': '\",', 'name': ''}, 'type': 'function'}]} response_metadata={} id='run-f8e839e3-7ec0-40aa-9309-b6a4f8f4a58c' invalid_tool_calls=[{'name': '', 'args': '\",', 'id': None, 'error': None, 'type': 'invalid_tool_call'}] tool_call_chunks=[{'name': '', 'args': '\",', 'id': None, 'index': 0, 'type': 'tool_call_chunk'}]\n",
      "content='' additional_kwargs={'tool_calls': [{'index': 0, 'id': None, 'function': {'arguments': '\\n', 'name': ''}, 'type': 'function'}]} response_metadata={} id='run-f8e839e3-7ec0-40aa-9309-b6a4f8f4a58c' invalid_tool_calls=[{'name': '', 'args': '\\n', 'id': None, 'error': None, 'type': 'invalid_tool_call'}] tool_call_chunks=[{'name': '', 'args': '\\n', 'id': None, 'index': 0, 'type': 'tool_call_chunk'}]\n",
      "content='' additional_kwargs={'tool_calls': [{'index': 0, 'id': None, 'function': {'arguments': '\"', 'name': ''}, 'type': 'function'}]} response_metadata={} id='run-f8e839e3-7ec0-40aa-9309-b6a4f8f4a58c' invalid_tool_calls=[{'name': '', 'args': '\"', 'id': None, 'error': None, 'type': 'invalid_tool_call'}] tool_call_chunks=[{'name': '', 'args': '\"', 'id': None, 'index': 0, 'type': 'tool_call_chunk'}]\n",
      "content='' additional_kwargs={'tool_calls': [{'index': 0, 'id': None, 'function': {'arguments': 'memory', 'name': ''}, 'type': 'function'}]} response_metadata={} id='run-f8e839e3-7ec0-40aa-9309-b6a4f8f4a58c' invalid_tool_calls=[{'name': '', 'args': 'memory', 'id': None, 'error': None, 'type': 'invalid_tool_call'}] tool_call_chunks=[{'name': '', 'args': 'memory', 'id': None, 'index': 0, 'type': 'tool_call_chunk'}]\n",
      "content='' additional_kwargs={'tool_calls': [{'index': 0, 'id': None, 'function': {'arguments': '_', 'name': ''}, 'type': 'function'}]} response_metadata={} id='run-f8e839e3-7ec0-40aa-9309-b6a4f8f4a58c' invalid_tool_calls=[{'name': '', 'args': '_', 'id': None, 'error': None, 'type': 'invalid_tool_call'}] tool_call_chunks=[{'name': '', 'args': '_', 'id': None, 'index': 0, 'type': 'tool_call_chunk'}]\n",
      "content='' additional_kwargs={'tool_calls': [{'index': 0, 'id': None, 'function': {'arguments': 'id', 'name': ''}, 'type': 'function'}]} response_metadata={} id='run-f8e839e3-7ec0-40aa-9309-b6a4f8f4a58c' invalid_tool_calls=[{'name': '', 'args': 'id', 'id': None, 'error': None, 'type': 'invalid_tool_call'}] tool_call_chunks=[{'name': '', 'args': 'id', 'id': None, 'index': 0, 'type': 'tool_call_chunk'}]\n",
      "content='' additional_kwargs={'tool_calls': [{'index': 0, 'id': None, 'function': {'arguments': '\":', 'name': ''}, 'type': 'function'}]} response_metadata={} id='run-f8e839e3-7ec0-40aa-9309-b6a4f8f4a58c' invalid_tool_calls=[{'name': '', 'args': '\":', 'id': None, 'error': None, 'type': 'invalid_tool_call'}] tool_call_chunks=[{'name': '', 'args': '\":', 'id': None, 'index': 0, 'type': 'tool_call_chunk'}]\n",
      "content='' additional_kwargs={'tool_calls': [{'index': 0, 'id': None, 'function': {'arguments': ' \"', 'name': ''}, 'type': 'function'}]} response_metadata={} id='run-f8e839e3-7ec0-40aa-9309-b6a4f8f4a58c' invalid_tool_calls=[{'name': '', 'args': ' \"', 'id': None, 'error': None, 'type': 'invalid_tool_call'}] tool_call_chunks=[{'name': '', 'args': ' \"', 'id': None, 'index': 0, 'type': 'tool_call_chunk'}]\n",
      "content='' additional_kwargs={'tool_calls': [{'index': 0, 'id': None, 'function': {'arguments': 'da', 'name': ''}, 'type': 'function'}]} response_metadata={} id='run-f8e839e3-7ec0-40aa-9309-b6a4f8f4a58c' invalid_tool_calls=[{'name': '', 'args': 'da', 'id': None, 'error': None, 'type': 'invalid_tool_call'}] tool_call_chunks=[{'name': '', 'args': 'da', 'id': None, 'index': 0, 'type': 'tool_call_chunk'}]\n",
      "content='' additional_kwargs={'tool_calls': [{'index': 0, 'id': None, 'function': {'arguments': '3', 'name': ''}, 'type': 'function'}]} response_metadata={} id='run-f8e839e3-7ec0-40aa-9309-b6a4f8f4a58c' invalid_tool_calls=[{'name': '', 'args': '3', 'id': None, 'error': None, 'type': 'invalid_tool_call'}] tool_call_chunks=[{'name': '', 'args': '3', 'id': None, 'index': 0, 'type': 'tool_call_chunk'}]\n",
      "content='' additional_kwargs={'tool_calls': [{'index': 0, 'id': None, 'function': {'arguments': 'e', 'name': ''}, 'type': 'function'}]} response_metadata={} id='run-f8e839e3-7ec0-40aa-9309-b6a4f8f4a58c' invalid_tool_calls=[{'name': '', 'args': 'e', 'id': None, 'error': None, 'type': 'invalid_tool_call'}] tool_call_chunks=[{'name': '', 'args': 'e', 'id': None, 'index': 0, 'type': 'tool_call_chunk'}]\n",
      "content='' additional_kwargs={'tool_calls': [{'index': 0, 'id': None, 'function': {'arguments': '9', 'name': ''}, 'type': 'function'}]} response_metadata={} id='run-f8e839e3-7ec0-40aa-9309-b6a4f8f4a58c' invalid_tool_calls=[{'name': '', 'args': '9', 'id': None, 'error': None, 'type': 'invalid_tool_call'}] tool_call_chunks=[{'name': '', 'args': '9', 'id': None, 'index': 0, 'type': 'tool_call_chunk'}]\n",
      "content='' additional_kwargs={'tool_calls': [{'index': 0, 'id': None, 'function': {'arguments': '1', 'name': ''}, 'type': 'function'}]} response_metadata={} id='run-f8e839e3-7ec0-40aa-9309-b6a4f8f4a58c' invalid_tool_calls=[{'name': '', 'args': '1', 'id': None, 'error': None, 'type': 'invalid_tool_call'}] tool_call_chunks=[{'name': '', 'args': '1', 'id': None, 'index': 0, 'type': 'tool_call_chunk'}]\n",
      "content='' additional_kwargs={'tool_calls': [{'index': 0, 'id': None, 'function': {'arguments': 'fb', 'name': ''}, 'type': 'function'}]} response_metadata={} id='run-f8e839e3-7ec0-40aa-9309-b6a4f8f4a58c' invalid_tool_calls=[{'name': '', 'args': 'fb', 'id': None, 'error': None, 'type': 'invalid_tool_call'}] tool_call_chunks=[{'name': '', 'args': 'fb', 'id': None, 'index': 0, 'type': 'tool_call_chunk'}]\n",
      "content='' additional_kwargs={'tool_calls': [{'index': 0, 'id': None, 'function': {'arguments': '-', 'name': ''}, 'type': 'function'}]} response_metadata={} id='run-f8e839e3-7ec0-40aa-9309-b6a4f8f4a58c' invalid_tool_calls=[{'name': '', 'args': '-', 'id': None, 'error': None, 'type': 'invalid_tool_call'}] tool_call_chunks=[{'name': '', 'args': '-', 'id': None, 'index': 0, 'type': 'tool_call_chunk'}]\n",
      "content='' additional_kwargs={'tool_calls': [{'index': 0, 'id': None, 'function': {'arguments': '4', 'name': ''}, 'type': 'function'}]} response_metadata={} id='run-f8e839e3-7ec0-40aa-9309-b6a4f8f4a58c' invalid_tool_calls=[{'name': '', 'args': '4', 'id': None, 'error': None, 'type': 'invalid_tool_call'}] tool_call_chunks=[{'name': '', 'args': '4', 'id': None, 'index': 0, 'type': 'tool_call_chunk'}]\n",
      "content='' additional_kwargs={'tool_calls': [{'index': 0, 'id': None, 'function': {'arguments': 'c', 'name': ''}, 'type': 'function'}]} response_metadata={} id='run-f8e839e3-7ec0-40aa-9309-b6a4f8f4a58c' invalid_tool_calls=[{'name': '', 'args': 'c', 'id': None, 'error': None, 'type': 'invalid_tool_call'}] tool_call_chunks=[{'name': '', 'args': 'c', 'id': None, 'index': 0, 'type': 'tool_call_chunk'}]\n",
      "content='' additional_kwargs={'tool_calls': [{'index': 0, 'id': None, 'function': {'arguments': '3', 'name': ''}, 'type': 'function'}]} response_metadata={} id='run-f8e839e3-7ec0-40aa-9309-b6a4f8f4a58c' invalid_tool_calls=[{'name': '', 'args': '3', 'id': None, 'error': None, 'type': 'invalid_tool_call'}] tool_call_chunks=[{'name': '', 'args': '3', 'id': None, 'index': 0, 'type': 'tool_call_chunk'}]\n",
      "content='' additional_kwargs={'tool_calls': [{'index': 0, 'id': None, 'function': {'arguments': 'b', 'name': ''}, 'type': 'function'}]} response_metadata={} id='run-f8e839e3-7ec0-40aa-9309-b6a4f8f4a58c' invalid_tool_calls=[{'name': '', 'args': 'b', 'id': None, 'error': None, 'type': 'invalid_tool_call'}] tool_call_chunks=[{'name': '', 'args': 'b', 'id': None, 'index': 0, 'type': 'tool_call_chunk'}]\n",
      "content='' additional_kwargs={'tool_calls': [{'index': 0, 'id': None, 'function': {'arguments': '-', 'name': ''}, 'type': 'function'}]} response_metadata={} id='run-f8e839e3-7ec0-40aa-9309-b6a4f8f4a58c' invalid_tool_calls=[{'name': '', 'args': '-', 'id': None, 'error': None, 'type': 'invalid_tool_call'}] tool_call_chunks=[{'name': '', 'args': '-', 'id': None, 'index': 0, 'type': 'tool_call_chunk'}]\n",
      "content='' additional_kwargs={'tool_calls': [{'index': 0, 'id': None, 'function': {'arguments': '4', 'name': ''}, 'type': 'function'}]} response_metadata={} id='run-f8e839e3-7ec0-40aa-9309-b6a4f8f4a58c' invalid_tool_calls=[{'name': '', 'args': '4', 'id': None, 'error': None, 'type': 'invalid_tool_call'}] tool_call_chunks=[{'name': '', 'args': '4', 'id': None, 'index': 0, 'type': 'tool_call_chunk'}]\n",
      "content='' additional_kwargs={'tool_calls': [{'index': 0, 'id': None, 'function': {'arguments': 'c', 'name': ''}, 'type': 'function'}]} response_metadata={} id='run-f8e839e3-7ec0-40aa-9309-b6a4f8f4a58c' invalid_tool_calls=[{'name': '', 'args': 'c', 'id': None, 'error': None, 'type': 'invalid_tool_call'}] tool_call_chunks=[{'name': '', 'args': 'c', 'id': None, 'index': 0, 'type': 'tool_call_chunk'}]\n",
      "content='' additional_kwargs={'tool_calls': [{'index': 0, 'id': None, 'function': {'arguments': '8', 'name': ''}, 'type': 'function'}]} response_metadata={} id='run-f8e839e3-7ec0-40aa-9309-b6a4f8f4a58c' invalid_tool_calls=[{'name': '', 'args': '8', 'id': None, 'error': None, 'type': 'invalid_tool_call'}] tool_call_chunks=[{'name': '', 'args': '8', 'id': None, 'index': 0, 'type': 'tool_call_chunk'}]\n",
      "content='' additional_kwargs={'tool_calls': [{'index': 0, 'id': None, 'function': {'arguments': '2', 'name': ''}, 'type': 'function'}]} response_metadata={} id='run-f8e839e3-7ec0-40aa-9309-b6a4f8f4a58c' invalid_tool_calls=[{'name': '', 'args': '2', 'id': None, 'error': None, 'type': 'invalid_tool_call'}] tool_call_chunks=[{'name': '', 'args': '2', 'id': None, 'index': 0, 'type': 'tool_call_chunk'}]\n",
      "content='' additional_kwargs={'tool_calls': [{'index': 0, 'id': None, 'function': {'arguments': '-', 'name': ''}, 'type': 'function'}]} response_metadata={} id='run-f8e839e3-7ec0-40aa-9309-b6a4f8f4a58c' invalid_tool_calls=[{'name': '', 'args': '-', 'id': None, 'error': None, 'type': 'invalid_tool_call'}] tool_call_chunks=[{'name': '', 'args': '-', 'id': None, 'index': 0, 'type': 'tool_call_chunk'}]\n",
      "content='' additional_kwargs={'tool_calls': [{'index': 0, 'id': None, 'function': {'arguments': 'b', 'name': ''}, 'type': 'function'}]} response_metadata={} id='run-f8e839e3-7ec0-40aa-9309-b6a4f8f4a58c' invalid_tool_calls=[{'name': '', 'args': 'b', 'id': None, 'error': None, 'type': 'invalid_tool_call'}] tool_call_chunks=[{'name': '', 'args': 'b', 'id': None, 'index': 0, 'type': 'tool_call_chunk'}]\n",
      "content='' additional_kwargs={'tool_calls': [{'index': 0, 'id': None, 'function': {'arguments': '4', 'name': ''}, 'type': 'function'}]} response_metadata={} id='run-f8e839e3-7ec0-40aa-9309-b6a4f8f4a58c' invalid_tool_calls=[{'name': '', 'args': '4', 'id': None, 'error': None, 'type': 'invalid_tool_call'}] tool_call_chunks=[{'name': '', 'args': '4', 'id': None, 'index': 0, 'type': 'tool_call_chunk'}]\n",
      "content='' additional_kwargs={'tool_calls': [{'index': 0, 'id': None, 'function': {'arguments': '7', 'name': ''}, 'type': 'function'}]} response_metadata={} id='run-f8e839e3-7ec0-40aa-9309-b6a4f8f4a58c' invalid_tool_calls=[{'name': '', 'args': '7', 'id': None, 'error': None, 'type': 'invalid_tool_call'}] tool_call_chunks=[{'name': '', 'args': '7', 'id': None, 'index': 0, 'type': 'tool_call_chunk'}]\n",
      "content='' additional_kwargs={'tool_calls': [{'index': 0, 'id': None, 'function': {'arguments': '1', 'name': ''}, 'type': 'function'}]} response_metadata={} id='run-f8e839e3-7ec0-40aa-9309-b6a4f8f4a58c' invalid_tool_calls=[{'name': '', 'args': '1', 'id': None, 'error': None, 'type': 'invalid_tool_call'}] tool_call_chunks=[{'name': '', 'args': '1', 'id': None, 'index': 0, 'type': 'tool_call_chunk'}]\n",
      "content='' additional_kwargs={'tool_calls': [{'index': 0, 'id': None, 'function': {'arguments': '-', 'name': ''}, 'type': 'function'}]} response_metadata={} id='run-f8e839e3-7ec0-40aa-9309-b6a4f8f4a58c' invalid_tool_calls=[{'name': '', 'args': '-', 'id': None, 'error': None, 'type': 'invalid_tool_call'}] tool_call_chunks=[{'name': '', 'args': '-', 'id': None, 'index': 0, 'type': 'tool_call_chunk'}]\n",
      "content='' additional_kwargs={'tool_calls': [{'index': 0, 'id': None, 'function': {'arguments': 'da', 'name': ''}, 'type': 'function'}]} response_metadata={} id='run-f8e839e3-7ec0-40aa-9309-b6a4f8f4a58c' invalid_tool_calls=[{'name': '', 'args': 'da', 'id': None, 'error': None, 'type': 'invalid_tool_call'}] tool_call_chunks=[{'name': '', 'args': 'da', 'id': None, 'index': 0, 'type': 'tool_call_chunk'}]\n",
      "content='' additional_kwargs={'tool_calls': [{'index': 0, 'id': None, 'function': {'arguments': '2', 'name': ''}, 'type': 'function'}]} response_metadata={} id='run-f8e839e3-7ec0-40aa-9309-b6a4f8f4a58c' invalid_tool_calls=[{'name': '', 'args': '2', 'id': None, 'error': None, 'type': 'invalid_tool_call'}] tool_call_chunks=[{'name': '', 'args': '2', 'id': None, 'index': 0, 'type': 'tool_call_chunk'}]\n",
      "content='' additional_kwargs={'tool_calls': [{'index': 0, 'id': None, 'function': {'arguments': '3', 'name': ''}, 'type': 'function'}]} response_metadata={} id='run-f8e839e3-7ec0-40aa-9309-b6a4f8f4a58c' invalid_tool_calls=[{'name': '', 'args': '3', 'id': None, 'error': None, 'type': 'invalid_tool_call'}] tool_call_chunks=[{'name': '', 'args': '3', 'id': None, 'index': 0, 'type': 'tool_call_chunk'}]\n",
      "content='' additional_kwargs={'tool_calls': [{'index': 0, 'id': None, 'function': {'arguments': '3', 'name': ''}, 'type': 'function'}]} response_metadata={} id='run-f8e839e3-7ec0-40aa-9309-b6a4f8f4a58c' invalid_tool_calls=[{'name': '', 'args': '3', 'id': None, 'error': None, 'type': 'invalid_tool_call'}] tool_call_chunks=[{'name': '', 'args': '3', 'id': None, 'index': 0, 'type': 'tool_call_chunk'}]\n",
      "content='' additional_kwargs={'tool_calls': [{'index': 0, 'id': None, 'function': {'arguments': 'a', 'name': ''}, 'type': 'function'}]} response_metadata={} id='run-f8e839e3-7ec0-40aa-9309-b6a4f8f4a58c' invalid_tool_calls=[{'name': '', 'args': 'a', 'id': None, 'error': None, 'type': 'invalid_tool_call'}] tool_call_chunks=[{'name': '', 'args': 'a', 'id': None, 'index': 0, 'type': 'tool_call_chunk'}]\n",
      "content='' additional_kwargs={'tool_calls': [{'index': 0, 'id': None, 'function': {'arguments': 'abc', 'name': ''}, 'type': 'function'}]} response_metadata={} id='run-f8e839e3-7ec0-40aa-9309-b6a4f8f4a58c' invalid_tool_calls=[{'name': '', 'args': 'abc', 'id': None, 'error': None, 'type': 'invalid_tool_call'}] tool_call_chunks=[{'name': '', 'args': 'abc', 'id': None, 'index': 0, 'type': 'tool_call_chunk'}]\n",
      "content='' additional_kwargs={'tool_calls': [{'index': 0, 'id': None, 'function': {'arguments': '2', 'name': ''}, 'type': 'function'}]} response_metadata={} id='run-f8e839e3-7ec0-40aa-9309-b6a4f8f4a58c' invalid_tool_calls=[{'name': '', 'args': '2', 'id': None, 'error': None, 'type': 'invalid_tool_call'}] tool_call_chunks=[{'name': '', 'args': '2', 'id': None, 'index': 0, 'type': 'tool_call_chunk'}]\n",
      "content='' additional_kwargs={'tool_calls': [{'index': 0, 'id': None, 'function': {'arguments': '7', 'name': ''}, 'type': 'function'}]} response_metadata={} id='run-f8e839e3-7ec0-40aa-9309-b6a4f8f4a58c' invalid_tool_calls=[{'name': '', 'args': '7', 'id': None, 'error': None, 'type': 'invalid_tool_call'}] tool_call_chunks=[{'name': '', 'args': '7', 'id': None, 'index': 0, 'type': 'tool_call_chunk'}]\n",
      "content='' additional_kwargs={'tool_calls': [{'index': 0, 'id': None, 'function': {'arguments': 'c', 'name': ''}, 'type': 'function'}]} response_metadata={} id='run-f8e839e3-7ec0-40aa-9309-b6a4f8f4a58c' invalid_tool_calls=[{'name': '', 'args': 'c', 'id': None, 'error': None, 'type': 'invalid_tool_call'}] tool_call_chunks=[{'name': '', 'args': 'c', 'id': None, 'index': 0, 'type': 'tool_call_chunk'}]\n",
      "content='' additional_kwargs={'tool_calls': [{'index': 0, 'id': None, 'function': {'arguments': '\"}', 'name': ''}, 'type': 'function'}]} response_metadata={} id='run-f8e839e3-7ec0-40aa-9309-b6a4f8f4a58c' invalid_tool_calls=[{'name': '', 'args': '\"}', 'id': None, 'error': None, 'type': 'invalid_tool_call'}] tool_call_chunks=[{'name': '', 'args': '\"}', 'id': None, 'index': 0, 'type': 'tool_call_chunk'}]\n",
      "content='' additional_kwargs={} response_metadata={'finish_reason': 'stop', 'model_name': 'gemma-3-4b-it', 'system_fingerprint': 'gemma-3-4b-it'} id='run-f8e839e3-7ec0-40aa-9309-b6a4f8f4a58c'\n",
      "content='Stored memory da3e91fb-4c3b-4c82-b471-da233aabc27c' name='upsert_memory' id='5293bf9f-794f-470a-ae5a-470278a9b1c8' tool_call_id='384575758'\n",
      "content='' additional_kwargs={'tool_calls': [{'index': 0, 'id': '479957181', 'function': {'arguments': '', 'name': 'upsert_memory'}, 'type': 'function'}]} response_metadata={} id='run-43e10dfa-973d-4aa6-a299-e795bb29c2a1' tool_calls=[{'name': 'upsert_memory', 'args': {}, 'id': '479957181', 'type': 'tool_call'}] tool_call_chunks=[{'name': 'upsert_memory', 'args': '', 'id': '479957181', 'index': 0, 'type': 'tool_call_chunk'}]\n",
      "content='' additional_kwargs={'tool_calls': [{'index': 0, 'id': None, 'function': {'arguments': '{\"', 'name': ''}, 'type': 'function'}]} response_metadata={} id='run-43e10dfa-973d-4aa6-a299-e795bb29c2a1' tool_calls=[{'name': '', 'args': {}, 'id': None, 'type': 'tool_call'}] tool_call_chunks=[{'name': '', 'args': '{\"', 'id': None, 'index': 0, 'type': 'tool_call_chunk'}]\n",
      "content='' additional_kwargs={'tool_calls': [{'index': 0, 'id': None, 'function': {'arguments': 'content', 'name': ''}, 'type': 'function'}]} response_metadata={} id='run-43e10dfa-973d-4aa6-a299-e795bb29c2a1' invalid_tool_calls=[{'name': '', 'args': 'content', 'id': None, 'error': None, 'type': 'invalid_tool_call'}] tool_call_chunks=[{'name': '', 'args': 'content', 'id': None, 'index': 0, 'type': 'tool_call_chunk'}]\n",
      "content='' additional_kwargs={'tool_calls': [{'index': 0, 'id': None, 'function': {'arguments': '\":', 'name': ''}, 'type': 'function'}]} response_metadata={} id='run-43e10dfa-973d-4aa6-a299-e795bb29c2a1' invalid_tool_calls=[{'name': '', 'args': '\":', 'id': None, 'error': None, 'type': 'invalid_tool_call'}] tool_call_chunks=[{'name': '', 'args': '\":', 'id': None, 'index': 0, 'type': 'tool_call_chunk'}]\n",
      "content='' additional_kwargs={'tool_calls': [{'index': 0, 'id': None, 'function': {'arguments': ' \"', 'name': ''}, 'type': 'function'}]} response_metadata={} id='run-43e10dfa-973d-4aa6-a299-e795bb29c2a1' invalid_tool_calls=[{'name': '', 'args': ' \"', 'id': None, 'error': None, 'type': 'invalid_tool_call'}] tool_call_chunks=[{'name': '', 'args': ' \"', 'id': None, 'index': 0, 'type': 'tool_call_chunk'}]\n",
      "content='' additional_kwargs={'tool_calls': [{'index': 0, 'id': None, 'function': {'arguments': 'I', 'name': ''}, 'type': 'function'}]} response_metadata={} id='run-43e10dfa-973d-4aa6-a299-e795bb29c2a1' invalid_tool_calls=[{'name': '', 'args': 'I', 'id': None, 'error': None, 'type': 'invalid_tool_call'}] tool_call_chunks=[{'name': '', 'args': 'I', 'id': None, 'index': 0, 'type': 'tool_call_chunk'}]\n",
      "content='' additional_kwargs={'tool_calls': [{'index': 0, 'id': None, 'function': {'arguments': \"'\", 'name': ''}, 'type': 'function'}]} response_metadata={} id='run-43e10dfa-973d-4aa6-a299-e795bb29c2a1' invalid_tool_calls=[{'name': '', 'args': \"'\", 'id': None, 'error': None, 'type': 'invalid_tool_call'}] tool_call_chunks=[{'name': '', 'args': \"'\", 'id': None, 'index': 0, 'type': 'tool_call_chunk'}]\n",
      "content='' additional_kwargs={'tool_calls': [{'index': 0, 'id': None, 'function': {'arguments': 'm', 'name': ''}, 'type': 'function'}]} response_metadata={} id='run-43e10dfa-973d-4aa6-a299-e795bb29c2a1' invalid_tool_calls=[{'name': '', 'args': 'm', 'id': None, 'error': None, 'type': 'invalid_tool_call'}] tool_call_chunks=[{'name': '', 'args': 'm', 'id': None, 'index': 0, 'type': 'tool_call_chunk'}]\n",
      "content='' additional_kwargs={'tool_calls': [{'index': 0, 'id': None, 'function': {'arguments': ' hungry', 'name': ''}, 'type': 'function'}]} response_metadata={} id='run-43e10dfa-973d-4aa6-a299-e795bb29c2a1' invalid_tool_calls=[{'name': '', 'args': ' hungry', 'id': None, 'error': None, 'type': 'invalid_tool_call'}] tool_call_chunks=[{'name': '', 'args': ' hungry', 'id': None, 'index': 0, 'type': 'tool_call_chunk'}]\n",
      "content='' additional_kwargs={'tool_calls': [{'index': 0, 'id': None, 'function': {'arguments': '\",', 'name': ''}, 'type': 'function'}]} response_metadata={} id='run-43e10dfa-973d-4aa6-a299-e795bb29c2a1' invalid_tool_calls=[{'name': '', 'args': '\",', 'id': None, 'error': None, 'type': 'invalid_tool_call'}] tool_call_chunks=[{'name': '', 'args': '\",', 'id': None, 'index': 0, 'type': 'tool_call_chunk'}]\n",
      "content='' additional_kwargs={'tool_calls': [{'index': 0, 'id': None, 'function': {'arguments': '\\n', 'name': ''}, 'type': 'function'}]} response_metadata={} id='run-43e10dfa-973d-4aa6-a299-e795bb29c2a1' invalid_tool_calls=[{'name': '', 'args': '\\n', 'id': None, 'error': None, 'type': 'invalid_tool_call'}] tool_call_chunks=[{'name': '', 'args': '\\n', 'id': None, 'index': 0, 'type': 'tool_call_chunk'}]\n",
      "content='' additional_kwargs={'tool_calls': [{'index': 0, 'id': None, 'function': {'arguments': '\"', 'name': ''}, 'type': 'function'}]} response_metadata={} id='run-43e10dfa-973d-4aa6-a299-e795bb29c2a1' invalid_tool_calls=[{'name': '', 'args': '\"', 'id': None, 'error': None, 'type': 'invalid_tool_call'}] tool_call_chunks=[{'name': '', 'args': '\"', 'id': None, 'index': 0, 'type': 'tool_call_chunk'}]\n",
      "content='' additional_kwargs={'tool_calls': [{'index': 0, 'id': None, 'function': {'arguments': 'memory', 'name': ''}, 'type': 'function'}]} response_metadata={} id='run-43e10dfa-973d-4aa6-a299-e795bb29c2a1' invalid_tool_calls=[{'name': '', 'args': 'memory', 'id': None, 'error': None, 'type': 'invalid_tool_call'}] tool_call_chunks=[{'name': '', 'args': 'memory', 'id': None, 'index': 0, 'type': 'tool_call_chunk'}]\n",
      "content='' additional_kwargs={'tool_calls': [{'index': 0, 'id': None, 'function': {'arguments': '_', 'name': ''}, 'type': 'function'}]} response_metadata={} id='run-43e10dfa-973d-4aa6-a299-e795bb29c2a1' invalid_tool_calls=[{'name': '', 'args': '_', 'id': None, 'error': None, 'type': 'invalid_tool_call'}] tool_call_chunks=[{'name': '', 'args': '_', 'id': None, 'index': 0, 'type': 'tool_call_chunk'}]\n",
      "content='' additional_kwargs={'tool_calls': [{'index': 0, 'id': None, 'function': {'arguments': 'id', 'name': ''}, 'type': 'function'}]} response_metadata={} id='run-43e10dfa-973d-4aa6-a299-e795bb29c2a1' invalid_tool_calls=[{'name': '', 'args': 'id', 'id': None, 'error': None, 'type': 'invalid_tool_call'}] tool_call_chunks=[{'name': '', 'args': 'id', 'id': None, 'index': 0, 'type': 'tool_call_chunk'}]\n",
      "content='' additional_kwargs={'tool_calls': [{'index': 0, 'id': None, 'function': {'arguments': '\":', 'name': ''}, 'type': 'function'}]} response_metadata={} id='run-43e10dfa-973d-4aa6-a299-e795bb29c2a1' invalid_tool_calls=[{'name': '', 'args': '\":', 'id': None, 'error': None, 'type': 'invalid_tool_call'}] tool_call_chunks=[{'name': '', 'args': '\":', 'id': None, 'index': 0, 'type': 'tool_call_chunk'}]\n",
      "content='' additional_kwargs={'tool_calls': [{'index': 0, 'id': None, 'function': {'arguments': ' \"', 'name': ''}, 'type': 'function'}]} response_metadata={} id='run-43e10dfa-973d-4aa6-a299-e795bb29c2a1' invalid_tool_calls=[{'name': '', 'args': ' \"', 'id': None, 'error': None, 'type': 'invalid_tool_call'}] tool_call_chunks=[{'name': '', 'args': ' \"', 'id': None, 'index': 0, 'type': 'tool_call_chunk'}]\n",
      "content='' additional_kwargs={'tool_calls': [{'index': 0, 'id': None, 'function': {'arguments': 'da', 'name': ''}, 'type': 'function'}]} response_metadata={} id='run-43e10dfa-973d-4aa6-a299-e795bb29c2a1' invalid_tool_calls=[{'name': '', 'args': 'da', 'id': None, 'error': None, 'type': 'invalid_tool_call'}] tool_call_chunks=[{'name': '', 'args': 'da', 'id': None, 'index': 0, 'type': 'tool_call_chunk'}]\n",
      "content='' additional_kwargs={'tool_calls': [{'index': 0, 'id': None, 'function': {'arguments': '3', 'name': ''}, 'type': 'function'}]} response_metadata={} id='run-43e10dfa-973d-4aa6-a299-e795bb29c2a1' invalid_tool_calls=[{'name': '', 'args': '3', 'id': None, 'error': None, 'type': 'invalid_tool_call'}] tool_call_chunks=[{'name': '', 'args': '3', 'id': None, 'index': 0, 'type': 'tool_call_chunk'}]\n",
      "content='' additional_kwargs={'tool_calls': [{'index': 0, 'id': None, 'function': {'arguments': 'e', 'name': ''}, 'type': 'function'}]} response_metadata={} id='run-43e10dfa-973d-4aa6-a299-e795bb29c2a1' invalid_tool_calls=[{'name': '', 'args': 'e', 'id': None, 'error': None, 'type': 'invalid_tool_call'}] tool_call_chunks=[{'name': '', 'args': 'e', 'id': None, 'index': 0, 'type': 'tool_call_chunk'}]\n",
      "content='' additional_kwargs={'tool_calls': [{'index': 0, 'id': None, 'function': {'arguments': '9', 'name': ''}, 'type': 'function'}]} response_metadata={} id='run-43e10dfa-973d-4aa6-a299-e795bb29c2a1' invalid_tool_calls=[{'name': '', 'args': '9', 'id': None, 'error': None, 'type': 'invalid_tool_call'}] tool_call_chunks=[{'name': '', 'args': '9', 'id': None, 'index': 0, 'type': 'tool_call_chunk'}]\n",
      "content='' additional_kwargs={'tool_calls': [{'index': 0, 'id': None, 'function': {'arguments': '1', 'name': ''}, 'type': 'function'}]} response_metadata={} id='run-43e10dfa-973d-4aa6-a299-e795bb29c2a1' invalid_tool_calls=[{'name': '', 'args': '1', 'id': None, 'error': None, 'type': 'invalid_tool_call'}] tool_call_chunks=[{'name': '', 'args': '1', 'id': None, 'index': 0, 'type': 'tool_call_chunk'}]\n",
      "content='' additional_kwargs={'tool_calls': [{'index': 0, 'id': None, 'function': {'arguments': 'fb', 'name': ''}, 'type': 'function'}]} response_metadata={} id='run-43e10dfa-973d-4aa6-a299-e795bb29c2a1' invalid_tool_calls=[{'name': '', 'args': 'fb', 'id': None, 'error': None, 'type': 'invalid_tool_call'}] tool_call_chunks=[{'name': '', 'args': 'fb', 'id': None, 'index': 0, 'type': 'tool_call_chunk'}]\n",
      "content='' additional_kwargs={'tool_calls': [{'index': 0, 'id': None, 'function': {'arguments': '-', 'name': ''}, 'type': 'function'}]} response_metadata={} id='run-43e10dfa-973d-4aa6-a299-e795bb29c2a1' invalid_tool_calls=[{'name': '', 'args': '-', 'id': None, 'error': None, 'type': 'invalid_tool_call'}] tool_call_chunks=[{'name': '', 'args': '-', 'id': None, 'index': 0, 'type': 'tool_call_chunk'}]\n",
      "content='' additional_kwargs={'tool_calls': [{'index': 0, 'id': None, 'function': {'arguments': '4', 'name': ''}, 'type': 'function'}]} response_metadata={} id='run-43e10dfa-973d-4aa6-a299-e795bb29c2a1' invalid_tool_calls=[{'name': '', 'args': '4', 'id': None, 'error': None, 'type': 'invalid_tool_call'}] tool_call_chunks=[{'name': '', 'args': '4', 'id': None, 'index': 0, 'type': 'tool_call_chunk'}]\n",
      "content='' additional_kwargs={'tool_calls': [{'index': 0, 'id': None, 'function': {'arguments': 'c', 'name': ''}, 'type': 'function'}]} response_metadata={} id='run-43e10dfa-973d-4aa6-a299-e795bb29c2a1' invalid_tool_calls=[{'name': '', 'args': 'c', 'id': None, 'error': None, 'type': 'invalid_tool_call'}] tool_call_chunks=[{'name': '', 'args': 'c', 'id': None, 'index': 0, 'type': 'tool_call_chunk'}]\n",
      "content='' additional_kwargs={'tool_calls': [{'index': 0, 'id': None, 'function': {'arguments': '3', 'name': ''}, 'type': 'function'}]} response_metadata={} id='run-43e10dfa-973d-4aa6-a299-e795bb29c2a1' invalid_tool_calls=[{'name': '', 'args': '3', 'id': None, 'error': None, 'type': 'invalid_tool_call'}] tool_call_chunks=[{'name': '', 'args': '3', 'id': None, 'index': 0, 'type': 'tool_call_chunk'}]\n",
      "content='' additional_kwargs={'tool_calls': [{'index': 0, 'id': None, 'function': {'arguments': 'b', 'name': ''}, 'type': 'function'}]} response_metadata={} id='run-43e10dfa-973d-4aa6-a299-e795bb29c2a1' invalid_tool_calls=[{'name': '', 'args': 'b', 'id': None, 'error': None, 'type': 'invalid_tool_call'}] tool_call_chunks=[{'name': '', 'args': 'b', 'id': None, 'index': 0, 'type': 'tool_call_chunk'}]\n",
      "content='' additional_kwargs={'tool_calls': [{'index': 0, 'id': None, 'function': {'arguments': '-', 'name': ''}, 'type': 'function'}]} response_metadata={} id='run-43e10dfa-973d-4aa6-a299-e795bb29c2a1' invalid_tool_calls=[{'name': '', 'args': '-', 'id': None, 'error': None, 'type': 'invalid_tool_call'}] tool_call_chunks=[{'name': '', 'args': '-', 'id': None, 'index': 0, 'type': 'tool_call_chunk'}]\n",
      "content='' additional_kwargs={'tool_calls': [{'index': 0, 'id': None, 'function': {'arguments': '4', 'name': ''}, 'type': 'function'}]} response_metadata={} id='run-43e10dfa-973d-4aa6-a299-e795bb29c2a1' invalid_tool_calls=[{'name': '', 'args': '4', 'id': None, 'error': None, 'type': 'invalid_tool_call'}] tool_call_chunks=[{'name': '', 'args': '4', 'id': None, 'index': 0, 'type': 'tool_call_chunk'}]\n",
      "content='' additional_kwargs={'tool_calls': [{'index': 0, 'id': None, 'function': {'arguments': 'c', 'name': ''}, 'type': 'function'}]} response_metadata={} id='run-43e10dfa-973d-4aa6-a299-e795bb29c2a1' invalid_tool_calls=[{'name': '', 'args': 'c', 'id': None, 'error': None, 'type': 'invalid_tool_call'}] tool_call_chunks=[{'name': '', 'args': 'c', 'id': None, 'index': 0, 'type': 'tool_call_chunk'}]\n",
      "content='' additional_kwargs={'tool_calls': [{'index': 0, 'id': None, 'function': {'arguments': '8', 'name': ''}, 'type': 'function'}]} response_metadata={} id='run-43e10dfa-973d-4aa6-a299-e795bb29c2a1' invalid_tool_calls=[{'name': '', 'args': '8', 'id': None, 'error': None, 'type': 'invalid_tool_call'}] tool_call_chunks=[{'name': '', 'args': '8', 'id': None, 'index': 0, 'type': 'tool_call_chunk'}]\n",
      "content='' additional_kwargs={'tool_calls': [{'index': 0, 'id': None, 'function': {'arguments': '2', 'name': ''}, 'type': 'function'}]} response_metadata={} id='run-43e10dfa-973d-4aa6-a299-e795bb29c2a1' invalid_tool_calls=[{'name': '', 'args': '2', 'id': None, 'error': None, 'type': 'invalid_tool_call'}] tool_call_chunks=[{'name': '', 'args': '2', 'id': None, 'index': 0, 'type': 'tool_call_chunk'}]\n",
      "content='' additional_kwargs={'tool_calls': [{'index': 0, 'id': None, 'function': {'arguments': '-', 'name': ''}, 'type': 'function'}]} response_metadata={} id='run-43e10dfa-973d-4aa6-a299-e795bb29c2a1' invalid_tool_calls=[{'name': '', 'args': '-', 'id': None, 'error': None, 'type': 'invalid_tool_call'}] tool_call_chunks=[{'name': '', 'args': '-', 'id': None, 'index': 0, 'type': 'tool_call_chunk'}]\n",
      "content='' additional_kwargs={'tool_calls': [{'index': 0, 'id': None, 'function': {'arguments': 'b', 'name': ''}, 'type': 'function'}]} response_metadata={} id='run-43e10dfa-973d-4aa6-a299-e795bb29c2a1' invalid_tool_calls=[{'name': '', 'args': 'b', 'id': None, 'error': None, 'type': 'invalid_tool_call'}] tool_call_chunks=[{'name': '', 'args': 'b', 'id': None, 'index': 0, 'type': 'tool_call_chunk'}]\n",
      "content='' additional_kwargs={'tool_calls': [{'index': 0, 'id': None, 'function': {'arguments': '4', 'name': ''}, 'type': 'function'}]} response_metadata={} id='run-43e10dfa-973d-4aa6-a299-e795bb29c2a1' invalid_tool_calls=[{'name': '', 'args': '4', 'id': None, 'error': None, 'type': 'invalid_tool_call'}] tool_call_chunks=[{'name': '', 'args': '4', 'id': None, 'index': 0, 'type': 'tool_call_chunk'}]\n",
      "content='' additional_kwargs={'tool_calls': [{'index': 0, 'id': None, 'function': {'arguments': '7', 'name': ''}, 'type': 'function'}]} response_metadata={} id='run-43e10dfa-973d-4aa6-a299-e795bb29c2a1' invalid_tool_calls=[{'name': '', 'args': '7', 'id': None, 'error': None, 'type': 'invalid_tool_call'}] tool_call_chunks=[{'name': '', 'args': '7', 'id': None, 'index': 0, 'type': 'tool_call_chunk'}]\n",
      "content='' additional_kwargs={'tool_calls': [{'index': 0, 'id': None, 'function': {'arguments': '1', 'name': ''}, 'type': 'function'}]} response_metadata={} id='run-43e10dfa-973d-4aa6-a299-e795bb29c2a1' invalid_tool_calls=[{'name': '', 'args': '1', 'id': None, 'error': None, 'type': 'invalid_tool_call'}] tool_call_chunks=[{'name': '', 'args': '1', 'id': None, 'index': 0, 'type': 'tool_call_chunk'}]\n",
      "content='' additional_kwargs={'tool_calls': [{'index': 0, 'id': None, 'function': {'arguments': '-', 'name': ''}, 'type': 'function'}]} response_metadata={} id='run-43e10dfa-973d-4aa6-a299-e795bb29c2a1' invalid_tool_calls=[{'name': '', 'args': '-', 'id': None, 'error': None, 'type': 'invalid_tool_call'}] tool_call_chunks=[{'name': '', 'args': '-', 'id': None, 'index': 0, 'type': 'tool_call_chunk'}]\n",
      "content='' additional_kwargs={'tool_calls': [{'index': 0, 'id': None, 'function': {'arguments': 'da', 'name': ''}, 'type': 'function'}]} response_metadata={} id='run-43e10dfa-973d-4aa6-a299-e795bb29c2a1' invalid_tool_calls=[{'name': '', 'args': 'da', 'id': None, 'error': None, 'type': 'invalid_tool_call'}] tool_call_chunks=[{'name': '', 'args': 'da', 'id': None, 'index': 0, 'type': 'tool_call_chunk'}]\n",
      "content='' additional_kwargs={'tool_calls': [{'index': 0, 'id': None, 'function': {'arguments': '2', 'name': ''}, 'type': 'function'}]} response_metadata={} id='run-43e10dfa-973d-4aa6-a299-e795bb29c2a1' invalid_tool_calls=[{'name': '', 'args': '2', 'id': None, 'error': None, 'type': 'invalid_tool_call'}] tool_call_chunks=[{'name': '', 'args': '2', 'id': None, 'index': 0, 'type': 'tool_call_chunk'}]\n",
      "content='' additional_kwargs={'tool_calls': [{'index': 0, 'id': None, 'function': {'arguments': '3', 'name': ''}, 'type': 'function'}]} response_metadata={} id='run-43e10dfa-973d-4aa6-a299-e795bb29c2a1' invalid_tool_calls=[{'name': '', 'args': '3', 'id': None, 'error': None, 'type': 'invalid_tool_call'}] tool_call_chunks=[{'name': '', 'args': '3', 'id': None, 'index': 0, 'type': 'tool_call_chunk'}]\n",
      "content='' additional_kwargs={'tool_calls': [{'index': 0, 'id': None, 'function': {'arguments': '3', 'name': ''}, 'type': 'function'}]} response_metadata={} id='run-43e10dfa-973d-4aa6-a299-e795bb29c2a1' invalid_tool_calls=[{'name': '', 'args': '3', 'id': None, 'error': None, 'type': 'invalid_tool_call'}] tool_call_chunks=[{'name': '', 'args': '3', 'id': None, 'index': 0, 'type': 'tool_call_chunk'}]\n",
      "content='' additional_kwargs={'tool_calls': [{'index': 0, 'id': None, 'function': {'arguments': 'a', 'name': ''}, 'type': 'function'}]} response_metadata={} id='run-43e10dfa-973d-4aa6-a299-e795bb29c2a1' invalid_tool_calls=[{'name': '', 'args': 'a', 'id': None, 'error': None, 'type': 'invalid_tool_call'}] tool_call_chunks=[{'name': '', 'args': 'a', 'id': None, 'index': 0, 'type': 'tool_call_chunk'}]\n",
      "content='' additional_kwargs={'tool_calls': [{'index': 0, 'id': None, 'function': {'arguments': 'abc', 'name': ''}, 'type': 'function'}]} response_metadata={} id='run-43e10dfa-973d-4aa6-a299-e795bb29c2a1' invalid_tool_calls=[{'name': '', 'args': 'abc', 'id': None, 'error': None, 'type': 'invalid_tool_call'}] tool_call_chunks=[{'name': '', 'args': 'abc', 'id': None, 'index': 0, 'type': 'tool_call_chunk'}]\n",
      "content='' additional_kwargs={'tool_calls': [{'index': 0, 'id': None, 'function': {'arguments': '2', 'name': ''}, 'type': 'function'}]} response_metadata={} id='run-43e10dfa-973d-4aa6-a299-e795bb29c2a1' invalid_tool_calls=[{'name': '', 'args': '2', 'id': None, 'error': None, 'type': 'invalid_tool_call'}] tool_call_chunks=[{'name': '', 'args': '2', 'id': None, 'index': 0, 'type': 'tool_call_chunk'}]\n",
      "content='' additional_kwargs={'tool_calls': [{'index': 0, 'id': None, 'function': {'arguments': '7', 'name': ''}, 'type': 'function'}]} response_metadata={} id='run-43e10dfa-973d-4aa6-a299-e795bb29c2a1' invalid_tool_calls=[{'name': '', 'args': '7', 'id': None, 'error': None, 'type': 'invalid_tool_call'}] tool_call_chunks=[{'name': '', 'args': '7', 'id': None, 'index': 0, 'type': 'tool_call_chunk'}]\n",
      "content='' additional_kwargs={'tool_calls': [{'index': 0, 'id': None, 'function': {'arguments': 'c', 'name': ''}, 'type': 'function'}]} response_metadata={} id='run-43e10dfa-973d-4aa6-a299-e795bb29c2a1' invalid_tool_calls=[{'name': '', 'args': 'c', 'id': None, 'error': None, 'type': 'invalid_tool_call'}] tool_call_chunks=[{'name': '', 'args': 'c', 'id': None, 'index': 0, 'type': 'tool_call_chunk'}]\n",
      "content='' additional_kwargs={'tool_calls': [{'index': 0, 'id': None, 'function': {'arguments': '\"}', 'name': ''}, 'type': 'function'}]} response_metadata={} id='run-43e10dfa-973d-4aa6-a299-e795bb29c2a1' invalid_tool_calls=[{'name': '', 'args': '\"}', 'id': None, 'error': None, 'type': 'invalid_tool_call'}] tool_call_chunks=[{'name': '', 'args': '\"}', 'id': None, 'index': 0, 'type': 'tool_call_chunk'}]\n",
      "content='' additional_kwargs={} response_metadata={'finish_reason': 'stop', 'model_name': 'gemma-3-4b-it', 'system_fingerprint': 'gemma-3-4b-it'} id='run-43e10dfa-973d-4aa6-a299-e795bb29c2a1'\n",
      "content='Stored memory da3e91fb-4c3b-4c82-b471-da233aabc27c' name='upsert_memory' id='1cf7c8b0-4c90-4459-8fca-5a6a2c8e09ee' tool_call_id='479957181'\n",
      "content='' additional_kwargs={'tool_calls': [{'index': 0, 'id': '736021171', 'function': {'arguments': '', 'name': 'upsert_memory'}, 'type': 'function'}]} response_metadata={} id='run-4c55aa26-b40d-4cca-8482-5e4c47a1fd08' tool_calls=[{'name': 'upsert_memory', 'args': {}, 'id': '736021171', 'type': 'tool_call'}] tool_call_chunks=[{'name': 'upsert_memory', 'args': '', 'id': '736021171', 'index': 0, 'type': 'tool_call_chunk'}]\n",
      "content='' additional_kwargs={'tool_calls': [{'index': 0, 'id': None, 'function': {'arguments': '{\"', 'name': ''}, 'type': 'function'}]} response_metadata={} id='run-4c55aa26-b40d-4cca-8482-5e4c47a1fd08' tool_calls=[{'name': '', 'args': {}, 'id': None, 'type': 'tool_call'}] tool_call_chunks=[{'name': '', 'args': '{\"', 'id': None, 'index': 0, 'type': 'tool_call_chunk'}]\n",
      "content='' additional_kwargs={'tool_calls': [{'index': 0, 'id': None, 'function': {'arguments': 'content', 'name': ''}, 'type': 'function'}]} response_metadata={} id='run-4c55aa26-b40d-4cca-8482-5e4c47a1fd08' invalid_tool_calls=[{'name': '', 'args': 'content', 'id': None, 'error': None, 'type': 'invalid_tool_call'}] tool_call_chunks=[{'name': '', 'args': 'content', 'id': None, 'index': 0, 'type': 'tool_call_chunk'}]\n",
      "content='' additional_kwargs={'tool_calls': [{'index': 0, 'id': None, 'function': {'arguments': '\":', 'name': ''}, 'type': 'function'}]} response_metadata={} id='run-4c55aa26-b40d-4cca-8482-5e4c47a1fd08' invalid_tool_calls=[{'name': '', 'args': '\":', 'id': None, 'error': None, 'type': 'invalid_tool_call'}] tool_call_chunks=[{'name': '', 'args': '\":', 'id': None, 'index': 0, 'type': 'tool_call_chunk'}]\n",
      "content='' additional_kwargs={'tool_calls': [{'index': 0, 'id': None, 'function': {'arguments': ' \"', 'name': ''}, 'type': 'function'}]} response_metadata={} id='run-4c55aa26-b40d-4cca-8482-5e4c47a1fd08' invalid_tool_calls=[{'name': '', 'args': ' \"', 'id': None, 'error': None, 'type': 'invalid_tool_call'}] tool_call_chunks=[{'name': '', 'args': ' \"', 'id': None, 'index': 0, 'type': 'tool_call_chunk'}]\n",
      "content='' additional_kwargs={'tool_calls': [{'index': 0, 'id': None, 'function': {'arguments': 'I', 'name': ''}, 'type': 'function'}]} response_metadata={} id='run-4c55aa26-b40d-4cca-8482-5e4c47a1fd08' invalid_tool_calls=[{'name': '', 'args': 'I', 'id': None, 'error': None, 'type': 'invalid_tool_call'}] tool_call_chunks=[{'name': '', 'args': 'I', 'id': None, 'index': 0, 'type': 'tool_call_chunk'}]\n",
      "content='' additional_kwargs={'tool_calls': [{'index': 0, 'id': None, 'function': {'arguments': \"'\", 'name': ''}, 'type': 'function'}]} response_metadata={} id='run-4c55aa26-b40d-4cca-8482-5e4c47a1fd08' invalid_tool_calls=[{'name': '', 'args': \"'\", 'id': None, 'error': None, 'type': 'invalid_tool_call'}] tool_call_chunks=[{'name': '', 'args': \"'\", 'id': None, 'index': 0, 'type': 'tool_call_chunk'}]\n",
      "content='' additional_kwargs={'tool_calls': [{'index': 0, 'id': None, 'function': {'arguments': 'm', 'name': ''}, 'type': 'function'}]} response_metadata={} id='run-4c55aa26-b40d-4cca-8482-5e4c47a1fd08' invalid_tool_calls=[{'name': '', 'args': 'm', 'id': None, 'error': None, 'type': 'invalid_tool_call'}] tool_call_chunks=[{'name': '', 'args': 'm', 'id': None, 'index': 0, 'type': 'tool_call_chunk'}]\n",
      "content='' additional_kwargs={'tool_calls': [{'index': 0, 'id': None, 'function': {'arguments': ' hungry', 'name': ''}, 'type': 'function'}]} response_metadata={} id='run-4c55aa26-b40d-4cca-8482-5e4c47a1fd08' invalid_tool_calls=[{'name': '', 'args': ' hungry', 'id': None, 'error': None, 'type': 'invalid_tool_call'}] tool_call_chunks=[{'name': '', 'args': ' hungry', 'id': None, 'index': 0, 'type': 'tool_call_chunk'}]\n",
      "content='' additional_kwargs={'tool_calls': [{'index': 0, 'id': None, 'function': {'arguments': '\",', 'name': ''}, 'type': 'function'}]} response_metadata={} id='run-4c55aa26-b40d-4cca-8482-5e4c47a1fd08' invalid_tool_calls=[{'name': '', 'args': '\",', 'id': None, 'error': None, 'type': 'invalid_tool_call'}] tool_call_chunks=[{'name': '', 'args': '\",', 'id': None, 'index': 0, 'type': 'tool_call_chunk'}]\n",
      "content='' additional_kwargs={'tool_calls': [{'index': 0, 'id': None, 'function': {'arguments': '\\n', 'name': ''}, 'type': 'function'}]} response_metadata={} id='run-4c55aa26-b40d-4cca-8482-5e4c47a1fd08' invalid_tool_calls=[{'name': '', 'args': '\\n', 'id': None, 'error': None, 'type': 'invalid_tool_call'}] tool_call_chunks=[{'name': '', 'args': '\\n', 'id': None, 'index': 0, 'type': 'tool_call_chunk'}]\n",
      "content='' additional_kwargs={'tool_calls': [{'index': 0, 'id': None, 'function': {'arguments': '\"', 'name': ''}, 'type': 'function'}]} response_metadata={} id='run-4c55aa26-b40d-4cca-8482-5e4c47a1fd08' invalid_tool_calls=[{'name': '', 'args': '\"', 'id': None, 'error': None, 'type': 'invalid_tool_call'}] tool_call_chunks=[{'name': '', 'args': '\"', 'id': None, 'index': 0, 'type': 'tool_call_chunk'}]\n",
      "content='' additional_kwargs={'tool_calls': [{'index': 0, 'id': None, 'function': {'arguments': 'memory', 'name': ''}, 'type': 'function'}]} response_metadata={} id='run-4c55aa26-b40d-4cca-8482-5e4c47a1fd08' invalid_tool_calls=[{'name': '', 'args': 'memory', 'id': None, 'error': None, 'type': 'invalid_tool_call'}] tool_call_chunks=[{'name': '', 'args': 'memory', 'id': None, 'index': 0, 'type': 'tool_call_chunk'}]\n",
      "content='' additional_kwargs={'tool_calls': [{'index': 0, 'id': None, 'function': {'arguments': '_', 'name': ''}, 'type': 'function'}]} response_metadata={} id='run-4c55aa26-b40d-4cca-8482-5e4c47a1fd08' invalid_tool_calls=[{'name': '', 'args': '_', 'id': None, 'error': None, 'type': 'invalid_tool_call'}] tool_call_chunks=[{'name': '', 'args': '_', 'id': None, 'index': 0, 'type': 'tool_call_chunk'}]\n",
      "content='' additional_kwargs={'tool_calls': [{'index': 0, 'id': None, 'function': {'arguments': 'id', 'name': ''}, 'type': 'function'}]} response_metadata={} id='run-4c55aa26-b40d-4cca-8482-5e4c47a1fd08' invalid_tool_calls=[{'name': '', 'args': 'id', 'id': None, 'error': None, 'type': 'invalid_tool_call'}] tool_call_chunks=[{'name': '', 'args': 'id', 'id': None, 'index': 0, 'type': 'tool_call_chunk'}]\n",
      "content='' additional_kwargs={'tool_calls': [{'index': 0, 'id': None, 'function': {'arguments': '\":', 'name': ''}, 'type': 'function'}]} response_metadata={} id='run-4c55aa26-b40d-4cca-8482-5e4c47a1fd08' invalid_tool_calls=[{'name': '', 'args': '\":', 'id': None, 'error': None, 'type': 'invalid_tool_call'}] tool_call_chunks=[{'name': '', 'args': '\":', 'id': None, 'index': 0, 'type': 'tool_call_chunk'}]\n",
      "content='' additional_kwargs={'tool_calls': [{'index': 0, 'id': None, 'function': {'arguments': ' \"', 'name': ''}, 'type': 'function'}]} response_metadata={} id='run-4c55aa26-b40d-4cca-8482-5e4c47a1fd08' invalid_tool_calls=[{'name': '', 'args': ' \"', 'id': None, 'error': None, 'type': 'invalid_tool_call'}] tool_call_chunks=[{'name': '', 'args': ' \"', 'id': None, 'index': 0, 'type': 'tool_call_chunk'}]\n",
      "content='' additional_kwargs={'tool_calls': [{'index': 0, 'id': None, 'function': {'arguments': 'da', 'name': ''}, 'type': 'function'}]} response_metadata={} id='run-4c55aa26-b40d-4cca-8482-5e4c47a1fd08' invalid_tool_calls=[{'name': '', 'args': 'da', 'id': None, 'error': None, 'type': 'invalid_tool_call'}] tool_call_chunks=[{'name': '', 'args': 'da', 'id': None, 'index': 0, 'type': 'tool_call_chunk'}]\n",
      "content='' additional_kwargs={'tool_calls': [{'index': 0, 'id': None, 'function': {'arguments': '3', 'name': ''}, 'type': 'function'}]} response_metadata={} id='run-4c55aa26-b40d-4cca-8482-5e4c47a1fd08' invalid_tool_calls=[{'name': '', 'args': '3', 'id': None, 'error': None, 'type': 'invalid_tool_call'}] tool_call_chunks=[{'name': '', 'args': '3', 'id': None, 'index': 0, 'type': 'tool_call_chunk'}]\n",
      "content='' additional_kwargs={'tool_calls': [{'index': 0, 'id': None, 'function': {'arguments': 'e', 'name': ''}, 'type': 'function'}]} response_metadata={} id='run-4c55aa26-b40d-4cca-8482-5e4c47a1fd08' invalid_tool_calls=[{'name': '', 'args': 'e', 'id': None, 'error': None, 'type': 'invalid_tool_call'}] tool_call_chunks=[{'name': '', 'args': 'e', 'id': None, 'index': 0, 'type': 'tool_call_chunk'}]\n",
      "content='' additional_kwargs={'tool_calls': [{'index': 0, 'id': None, 'function': {'arguments': '9', 'name': ''}, 'type': 'function'}]} response_metadata={} id='run-4c55aa26-b40d-4cca-8482-5e4c47a1fd08' invalid_tool_calls=[{'name': '', 'args': '9', 'id': None, 'error': None, 'type': 'invalid_tool_call'}] tool_call_chunks=[{'name': '', 'args': '9', 'id': None, 'index': 0, 'type': 'tool_call_chunk'}]\n",
      "content='' additional_kwargs={'tool_calls': [{'index': 0, 'id': None, 'function': {'arguments': '1', 'name': ''}, 'type': 'function'}]} response_metadata={} id='run-4c55aa26-b40d-4cca-8482-5e4c47a1fd08' invalid_tool_calls=[{'name': '', 'args': '1', 'id': None, 'error': None, 'type': 'invalid_tool_call'}] tool_call_chunks=[{'name': '', 'args': '1', 'id': None, 'index': 0, 'type': 'tool_call_chunk'}]\n",
      "content='' additional_kwargs={'tool_calls': [{'index': 0, 'id': None, 'function': {'arguments': 'fb', 'name': ''}, 'type': 'function'}]} response_metadata={} id='run-4c55aa26-b40d-4cca-8482-5e4c47a1fd08' invalid_tool_calls=[{'name': '', 'args': 'fb', 'id': None, 'error': None, 'type': 'invalid_tool_call'}] tool_call_chunks=[{'name': '', 'args': 'fb', 'id': None, 'index': 0, 'type': 'tool_call_chunk'}]\n",
      "content='' additional_kwargs={'tool_calls': [{'index': 0, 'id': None, 'function': {'arguments': '-', 'name': ''}, 'type': 'function'}]} response_metadata={} id='run-4c55aa26-b40d-4cca-8482-5e4c47a1fd08' invalid_tool_calls=[{'name': '', 'args': '-', 'id': None, 'error': None, 'type': 'invalid_tool_call'}] tool_call_chunks=[{'name': '', 'args': '-', 'id': None, 'index': 0, 'type': 'tool_call_chunk'}]\n",
      "content='' additional_kwargs={'tool_calls': [{'index': 0, 'id': None, 'function': {'arguments': '4', 'name': ''}, 'type': 'function'}]} response_metadata={} id='run-4c55aa26-b40d-4cca-8482-5e4c47a1fd08' invalid_tool_calls=[{'name': '', 'args': '4', 'id': None, 'error': None, 'type': 'invalid_tool_call'}] tool_call_chunks=[{'name': '', 'args': '4', 'id': None, 'index': 0, 'type': 'tool_call_chunk'}]\n",
      "content='' additional_kwargs={'tool_calls': [{'index': 0, 'id': None, 'function': {'arguments': 'c', 'name': ''}, 'type': 'function'}]} response_metadata={} id='run-4c55aa26-b40d-4cca-8482-5e4c47a1fd08' invalid_tool_calls=[{'name': '', 'args': 'c', 'id': None, 'error': None, 'type': 'invalid_tool_call'}] tool_call_chunks=[{'name': '', 'args': 'c', 'id': None, 'index': 0, 'type': 'tool_call_chunk'}]\n",
      "content='' additional_kwargs={'tool_calls': [{'index': 0, 'id': None, 'function': {'arguments': '3', 'name': ''}, 'type': 'function'}]} response_metadata={} id='run-4c55aa26-b40d-4cca-8482-5e4c47a1fd08' invalid_tool_calls=[{'name': '', 'args': '3', 'id': None, 'error': None, 'type': 'invalid_tool_call'}] tool_call_chunks=[{'name': '', 'args': '3', 'id': None, 'index': 0, 'type': 'tool_call_chunk'}]\n",
      "content='' additional_kwargs={'tool_calls': [{'index': 0, 'id': None, 'function': {'arguments': 'b', 'name': ''}, 'type': 'function'}]} response_metadata={} id='run-4c55aa26-b40d-4cca-8482-5e4c47a1fd08' invalid_tool_calls=[{'name': '', 'args': 'b', 'id': None, 'error': None, 'type': 'invalid_tool_call'}] tool_call_chunks=[{'name': '', 'args': 'b', 'id': None, 'index': 0, 'type': 'tool_call_chunk'}]\n",
      "content='' additional_kwargs={'tool_calls': [{'index': 0, 'id': None, 'function': {'arguments': '-', 'name': ''}, 'type': 'function'}]} response_metadata={} id='run-4c55aa26-b40d-4cca-8482-5e4c47a1fd08' invalid_tool_calls=[{'name': '', 'args': '-', 'id': None, 'error': None, 'type': 'invalid_tool_call'}] tool_call_chunks=[{'name': '', 'args': '-', 'id': None, 'index': 0, 'type': 'tool_call_chunk'}]\n",
      "content='' additional_kwargs={'tool_calls': [{'index': 0, 'id': None, 'function': {'arguments': '4', 'name': ''}, 'type': 'function'}]} response_metadata={} id='run-4c55aa26-b40d-4cca-8482-5e4c47a1fd08' invalid_tool_calls=[{'name': '', 'args': '4', 'id': None, 'error': None, 'type': 'invalid_tool_call'}] tool_call_chunks=[{'name': '', 'args': '4', 'id': None, 'index': 0, 'type': 'tool_call_chunk'}]\n",
      "content='' additional_kwargs={'tool_calls': [{'index': 0, 'id': None, 'function': {'arguments': 'c', 'name': ''}, 'type': 'function'}]} response_metadata={} id='run-4c55aa26-b40d-4cca-8482-5e4c47a1fd08' invalid_tool_calls=[{'name': '', 'args': 'c', 'id': None, 'error': None, 'type': 'invalid_tool_call'}] tool_call_chunks=[{'name': '', 'args': 'c', 'id': None, 'index': 0, 'type': 'tool_call_chunk'}]\n",
      "content='' additional_kwargs={'tool_calls': [{'index': 0, 'id': None, 'function': {'arguments': '8', 'name': ''}, 'type': 'function'}]} response_metadata={} id='run-4c55aa26-b40d-4cca-8482-5e4c47a1fd08' invalid_tool_calls=[{'name': '', 'args': '8', 'id': None, 'error': None, 'type': 'invalid_tool_call'}] tool_call_chunks=[{'name': '', 'args': '8', 'id': None, 'index': 0, 'type': 'tool_call_chunk'}]\n",
      "content='' additional_kwargs={'tool_calls': [{'index': 0, 'id': None, 'function': {'arguments': '2', 'name': ''}, 'type': 'function'}]} response_metadata={} id='run-4c55aa26-b40d-4cca-8482-5e4c47a1fd08' invalid_tool_calls=[{'name': '', 'args': '2', 'id': None, 'error': None, 'type': 'invalid_tool_call'}] tool_call_chunks=[{'name': '', 'args': '2', 'id': None, 'index': 0, 'type': 'tool_call_chunk'}]\n",
      "content='' additional_kwargs={'tool_calls': [{'index': 0, 'id': None, 'function': {'arguments': '-', 'name': ''}, 'type': 'function'}]} response_metadata={} id='run-4c55aa26-b40d-4cca-8482-5e4c47a1fd08' invalid_tool_calls=[{'name': '', 'args': '-', 'id': None, 'error': None, 'type': 'invalid_tool_call'}] tool_call_chunks=[{'name': '', 'args': '-', 'id': None, 'index': 0, 'type': 'tool_call_chunk'}]\n",
      "content='' additional_kwargs={'tool_calls': [{'index': 0, 'id': None, 'function': {'arguments': 'b', 'name': ''}, 'type': 'function'}]} response_metadata={} id='run-4c55aa26-b40d-4cca-8482-5e4c47a1fd08' invalid_tool_calls=[{'name': '', 'args': 'b', 'id': None, 'error': None, 'type': 'invalid_tool_call'}] tool_call_chunks=[{'name': '', 'args': 'b', 'id': None, 'index': 0, 'type': 'tool_call_chunk'}]\n",
      "content='' additional_kwargs={'tool_calls': [{'index': 0, 'id': None, 'function': {'arguments': '4', 'name': ''}, 'type': 'function'}]} response_metadata={} id='run-4c55aa26-b40d-4cca-8482-5e4c47a1fd08' invalid_tool_calls=[{'name': '', 'args': '4', 'id': None, 'error': None, 'type': 'invalid_tool_call'}] tool_call_chunks=[{'name': '', 'args': '4', 'id': None, 'index': 0, 'type': 'tool_call_chunk'}]\n",
      "content='' additional_kwargs={'tool_calls': [{'index': 0, 'id': None, 'function': {'arguments': '7', 'name': ''}, 'type': 'function'}]} response_metadata={} id='run-4c55aa26-b40d-4cca-8482-5e4c47a1fd08' invalid_tool_calls=[{'name': '', 'args': '7', 'id': None, 'error': None, 'type': 'invalid_tool_call'}] tool_call_chunks=[{'name': '', 'args': '7', 'id': None, 'index': 0, 'type': 'tool_call_chunk'}]\n",
      "content='' additional_kwargs={'tool_calls': [{'index': 0, 'id': None, 'function': {'arguments': '1', 'name': ''}, 'type': 'function'}]} response_metadata={} id='run-4c55aa26-b40d-4cca-8482-5e4c47a1fd08' invalid_tool_calls=[{'name': '', 'args': '1', 'id': None, 'error': None, 'type': 'invalid_tool_call'}] tool_call_chunks=[{'name': '', 'args': '1', 'id': None, 'index': 0, 'type': 'tool_call_chunk'}]\n",
      "content='' additional_kwargs={'tool_calls': [{'index': 0, 'id': None, 'function': {'arguments': '-', 'name': ''}, 'type': 'function'}]} response_metadata={} id='run-4c55aa26-b40d-4cca-8482-5e4c47a1fd08' invalid_tool_calls=[{'name': '', 'args': '-', 'id': None, 'error': None, 'type': 'invalid_tool_call'}] tool_call_chunks=[{'name': '', 'args': '-', 'id': None, 'index': 0, 'type': 'tool_call_chunk'}]\n",
      "content='' additional_kwargs={'tool_calls': [{'index': 0, 'id': None, 'function': {'arguments': 'da', 'name': ''}, 'type': 'function'}]} response_metadata={} id='run-4c55aa26-b40d-4cca-8482-5e4c47a1fd08' invalid_tool_calls=[{'name': '', 'args': 'da', 'id': None, 'error': None, 'type': 'invalid_tool_call'}] tool_call_chunks=[{'name': '', 'args': 'da', 'id': None, 'index': 0, 'type': 'tool_call_chunk'}]\n",
      "content='' additional_kwargs={'tool_calls': [{'index': 0, 'id': None, 'function': {'arguments': '2', 'name': ''}, 'type': 'function'}]} response_metadata={} id='run-4c55aa26-b40d-4cca-8482-5e4c47a1fd08' invalid_tool_calls=[{'name': '', 'args': '2', 'id': None, 'error': None, 'type': 'invalid_tool_call'}] tool_call_chunks=[{'name': '', 'args': '2', 'id': None, 'index': 0, 'type': 'tool_call_chunk'}]\n",
      "content='' additional_kwargs={'tool_calls': [{'index': 0, 'id': None, 'function': {'arguments': '3', 'name': ''}, 'type': 'function'}]} response_metadata={} id='run-4c55aa26-b40d-4cca-8482-5e4c47a1fd08' invalid_tool_calls=[{'name': '', 'args': '3', 'id': None, 'error': None, 'type': 'invalid_tool_call'}] tool_call_chunks=[{'name': '', 'args': '3', 'id': None, 'index': 0, 'type': 'tool_call_chunk'}]\n",
      "content='' additional_kwargs={'tool_calls': [{'index': 0, 'id': None, 'function': {'arguments': '3', 'name': ''}, 'type': 'function'}]} response_metadata={} id='run-4c55aa26-b40d-4cca-8482-5e4c47a1fd08' invalid_tool_calls=[{'name': '', 'args': '3', 'id': None, 'error': None, 'type': 'invalid_tool_call'}] tool_call_chunks=[{'name': '', 'args': '3', 'id': None, 'index': 0, 'type': 'tool_call_chunk'}]\n",
      "content='' additional_kwargs={'tool_calls': [{'index': 0, 'id': None, 'function': {'arguments': 'a', 'name': ''}, 'type': 'function'}]} response_metadata={} id='run-4c55aa26-b40d-4cca-8482-5e4c47a1fd08' invalid_tool_calls=[{'name': '', 'args': 'a', 'id': None, 'error': None, 'type': 'invalid_tool_call'}] tool_call_chunks=[{'name': '', 'args': 'a', 'id': None, 'index': 0, 'type': 'tool_call_chunk'}]\n",
      "content='' additional_kwargs={'tool_calls': [{'index': 0, 'id': None, 'function': {'arguments': 'abc', 'name': ''}, 'type': 'function'}]} response_metadata={} id='run-4c55aa26-b40d-4cca-8482-5e4c47a1fd08' invalid_tool_calls=[{'name': '', 'args': 'abc', 'id': None, 'error': None, 'type': 'invalid_tool_call'}] tool_call_chunks=[{'name': '', 'args': 'abc', 'id': None, 'index': 0, 'type': 'tool_call_chunk'}]\n",
      "content='' additional_kwargs={'tool_calls': [{'index': 0, 'id': None, 'function': {'arguments': '2', 'name': ''}, 'type': 'function'}]} response_metadata={} id='run-4c55aa26-b40d-4cca-8482-5e4c47a1fd08' invalid_tool_calls=[{'name': '', 'args': '2', 'id': None, 'error': None, 'type': 'invalid_tool_call'}] tool_call_chunks=[{'name': '', 'args': '2', 'id': None, 'index': 0, 'type': 'tool_call_chunk'}]\n",
      "content='' additional_kwargs={'tool_calls': [{'index': 0, 'id': None, 'function': {'arguments': '7', 'name': ''}, 'type': 'function'}]} response_metadata={} id='run-4c55aa26-b40d-4cca-8482-5e4c47a1fd08' invalid_tool_calls=[{'name': '', 'args': '7', 'id': None, 'error': None, 'type': 'invalid_tool_call'}] tool_call_chunks=[{'name': '', 'args': '7', 'id': None, 'index': 0, 'type': 'tool_call_chunk'}]\n",
      "content='' additional_kwargs={'tool_calls': [{'index': 0, 'id': None, 'function': {'arguments': 'c', 'name': ''}, 'type': 'function'}]} response_metadata={} id='run-4c55aa26-b40d-4cca-8482-5e4c47a1fd08' invalid_tool_calls=[{'name': '', 'args': 'c', 'id': None, 'error': None, 'type': 'invalid_tool_call'}] tool_call_chunks=[{'name': '', 'args': 'c', 'id': None, 'index': 0, 'type': 'tool_call_chunk'}]\n",
      "content='' additional_kwargs={'tool_calls': [{'index': 0, 'id': None, 'function': {'arguments': '\"}', 'name': ''}, 'type': 'function'}]} response_metadata={} id='run-4c55aa26-b40d-4cca-8482-5e4c47a1fd08' invalid_tool_calls=[{'name': '', 'args': '\"}', 'id': None, 'error': None, 'type': 'invalid_tool_call'}] tool_call_chunks=[{'name': '', 'args': '\"}', 'id': None, 'index': 0, 'type': 'tool_call_chunk'}]\n",
      "content='' additional_kwargs={} response_metadata={'finish_reason': 'stop', 'model_name': 'gemma-3-4b-it', 'system_fingerprint': 'gemma-3-4b-it'} id='run-4c55aa26-b40d-4cca-8482-5e4c47a1fd08'\n",
      "content='Stored memory da3e91fb-4c3b-4c82-b471-da233aabc27c' name='upsert_memory' id='9a227dc5-5418-449e-bedc-f6ed9114e420' tool_call_id='736021171'\n",
      "content='' additional_kwargs={'tool_calls': [{'index': 0, 'id': '881584810', 'function': {'arguments': '', 'name': 'upsert_memory'}, 'type': 'function'}]} response_metadata={} id='run-e13f1914-2799-4c23-84e3-ac3be3bed565' tool_calls=[{'name': 'upsert_memory', 'args': {}, 'id': '881584810', 'type': 'tool_call'}] tool_call_chunks=[{'name': 'upsert_memory', 'args': '', 'id': '881584810', 'index': 0, 'type': 'tool_call_chunk'}]\n",
      "content='' additional_kwargs={'tool_calls': [{'index': 0, 'id': None, 'function': {'arguments': '{\"', 'name': ''}, 'type': 'function'}]} response_metadata={} id='run-e13f1914-2799-4c23-84e3-ac3be3bed565' tool_calls=[{'name': '', 'args': {}, 'id': None, 'type': 'tool_call'}] tool_call_chunks=[{'name': '', 'args': '{\"', 'id': None, 'index': 0, 'type': 'tool_call_chunk'}]\n",
      "content='' additional_kwargs={'tool_calls': [{'index': 0, 'id': None, 'function': {'arguments': 'content', 'name': ''}, 'type': 'function'}]} response_metadata={} id='run-e13f1914-2799-4c23-84e3-ac3be3bed565' invalid_tool_calls=[{'name': '', 'args': 'content', 'id': None, 'error': None, 'type': 'invalid_tool_call'}] tool_call_chunks=[{'name': '', 'args': 'content', 'id': None, 'index': 0, 'type': 'tool_call_chunk'}]\n",
      "content='' additional_kwargs={'tool_calls': [{'index': 0, 'id': None, 'function': {'arguments': '\":', 'name': ''}, 'type': 'function'}]} response_metadata={} id='run-e13f1914-2799-4c23-84e3-ac3be3bed565' invalid_tool_calls=[{'name': '', 'args': '\":', 'id': None, 'error': None, 'type': 'invalid_tool_call'}] tool_call_chunks=[{'name': '', 'args': '\":', 'id': None, 'index': 0, 'type': 'tool_call_chunk'}]\n",
      "content='' additional_kwargs={'tool_calls': [{'index': 0, 'id': None, 'function': {'arguments': ' \"', 'name': ''}, 'type': 'function'}]} response_metadata={} id='run-e13f1914-2799-4c23-84e3-ac3be3bed565' invalid_tool_calls=[{'name': '', 'args': ' \"', 'id': None, 'error': None, 'type': 'invalid_tool_call'}] tool_call_chunks=[{'name': '', 'args': ' \"', 'id': None, 'index': 0, 'type': 'tool_call_chunk'}]\n",
      "content='' additional_kwargs={'tool_calls': [{'index': 0, 'id': None, 'function': {'arguments': 'I', 'name': ''}, 'type': 'function'}]} response_metadata={} id='run-e13f1914-2799-4c23-84e3-ac3be3bed565' invalid_tool_calls=[{'name': '', 'args': 'I', 'id': None, 'error': None, 'type': 'invalid_tool_call'}] tool_call_chunks=[{'name': '', 'args': 'I', 'id': None, 'index': 0, 'type': 'tool_call_chunk'}]\n",
      "content='' additional_kwargs={'tool_calls': [{'index': 0, 'id': None, 'function': {'arguments': \"'\", 'name': ''}, 'type': 'function'}]} response_metadata={} id='run-e13f1914-2799-4c23-84e3-ac3be3bed565' invalid_tool_calls=[{'name': '', 'args': \"'\", 'id': None, 'error': None, 'type': 'invalid_tool_call'}] tool_call_chunks=[{'name': '', 'args': \"'\", 'id': None, 'index': 0, 'type': 'tool_call_chunk'}]\n",
      "content='' additional_kwargs={'tool_calls': [{'index': 0, 'id': None, 'function': {'arguments': 'm', 'name': ''}, 'type': 'function'}]} response_metadata={} id='run-e13f1914-2799-4c23-84e3-ac3be3bed565' invalid_tool_calls=[{'name': '', 'args': 'm', 'id': None, 'error': None, 'type': 'invalid_tool_call'}] tool_call_chunks=[{'name': '', 'args': 'm', 'id': None, 'index': 0, 'type': 'tool_call_chunk'}]\n",
      "content='' additional_kwargs={'tool_calls': [{'index': 0, 'id': None, 'function': {'arguments': ' hungry', 'name': ''}, 'type': 'function'}]} response_metadata={} id='run-e13f1914-2799-4c23-84e3-ac3be3bed565' invalid_tool_calls=[{'name': '', 'args': ' hungry', 'id': None, 'error': None, 'type': 'invalid_tool_call'}] tool_call_chunks=[{'name': '', 'args': ' hungry', 'id': None, 'index': 0, 'type': 'tool_call_chunk'}]\n",
      "content='' additional_kwargs={'tool_calls': [{'index': 0, 'id': None, 'function': {'arguments': '\",', 'name': ''}, 'type': 'function'}]} response_metadata={} id='run-e13f1914-2799-4c23-84e3-ac3be3bed565' invalid_tool_calls=[{'name': '', 'args': '\",', 'id': None, 'error': None, 'type': 'invalid_tool_call'}] tool_call_chunks=[{'name': '', 'args': '\",', 'id': None, 'index': 0, 'type': 'tool_call_chunk'}]\n",
      "content='' additional_kwargs={'tool_calls': [{'index': 0, 'id': None, 'function': {'arguments': '\\n', 'name': ''}, 'type': 'function'}]} response_metadata={} id='run-e13f1914-2799-4c23-84e3-ac3be3bed565' invalid_tool_calls=[{'name': '', 'args': '\\n', 'id': None, 'error': None, 'type': 'invalid_tool_call'}] tool_call_chunks=[{'name': '', 'args': '\\n', 'id': None, 'index': 0, 'type': 'tool_call_chunk'}]\n",
      "content='' additional_kwargs={'tool_calls': [{'index': 0, 'id': None, 'function': {'arguments': '\"', 'name': ''}, 'type': 'function'}]} response_metadata={} id='run-e13f1914-2799-4c23-84e3-ac3be3bed565' invalid_tool_calls=[{'name': '', 'args': '\"', 'id': None, 'error': None, 'type': 'invalid_tool_call'}] tool_call_chunks=[{'name': '', 'args': '\"', 'id': None, 'index': 0, 'type': 'tool_call_chunk'}]\n",
      "content='' additional_kwargs={'tool_calls': [{'index': 0, 'id': None, 'function': {'arguments': 'memory', 'name': ''}, 'type': 'function'}]} response_metadata={} id='run-e13f1914-2799-4c23-84e3-ac3be3bed565' invalid_tool_calls=[{'name': '', 'args': 'memory', 'id': None, 'error': None, 'type': 'invalid_tool_call'}] tool_call_chunks=[{'name': '', 'args': 'memory', 'id': None, 'index': 0, 'type': 'tool_call_chunk'}]\n",
      "content='' additional_kwargs={'tool_calls': [{'index': 0, 'id': None, 'function': {'arguments': '_', 'name': ''}, 'type': 'function'}]} response_metadata={} id='run-e13f1914-2799-4c23-84e3-ac3be3bed565' invalid_tool_calls=[{'name': '', 'args': '_', 'id': None, 'error': None, 'type': 'invalid_tool_call'}] tool_call_chunks=[{'name': '', 'args': '_', 'id': None, 'index': 0, 'type': 'tool_call_chunk'}]\n",
      "content='' additional_kwargs={'tool_calls': [{'index': 0, 'id': None, 'function': {'arguments': 'id', 'name': ''}, 'type': 'function'}]} response_metadata={} id='run-e13f1914-2799-4c23-84e3-ac3be3bed565' invalid_tool_calls=[{'name': '', 'args': 'id', 'id': None, 'error': None, 'type': 'invalid_tool_call'}] tool_call_chunks=[{'name': '', 'args': 'id', 'id': None, 'index': 0, 'type': 'tool_call_chunk'}]\n",
      "content='' additional_kwargs={'tool_calls': [{'index': 0, 'id': None, 'function': {'arguments': '\":', 'name': ''}, 'type': 'function'}]} response_metadata={} id='run-e13f1914-2799-4c23-84e3-ac3be3bed565' invalid_tool_calls=[{'name': '', 'args': '\":', 'id': None, 'error': None, 'type': 'invalid_tool_call'}] tool_call_chunks=[{'name': '', 'args': '\":', 'id': None, 'index': 0, 'type': 'tool_call_chunk'}]\n",
      "content='' additional_kwargs={'tool_calls': [{'index': 0, 'id': None, 'function': {'arguments': ' \"', 'name': ''}, 'type': 'function'}]} response_metadata={} id='run-e13f1914-2799-4c23-84e3-ac3be3bed565' invalid_tool_calls=[{'name': '', 'args': ' \"', 'id': None, 'error': None, 'type': 'invalid_tool_call'}] tool_call_chunks=[{'name': '', 'args': ' \"', 'id': None, 'index': 0, 'type': 'tool_call_chunk'}]\n",
      "content='' additional_kwargs={'tool_calls': [{'index': 0, 'id': None, 'function': {'arguments': 'da', 'name': ''}, 'type': 'function'}]} response_metadata={} id='run-e13f1914-2799-4c23-84e3-ac3be3bed565' invalid_tool_calls=[{'name': '', 'args': 'da', 'id': None, 'error': None, 'type': 'invalid_tool_call'}] tool_call_chunks=[{'name': '', 'args': 'da', 'id': None, 'index': 0, 'type': 'tool_call_chunk'}]\n",
      "content='' additional_kwargs={'tool_calls': [{'index': 0, 'id': None, 'function': {'arguments': '3', 'name': ''}, 'type': 'function'}]} response_metadata={} id='run-e13f1914-2799-4c23-84e3-ac3be3bed565' invalid_tool_calls=[{'name': '', 'args': '3', 'id': None, 'error': None, 'type': 'invalid_tool_call'}] tool_call_chunks=[{'name': '', 'args': '3', 'id': None, 'index': 0, 'type': 'tool_call_chunk'}]\n",
      "content='' additional_kwargs={'tool_calls': [{'index': 0, 'id': None, 'function': {'arguments': 'e', 'name': ''}, 'type': 'function'}]} response_metadata={} id='run-e13f1914-2799-4c23-84e3-ac3be3bed565' invalid_tool_calls=[{'name': '', 'args': 'e', 'id': None, 'error': None, 'type': 'invalid_tool_call'}] tool_call_chunks=[{'name': '', 'args': 'e', 'id': None, 'index': 0, 'type': 'tool_call_chunk'}]\n",
      "content='' additional_kwargs={'tool_calls': [{'index': 0, 'id': None, 'function': {'arguments': '9', 'name': ''}, 'type': 'function'}]} response_metadata={} id='run-e13f1914-2799-4c23-84e3-ac3be3bed565' invalid_tool_calls=[{'name': '', 'args': '9', 'id': None, 'error': None, 'type': 'invalid_tool_call'}] tool_call_chunks=[{'name': '', 'args': '9', 'id': None, 'index': 0, 'type': 'tool_call_chunk'}]\n",
      "content='' additional_kwargs={'tool_calls': [{'index': 0, 'id': None, 'function': {'arguments': '1', 'name': ''}, 'type': 'function'}]} response_metadata={} id='run-e13f1914-2799-4c23-84e3-ac3be3bed565' invalid_tool_calls=[{'name': '', 'args': '1', 'id': None, 'error': None, 'type': 'invalid_tool_call'}] tool_call_chunks=[{'name': '', 'args': '1', 'id': None, 'index': 0, 'type': 'tool_call_chunk'}]\n",
      "content='' additional_kwargs={'tool_calls': [{'index': 0, 'id': None, 'function': {'arguments': 'fb', 'name': ''}, 'type': 'function'}]} response_metadata={} id='run-e13f1914-2799-4c23-84e3-ac3be3bed565' invalid_tool_calls=[{'name': '', 'args': 'fb', 'id': None, 'error': None, 'type': 'invalid_tool_call'}] tool_call_chunks=[{'name': '', 'args': 'fb', 'id': None, 'index': 0, 'type': 'tool_call_chunk'}]\n",
      "content='' additional_kwargs={'tool_calls': [{'index': 0, 'id': None, 'function': {'arguments': '-', 'name': ''}, 'type': 'function'}]} response_metadata={} id='run-e13f1914-2799-4c23-84e3-ac3be3bed565' invalid_tool_calls=[{'name': '', 'args': '-', 'id': None, 'error': None, 'type': 'invalid_tool_call'}] tool_call_chunks=[{'name': '', 'args': '-', 'id': None, 'index': 0, 'type': 'tool_call_chunk'}]\n",
      "content='' additional_kwargs={'tool_calls': [{'index': 0, 'id': None, 'function': {'arguments': '4', 'name': ''}, 'type': 'function'}]} response_metadata={} id='run-e13f1914-2799-4c23-84e3-ac3be3bed565' invalid_tool_calls=[{'name': '', 'args': '4', 'id': None, 'error': None, 'type': 'invalid_tool_call'}] tool_call_chunks=[{'name': '', 'args': '4', 'id': None, 'index': 0, 'type': 'tool_call_chunk'}]\n",
      "content='' additional_kwargs={'tool_calls': [{'index': 0, 'id': None, 'function': {'arguments': 'c', 'name': ''}, 'type': 'function'}]} response_metadata={} id='run-e13f1914-2799-4c23-84e3-ac3be3bed565' invalid_tool_calls=[{'name': '', 'args': 'c', 'id': None, 'error': None, 'type': 'invalid_tool_call'}] tool_call_chunks=[{'name': '', 'args': 'c', 'id': None, 'index': 0, 'type': 'tool_call_chunk'}]\n",
      "content='' additional_kwargs={'tool_calls': [{'index': 0, 'id': None, 'function': {'arguments': '3', 'name': ''}, 'type': 'function'}]} response_metadata={} id='run-e13f1914-2799-4c23-84e3-ac3be3bed565' invalid_tool_calls=[{'name': '', 'args': '3', 'id': None, 'error': None, 'type': 'invalid_tool_call'}] tool_call_chunks=[{'name': '', 'args': '3', 'id': None, 'index': 0, 'type': 'tool_call_chunk'}]\n",
      "content='' additional_kwargs={'tool_calls': [{'index': 0, 'id': None, 'function': {'arguments': 'b', 'name': ''}, 'type': 'function'}]} response_metadata={} id='run-e13f1914-2799-4c23-84e3-ac3be3bed565' invalid_tool_calls=[{'name': '', 'args': 'b', 'id': None, 'error': None, 'type': 'invalid_tool_call'}] tool_call_chunks=[{'name': '', 'args': 'b', 'id': None, 'index': 0, 'type': 'tool_call_chunk'}]\n",
      "content='' additional_kwargs={'tool_calls': [{'index': 0, 'id': None, 'function': {'arguments': '-', 'name': ''}, 'type': 'function'}]} response_metadata={} id='run-e13f1914-2799-4c23-84e3-ac3be3bed565' invalid_tool_calls=[{'name': '', 'args': '-', 'id': None, 'error': None, 'type': 'invalid_tool_call'}] tool_call_chunks=[{'name': '', 'args': '-', 'id': None, 'index': 0, 'type': 'tool_call_chunk'}]\n",
      "content='' additional_kwargs={'tool_calls': [{'index': 0, 'id': None, 'function': {'arguments': '4', 'name': ''}, 'type': 'function'}]} response_metadata={} id='run-e13f1914-2799-4c23-84e3-ac3be3bed565' invalid_tool_calls=[{'name': '', 'args': '4', 'id': None, 'error': None, 'type': 'invalid_tool_call'}] tool_call_chunks=[{'name': '', 'args': '4', 'id': None, 'index': 0, 'type': 'tool_call_chunk'}]\n",
      "content='' additional_kwargs={'tool_calls': [{'index': 0, 'id': None, 'function': {'arguments': 'c', 'name': ''}, 'type': 'function'}]} response_metadata={} id='run-e13f1914-2799-4c23-84e3-ac3be3bed565' invalid_tool_calls=[{'name': '', 'args': 'c', 'id': None, 'error': None, 'type': 'invalid_tool_call'}] tool_call_chunks=[{'name': '', 'args': 'c', 'id': None, 'index': 0, 'type': 'tool_call_chunk'}]\n",
      "content='' additional_kwargs={'tool_calls': [{'index': 0, 'id': None, 'function': {'arguments': '8', 'name': ''}, 'type': 'function'}]} response_metadata={} id='run-e13f1914-2799-4c23-84e3-ac3be3bed565' invalid_tool_calls=[{'name': '', 'args': '8', 'id': None, 'error': None, 'type': 'invalid_tool_call'}] tool_call_chunks=[{'name': '', 'args': '8', 'id': None, 'index': 0, 'type': 'tool_call_chunk'}]\n",
      "content='' additional_kwargs={'tool_calls': [{'index': 0, 'id': None, 'function': {'arguments': '2', 'name': ''}, 'type': 'function'}]} response_metadata={} id='run-e13f1914-2799-4c23-84e3-ac3be3bed565' invalid_tool_calls=[{'name': '', 'args': '2', 'id': None, 'error': None, 'type': 'invalid_tool_call'}] tool_call_chunks=[{'name': '', 'args': '2', 'id': None, 'index': 0, 'type': 'tool_call_chunk'}]\n",
      "content='' additional_kwargs={'tool_calls': [{'index': 0, 'id': None, 'function': {'arguments': '-', 'name': ''}, 'type': 'function'}]} response_metadata={} id='run-e13f1914-2799-4c23-84e3-ac3be3bed565' invalid_tool_calls=[{'name': '', 'args': '-', 'id': None, 'error': None, 'type': 'invalid_tool_call'}] tool_call_chunks=[{'name': '', 'args': '-', 'id': None, 'index': 0, 'type': 'tool_call_chunk'}]\n",
      "content='' additional_kwargs={'tool_calls': [{'index': 0, 'id': None, 'function': {'arguments': 'b', 'name': ''}, 'type': 'function'}]} response_metadata={} id='run-e13f1914-2799-4c23-84e3-ac3be3bed565' invalid_tool_calls=[{'name': '', 'args': 'b', 'id': None, 'error': None, 'type': 'invalid_tool_call'}] tool_call_chunks=[{'name': '', 'args': 'b', 'id': None, 'index': 0, 'type': 'tool_call_chunk'}]\n",
      "content='' additional_kwargs={'tool_calls': [{'index': 0, 'id': None, 'function': {'arguments': '4', 'name': ''}, 'type': 'function'}]} response_metadata={} id='run-e13f1914-2799-4c23-84e3-ac3be3bed565' invalid_tool_calls=[{'name': '', 'args': '4', 'id': None, 'error': None, 'type': 'invalid_tool_call'}] tool_call_chunks=[{'name': '', 'args': '4', 'id': None, 'index': 0, 'type': 'tool_call_chunk'}]\n",
      "content='' additional_kwargs={'tool_calls': [{'index': 0, 'id': None, 'function': {'arguments': '7', 'name': ''}, 'type': 'function'}]} response_metadata={} id='run-e13f1914-2799-4c23-84e3-ac3be3bed565' invalid_tool_calls=[{'name': '', 'args': '7', 'id': None, 'error': None, 'type': 'invalid_tool_call'}] tool_call_chunks=[{'name': '', 'args': '7', 'id': None, 'index': 0, 'type': 'tool_call_chunk'}]\n",
      "content='' additional_kwargs={'tool_calls': [{'index': 0, 'id': None, 'function': {'arguments': '1', 'name': ''}, 'type': 'function'}]} response_metadata={} id='run-e13f1914-2799-4c23-84e3-ac3be3bed565' invalid_tool_calls=[{'name': '', 'args': '1', 'id': None, 'error': None, 'type': 'invalid_tool_call'}] tool_call_chunks=[{'name': '', 'args': '1', 'id': None, 'index': 0, 'type': 'tool_call_chunk'}]\n",
      "content='' additional_kwargs={'tool_calls': [{'index': 0, 'id': None, 'function': {'arguments': '-', 'name': ''}, 'type': 'function'}]} response_metadata={} id='run-e13f1914-2799-4c23-84e3-ac3be3bed565' invalid_tool_calls=[{'name': '', 'args': '-', 'id': None, 'error': None, 'type': 'invalid_tool_call'}] tool_call_chunks=[{'name': '', 'args': '-', 'id': None, 'index': 0, 'type': 'tool_call_chunk'}]\n",
      "content='' additional_kwargs={'tool_calls': [{'index': 0, 'id': None, 'function': {'arguments': 'da', 'name': ''}, 'type': 'function'}]} response_metadata={} id='run-e13f1914-2799-4c23-84e3-ac3be3bed565' invalid_tool_calls=[{'name': '', 'args': 'da', 'id': None, 'error': None, 'type': 'invalid_tool_call'}] tool_call_chunks=[{'name': '', 'args': 'da', 'id': None, 'index': 0, 'type': 'tool_call_chunk'}]\n",
      "content='' additional_kwargs={'tool_calls': [{'index': 0, 'id': None, 'function': {'arguments': '2', 'name': ''}, 'type': 'function'}]} response_metadata={} id='run-e13f1914-2799-4c23-84e3-ac3be3bed565' invalid_tool_calls=[{'name': '', 'args': '2', 'id': None, 'error': None, 'type': 'invalid_tool_call'}] tool_call_chunks=[{'name': '', 'args': '2', 'id': None, 'index': 0, 'type': 'tool_call_chunk'}]\n",
      "content='' additional_kwargs={'tool_calls': [{'index': 0, 'id': None, 'function': {'arguments': '3', 'name': ''}, 'type': 'function'}]} response_metadata={} id='run-e13f1914-2799-4c23-84e3-ac3be3bed565' invalid_tool_calls=[{'name': '', 'args': '3', 'id': None, 'error': None, 'type': 'invalid_tool_call'}] tool_call_chunks=[{'name': '', 'args': '3', 'id': None, 'index': 0, 'type': 'tool_call_chunk'}]\n",
      "content='' additional_kwargs={'tool_calls': [{'index': 0, 'id': None, 'function': {'arguments': '3', 'name': ''}, 'type': 'function'}]} response_metadata={} id='run-e13f1914-2799-4c23-84e3-ac3be3bed565' invalid_tool_calls=[{'name': '', 'args': '3', 'id': None, 'error': None, 'type': 'invalid_tool_call'}] tool_call_chunks=[{'name': '', 'args': '3', 'id': None, 'index': 0, 'type': 'tool_call_chunk'}]\n",
      "content='' additional_kwargs={'tool_calls': [{'index': 0, 'id': None, 'function': {'arguments': 'a', 'name': ''}, 'type': 'function'}]} response_metadata={} id='run-e13f1914-2799-4c23-84e3-ac3be3bed565' invalid_tool_calls=[{'name': '', 'args': 'a', 'id': None, 'error': None, 'type': 'invalid_tool_call'}] tool_call_chunks=[{'name': '', 'args': 'a', 'id': None, 'index': 0, 'type': 'tool_call_chunk'}]\n",
      "content='' additional_kwargs={'tool_calls': [{'index': 0, 'id': None, 'function': {'arguments': 'abc', 'name': ''}, 'type': 'function'}]} response_metadata={} id='run-e13f1914-2799-4c23-84e3-ac3be3bed565' invalid_tool_calls=[{'name': '', 'args': 'abc', 'id': None, 'error': None, 'type': 'invalid_tool_call'}] tool_call_chunks=[{'name': '', 'args': 'abc', 'id': None, 'index': 0, 'type': 'tool_call_chunk'}]\n",
      "content='' additional_kwargs={'tool_calls': [{'index': 0, 'id': None, 'function': {'arguments': '2', 'name': ''}, 'type': 'function'}]} response_metadata={} id='run-e13f1914-2799-4c23-84e3-ac3be3bed565' invalid_tool_calls=[{'name': '', 'args': '2', 'id': None, 'error': None, 'type': 'invalid_tool_call'}] tool_call_chunks=[{'name': '', 'args': '2', 'id': None, 'index': 0, 'type': 'tool_call_chunk'}]\n",
      "content='' additional_kwargs={'tool_calls': [{'index': 0, 'id': None, 'function': {'arguments': '7', 'name': ''}, 'type': 'function'}]} response_metadata={} id='run-e13f1914-2799-4c23-84e3-ac3be3bed565' invalid_tool_calls=[{'name': '', 'args': '7', 'id': None, 'error': None, 'type': 'invalid_tool_call'}] tool_call_chunks=[{'name': '', 'args': '7', 'id': None, 'index': 0, 'type': 'tool_call_chunk'}]\n",
      "content='' additional_kwargs={'tool_calls': [{'index': 0, 'id': None, 'function': {'arguments': 'c', 'name': ''}, 'type': 'function'}]} response_metadata={} id='run-e13f1914-2799-4c23-84e3-ac3be3bed565' invalid_tool_calls=[{'name': '', 'args': 'c', 'id': None, 'error': None, 'type': 'invalid_tool_call'}] tool_call_chunks=[{'name': '', 'args': 'c', 'id': None, 'index': 0, 'type': 'tool_call_chunk'}]\n",
      "content='' additional_kwargs={'tool_calls': [{'index': 0, 'id': None, 'function': {'arguments': '\"}', 'name': ''}, 'type': 'function'}]} response_metadata={} id='run-e13f1914-2799-4c23-84e3-ac3be3bed565' invalid_tool_calls=[{'name': '', 'args': '\"}', 'id': None, 'error': None, 'type': 'invalid_tool_call'}] tool_call_chunks=[{'name': '', 'args': '\"}', 'id': None, 'index': 0, 'type': 'tool_call_chunk'}]\n",
      "content='' additional_kwargs={} response_metadata={'finish_reason': 'stop', 'model_name': 'gemma-3-4b-it', 'system_fingerprint': 'gemma-3-4b-it'} id='run-e13f1914-2799-4c23-84e3-ac3be3bed565'\n"
     ]
    },
    {
     "ename": "GraphRecursionError",
     "evalue": "Recursion limit of 25 reached without hitting a stop condition. You can increase the limit by setting the `recursion_limit` config key.\nFor troubleshooting, visit: https://python.langchain.com/docs/troubleshooting/errors/GRAPH_RECURSION_LIMIT",
     "output_type": "error",
     "traceback": [
      "\u001B[0;31m---------------------------------------------------------------------------\u001B[0m",
      "\u001B[0;31mGraphRecursionError\u001B[0m                       Traceback (most recent call last)",
      "Cell \u001B[0;32mIn[82], line 1\u001B[0m\n\u001B[0;32m----> 1\u001B[0m \u001B[38;5;28;43;01mfor\u001B[39;49;00m\u001B[43m \u001B[49m\u001B[43mmessage\u001B[49m\u001B[43m,\u001B[49m\u001B[43m \u001B[49m\u001B[43mmetadata\u001B[49m\u001B[43m \u001B[49m\u001B[38;5;129;43;01min\u001B[39;49;00m\u001B[43m \u001B[49m\u001B[43magent\u001B[49m\u001B[38;5;241;43m.\u001B[39;49m\u001B[43mstream\u001B[49m\u001B[43m(\u001B[49m\n\u001B[1;32m      2\u001B[0m \u001B[43m    \u001B[49m\u001B[38;5;28;43minput\u001B[39;49m\u001B[38;5;241;43m=\u001B[39;49m\u001B[43m{\u001B[49m\u001B[38;5;124;43m\"\u001B[39;49m\u001B[38;5;124;43mmessages\u001B[39;49m\u001B[38;5;124;43m\"\u001B[39;49m\u001B[43m:\u001B[49m\u001B[43m \u001B[49m\u001B[43m[\u001B[49m\u001B[43m{\u001B[49m\u001B[38;5;124;43m\"\u001B[39;49m\u001B[38;5;124;43mrole\u001B[39;49m\u001B[38;5;124;43m\"\u001B[39;49m\u001B[43m:\u001B[49m\u001B[43m \u001B[49m\u001B[38;5;124;43m\"\u001B[39;49m\u001B[38;5;124;43muser\u001B[39;49m\u001B[38;5;124;43m\"\u001B[39;49m\u001B[43m,\u001B[49m\u001B[43m \u001B[49m\u001B[38;5;124;43m\"\u001B[39;49m\u001B[38;5;124;43mcontent\u001B[39;49m\u001B[38;5;124;43m\"\u001B[39;49m\u001B[43m:\u001B[49m\u001B[43m \u001B[49m\u001B[38;5;124;43m\"\u001B[39;49m\u001B[38;5;124;43mI\u001B[39;49m\u001B[38;5;124;43m'\u001B[39;49m\u001B[38;5;124;43mm hungry\u001B[39;49m\u001B[38;5;124;43m\"\u001B[39;49m\u001B[43m}\u001B[49m\u001B[43m]\u001B[49m\u001B[43m}\u001B[49m\u001B[43m,\u001B[49m\n\u001B[1;32m      3\u001B[0m \u001B[43m    \u001B[49m\u001B[43mstream_mode\u001B[49m\u001B[38;5;241;43m=\u001B[39;49m\u001B[38;5;124;43m\"\u001B[39;49m\u001B[38;5;124;43mmessages\u001B[39;49m\u001B[38;5;124;43m\"\u001B[39;49m\u001B[43m,\u001B[49m\n\u001B[1;32m      4\u001B[0m \u001B[43m)\u001B[49m\u001B[43m:\u001B[49m\n\u001B[1;32m      5\u001B[0m \u001B[43m    \u001B[49m\u001B[38;5;66;43;03m# print(message.content, end=\"\")\u001B[39;49;00m\n\u001B[1;32m      6\u001B[0m \u001B[43m    \u001B[49m\u001B[38;5;28;43mprint\u001B[39;49m\u001B[43m(\u001B[49m\u001B[43mmessage\u001B[49m\u001B[43m)\u001B[49m\n\u001B[1;32m      7\u001B[0m     \u001B[38;5;66;03m# print(metadata)\u001B[39;00m\n",
      "File \u001B[0;32m/opt/anaconda3/envs/langChain/lib/python3.13/site-packages/langgraph/pregel/__init__.py:1799\u001B[0m, in \u001B[0;36mPregel.stream\u001B[0;34m(self, input, config, stream_mode, output_keys, interrupt_before, interrupt_after, debug, subgraphs)\u001B[0m\n\u001B[1;32m   1790\u001B[0m \u001B[38;5;28;01mif\u001B[39;00m loop\u001B[38;5;241m.\u001B[39mstatus \u001B[38;5;241m==\u001B[39m \u001B[38;5;124m\"\u001B[39m\u001B[38;5;124mout_of_steps\u001B[39m\u001B[38;5;124m\"\u001B[39m:\n\u001B[1;32m   1791\u001B[0m     msg \u001B[38;5;241m=\u001B[39m create_error_message(\n\u001B[1;32m   1792\u001B[0m         message\u001B[38;5;241m=\u001B[39m(\n\u001B[1;32m   1793\u001B[0m             \u001B[38;5;124mf\u001B[39m\u001B[38;5;124m\"\u001B[39m\u001B[38;5;124mRecursion limit of \u001B[39m\u001B[38;5;132;01m{\u001B[39;00mconfig[\u001B[38;5;124m'\u001B[39m\u001B[38;5;124mrecursion_limit\u001B[39m\u001B[38;5;124m'\u001B[39m]\u001B[38;5;132;01m}\u001B[39;00m\u001B[38;5;124m reached \u001B[39m\u001B[38;5;124m\"\u001B[39m\n\u001B[0;32m   (...)\u001B[0m\n\u001B[1;32m   1797\u001B[0m         error_code\u001B[38;5;241m=\u001B[39mErrorCode\u001B[38;5;241m.\u001B[39mGRAPH_RECURSION_LIMIT,\n\u001B[1;32m   1798\u001B[0m     )\n\u001B[0;32m-> 1799\u001B[0m     \u001B[38;5;28;01mraise\u001B[39;00m GraphRecursionError(msg)\n\u001B[1;32m   1800\u001B[0m \u001B[38;5;66;03m# set final channel values as run output\u001B[39;00m\n\u001B[1;32m   1801\u001B[0m run_manager\u001B[38;5;241m.\u001B[39mon_chain_end(loop\u001B[38;5;241m.\u001B[39moutput)\n",
      "\u001B[0;31mGraphRecursionError\u001B[0m: Recursion limit of 25 reached without hitting a stop condition. You can increase the limit by setting the `recursion_limit` config key.\nFor troubleshooting, visit: https://python.langchain.com/docs/troubleshooting/errors/GRAPH_RECURSION_LIMIT"
     ]
    }
   ],
   "execution_count": 82
  },
  {
   "metadata": {},
   "cell_type": "code",
   "outputs": [],
   "execution_count": null,
   "source": "",
   "id": "9044357c28197bae"
  }
 ],
 "metadata": {
  "kernelspec": {
   "display_name": "Python 3",
   "language": "python",
   "name": "python3"
  },
  "language_info": {
   "codemirror_mode": {
    "name": "ipython",
    "version": 2
   },
   "file_extension": ".py",
   "mimetype": "text/x-python",
   "name": "python",
   "nbconvert_exporter": "python",
   "pygments_lexer": "ipython2",
   "version": "2.7.6"
  }
 },
 "nbformat": 4,
 "nbformat_minor": 5
}
