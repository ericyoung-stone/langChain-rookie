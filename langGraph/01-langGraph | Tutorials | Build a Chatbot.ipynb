{
 "cells": [
  {
   "cell_type": "code",
   "execution_count": 33,
   "id": "3d28b5b8-f258-45a6-8915-c348f8c0cb18",
   "metadata": {
    "ExecuteTime": {
     "end_time": "2025-02-21T15:08:11.809196Z",
     "start_time": "2025-02-21T15:08:11.802962Z"
    },
    "editable": true,
    "slideshow": {
     "slide_type": ""
    },
    "tags": []
   },
   "outputs": [
    {
     "name": "stdout",
     "output_type": "stream",
     "text": [
      "Running in an interactive environment, using current directory instead.\n",
      "/Users/ericyoung/ysx/code/github-study/langChain-rookie\n",
      "/Users/ericyoung/ysx/code/github-study/langChain-rookie/.env\n"
     ]
    },
    {
     "data": {
      "text/plain": [
       "True"
      ]
     },
     "execution_count": 33,
     "metadata": {},
     "output_type": "execute_result"
    }
   ],
   "source": [
    "from dotenv import load_dotenv\n",
    "import os\n",
    "\n",
    "try:\n",
    "    print(__file__)  # 检查 __file__ 是否存在, os.path.dirname() 可以返回指定路径的父目录\n",
    "    dotenv_path = os.path.join(os.path.dirname(__file__), '.env')\n",
    "except NameError:\n",
    "    print(\"Running in an interactive environment, using current directory instead.\")\n",
    "    # 使用 os.path.join() 和 .. 返回指定路径的父目录\n",
    "    cur_work_dir = os.getcwd()\n",
    "    print(cur_work_dir)\n",
    "    dotenv_path = os.path.normpath(os.path.join(cur_work_dir, '.env'))\n",
    "print(dotenv_path)\n",
    "load_dotenv(dotenv_path, override=True)"
   ]
  },
  {
   "cell_type": "markdown",
   "id": "88e9302e-10fb-4b18-af3f-459128c7c6cf",
   "metadata": {
    "editable": true,
    "slideshow": {
     "slide_type": ""
    },
    "tags": []
   },
   "source": [
    "# Build a Chatbot 构建聊天机器人\n",
    "- pip install langchain-core langgraph>0.2.27\n",
    "- 介绍一个由LLM驱动的聊天机器人的设计和实现示例。这个聊天机器人能够进行对话并记住与聊天模型之前的交互。"
   ]
  },
  {
   "cell_type": "code",
   "execution_count": 2,
   "id": "f4d8e28f-2683-4dd0-906b-2193b7200875",
   "metadata": {
    "editable": true,
    "slideshow": {
     "slide_type": ""
    },
    "tags": []
   },
   "outputs": [],
   "source": [
    "# pip install -qU \"langchain[anthropic]\"\n",
    "# from langchain.chat_models import init_chat_model\n",
    "\n",
    "# model = init_chat_model(\"claude-3-5-sonnet-latest\", model_provider=\"anthropic\")"
   ]
  },
  {
   "cell_type": "code",
   "execution_count": 3,
   "id": "57f49441-f478-46b0-aa0c-070dbe8f5afd",
   "metadata": {
    "editable": true,
    "slideshow": {
     "slide_type": ""
    },
    "tags": []
   },
   "outputs": [
    {
     "data": {
      "text/plain": [
       "ChatOllama(model='qwen2.5:latest', temperature=0.0)"
      ]
     },
     "execution_count": 3,
     "metadata": {},
     "output_type": "execute_result"
    }
   ],
   "source": [
    "from langchain_ollama import ChatOllama\n",
    "\n",
    "model = ChatOllama(\n",
    "    model=\"qwen2.5:latest\",\n",
    "    temperature=0,\n",
    "    # other params...\n",
    ")\n",
    "model"
   ]
  },
  {
   "cell_type": "markdown",
   "id": "0b3cfe78-85e0-42b2-8332-0e0e0fd9e991",
   "metadata": {
    "editable": true,
    "slideshow": {
     "slide_type": ""
    },
    "tags": []
   },
   "source": [
    "- 首先直接使用该模型。 ChatModel s 是 LangChain \"Runnables\" 的实例，这意味着它们暴露了一个标准接口以便与它们交互。\n",
    "- 要简单地调用模型，我们可以将消息列表传递给 .invoke 方法。"
   ]
  },
  {
   "cell_type": "code",
   "execution_count": 4,
   "id": "6fbceef2-0dad-487e-bc44-70b0faab8b03",
   "metadata": {
    "editable": true,
    "slideshow": {
     "slide_type": ""
    },
    "tags": []
   },
   "outputs": [
    {
     "data": {
      "text/plain": [
       "{'content': 'Hello Bob! Nice to meet you. How can I assist you today? Whether you have questions, need information, or just want to chat, feel free to let me know!',\n",
       " 'additional_kwargs': {},\n",
       " 'response_metadata': {'model': 'qwen2.5:latest',\n",
       "  'created_at': '2025-02-21T15:51:47.204797Z',\n",
       "  'done': True,\n",
       "  'done_reason': 'stop',\n",
       "  'total_duration': 4224855750,\n",
       "  'load_duration': 38612625,\n",
       "  'prompt_eval_count': 34,\n",
       "  'prompt_eval_duration': 2498000000,\n",
       "  'eval_count': 37,\n",
       "  'eval_duration': 1681000000,\n",
       "  'message': {'role': 'assistant',\n",
       "   'content': '',\n",
       "   'images': None,\n",
       "   'tool_calls': None}},\n",
       " 'type': 'ai',\n",
       " 'name': None,\n",
       " 'id': 'run-bf2e485a-51f6-4ed8-93a6-913c7f58af16-0',\n",
       " 'example': False,\n",
       " 'tool_calls': [],\n",
       " 'invalid_tool_calls': [],\n",
       " 'usage_metadata': {'input_tokens': 34,\n",
       "  'output_tokens': 37,\n",
       "  'total_tokens': 71}}"
      ]
     },
     "execution_count": 4,
     "metadata": {},
     "output_type": "execute_result"
    }
   ],
   "source": [
    "from langchain_core.messages import HumanMessage\n",
    "\n",
    "model.invoke([HumanMessage(content=\"Hi! I'm Bob\")]).model_dump()"
   ]
  },
  {
   "cell_type": "markdown",
   "id": "303dcb44-1846-40b8-b268-79c1ef287042",
   "metadata": {
    "editable": true,
    "slideshow": {
     "slide_type": ""
    },
    "tags": []
   },
   "source": [
    "- 该模型本身没有任何状态的概念,没有记忆"
   ]
  },
  {
   "cell_type": "code",
   "execution_count": 5,
   "id": "6134cf85-d94a-4738-a84f-c80482898d6d",
   "metadata": {
    "editable": true,
    "slideshow": {
     "slide_type": ""
    },
    "tags": []
   },
   "outputs": [
    {
     "data": {
      "text/plain": [
       "{'content': \"You didn't provide your name in your question. However, you can tell me your name if you'd like me to know it! How can I assist you today?\",\n",
       " 'additional_kwargs': {},\n",
       " 'response_metadata': {'model': 'qwen2.5:latest',\n",
       "  'created_at': '2025-02-21T15:51:48.984849Z',\n",
       "  'done': True,\n",
       "  'done_reason': 'stop',\n",
       "  'total_duration': 1757760333,\n",
       "  'load_duration': 13913083,\n",
       "  'prompt_eval_count': 34,\n",
       "  'prompt_eval_duration': 159000000,\n",
       "  'eval_count': 35,\n",
       "  'eval_duration': 1582000000,\n",
       "  'message': {'role': 'assistant',\n",
       "   'content': '',\n",
       "   'images': None,\n",
       "   'tool_calls': None}},\n",
       " 'type': 'ai',\n",
       " 'name': None,\n",
       " 'id': 'run-5f3bd608-1273-4500-8a8e-12e202b83fa8-0',\n",
       " 'example': False,\n",
       " 'tool_calls': [],\n",
       " 'invalid_tool_calls': [],\n",
       " 'usage_metadata': {'input_tokens': 34,\n",
       "  'output_tokens': 35,\n",
       "  'total_tokens': 69}}"
      ]
     },
     "execution_count": 5,
     "metadata": {},
     "output_type": "execute_result"
    }
   ],
   "source": [
    "model.invoke([HumanMessage(content=\"What's my name?\")]).model_dump()"
   ]
  },
  {
   "cell_type": "markdown",
   "id": "d1013a50-4d43-4b5a-b336-f3eef00efcfd",
   "metadata": {
    "editable": true,
    "slideshow": {
     "slide_type": ""
    },
    "tags": []
   },
   "source": [
    "- 为了克服这个问题，我们需要将整个对话历史传递给模型。"
   ]
  },
  {
   "cell_type": "code",
   "execution_count": 6,
   "id": "ea5569a9-8e15-4424-b77e-f517c252cfcf",
   "metadata": {
    "editable": true,
    "slideshow": {
     "slide_type": ""
    },
    "tags": []
   },
   "outputs": [
    {
     "data": {
      "text/plain": [
       "{'content': \"Your name is Bob. Nice to meet you, Bob! Is there anything specific you'd like to talk about or any questions you have?\",\n",
       " 'additional_kwargs': {},\n",
       " 'response_metadata': {'model': 'qwen2.5:latest',\n",
       "  'created_at': '2025-02-21T15:51:50.616748Z',\n",
       "  'done': True,\n",
       "  'done_reason': 'stop',\n",
       "  'total_duration': 1616353875,\n",
       "  'load_duration': 9173125,\n",
       "  'prompt_eval_count': 59,\n",
       "  'prompt_eval_duration': 297000000,\n",
       "  'eval_count': 29,\n",
       "  'eval_duration': 1308000000,\n",
       "  'message': {'role': 'assistant',\n",
       "   'content': '',\n",
       "   'images': None,\n",
       "   'tool_calls': None}},\n",
       " 'type': 'ai',\n",
       " 'name': None,\n",
       " 'id': 'run-8a5bb32a-b2a0-4359-94aa-1ed6143a1105-0',\n",
       " 'example': False,\n",
       " 'tool_calls': [],\n",
       " 'invalid_tool_calls': [],\n",
       " 'usage_metadata': {'input_tokens': 59,\n",
       "  'output_tokens': 29,\n",
       "  'total_tokens': 88}}"
      ]
     },
     "execution_count": 6,
     "metadata": {},
     "output_type": "execute_result"
    }
   ],
   "source": [
    "from langchain_core.messages import AIMessage\n",
    "\n",
    "model.invoke(\n",
    "    [\n",
    "        HumanMessage(content=\"Hi! I'm Bob\"),\n",
    "        AIMessage(content=\"Hello Bob! How can I assist you today?\"),\n",
    "        HumanMessage(content=\"What's my name?\"),\n",
    "    ]\n",
    ").model_dump()"
   ]
  },
  {
   "cell_type": "markdown",
   "id": "ec31831f-158f-45e3-a5ae-078c0f4c9cb7",
   "metadata": {
    "editable": true,
    "slideshow": {
     "slide_type": ""
    },
    "tags": []
   },
   "source": [
    "## Message persistence  消息持久化\n",
    "- 上述是聊天机器人具备对话能力的基本理念,如何优雅实现?\n",
    "- LangGraph 实现了内置的持久层，使其非常适合支持多轮对话的聊天应用。\n",
    "- 将聊天模型封装在最小化 LangGraph 应用程序中，可以使我们自动保存消息历史记录，简化多轮对话应用的开发。\n",
    "- LangGraph 随附了一个简单的内存中检查点工具, 具体还有其他,包括如何使用不同的持久化后端（例如，SQLite 或 Postgres）。"
   ]
  },
  {
   "cell_type": "code",
   "execution_count": 7,
   "id": "7b3f962a-6cf4-41ce-97e1-17700b83c832",
   "metadata": {
    "editable": true,
    "slideshow": {
     "slide_type": ""
    },
    "tags": []
   },
   "outputs": [
    {
     "data": {
      "image/png": "[encoded data removed]",
      "text/plain": [
       "<langgraph.graph.state.CompiledStateGraph object at 0x107856900>"
      ]
     },
     "execution_count": 7,
     "metadata": {},
     "output_type": "execute_result"
    }
   ],
   "source": [
    "from langgraph.checkpoint.memory import MemorySaver\n",
    "from langgraph.graph import START, MessagesState, StateGraph\n",
    "\n",
    "# Define a new graph\n",
    "workflow = StateGraph(state_schema=MessagesState)\n",
    "\n",
    "\n",
    "# Define the function that calls the model\n",
    "def call_model(state: MessagesState):\n",
    "    response = model.invoke(state[\"messages\"])\n",
    "    return {\"messages\": response}\n",
    "\n",
    "\n",
    "# Define the (single) node in the graph\n",
    "workflow.add_edge(START, \"model\")\n",
    "workflow.add_node(\"model\", call_model)\n",
    "\n",
    "# Add memory\n",
    "memory = MemorySaver()\n",
    "app = workflow.compile(checkpointer=memory)\n",
    "app"
   ]
  },
  {
   "cell_type": "markdown",
   "id": "fe9671ba-81a9-477d-a12a-612537cc31e5",
   "metadata": {
    "editable": true,
    "slideshow": {
     "slide_type": ""
    },
    "tags": []
   },
   "source": [
    "- 单个应用程序支持多个对话线程，这是当您的应用程序有多名用户时的一个常见要求。"
   ]
  },
  {
   "cell_type": "code",
   "execution_count": 8,
   "id": "5db3c6a1-14d0-4f58-bc02-8d00414100c2",
   "metadata": {
    "editable": true,
    "slideshow": {
     "slide_type": ""
    },
    "tags": []
   },
   "outputs": [],
   "source": [
    "config = {\"configurable\": {\"thread_id\": \"historyId_001\"}}"
   ]
  },
  {
   "cell_type": "markdown",
   "id": "c812aa26-b823-471f-a605-dff4dbc36e40",
   "metadata": {
    "editable": true,
    "slideshow": {
     "slide_type": ""
    },
    "tags": []
   },
   "source": [
    "- 多轮对话"
   ]
  },
  {
   "cell_type": "code",
   "execution_count": 9,
   "id": "f051ad6b-67f9-4b3f-a7d6-20f6939e71f3",
   "metadata": {
    "editable": true,
    "slideshow": {
     "slide_type": ""
    },
    "tags": []
   },
   "outputs": [
    {
     "name": "stdout",
     "output_type": "stream",
     "text": [
      "==================================\u001b[1m Ai Message \u001b[0m==================================\n",
      "\n",
      "Hello Bob! Nice to meet you. How can I assist you today? Whether you have questions, need information, or just want to chat, feel free to let me know!\n"
     ]
    }
   ],
   "source": [
    "query = \"Hi! I'm Bob.\"\n",
    "\n",
    "input_messages = [HumanMessage(query)]\n",
    "output = app.invoke({\"messages\": input_messages}, config)\n",
    "output[\"messages\"][-1].pretty_print()  # output contains all messages in state"
   ]
  },
  {
   "cell_type": "code",
   "execution_count": 10,
   "id": "bf360c43-270c-499e-8da5-cb221def7c33",
   "metadata": {
    "editable": true,
    "slideshow": {
     "slide_type": ""
    },
    "tags": []
   },
   "outputs": [
    {
     "name": "stdout",
     "output_type": "stream",
     "text": [
      "==================================\u001b[1m Ai Message \u001b[0m==================================\n",
      "\n",
      "Your name is Bob!\n"
     ]
    }
   ],
   "source": [
    "query = \"What's my name?\"\n",
    "\n",
    "input_messages = [HumanMessage(query)]\n",
    "output = app.invoke({\"messages\": input_messages}, config)\n",
    "output[\"messages\"][-1].pretty_print()"
   ]
  },
  {
   "cell_type": "markdown",
   "id": "94639032-52c0-48a3-b3ac-469ef93da126",
   "metadata": {
    "editable": true,
    "slideshow": {
     "slide_type": ""
    },
    "tags": []
   },
   "source": [
    "- 多用户"
   ]
  },
  {
   "cell_type": "code",
   "execution_count": 11,
   "id": "1c6660ea-719b-426d-9e88-846eb12b4fae",
   "metadata": {
    "editable": true,
    "slideshow": {
     "slide_type": ""
    },
    "tags": []
   },
   "outputs": [
    {
     "name": "stdout",
     "output_type": "stream",
     "text": [
      "==================================\u001b[1m Ai Message \u001b[0m==================================\n",
      "\n",
      "You didn't provide your name in your question. However, you can tell me your name if you'd like me to know it! How can I assist you today?\n"
     ]
    }
   ],
   "source": [
    "config = {\"configurable\": {\"thread_id\": \"abc234\"}}\n",
    "\n",
    "input_messages = [HumanMessage(query)]\n",
    "output = app.invoke({\"messages\": input_messages}, config)\n",
    "output[\"messages\"][-1].pretty_print()"
   ]
  },
  {
   "cell_type": "markdown",
   "id": "62537ed8-2fd7-47bd-9fd8-9e112dfacc47",
   "metadata": {
    "editable": true,
    "slideshow": {
     "slide_type": ""
    },
    "tags": []
   },
   "source": [
    "- 回到第一个对话"
   ]
  },
  {
   "cell_type": "code",
   "execution_count": 12,
   "id": "d6e27eca-e67c-4630-9667-abe1ca9a4aed",
   "metadata": {
    "editable": true,
    "slideshow": {
     "slide_type": ""
    },
    "tags": []
   },
   "outputs": [
    {
     "name": "stdout",
     "output_type": "stream",
     "text": [
      "==================================\u001b[1m Ai Message \u001b[0m==================================\n",
      "\n",
      "Your name is Bob. How can I assist you further with that information?\n"
     ]
    }
   ],
   "source": [
    "config = {\"configurable\": {\"thread_id\": \"historyId_001\"}}\n",
    "\n",
    "input_messages = [HumanMessage(query)]\n",
    "output = app.invoke({\"messages\": input_messages}, config)\n",
    "output[\"messages\"][-1].pretty_print()"
   ]
  },
  {
   "cell_type": "markdown",
   "id": "381cd61b-42e4-411f-b534-89e7f5eb6146",
   "metadata": {
    "editable": true,
    "slideshow": {
     "slide_type": ""
    },
    "tags": []
   },
   "source": [
    "## 异步操作 .ainvoke\n",
    "- 为了支持异步操作，请将 call_model 节点更新为异步函数，并在调用应用程序时使用 .ainvoke ："
   ]
  },
  {
   "cell_type": "code",
   "execution_count": 13,
   "id": "6fa781ee-63ef-4b2d-a1c1-0686e7cb8f7c",
   "metadata": {
    "editable": true,
    "slideshow": {
     "slide_type": ""
    },
    "tags": []
   },
   "outputs": [
    {
     "name": "stdout",
     "output_type": "stream",
     "text": [
      "==================================\u001b[1m Ai Message \u001b[0m==================================\n",
      "\n",
      "You didn't provide your name in your question. However, you can tell me your name if you'd like me to know it! How can I assist you today?\n"
     ]
    }
   ],
   "source": [
    "# Async function for node:\n",
    "async def call_model(state: MessagesState):\n",
    "    response = await model.ainvoke(state[\"messages\"])\n",
    "    return {\"messages\": response}\n",
    "\n",
    "\n",
    "# Define graph as before:\n",
    "workflow = StateGraph(state_schema=MessagesState)\n",
    "workflow.add_edge(START, \"model\")\n",
    "workflow.add_node(\"model\", call_model)\n",
    "app = workflow.compile(checkpointer=MemorySaver())\n",
    "\n",
    "# Async invocation:\n",
    "output = await app.ainvoke({\"messages\": input_messages}, config)\n",
    "output[\"messages\"][-1].pretty_print()"
   ]
  },
  {
   "cell_type": "markdown",
   "id": "b0d86345-a625-4979-9a0c-a630f4f044cf",
   "metadata": {
    "editable": true,
    "slideshow": {
     "slide_type": ""
    },
    "tags": []
   },
   "source": [
    "## Prompt templates  提示模板\n",
    "- 通过添加提示模板，我们可以使聊天机器人更加复杂和个性化\n",
    "- Prompt Templates 帮助将原始用户信息转换成 LLM 可以处理的格式。\n",
    "- 在这种情况下，原始用户输入只是一个消息，我们将其传递给 LLM。现在让我们使其稍微复杂一些。\n",
    "- 首先，我们添加一个包含一些**自定义指令的系统消息**（但仍以消息作为输入）。\n",
    "- 接下来，我们将添加更多的输入，而不仅仅是消息。"
   ]
  },
  {
   "cell_type": "markdown",
   "id": "79a18af6-a76e-4cc4-b275-28d210a5a8ed",
   "metadata": {
    "editable": true,
    "slideshow": {
     "slide_type": ""
    },
    "tags": []
   },
   "source": [
    "### 添加系统信息\n",
    "- 添加一个系统消息，我们将创建一个 ChatPromptTemplate 。我们将利用 MessagesPlaceholder 来传递所有消息"
   ]
  },
  {
   "cell_type": "code",
   "execution_count": 14,
   "id": "bdc4a3a8-3cde-4ce7-ba9c-24324f30568b",
   "metadata": {
    "editable": true,
    "slideshow": {
     "slide_type": ""
    },
    "tags": []
   },
   "outputs": [],
   "source": [
    "from langchain_core.prompts import ChatPromptTemplate, MessagesPlaceholder\n",
    "\n",
    "prompt_template = ChatPromptTemplate.from_messages(\n",
    "    [\n",
    "        (\n",
    "            \"system\",\n",
    "            \"You talk like a pirate. Answer all questions to the best of your ability.\",\n",
    "        ),\n",
    "        MessagesPlaceholder(variable_name=\"messages\"), # 会找到messages变量的值来替代,\n",
    "    ]\n",
    ")"
   ]
  },
  {
   "cell_type": "markdown",
   "id": "588627bc-81c3-46ce-96b5-811ea5ab9864",
   "metadata": {
    "editable": true,
    "slideshow": {
     "slide_type": ""
    },
    "tags": []
   },
   "source": [
    "- 应用到call_model中"
   ]
  },
  {
   "cell_type": "code",
   "execution_count": 15,
   "id": "a4550ce5-4541-4365-b27e-ed051ce751b4",
   "metadata": {
    "editable": true,
    "slideshow": {
     "slide_type": ""
    },
    "tags": []
   },
   "outputs": [
    {
     "data": {
      "image/png": "[encoded data removed]",
      "text/plain": [
       "<langgraph.graph.state.CompiledStateGraph object at 0x10791b610>"
      ]
     },
     "execution_count": 15,
     "metadata": {},
     "output_type": "execute_result"
    }
   ],
   "source": [
    "workflow = StateGraph(state_schema=MessagesState)\n",
    "\n",
    "\n",
    "def call_model(state: MessagesState):\n",
    "    prompt = prompt_template.invoke(state)\n",
    "    response = model.invoke(prompt)\n",
    "    return {\"messages\": response}\n",
    "\n",
    "\n",
    "workflow.add_edge(START, \"model\")\n",
    "workflow.add_node(\"model\", call_model)\n",
    "\n",
    "memory = MemorySaver()\n",
    "app = workflow.compile(checkpointer=memory)\n",
    "app"
   ]
  },
  {
   "cell_type": "code",
   "execution_count": 16,
   "id": "21532056-c22e-4129-bb08-6934372fc11b",
   "metadata": {
    "editable": true,
    "slideshow": {
     "slide_type": ""
    },
    "tags": []
   },
   "outputs": [
    {
     "name": "stdout",
     "output_type": "stream",
     "text": [
      "==================================\u001b[1m Ai Message \u001b[0m==================================\n",
      "\n",
      "Ahoy, matey! I be Captain Jack Sparrow from th' seven seas. What bring thee t' speak with ol' Jack today? Be ye seekin' directions t' th' nearest piece o' land or perhaps ye be in need of a swashbucklin' adventure?\n"
     ]
    }
   ],
   "source": [
    "config = {\"configurable\": {\"thread_id\": \"abc345\"}}\n",
    "query = \"Hi! I'm Jim.\"\n",
    "\n",
    "input_messages = [HumanMessage(query)]\n",
    "output = app.invoke({\"messages\": input_messages}, config)\n",
    "output[\"messages\"][-1].pretty_print()"
   ]
  },
  {
   "cell_type": "code",
   "execution_count": 17,
   "id": "d03389dd-96b0-4076-a8e1-1db1c74a86c0",
   "metadata": {
    "editable": true,
    "slideshow": {
     "slide_type": ""
    },
    "tags": []
   },
   "outputs": [
    {
     "name": "stdout",
     "output_type": "stream",
     "text": [
      "==================================\u001b[1m Ai Message \u001b[0m==================================\n",
      "\n",
      "Thy name be Jim, matey! Or so thou saidst yar just now. How can I assist thee further, Jim? Be ye planning a voyage or perhaps seekin' some treasure?\n"
     ]
    }
   ],
   "source": [
    "query = \"What is my name?\"\n",
    "\n",
    "input_messages = [HumanMessage(query)]\n",
    "output = app.invoke({\"messages\": input_messages}, config)\n",
    "output[\"messages\"][-1].pretty_print()"
   ]
  },
  {
   "cell_type": "markdown",
   "id": "a8528c0b-c972-4a85-b9be-424c87c2a4ed",
   "metadata": {
    "editable": true,
    "slideshow": {
     "slide_type": ""
    },
    "tags": []
   },
   "source": [
    "### 让提示词更复杂些\n",
    "- 在提示中添加了一个新的 language 输入。现在我们的应用程序有两个参数——输入 messages 和 language 。我们应该更新应用程序的状态以反映这一点"
   ]
  },
  {
   "cell_type": "code",
   "execution_count": 18,
   "id": "82dbb8ef-7e45-4419-8204-dd96166262fd",
   "metadata": {
    "editable": true,
    "slideshow": {
     "slide_type": ""
    },
    "tags": []
   },
   "outputs": [],
   "source": [
    "prompt_template = ChatPromptTemplate.from_messages(\n",
    "    [\n",
    "        (\n",
    "            \"system\",\n",
    "            \"You are a helpful assistant. Answer all questions to the best of your ability in {language}.\",\n",
    "        ),\n",
    "        MessagesPlaceholder(variable_name=\"messages\"), # 会找到messages变量的值来替代,\n",
    "    ]\n",
    ")"
   ]
  },
  {
   "cell_type": "code",
   "execution_count": 19,
   "id": "fc0bdd0e-72d2-458e-ac68-f10fb1bfa8ed",
   "metadata": {
    "editable": true,
    "slideshow": {
     "slide_type": ""
    },
    "tags": []
   },
   "outputs": [
    {
     "data": {
      "image/png": "[encoded data removed]",
      "text/plain": [
       "<langgraph.graph.state.CompiledStateGraph object at 0x107a3a3f0>"
      ]
     },
     "execution_count": 19,
     "metadata": {},
     "output_type": "execute_result"
    }
   ],
   "source": [
    "from typing import Sequence\n",
    "\n",
    "from langchain_core.messages import BaseMessage\n",
    "from langgraph.graph.message import add_messages\n",
    "from typing_extensions import Annotated, TypedDict\n",
    "\n",
    "\n",
    "class State(TypedDict):\n",
    "    messages: Annotated[Sequence[BaseMessage], add_messages]\n",
    "    language: str\n",
    "\n",
    "\n",
    "workflow = StateGraph(state_schema=State)\n",
    "\n",
    "\n",
    "def call_model(state: State):\n",
    "    prompt = prompt_template.invoke(state)\n",
    "    response = model.invoke(prompt)  # llm\n",
    "    return {\"messages\": [response]}\n",
    "\n",
    "\n",
    "workflow.add_edge(START, \"model\")\n",
    "workflow.add_node(\"model\", call_model)\n",
    "\n",
    "memory = MemorySaver()\n",
    "app = workflow.compile(checkpointer=memory)\n",
    "app"
   ]
  },
  {
   "cell_type": "code",
   "execution_count": 20,
   "id": "5827e67f-37fb-4956-87df-1767363e2938",
   "metadata": {
    "editable": true,
    "slideshow": {
     "slide_type": ""
    },
    "tags": []
   },
   "outputs": [
    {
     "name": "stdout",
     "output_type": "stream",
     "text": [
      "==================================\u001b[1m Ai Message \u001b[0m==================================\n",
      "\n",
      "你好！我是Bob，很高兴认识你。你可以告诉我一些你想讨论的问题或者话题吗？\n"
     ]
    }
   ],
   "source": [
    "config = {\"configurable\": {\"thread_id\": \"abc456\"}}\n",
    "query = \"Hi! I'm Bob.\"\n",
    "language = \"Chinese\"\n",
    "\n",
    "input_messages = [HumanMessage(query)]\n",
    "output = app.invoke(\n",
    "    {\"messages\": input_messages, \"language\": language},\n",
    "    config,\n",
    ")\n",
    "output[\"messages\"][-1].pretty_print()"
   ]
  },
  {
   "cell_type": "markdown",
   "id": "a58a5149-1c77-4761-9e5c-50e47226afaa",
   "metadata": {
    "editable": true,
    "slideshow": {
     "slide_type": ""
    },
    "tags": []
   },
   "source": [
    "- 整个状态都会被保存，因此如果不需要任何更改，我们可以省略参数如 language\n",
    "- 再一次对话"
   ]
  },
  {
   "cell_type": "code",
   "execution_count": 21,
   "id": "269ae6ce-65e1-42f0-bf2b-e509f89604ce",
   "metadata": {
    "editable": true,
    "slideshow": {
     "slide_type": ""
    },
    "tags": []
   },
   "outputs": [
    {
     "name": "stdout",
     "output_type": "stream",
     "text": [
      "==================================\u001b[1m Ai Message \u001b[0m==================================\n",
      "\n",
      "你的名字是Bob。\n"
     ]
    }
   ],
   "source": [
    "query = \"What is my name?\"\n",
    "\n",
    "input_messages = [HumanMessage(query)]\n",
    "output = app.invoke(\n",
    "    {\"messages\": input_messages},\n",
    "    config,\n",
    ")\n",
    "output[\"messages\"][-1].pretty_print()"
   ]
  },
  {
   "cell_type": "markdown",
   "id": "18ec12da-db26-4f6b-91e0-3fbc956dd3cc",
   "metadata": {
    "editable": true,
    "slideshow": {
     "slide_type": ""
    },
    "tags": []
   },
   "source": [
    "## Managing Conversation History 管理对话历史\n",
    "- 构建聊天机器人时理解的一个重要概念是如何管理对话历史。如果不加以管理，消息列表将无限制地增长，并且可能会溢出LLM的内容窗口。\n",
    "- 因此，重要的是要添加一个**限制您传递的消息大小**的步骤。\n",
    "- 应在加载消息历史中的先前消息之后，但在提示模板之前进行此操作\n",
    "- LangChain 随附了一些用于管理消息列表的内置助手。在这种情况下，我们将使用 trim_messages 助手来减少发送给模型的消息数量。\n",
    "    - 修剪器允许我们指定要保留的令牌数量，以及其他参数，例如是否始终保留系统消息，以及是否允许部分消息。"
   ]
  },
  {
   "cell_type": "markdown",
   "id": "90ce0a95-2364-4aa2-a0ae-e833daf7b348",
   "metadata": {
    "editable": true,
    "slideshow": {
     "slide_type": ""
    },
    "tags": []
   },
   "source": [
    "### 裁剪"
   ]
  },
  {
   "cell_type": "code",
   "execution_count": 23,
   "id": "4d4fcf75-d7a7-46bb-944e-c11ad9422dff",
   "metadata": {
    "editable": true,
    "slideshow": {
     "slide_type": ""
    },
    "tags": []
   },
   "outputs": [
    {
     "data": {
      "text/plain": [
       "[SystemMessage(content=\"you're a good assistant\", additional_kwargs={}, response_metadata={}),\n",
       " HumanMessage(content=\"hi! I'm bob\", additional_kwargs={}, response_metadata={}),\n",
       " AIMessage(content='hi!', additional_kwargs={}, response_metadata={}),\n",
       " HumanMessage(content='I like vanilla ice cream', additional_kwargs={}, response_metadata={}),\n",
       " AIMessage(content='nice', additional_kwargs={}, response_metadata={}),\n",
       " HumanMessage(content='whats 2 + 2', additional_kwargs={}, response_metadata={}),\n",
       " AIMessage(content='4', additional_kwargs={}, response_metadata={}),\n",
       " HumanMessage(content='thanks', additional_kwargs={}, response_metadata={}),\n",
       " AIMessage(content='no problem!', additional_kwargs={}, response_metadata={}),\n",
       " HumanMessage(content='having fun?', additional_kwargs={}, response_metadata={}),\n",
       " AIMessage(content='yes!', additional_kwargs={}, response_metadata={})]"
      ]
     },
     "execution_count": 23,
     "metadata": {},
     "output_type": "execute_result"
    }
   ],
   "source": [
    "from langchain_core.messages import SystemMessage, trim_messages\n",
    "\n",
    "trimmer = trim_messages(\n",
    "    max_tokens=65,\n",
    "    strategy=\"last\",\n",
    "    token_counter=model,\n",
    "    include_system=True,\n",
    "    allow_partial=False,\n",
    "    start_on=\"human\",\n",
    ")\n",
    "\n",
    "messages = [\n",
    "    SystemMessage(content=\"you're a good assistant\"),\n",
    "    HumanMessage(content=\"hi! I'm bob\"),\n",
    "    AIMessage(content=\"hi!\"),\n",
    "    HumanMessage(content=\"I like vanilla ice cream\"),\n",
    "    AIMessage(content=\"nice\"),\n",
    "    HumanMessage(content=\"whats 2 + 2\"),\n",
    "    AIMessage(content=\"4\"),\n",
    "    HumanMessage(content=\"thanks\"),\n",
    "    AIMessage(content=\"no problem!\"),\n",
    "    HumanMessage(content=\"having fun?\"),\n",
    "    AIMessage(content=\"yes!\"),\n",
    "]\n",
    "\n",
    "trimmer.invoke(messages)"
   ]
  },
  {
   "cell_type": "markdown",
   "id": "dda86742-d65a-4b69-a3e4-7f7a17504310",
   "metadata": {
    "editable": true,
    "slideshow": {
     "slide_type": ""
    },
    "tags": []
   },
   "source": [
    "- 要在我们的链中使用它，我们只需要在将 messages 输入传递给提示之前运行 trimmer。"
   ]
  },
  {
   "cell_type": "code",
   "execution_count": 24,
   "id": "afaea183-e84c-4fa7-a550-efb259f5019c",
   "metadata": {
    "editable": true,
    "slideshow": {
     "slide_type": ""
    },
    "tags": []
   },
   "outputs": [
    {
     "data": {
      "image/png": "[encoded data removed]",
      "text/plain": [
       "<langgraph.graph.state.CompiledStateGraph object at 0x109836fd0>"
      ]
     },
     "execution_count": 24,
     "metadata": {},
     "output_type": "execute_result"
    }
   ],
   "source": [
    "workflow = StateGraph(state_schema=State)\n",
    "\n",
    "\n",
    "def call_model(state: State):\n",
    "    trimmed_messages = trimmer.invoke(state[\"messages\"])\n",
    "    prompt = prompt_template.invoke(\n",
    "        {\"messages\": trimmed_messages, \"language\": state[\"language\"]}\n",
    "    )\n",
    "    response = model.invoke(prompt)\n",
    "    return {\"messages\": [response]}\n",
    "\n",
    "\n",
    "workflow.add_edge(START, \"model\")\n",
    "workflow.add_node(\"model\", call_model)\n",
    "\n",
    "memory = MemorySaver()\n",
    "app = workflow.compile(checkpointer=memory)\n",
    "app"
   ]
  },
  {
   "cell_type": "markdown",
   "id": "4c6a4ade-e8e2-4aeb-be58-845bd05b48fb",
   "metadata": {
    "editable": true,
    "slideshow": {
     "slide_type": ""
    },
    "tags": []
   },
   "source": [
    "- 现在如果我们问模型我们的名字，它不会知道，因为我们将聊天记录的那部分剪掉了："
   ]
  },
  {
   "cell_type": "code",
   "execution_count": 25,
   "id": "ef41f278-7ed5-4f92-a221-be39fa9fb851",
   "metadata": {
    "editable": true,
    "slideshow": {
     "slide_type": ""
    },
    "tags": []
   },
   "outputs": [
    {
     "name": "stdout",
     "output_type": "stream",
     "text": [
      "==================================\u001b[1m Ai Message \u001b[0m==================================\n",
      "\n",
      "Your name is Bob.\n"
     ]
    }
   ],
   "source": [
    "config = {\"configurable\": {\"thread_id\": \"abc567\"}}\n",
    "query = \"What is my name?\"\n",
    "language = \"English\"\n",
    "\n",
    "input_messages = messages + [HumanMessage(query)]\n",
    "output = app.invoke(\n",
    "    {\"messages\": input_messages, \"language\": language},\n",
    "    config,\n",
    ")\n",
    "output[\"messages\"][-1].pretty_print()"
   ]
  },
  {
   "cell_type": "markdown",
   "id": "caa15f2e-4263-4ffe-8035-5534cd53fd06",
   "metadata": {
    "editable": true,
    "slideshow": {
     "slide_type": ""
    },
    "tags": []
   },
   "source": [
    "- 但如果我们询问最近几条消息中的信息，它会记住："
   ]
  },
  {
   "cell_type": "code",
   "execution_count": 26,
   "id": "bb3b6010-7762-4faa-8447-6451f0bf08a2",
   "metadata": {
    "editable": true,
    "slideshow": {
     "slide_type": ""
    },
    "tags": []
   },
   "outputs": [
    {
     "name": "stdout",
     "output_type": "stream",
     "text": [
      "==================================\u001b[1m Ai Message \u001b[0m==================================\n",
      "\n",
      "You asked, \"What math problem did I ask?\" The math problem you asked about was \"2 + 2.\" The answer is 4. Is there anything else you'd like to know or discuss?\n"
     ]
    }
   ],
   "source": [
    "config = {\"configurable\": {\"thread_id\": \"abc678\"}}\n",
    "query = \"What math problem did I ask?\"\n",
    "language = \"English\"\n",
    "\n",
    "input_messages = messages + [HumanMessage(query)]\n",
    "output = app.invoke(\n",
    "    {\"messages\": input_messages, \"language\": language},\n",
    "    config,\n",
    ")\n",
    "output[\"messages\"][-1].pretty_print()"
   ]
  },
  {
   "cell_type": "markdown",
   "id": "a84f583a-a19b-4804-9628-a245b105c643",
   "metadata": {
    "editable": true,
    "slideshow": {
     "slide_type": ""
    },
    "tags": []
   },
   "source": [
    "## Streaming  流式\n",
    "- 聊天机器人应用中一个非常重要的用户体验考虑因素是流式传输。\n",
    "- LLMs有时需要一些时间来响应，因此为了改善用户体验，大多数应用会在生成每个词元时将其流式传输回给用户。这可以让用户看到进度。\n",
    "- 默认情况下，在我们的 LangGraph 应用程序中， .stream 流式传输应用程序步骤——在这种情况下，模型响应的单一步骤。\n",
    "    - 设置 stream_mode=\"messages\" 允许我们流式传输输出标记："
   ]
  },
  {
   "cell_type": "code",
   "execution_count": 29,
   "id": "e26aeb92-d033-402f-9b68-3dc01de03195",
   "metadata": {
    "editable": true,
    "slideshow": {
     "slide_type": ""
    },
    "tags": []
   },
   "outputs": [
    {
     "name": "stdout",
     "output_type": "stream",
     "text": [
      "Sure|,| Todd|!| Here|'s| a| light|-hearted| joke| for| you|:\n",
      "\n",
      "'t| scientists| trust| atoms|?\n",
      "\n",
      "Because| they| make| up| everything|!||"
     ]
    }
   ],
   "source": [
    "config = {\"configurable\": {\"thread_id\": \"abc789\"}}\n",
    "query = \"Hi I'm Todd, please tell me a joke.\"\n",
    "language = \"English\"\n",
    "\n",
    "input_messages = [HumanMessage(query)]\n",
    "for chunk, metadata in app.stream(\n",
    "    {\"messages\": input_messages, \"language\": language},\n",
    "    config,\n",
    "    stream_mode=\"messages\",\n",
    "):\n",
    "    if isinstance(chunk, AIMessage):  # Filter to just model responses\n",
    "        print(chunk.content, end=\"|\")"
   ]
  },
  {
   "cell_type": "code",
   "execution_count": null,
   "id": "49fe1f8e-a20e-446c-8cd6-0753ac2083de",
   "metadata": {
    "editable": true,
    "slideshow": {
     "slide_type": ""
    },
    "tags": []
   },
   "outputs": [],
   "source": []
  }
 ],
 "metadata": {
  "kernelspec": {
   "display_name": "Python 3 (ipykernel)",
   "language": "python",
   "name": "python3"
  },
  "language_info": {
   "codemirror_mode": {
    "name": "ipython",
    "version": 3
   },
   "file_extension": ".py",
   "mimetype": "text/x-python",
   "name": "python",
   "nbconvert_exporter": "python",
   "pygments_lexer": "ipython3",
   "version": "3.13.1"
  }
 },
 "nbformat": 4,
 "nbformat_minor": 5
}
