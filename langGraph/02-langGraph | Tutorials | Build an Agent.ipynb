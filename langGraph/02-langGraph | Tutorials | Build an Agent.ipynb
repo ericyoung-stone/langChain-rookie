{
 "cells": [
  {
   "cell_type": "code",
   "execution_count": 1,
   "id": "3d28b5b8-f258-45a6-8915-c348f8c0cb18",
   "metadata": {
    "editable": true,
    "slideshow": {
     "slide_type": ""
    },
    "tags": []
   },
   "outputs": [
    {
     "name": "stdout",
     "output_type": "stream",
     "text": [
      "Running in an interactive environment, using current directory instead.\n",
      "/Users/ericyoung/ysx/code/github-study/langChain-rookie\n",
      "/Users/ericyoung/ysx/code/github-study/langChain-rookie/.env\n"
     ]
    },
    {
     "data": {
      "text/plain": [
       "True"
      ]
     },
     "execution_count": 1,
     "metadata": {},
     "output_type": "execute_result"
    }
   ],
   "source": [
    "from dotenv import load_dotenv\n",
    "import os\n",
    "\n",
    "try:\n",
    "    print(__file__)  # 检查 __file__ 是否存在, os.path.dirname() 可以返回指定路径的父目录\n",
    "    dotenv_path = os.path.join(os.path.dirname(__file__), '.env')\n",
    "except NameError:\n",
    "    print(\"Running in an interactive environment, using current directory instead.\")\n",
    "    # 使用 os.path.join() 和 .. 返回指定路径的父目录\n",
    "    cur_work_dir = os.getcwd()\n",
    "    print(cur_work_dir)\n",
    "    dotenv_path = os.path.normpath(os.path.join(cur_work_dir, '.env'))\n",
    "print(dotenv_path)\n",
    "load_dotenv(dotenv_path, override=True)"
   ]
  },
  {
   "cell_type": "markdown",
   "id": "cd5888e8-8374-41f7-9c16-ccfd08a26a93",
   "metadata": {
    "editable": true,
    "slideshow": {
     "slide_type": ""
    },
    "tags": []
   },
   "source": [
    "# End-to-end agent  端到端代理\n",
    "- 以下代码片段表示一个使用 LLM 来决定使用哪些工具的完整功能代理。\n",
    "    - 它配备了一个通用搜索工具。\n",
    "    - 它具有对话记忆功能，这意味着它可以作为多轮聊天机器人使用。\n",
    "- Tavily（一个搜索引擎）作为工具"
   ]
  },
  {
   "cell_type": "code",
   "execution_count": 2,
   "id": "441747c3-8b0f-4350-bb94-092a23863287",
   "metadata": {
    "editable": true,
    "slideshow": {
     "slide_type": ""
    },
    "tags": []
   },
   "outputs": [],
   "source": [
    "# Import relevant functionality\n",
    "from langchain_ollama import ChatOllama\n",
    "from langchain_community.tools.tavily_search import TavilySearchResults\n",
    "from langchain_core.messages import HumanMessage, SystemMessage\n",
    "from langgraph.checkpoint.memory import MemorySaver\n",
    "from langgraph.prebuilt import create_react_agent\n",
    "\n",
    "# Create the agent\n",
    "memory = MemorySaver()\n",
    "model = ChatOllama(\n",
    "    model=\"qwen2.5:latest\",\n",
    "    temperature=0.5,\n",
    "    # other params...\n",
    ")\n",
    "search = TavilySearchResults(max_results=3)\n",
    "tools = [search]\n",
    "agent_executor = create_react_agent(model, tools, checkpointer=memory)"
   ]
  },
  {
   "cell_type": "code",
   "execution_count": 3,
   "id": "31f51385-03ba-4dbf-8c56-e127a88a1214",
   "metadata": {},
   "outputs": [
    {
     "name": "stdout",
     "output_type": "stream",
     "text": [
      "================================\u001b[1m Human Message \u001b[0m=================================\n",
      "\n",
      "hi im bob! and i live in sf\n",
      "==================================\u001b[1m Ai Message \u001b[0m==================================\n",
      "\n",
      "很高兴认识你，Bob！你想了解关于旧金山的哪些信息呢？如果你有任何具体问题或需要帮助的地方，请告诉我。\n"
     ]
    }
   ],
   "source": [
    "# Use the agent\n",
    "config = {\"configurable\": {\"thread_id\": \"abc123\"}}\n",
    "for step in agent_executor.stream(\n",
    "    {\"messages\": [SystemMessage(content=\"answer in chinese\"), HumanMessage(content=\"hi im bob! and i live in sf\")]},\n",
    "    config,\n",
    "    stream_mode=\"values\",\n",
    "):\n",
    "    step[\"messages\"][-1].pretty_print()"
   ]
  },
  {
   "cell_type": "code",
   "execution_count": 4,
   "id": "dc0e06d0-6639-4181-a3ee-f60f5b7d536b",
   "metadata": {},
   "outputs": [
    {
     "name": "stdout",
     "output_type": "stream",
     "text": [
      "================================\u001b[1m Human Message \u001b[0m=================================\n",
      "\n",
      "whats the weather where I live?\n",
      "==================================\u001b[1m Ai Message \u001b[0m==================================\n",
      "Tool Calls:\n",
      "  tavily_search_results_json (0acdadde-106c-4c08-a8a8-89c56ac2c7ed)\n",
      " Call ID: 0acdadde-106c-4c08-a8a8-89c56ac2c7ed\n",
      "  Args:\n",
      "    query: San Francisco weather\n",
      "=================================\u001b[1m Tool Message \u001b[0m=================================\n",
      "Name: tavily_search_results_json\n",
      "\n",
      "[{\"url\": \"https://www.weatherapi.com/\", \"content\": \"{'location': {'name': 'San Francisco', 'region': 'California', 'country': 'United States of America', 'lat': 37.775, 'lon': -122.4183, 'tz_id': 'America/Los_Angeles', 'localtime_epoch': 1740233998, 'localtime': '2025-02-22 06:19'}, 'current': {'last_updated_epoch': 1740233700, 'last_updated': '2025-02-22 06:15', 'temp_c': 7.8, 'temp_f': 46.0, 'is_day': 0, 'condition': {'text': 'Partly cloudy', 'icon': '//cdn.weatherapi.com/weather/64x64/night/116.png', 'code': 1003}, 'wind_mph': 3.4, 'wind_kph': 5.4, 'wind_degree': 58, 'wind_dir': 'ENE', 'pressure_mb': 1024.0, 'pressure_in': 30.24, 'precip_mm': 0.0, 'precip_in': 0.0, 'humidity': 89, 'cloud': 50, 'feelslike_c': 7.1, 'feelslike_f': 44.8, 'windchill_c': 8.0, 'windchill_f': 46.4, 'heatindex_c': 8.1, 'heatindex_f': 46.5, 'dewpoint_c': 7.7, 'dewpoint_f': 45.9, 'vis_km': 16.0, 'vis_miles': 9.0, 'uv': 0.0, 'gust_mph': 6.5, 'gust_kph': 10.4}}\"}, {\"url\": \"https://world-weather.info/forecast/usa/san_francisco/february-2025/\", \"content\": \"Weather in San Francisco in February 2025 (California) - Detailed Weather Forecast for a Month Weather World Weather in San Francisco Weather in San Francisco in February 2025 San Francisco Weather Forecast for February 2025, is based on previous years' statistical data. +59°+50° +59°+52° +59°+50° +61°+52° +59°+50° +61°+50° +61°+52° +63°+52° +61°+52° +61°+50° +61°+50° +61°+50° +59°+50° +59°+50° +61°+50° +61°+52° +59°+50° +59°+48° +57°+48° +59°+50° +59°+48° +59°+50° +57°+46° +61°+50° +61°+50° +59°+50° +59°+48° +59°+50° Extended weather forecast in San Francisco HourlyWeek10-Day14-Day30-DayYear Weather in large and nearby cities Weather in Washington, D.C.+41° Sacramento+55° Pleasanton+55° Redwood City+55° San Leandro+55° San Mateo+54° San Rafael+52° San Ramon+52° South San Francisco+54° Vallejo+50° Palo Alto+55° Pacifica+55° Berkeley+54° Castro Valley+55° Concord+52° Daly City+54° Noverd+52° Sign Hill+54° world's temperature today day day Temperature units\"}, {\"url\": \"https://www.weather25.com/north-america/usa/california/san-francisco?page=month&month=February\", \"content\": \"San Francisco weather in February 2025 | Weather25.com San Francisco weather in February 2025 The average weather in San Francisco in February | San Francisco in February | Temperatures in San Francisco in February Weather in San Francisco in February - FAQ What is the average temperature in San Francisco in February? The average temperature in San Francisco in February is 7/16° C. On average, there are 4 rainy days in San Francisco during February. The weather in San Francisco in February is good. On average, there are 0 snowy days in San Francisco in February. More about the weather in San Francisco San Francisco 14 day weather Long range weather for San Francisco San Francisco weather in March San Francisco Webcam Weather tomorrow Hotels in San Francisco\"}]\n",
      "==================================\u001b[1m Ai Message \u001b[0m==================================\n",
      "\n",
      "根据最新的天气数据，旧金山当前的气温为7.8℃（约等于46℉），并且天气状况是部分多云。风速约为3.4英里/小时（约5.4公里/小时），湿度为89%，能见度大约16公里。\n",
      "\n",
      "如果你想查看未来几天的具体天气情况，可以访问 [WeatherAPI](https://www.weatherapi.com/) 网站获取详细信息。\n",
      "\n",
      "希望这些信息对你有帮助！如果还有其他问题，请随时告诉我。\n"
     ]
    }
   ],
   "source": [
    "for step in agent_executor.stream(\n",
    "    {\"messages\": [HumanMessage(content=\"whats the weather where I live?\")]},\n",
    "    config,\n",
    "    stream_mode=\"values\",\n",
    "):\n",
    "    step[\"messages\"][-1].pretty_print()"
   ]
  },
  {
   "cell_type": "code",
   "execution_count": 5,
   "id": "25c7b848-8f93-482a-9637-95df0f358a6d",
   "metadata": {},
   "outputs": [
    {
     "name": "stdout",
     "output_type": "stream",
     "text": [
      "================================\u001b[1m Human Message \u001b[0m=================================\n",
      "\n",
      "whats the weather where I live?\n",
      "==================================\u001b[1m Ai Message \u001b[0m==================================\n",
      "\n",
      "根据最新的数据，旧金山当前的气温为7.8℃（约46℉），天气状况是部分多云。风速约为3.4英里/小时（约5.4公里/小时），湿度为89%。\n",
      "\n",
      "你可以访问 [WeatherAPI](https://www.weatherapi.com/) 获取更多详细的实时天气信息。\n",
      "\n",
      "希望这些信息对你有帮助！如果还有其他问题，请随时告诉我。\n"
     ]
    }
   ],
   "source": [
    "for step in agent_executor.stream(\n",
    "    {\"messages\": [HumanMessage(content=\"whats the weather where I live?\")]},\n",
    "    config,\n",
    "    stream_mode=\"values\",\n",
    "):\n",
    "    step[\"messages\"][-1].pretty_print()"
   ]
  },
  {
   "cell_type": "markdown",
   "id": "49c115b1-1486-4d85-a3e6-185f58f680ca",
   "metadata": {},
   "source": [
    "# 一步一步实现"
   ]
  },
  {
   "cell_type": "code",
   "execution_count": 6,
   "id": "1fe78d9e-25e0-4acb-a060-956f1f5f63ae",
   "metadata": {},
   "outputs": [],
   "source": [
    "# %pip install -U langchain-community langgraph langchain-anthropic tavily-python langgraph-checkpoint-sqlite"
   ]
  },
  {
   "cell_type": "markdown",
   "id": "3028d67e-5d77-43ec-af7f-dbebe01f6517",
   "metadata": {
    "editable": true,
    "slideshow": {
     "slide_type": ""
    },
    "tags": []
   },
   "source": [
    "## Define tools  定义工具\n",
    "- 例如,选择的工具是 Tavily——一个搜索引擎。LangChain 内置了一个工具，可以轻松使用 Tavily 搜索引擎。"
   ]
  },
  {
   "cell_type": "code",
   "execution_count": 7,
   "id": "329fee0a-cf72-4b0f-894e-d8cf384e1ab2",
   "metadata": {},
   "outputs": [
    {
     "name": "stdout",
     "output_type": "stream",
     "text": [
      "[{'url': 'https://www.weatherapi.com/', 'content': \"{'location': {'name': 'San Francisco', 'region': 'California', 'country': 'United States of America', 'lat': 37.775, 'lon': -122.4183, 'tz_id': 'America/Los_Angeles', 'localtime_epoch': 1740233998, 'localtime': '2025-02-22 06:19'}, 'current': {'last_updated_epoch': 1740233700, 'last_updated': '2025-02-22 06:15', 'temp_c': 7.8, 'temp_f': 46.0, 'is_day': 0, 'condition': {'text': 'Partly cloudy', 'icon': '//cdn.weatherapi.com/weather/64x64/night/116.png', 'code': 1003}, 'wind_mph': 3.4, 'wind_kph': 5.4, 'wind_degree': 58, 'wind_dir': 'ENE', 'pressure_mb': 1024.0, 'pressure_in': 30.24, 'precip_mm': 0.0, 'precip_in': 0.0, 'humidity': 89, 'cloud': 50, 'feelslike_c': 7.1, 'feelslike_f': 44.8, 'windchill_c': 8.0, 'windchill_f': 46.4, 'heatindex_c': 8.1, 'heatindex_f': 46.5, 'dewpoint_c': 7.7, 'dewpoint_f': 45.9, 'vis_km': 16.0, 'vis_miles': 9.0, 'uv': 0.0, 'gust_mph': 6.5, 'gust_kph': 10.4}}\"}, {'url': 'https://weathershogun.com/weather/usa/ca/san-francisco/480/february/2025-02-22', 'content': 'San Francisco, California Weather: Saturday, February 22, 2025. Cloudy weather, overcast skies with clouds. Day 66°. Night 50°.'}]\n"
     ]
    }
   ],
   "source": [
    "from langchain_community.tools.tavily_search import TavilySearchResults\n",
    "\n",
    "search = TavilySearchResults(max_results=2)\n",
    "search_results = search.invoke(\"what is the weather in SF\")\n",
    "print(search_results)\n",
    "# If we want, we can create other tools.\n",
    "# Once we have all the tools we want, we can put them in a list that we will reference later.\n",
    "tools = [search]"
   ]
  },
  {
   "cell_type": "markdown",
   "id": "521c09d8-a93f-4ae1-a334-2582fb633af2",
   "metadata": {
    "editable": true,
    "slideshow": {
     "slide_type": ""
    },
    "tags": []
   },
   "source": [
    "## Using Language Models  使用语言模型\n"
   ]
  },
  {
   "cell_type": "code",
   "execution_count": 8,
   "id": "256d650a-77af-4033-983c-6c245fafdbda",
   "metadata": {
    "editable": true,
    "slideshow": {
     "slide_type": ""
    },
    "tags": []
   },
   "outputs": [],
   "source": [
    "from langchain_ollama import ChatOllama\n",
    "\n",
    "model = ChatOllama(\n",
    "    model=\"qwen2.5:latest\",\n",
    "    temperature=0.5,\n",
    "    # other params...\n",
    ")"
   ]
  },
  {
   "cell_type": "code",
   "execution_count": 9,
   "id": "df9bb854-2589-49ac-b2d4-d73869348b3e",
   "metadata": {
    "editable": true,
    "slideshow": {
     "slide_type": ""
    },
    "tags": []
   },
   "outputs": [
    {
     "data": {
      "text/plain": [
       "'Hello! How can I assist you today?'"
      ]
     },
     "execution_count": 9,
     "metadata": {},
     "output_type": "execute_result"
    }
   ],
   "source": [
    "from langchain_core.messages import HumanMessage\n",
    "\n",
    "response = model.invoke([HumanMessage(content=\"hi!\")])\n",
    "response.content"
   ]
  },
  {
   "cell_type": "markdown",
   "id": "d25f93b7-8768-421d-a961-e03c9657ba32",
   "metadata": {
    "editable": true,
    "slideshow": {
     "slide_type": ""
    },
    "tags": []
   },
   "source": [
    "- 使用 .bind_tools 来让语言模型了解这些工具。"
   ]
  },
  {
   "cell_type": "code",
   "execution_count": 10,
   "id": "fc064f82-50f3-410d-b81e-c06cc58e887b",
   "metadata": {
    "editable": true,
    "slideshow": {
     "slide_type": ""
    },
    "tags": []
   },
   "outputs": [],
   "source": [
    "model_with_tools = model.bind_tools(tools)"
   ]
  },
  {
   "cell_type": "markdown",
   "id": "60690a20-cd0a-4914-a406-18ecfd5812ac",
   "metadata": {
    "editable": true,
    "slideshow": {
     "slide_type": ""
    },
    "tags": []
   },
   "source": [
    "- 调用这个模型了。我们先用一个普通的消息调用它，看看它会如何响应。我们可以查看 content 字段以及 tool_calls 字段。"
   ]
  },
  {
   "cell_type": "code",
   "execution_count": 14,
   "id": "0dbdf367-b7c5-4af9-a2ce-abf2fd36fbce",
   "metadata": {
    "editable": true,
    "slideshow": {
     "slide_type": ""
    },
    "tags": []
   },
   "outputs": [
    {
     "name": "stdout",
     "output_type": "stream",
     "text": [
      "response: {\"content\":\"Hello! How can I assist you today?\",\"additional_kwargs\":{},\"response_metadata\":{\"model\":\"qwen2.5:latest\",\"created_at\":\"2025-02-22T14:27:45.283187Z\",\"done\":true,\"done_reason\":\"stop\",\"total_duration\":1572342917,\"load_duration\":35077500,\"prompt_eval_count\":189,\"prompt_eval_duration\":1108000000,\"eval_count\":10,\"eval_duration\":422000000,\"message\":{\"role\":\"assistant\",\"content\":\"Hello! How can I assist you today?\",\"images\":null,\"tool_calls\":null}},\"type\":\"ai\",\"name\":null,\"id\":\"run-03753139-9aeb-473a-9422-4c9c6576b9c2-0\",\"example\":false,\"tool_calls\":[],\"invalid_tool_calls\":[],\"usage_metadata\":{\"input_tokens\":189,\"output_tokens\":10,\"total_tokens\":199}}\n",
      "ContentString: Hello! How can I assist you today?\n",
      "ToolCalls: []\n"
     ]
    }
   ],
   "source": [
    "response = model_with_tools.invoke([HumanMessage(content=\"Hi!\")])\n",
    "\n",
    "print(f\"response: {response.model_dump_json()}\")\n",
    "print(f\"ContentString: {response.content}\")\n",
    "print(f\"ToolCalls: {response.tool_calls}\")"
   ]
  },
  {
   "cell_type": "markdown",
   "id": "8fcfe9f2-ba27-493a-893a-9e1fbaf827c7",
   "metadata": {
    "editable": true,
    "slideshow": {
     "slide_type": ""
    },
    "tags": []
   },
   "source": [
    "- 传入一些期望调用工具的输入，看看会发生什么。\n",
    "    - 没有文本内容，但有一个工具调用！想调用 Tavily Search 工具。"
   ]
  },
  {
   "cell_type": "code",
   "execution_count": 15,
   "id": "08e8e3ad-2247-43ec-9cfe-e193bcad9e15",
   "metadata": {
    "editable": true,
    "slideshow": {
     "slide_type": ""
    },
    "tags": []
   },
   "outputs": [
    {
     "name": "stdout",
     "output_type": "stream",
     "text": [
      "ContentString: \n",
      "ToolCalls: [{'name': 'tavily_search_results_json', 'args': {'query': 'weather in SF'}, 'id': 'ce8aecd4-e1c4-4239-908f-444a58beca32', 'type': 'tool_call'}]\n"
     ]
    }
   ],
   "source": [
    "response = model_with_tools.invoke([HumanMessage(content=\"What's the weather in SF?\")])\n",
    "\n",
    "print(f\"ContentString: {response.content}\")\n",
    "print(f\"ToolCalls: {response.tool_calls}\")"
   ]
  },
  {
   "cell_type": "markdown",
   "id": "c6b0b4fe-c447-4d27-8a83-6b7f7dc7d623",
   "metadata": {
    "editable": true,
    "slideshow": {
     "slide_type": ""
    },
    "tags": []
   },
   "source": [
    "## Create the agent  创建代理\n",
    "- 使用 LangGraph 来构建代理\n",
    "- 请注意，我们传入的是 model ，而不是 model_with_tools 。因为 create_react_agent 会在后台调用 .bind_tools 。"
   ]
  },
  {
   "cell_type": "code",
   "execution_count": 16,
   "id": "80e8ba02-abcf-43f9-b2eb-19d015a73246",
   "metadata": {
    "editable": true,
    "slideshow": {
     "slide_type": ""
    },
    "tags": []
   },
   "outputs": [],
   "source": [
    "from langgraph.prebuilt import create_react_agent\n",
    "\n",
    "agent_executor = create_react_agent(model, tools)"
   ]
  },
  {
   "cell_type": "markdown",
   "id": "1e020232-6e4c-4842-aec6-22b60b9de0f0",
   "metadata": {
    "editable": true,
    "slideshow": {
     "slide_type": ""
    },
    "tags": []
   },
   "source": [
    "## Run the agent  运行代理\n",
    "- 未调用任何工具"
   ]
  },
  {
   "cell_type": "code",
   "execution_count": 18,
   "id": "433d7ea0-0f49-4c91-ac53-29f0e8ec1d7a",
   "metadata": {
    "editable": true,
    "slideshow": {
     "slide_type": ""
    },
    "tags": []
   },
   "outputs": [
    {
     "data": {
      "text/plain": [
       "[HumanMessage(content='hi!', additional_kwargs={}, response_metadata={}, id='fd593de3-23e3-4974-a489-e903b671de62'),\n",
       " AIMessage(content='Hello! How can I assist you today?', additional_kwargs={}, response_metadata={'model': 'qwen2.5:latest', 'created_at': '2025-02-22T14:36:17.147514Z', 'done': True, 'done_reason': 'stop', 'total_duration': 4485121083, 'load_duration': 570761708, 'prompt_eval_count': 189, 'prompt_eval_duration': 3334000000, 'eval_count': 10, 'eval_duration': 427000000, 'message': Message(role='assistant', content='Hello! How can I assist you today?', images=None, tool_calls=None)}, id='run-59457ee0-03ea-48b7-95f9-4cc41fc8e311-0', usage_metadata={'input_tokens': 189, 'output_tokens': 10, 'total_tokens': 199})]"
      ]
     },
     "execution_count": 18,
     "metadata": {},
     "output_type": "execute_result"
    }
   ],
   "source": [
    "response = agent_executor.invoke({\"messages\": [HumanMessage(content=\"hi!\")]})\n",
    "\n",
    "response[\"messages\"]"
   ]
  },
  {
   "cell_type": "markdown",
   "id": "9bafa9cb-e532-43c3-9093-9b0f2a106592",
   "metadata": {
    "editable": true,
    "slideshow": {
     "slide_type": ""
    },
    "tags": []
   },
   "source": [
    "- 调用该工具"
   ]
  },
  {
   "cell_type": "code",
   "execution_count": 19,
   "id": "cab5345c-36f7-4bfa-a99e-7ecdfa9e2c69",
   "metadata": {
    "editable": true,
    "slideshow": {
     "slide_type": ""
    },
    "tags": []
   },
   "outputs": [
    {
     "data": {
      "text/plain": [
       "[HumanMessage(content='whats the weather in sf?', additional_kwargs={}, response_metadata={}, id='8f4dd6ff-49f1-42f7-999b-eaacecd1a657'),\n",
       " AIMessage(content='', additional_kwargs={}, response_metadata={'model': 'qwen2.5:latest', 'created_at': '2025-02-22T14:37:06.316735Z', 'done': True, 'done_reason': 'stop', 'total_duration': 4813110542, 'load_duration': 33790542, 'prompt_eval_count': 194, 'prompt_eval_duration': 1199000000, 'eval_count': 75, 'eval_duration': 3574000000, 'message': Message(role='assistant', content='', images=None, tool_calls=None)}, id='run-0da9d5dc-2c6a-47ee-96fd-39f9c7753df4-0', tool_calls=[{'name': 'tavily_search_results_json', 'args': {'query': 'current weather in san francisco'}, 'id': 'b9f96691-8184-450d-aa1e-b7f92d5f7051', 'type': 'tool_call'}], usage_metadata={'input_tokens': 194, 'output_tokens': 75, 'total_tokens': 269}),\n",
       " ToolMessage(content='[{\"url\": \"https://www.weatherapi.com/\", \"content\": \"{\\'location\\': {\\'name\\': \\'San Francisco\\', \\'region\\': \\'California\\', \\'country\\': \\'United States of America\\', \\'lat\\': 37.775, \\'lon\\': -122.4183, \\'tz_id\\': \\'America/Los_Angeles\\', \\'localtime_epoch\\': 1740235032, \\'localtime\\': \\'2025-02-22 06:37\\'}, \\'current\\': {\\'last_updated_epoch\\': 1740234600, \\'last_updated\\': \\'2025-02-22 06:30\\', \\'temp_c\\': 7.8, \\'temp_f\\': 46.0, \\'is_day\\': 0, \\'condition\\': {\\'text\\': \\'Partly cloudy\\', \\'icon\\': \\'//cdn.weatherapi.com/weather/64x64/night/116.png\\', \\'code\\': 1003}, \\'wind_mph\\': 3.4, \\'wind_kph\\': 5.4, \\'wind_degree\\': 58, \\'wind_dir\\': \\'ENE\\', \\'pressure_mb\\': 1024.0, \\'pressure_in\\': 30.24, \\'precip_mm\\': 0.0, \\'precip_in\\': 0.0, \\'humidity\\': 89, \\'cloud\\': 50, \\'feelslike_c\\': 7.1, \\'feelslike_f\\': 44.8, \\'windchill_c\\': 8.0, \\'windchill_f\\': 46.4, \\'heatindex_c\\': 8.1, \\'heatindex_f\\': 46.5, \\'dewpoint_c\\': 7.7, \\'dewpoint_f\\': 45.9, \\'vis_km\\': 16.0, \\'vis_miles\\': 9.0, \\'uv\\': 0.0, \\'gust_mph\\': 6.5, \\'gust_kph\\': 10.4}}\"}, {\"url\": \"https://world-weather.info/forecast/usa/san_francisco/february-2025/\", \"content\": \"Weather in San Francisco in February 2025 (California) - Detailed Weather Forecast for a Month Weather World Weather in San Francisco Weather in San Francisco in February 2025 San Francisco Weather Forecast for February 2025, is based on previous years\\' statistical data. +59°+50° +59°+52° +59°+50° +61°+52° +59°+50° +61°+50° +61°+52° +63°+52° +61°+52° +61°+50° +61°+50° +61°+50° +59°+50° +59°+50° +61°+50° +61°+52° +59°+50° +59°+48° +57°+48° +59°+50° +59°+48° +59°+50° +57°+46° +61°+50° +61°+50° +59°+50° +59°+48° +59°+50° Extended weather forecast in San Francisco HourlyWeek10-Day14-Day30-DayYear Weather in large and nearby cities Weather in Washington, D.C.+41° Sacramento+55° Pleasanton+55° Redwood City+55° San Leandro+55° San Mateo+54° San Rafael+52° San Ramon+52° South San Francisco+54° Vallejo+50° Palo Alto+55° Pacifica+55° Berkeley+54° Castro Valley+55° Concord+52° Daly City+54° Noverd+52° Sign Hill+54° world\\'s temperature today day day Temperature units\"}]', name='tavily_search_results_json', id='5b5c8739-ad88-45a0-bcaf-4b9c8fcafa7e', tool_call_id='b9f96691-8184-450d-aa1e-b7f92d5f7051', artifact={'query': 'current weather in san francisco', 'follow_up_questions': None, 'answer': None, 'images': [], 'results': [{'title': 'Weather in San Francisco', 'url': 'https://www.weatherapi.com/', 'content': \"{'location': {'name': 'San Francisco', 'region': 'California', 'country': 'United States of America', 'lat': 37.775, 'lon': -122.4183, 'tz_id': 'America/Los_Angeles', 'localtime_epoch': 1740235032, 'localtime': '2025-02-22 06:37'}, 'current': {'last_updated_epoch': 1740234600, 'last_updated': '2025-02-22 06:30', 'temp_c': 7.8, 'temp_f': 46.0, 'is_day': 0, 'condition': {'text': 'Partly cloudy', 'icon': '//cdn.weatherapi.com/weather/64x64/night/116.png', 'code': 1003}, 'wind_mph': 3.4, 'wind_kph': 5.4, 'wind_degree': 58, 'wind_dir': 'ENE', 'pressure_mb': 1024.0, 'pressure_in': 30.24, 'precip_mm': 0.0, 'precip_in': 0.0, 'humidity': 89, 'cloud': 50, 'feelslike_c': 7.1, 'feelslike_f': 44.8, 'windchill_c': 8.0, 'windchill_f': 46.4, 'heatindex_c': 8.1, 'heatindex_f': 46.5, 'dewpoint_c': 7.7, 'dewpoint_f': 45.9, 'vis_km': 16.0, 'vis_miles': 9.0, 'uv': 0.0, 'gust_mph': 6.5, 'gust_kph': 10.4}}\", 'score': 0.8598794, 'raw_content': None}, {'url': 'https://world-weather.info/forecast/usa/san_francisco/february-2025/', 'title': 'Weather in San Francisco in February 2025 (California)', 'content': \"Weather in San Francisco in February 2025 (California) - Detailed Weather Forecast for a Month Weather World Weather in San Francisco Weather in San Francisco in February 2025 San Francisco Weather Forecast for February 2025, is based on previous years' statistical data. +59°+50° +59°+52° +59°+50° +61°+52° +59°+50° +61°+50° +61°+52° +63°+52° +61°+52° +61°+50° +61°+50° +61°+50° +59°+50° +59°+50° +61°+50° +61°+52° +59°+50° +59°+48° +57°+48° +59°+50° +59°+48° +59°+50° +57°+46° +61°+50° +61°+50° +59°+50° +59°+48° +59°+50° Extended weather forecast in San Francisco HourlyWeek10-Day14-Day30-DayYear Weather in large and nearby cities Weather in Washington, D.C.+41° Sacramento+55° Pleasanton+55° Redwood City+55° San Leandro+55° San Mateo+54° San Rafael+52° San Ramon+52° South San Francisco+54° Vallejo+50° Palo Alto+55° Pacifica+55° Berkeley+54° Castro Valley+55° Concord+52° Daly City+54° Noverd+52° Sign Hill+54° world's temperature today day day Temperature units\", 'score': 0.852752, 'raw_content': None}], 'response_time': 1.89}),\n",
       " AIMessage(content='The current weather in San Francisco is as follows:\\n\\n- **Temperature:** 7.8°C (46°F)\\n- **Condition:** Partly cloudy\\n- **Wind Speed:** 3.4 mph (5.4 kph) coming from the direction of ENE (East-Northeast)\\n- **Humidity:** 89%\\n- **Cloud Cover:** 50%\\n\\nThe temperature feels like 7.1°C (44.8°F).\\n\\nPlease note that these are current conditions as of February 22, 2025 at 6:30 AM local time.\\n\\nFor more detailed forecasts and updates, you can visit the [WeatherAPI](https://www.weatherapi.com/) website.', additional_kwargs={}, response_metadata={'model': 'qwen2.5:latest', 'created_at': '2025-02-22T14:37:21.238236Z', 'done': True, 'done_reason': 'stop', 'total_duration': 12085357959, 'load_duration': 32762584, 'prompt_eval_count': 1165, 'prompt_eval_duration': 4583000000, 'eval_count': 150, 'eval_duration': 7446000000, 'message': Message(role='assistant', content='The current weather in San Francisco is as follows:\\n\\n- **Temperature:** 7.8°C (46°F)\\n- **Condition:** Partly cloudy\\n- **Wind Speed:** 3.4 mph (5.4 kph) coming from the direction of ENE (East-Northeast)\\n- **Humidity:** 89%\\n- **Cloud Cover:** 50%\\n\\nThe temperature feels like 7.1°C (44.8°F).\\n\\nPlease note that these are current conditions as of February 22, 2025 at 6:30 AM local time.\\n\\nFor more detailed forecasts and updates, you can visit the [WeatherAPI](https://www.weatherapi.com/) website.', images=None, tool_calls=None)}, id='run-1f110b1e-e740-41df-8159-ff010dc58ed3-0', usage_metadata={'input_tokens': 1165, 'output_tokens': 150, 'total_tokens': 1315})]"
      ]
     },
     "execution_count": 19,
     "metadata": {},
     "output_type": "execute_result"
    }
   ],
   "source": [
    "response = agent_executor.invoke(\n",
    "    {\"messages\": [HumanMessage(content=\"whats the weather in sf?\")]}\n",
    ")\n",
    "response[\"messages\"]"
   ]
  },
  {
   "cell_type": "markdown",
   "id": "f8983da3-4117-4d33-95c0-b37b3523fe77",
   "metadata": {
    "editable": true,
    "slideshow": {
     "slide_type": ""
    },
    "tags": []
   },
   "source": [
    "## Streaming Messages  流式消息\n",
    "- 显示中间进度，可以在消息发生时流式传输返回消息。"
   ]
  },
  {
   "cell_type": "code",
   "execution_count": 20,
   "id": "4e98f529-84df-449f-b913-c284b94e3c36",
   "metadata": {
    "editable": true,
    "slideshow": {
     "slide_type": ""
    },
    "tags": []
   },
   "outputs": [
    {
     "name": "stdout",
     "output_type": "stream",
     "text": [
      "================================\u001b[1m Human Message \u001b[0m=================================\n",
      "\n",
      "whats the weather in sf?\n",
      "==================================\u001b[1m Ai Message \u001b[0m==================================\n",
      "Tool Calls:\n",
      "  tavily_search_results_json (1668da3f-e1d2-4eaf-9092-6b7ad35456de)\n",
      " Call ID: 1668da3f-e1d2-4eaf-9092-6b7ad35456de\n",
      "  Args:\n",
      "    query: current weather in san francisco\n",
      "=================================\u001b[1m Tool Message \u001b[0m=================================\n",
      "Name: tavily_search_results_json\n",
      "\n",
      "[{\"url\": \"https://www.weatherapi.com/\", \"content\": \"{'location': {'name': 'San Francisco', 'region': 'California', 'country': 'United States of America', 'lat': 37.775, 'lon': -122.4183, 'tz_id': 'America/Los_Angeles', 'localtime_epoch': 1740235032, 'localtime': '2025-02-22 06:37'}, 'current': {'last_updated_epoch': 1740234600, 'last_updated': '2025-02-22 06:30', 'temp_c': 7.8, 'temp_f': 46.0, 'is_day': 0, 'condition': {'text': 'Partly cloudy', 'icon': '//cdn.weatherapi.com/weather/64x64/night/116.png', 'code': 1003}, 'wind_mph': 3.4, 'wind_kph': 5.4, 'wind_degree': 58, 'wind_dir': 'ENE', 'pressure_mb': 1024.0, 'pressure_in': 30.24, 'precip_mm': 0.0, 'precip_in': 0.0, 'humidity': 89, 'cloud': 50, 'feelslike_c': 7.1, 'feelslike_f': 44.8, 'windchill_c': 8.0, 'windchill_f': 46.4, 'heatindex_c': 8.1, 'heatindex_f': 46.5, 'dewpoint_c': 7.7, 'dewpoint_f': 45.9, 'vis_km': 16.0, 'vis_miles': 9.0, 'uv': 0.0, 'gust_mph': 6.5, 'gust_kph': 10.4}}\"}, {\"url\": \"https://world-weather.info/forecast/usa/san_francisco/february-2025/\", \"content\": \"Weather in San Francisco in February 2025 (California) - Detailed Weather Forecast for a Month Weather World Weather in San Francisco Weather in San Francisco in February 2025 San Francisco Weather Forecast for February 2025, is based on previous years' statistical data. +59°+50° +59°+52° +59°+50° +61°+52° +59°+50° +61°+50° +61°+52° +63°+52° +61°+52° +61°+50° +61°+50° +61°+50° +59°+50° +59°+50° +61°+50° +61°+52° +59°+50° +59°+48° +57°+48° +59°+50° +59°+48° +59°+50° +57°+46° +61°+50° +61°+50° +59°+50° +59°+48° +59°+50° Extended weather forecast in San Francisco HourlyWeek10-Day14-Day30-DayYear Weather in large and nearby cities Weather in Washington, D.C.+41° Sacramento+55° Pleasanton+55° Redwood City+55° San Leandro+55° San Mateo+54° San Rafael+52° San Ramon+52° South San Francisco+54° Vallejo+50° Palo Alto+55° Pacifica+55° Berkeley+54° Castro Valley+55° Concord+52° Daly City+54° Noverd+52° Sign Hill+54° world's temperature today day day Temperature units\"}]\n",
      "==================================\u001b[1m Ai Message \u001b[0m==================================\n",
      "\n",
      "The current weather in San Francisco is as follows:\n",
      "\n",
      "- **Location**: San Francisco, California, United States of America\n",
      "- **Temperature**: 7.8°C (46°F)\n",
      "- **Condition**: Partly cloudy\n",
      "- **Wind Speed**: 3.4 mph (5.4 kph) from the direction ENE (East-Northeast)\n",
      "\n",
      "The humidity is at 89%, and there's no precipitation currently observed.\n",
      "\n",
      "If you need more detailed information or forecasts for upcoming days, please let me know!\n"
     ]
    }
   ],
   "source": [
    "for step in agent_executor.stream(\n",
    "    {\"messages\": [HumanMessage(content=\"whats the weather in sf?\")]},\n",
    "    stream_mode=\"values\",\n",
    "):\n",
    "    step[\"messages\"][-1].pretty_print()"
   ]
  },
  {
   "cell_type": "markdown",
   "id": "d7952d32-c1a9-4bc0-965b-c1f8d89ac09a",
   "metadata": {
    "editable": true,
    "slideshow": {
     "slide_type": ""
    },
    "tags": []
   },
   "source": [
    "## Streaming tokens  流式tokens\n",
    "- 除了回传消息外，回传标记也很有用。我们可以通过指定 stream_mode=\"messages\" 来实现\n",
    "- message.text() ，这需要 langchain-core>=0.3.37 "
   ]
  },
  {
   "cell_type": "code",
   "execution_count": 21,
   "id": "47c290e8-916d-4abe-ad70-d207b023e7d9",
   "metadata": {
    "editable": true,
    "slideshow": {
     "slide_type": ""
    },
    "tags": []
   },
   "outputs": [
    {
     "name": "stdout",
     "output_type": "stream",
     "text": [
      "The current weather in San Francisco is partly cloudy with a temperature of 7.8°C (46°F). The wind speed is at 3.4 mph (5.4 km/h) coming from the northeast direction (ENE). The humidity level is 89%, and there's no precipitation expected.\n",
      "\n",
      "If you're planning for an extended stay, February in San Francisco typically sees temperatures ranging from about 57°F to 61°F during the day with overnight lows around 46°F. The weather can be quite variable, so it might be a good idea to pack layers and have some rain gear handy as well.|"
     ]
    }
   ],
   "source": [
    "for step, metadata in agent_executor.stream(\n",
    "    {\"messages\": [HumanMessage(content=\"whats the weather in sf?\")]},\n",
    "    stream_mode=\"messages\",\n",
    "):\n",
    "    if metadata[\"langgraph_node\"] == \"agent\" and (text := step.text()):\n",
    "        print(text, end=\"|\")"
   ]
  },
  {
   "cell_type": "markdown",
   "id": "8e2da473-87cd-41b5-86db-63f4455b42ff",
   "metadata": {
    "editable": true,
    "slideshow": {
     "slide_type": ""
    },
    "tags": []
   },
   "source": [
    "## Adding in memory  添加记忆功能\n",
    "- 添加记忆功能，就需要传递一个检查点。\n",
    "- 在调用代理时，我们还需要传递一个 thread_id （以便它知道从哪个线程/对话继续）。"
   ]
  },
  {
   "cell_type": "code",
   "execution_count": 22,
   "id": "1b5a2e73-5b57-4a8f-9829-899ac521daee",
   "metadata": {
    "editable": true,
    "slideshow": {
     "slide_type": ""
    },
    "tags": []
   },
   "outputs": [],
   "source": [
    "from langgraph.checkpoint.memory import MemorySaver\n",
    "\n",
    "memory = MemorySaver()"
   ]
  },
  {
   "cell_type": "code",
   "execution_count": 23,
   "id": "74915ae9-1b61-451c-bab7-bf0f63589f5c",
   "metadata": {
    "editable": true,
    "slideshow": {
     "slide_type": ""
    },
    "tags": []
   },
   "outputs": [],
   "source": [
    "agent_executor = create_react_agent(model, tools, checkpointer=memory)\n",
    "\n",
    "config = {\"configurable\": {\"thread_id\": \"abc123\"}}"
   ]
  },
  {
   "cell_type": "code",
   "execution_count": 24,
   "id": "d1f2e2f3-b7bb-4444-9232-66eec6a96999",
   "metadata": {
    "editable": true,
    "slideshow": {
     "slide_type": ""
    },
    "tags": []
   },
   "outputs": [
    {
     "name": "stdout",
     "output_type": "stream",
     "text": [
      "{'agent': {'messages': [AIMessage(content='Hello Bob! How can I assist you today?', additional_kwargs={}, response_metadata={'model': 'qwen2.5:latest', 'created_at': '2025-02-22T14:42:35.601067Z', 'done': True, 'done_reason': 'stop', 'total_duration': 2633524458, 'load_duration': 34469333, 'prompt_eval_count': 191, 'prompt_eval_duration': 2070000000, 'eval_count': 11, 'eval_duration': 522000000, 'message': Message(role='assistant', content='Hello Bob! How can I assist you today?', images=None, tool_calls=None)}, id='run-0cf005ed-b467-4422-9075-487c847baa8f-0', usage_metadata={'input_tokens': 191, 'output_tokens': 11, 'total_tokens': 202})]}}\n",
      "----\n"
     ]
    }
   ],
   "source": [
    "for chunk in agent_executor.stream(\n",
    "    {\"messages\": [HumanMessage(content=\"hi im bob!\")]}, config\n",
    "):\n",
    "    print(chunk)\n",
    "    print(\"----\")"
   ]
  },
  {
   "cell_type": "code",
   "execution_count": 25,
   "id": "af150b2f-9f9e-4dc3-9d40-69fbfa156f17",
   "metadata": {
    "editable": true,
    "slideshow": {
     "slide_type": ""
    },
    "tags": []
   },
   "outputs": [
    {
     "name": "stdout",
     "output_type": "stream",
     "text": [
      "{'agent': {'messages': [AIMessage(content='Your name is Bob!', additional_kwargs={}, response_metadata={'model': 'qwen2.5:latest', 'created_at': '2025-02-22T14:42:54.52852Z', 'done': True, 'done_reason': 'stop', 'total_duration': 1118915333, 'load_duration': 69745542, 'prompt_eval_count': 216, 'prompt_eval_duration': 789000000, 'eval_count': 6, 'eval_duration': 247000000, 'message': Message(role='assistant', content='Your name is Bob!', images=None, tool_calls=None)}, id='run-661d45d5-d687-474d-87b4-6ac40883ed42-0', usage_metadata={'input_tokens': 216, 'output_tokens': 6, 'total_tokens': 222})]}}\n",
      "----\n"
     ]
    }
   ],
   "source": [
    "for chunk in agent_executor.stream(\n",
    "    {\"messages\": [HumanMessage(content=\"whats my name?\")]}, config\n",
    "):\n",
    "    print(chunk)\n",
    "    print(\"----\")"
   ]
  },
  {
   "cell_type": "markdown",
   "id": "700a8ec7-f1fa-431c-a27b-021cc0f34bc5",
   "metadata": {
    "editable": true,
    "slideshow": {
     "slide_type": ""
    },
    "tags": []
   },
   "source": [
    "- 开始一个新的对话，你只需要改变使用的 thread_id 即可"
   ]
  },
  {
   "cell_type": "code",
   "execution_count": 26,
   "id": "76734c7b-2ffc-4d8b-b90f-de782b419a2f",
   "metadata": {
    "editable": true,
    "slideshow": {
     "slide_type": ""
    },
    "tags": []
   },
   "outputs": [
    {
     "name": "stdout",
     "output_type": "stream",
     "text": [
      "{'agent': {'messages': [AIMessage(content='Since I don\\'t have any information about you, you can tell me your name directly, or we can try to find it through other means. However, if you want me to generate a response as if I know your name, you could say something like \"My name is [Your Name]\". What would you like to do?', additional_kwargs={}, response_metadata={'model': 'qwen2.5:latest', 'created_at': '2025-02-22T14:43:39.353217Z', 'done': True, 'done_reason': 'stop', 'total_duration': 5035296250, 'load_duration': 35367125, 'prompt_eval_count': 192, 'prompt_eval_duration': 1654000000, 'eval_count': 68, 'eval_duration': 3339000000, 'message': Message(role='assistant', content='Since I don\\'t have any information about you, you can tell me your name directly, or we can try to find it through other means. However, if you want me to generate a response as if I know your name, you could say something like \"My name is [Your Name]\". What would you like to do?', images=None, tool_calls=None)}, id='run-b896e713-a7e6-4c7b-9844-4b214176ab33-0', usage_metadata={'input_tokens': 192, 'output_tokens': 68, 'total_tokens': 260})]}}\n",
      "----\n"
     ]
    }
   ],
   "source": [
    "config = {\"configurable\": {\"thread_id\": \"xyz123\"}}\n",
    "for chunk in agent_executor.stream(\n",
    "    {\"messages\": [HumanMessage(content=\"whats my name?\")]}, config\n",
    "):\n",
    "    print(chunk)\n",
    "    print(\"----\")"
   ]
  },
  {
   "cell_type": "markdown",
   "id": "39b1bd30-108b-4b30-8e14-0493a054eb7c",
   "metadata": {
    "editable": true,
    "slideshow": {
     "slide_type": ""
    },
    "tags": []
   },
   "source": [
    "# 总结\n",
    "- 定义工具 tool\n",
    "- 定义LLM model\n",
    "- 创建reat Agent\n",
    "- 添加历史记忆功能 memory\n",
    "- 流式输出"
   ]
  },
  {
   "cell_type": "code",
   "execution_count": null,
   "id": "35d7bf7c-b8ea-4113-a0fd-ae7df5003098",
   "metadata": {
    "editable": true,
    "slideshow": {
     "slide_type": ""
    },
    "tags": []
   },
   "outputs": [],
   "source": []
  }
 ],
 "metadata": {
  "kernelspec": {
   "display_name": "Python 3 (ipykernel)",
   "language": "python",
   "name": "python3"
  },
  "language_info": {
   "codemirror_mode": {
    "name": "ipython",
    "version": 3
   },
   "file_extension": ".py",
   "mimetype": "text/x-python",
   "name": "python",
   "nbconvert_exporter": "python",
   "pygments_lexer": "ipython3",
   "version": "3.13.1"
  },
  "toc": {
   "base_numbering": 1
  }
 },
 "nbformat": 4,
 "nbformat_minor": 5
}
