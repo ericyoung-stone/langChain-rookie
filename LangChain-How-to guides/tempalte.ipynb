{
 "cells": [
  {
   "metadata": {},
   "cell_type": "markdown",
   "source": "# title",
   "id": "89facdfe5398a5f4"
  },
  {
   "metadata": {},
   "cell_type": "markdown",
   "source": "## chat models",
   "id": "8270284de4034745"
  },
  {
   "metadata": {
    "ExecuteTime": {
     "end_time": "2025-03-16T04:36:12.444932Z",
     "start_time": "2025-03-16T04:36:12.426686Z"
    }
   },
   "cell_type": "code",
   "source": [
    "import sys\n",
    "sys.path.append('/Users/ericyoung/ysx/code/github-study/langChain-rookie')\n",
    "from env_utils import load_environment_variables\n",
    "\n",
    "load_environment_variables()"
   ],
   "id": "4690e4a032256990",
   "outputs": [
    {
     "name": "stdout",
     "output_type": "stream",
     "text": [
      "__file__: /Users/ericyoung/ysx/code/github-study/langChain-rookie/env_utils.py\n",
      "dotenv_path1: /Users/ericyoung/ysx/code/github-study/langChain-rookie/.env\n",
      "load env ok\n"
     ]
    }
   ],
   "execution_count": 1
  },
  {
   "metadata": {},
   "cell_type": "markdown",
   "source": "### 支持tool的 chat model",
   "id": "6820e42336581aeb"
  },
  {
   "metadata": {
    "editable": true,
    "slideshow": {
     "slide_type": ""
    },
    "tags": [],
    "ExecuteTime": {
     "end_time": "2025-03-16T04:36:13.622475Z",
     "start_time": "2025-03-16T04:36:13.093541Z"
    }
   },
   "cell_type": "code",
   "source": [
    "# Ollama\n",
    "from langchain_ollama import ChatOllama\n",
    "# llm = ChatOllama(\n",
    "#     model=\"qwen2.5:latest\", # gemma3:latest(不支持tool)\n",
    "#     temperature=0.7,\n",
    "#     # other params...\n",
    "# )"
   ],
   "id": "587fe31e8dc504d6",
   "outputs": [],
   "execution_count": 2
  },
  {
   "metadata": {},
   "cell_type": "markdown",
   "source": "### 不支持tool的chat model",
   "id": "b8cdb0a145f350a4"
  },
  {
   "metadata": {
    "ExecuteTime": {
     "end_time": "2025-03-16T04:36:17.485980Z",
     "start_time": "2025-03-16T04:36:13.772032Z"
    }
   },
   "cell_type": "code",
   "source": [
    "# 任何chat model\n",
    "from models import MyOpenAIModel\n",
    "\n",
    "model = MyOpenAIModel()\n",
    "response = model.generate(\"你好，介绍一下你自己\")\n",
    "print(response)"
   ],
   "id": "69a54d1249199c66",
   "outputs": [
    {
     "name": "stdout",
     "output_type": "stream",
     "text": [
      "您好！我是 Gemma，一个由 Google DeepMind 训练的大型语言模型。我是一个开放权重的 AI 助手，这意味着我的模型权重是公开的，您可以自由地使用和修改我。\n",
      "\n",
      "我可以接收文本和图像作为输入，并仅输出文本。 我可以尝试回答您的各种问题，提供信息，或者进行一些创造性的写作任务。\n",
      "\n",
      "请随时向我提问或提出要求！ 😊\n",
      "您好！我是 Gemma，一个由 Google DeepMind 训练的大型语言模型。我是一个开放权重的 AI 助手，这意味着我的模型权重是公开的，您可以自由地使用和修改我。\n",
      "\n",
      "我可以接收文本和图像作为输入，并仅输出文本。 我可以尝试回答您的各种问题，提供信息，或者进行一些创造性的写作任务。\n",
      "\n",
      "请随时向我提问或提出要求！ 😊\n",
      "\n"
     ]
    }
   ],
   "execution_count": 3
  },
  {
   "metadata": {},
   "cell_type": "markdown",
   "source": [
    "### ⭐️ 不支持tool模型 利用 ChatOpenAI (使用base_url) 实现 bind_tools\n",
    "- 支持结构化输出, with_structured_output方法\n",
    "- 支持使用工具, bind_tools方法\n",
    "- llm = ChatOpenAI(\n",
    "                model=\"gpt-4o\",\n",
    "                temperature=0,\n",
    "                max_tokens=None,\n",
    "                timeout=None,\n",
    "                max_retries=2,\n",
    "                # api_key=\"...\",\n",
    "                # base_url=\"...\",\n",
    "                # organization=\"...\",\n",
    "                # other params...\n",
    "            )"
   ],
   "id": "f0010a0917804b50"
  },
  {
   "metadata": {
    "ExecuteTime": {
     "end_time": "2025-03-16T04:36:21.307590Z",
     "start_time": "2025-03-16T04:36:17.537757Z"
    }
   },
   "cell_type": "code",
   "source": [
    "from models import get_base_url_model_with_tools\n",
    "llm = get_base_url_model_with_tools()\n",
    "print(llm.invoke(\"你是谁?\").content)"
   ],
   "id": "70c8cc470568602c",
   "outputs": [
    {
     "name": "stdout",
     "output_type": "stream",
     "text": [
      "我是Gemma，一个开放权重的AI助手。我是一个由Google DeepMind训练的大型语言模型。\n",
      "\n",
      "你可以把我当成一个工具，可以帮助你完成各种任务，例如：\n",
      "\n",
      "*   回答你的问题\n",
      "*   生成文本（比如诗歌、代码、剧本、音乐作品、电子邮件、信件等）\n",
      "*   进行翻译\n",
      "*   总结信息\n",
      "\n",
      "我是一个由六个团队共同开发的大型语言模型，并且在2023年1月发布。\n",
      "\n",
      "你有什么想问我的吗？\n"
     ]
    }
   ],
   "execution_count": 4
  },
  {
   "metadata": {
    "ExecuteTime": {
     "end_time": "2025-03-16T04:35:52.172927Z",
     "start_time": "2025-03-16T04:35:52.164940Z"
    }
   },
   "cell_type": "code",
   "source": "",
   "id": "31434473f07c115",
   "outputs": [],
   "execution_count": null
  },
  {
   "metadata": {
    "ExecuteTime": {
     "end_time": "2025-03-16T04:34:30.886253Z",
     "start_time": "2025-03-16T04:34:30.885108Z"
    }
   },
   "cell_type": "code",
   "source": "",
   "id": "f7b61a54fcaa7ab0",
   "outputs": [],
   "execution_count": null
  },
  {
   "metadata": {
    "ExecuteTime": {
     "end_time": "2025-03-16T04:34:30.895476Z",
     "start_time": "2025-03-16T04:34:30.894122Z"
    }
   },
   "cell_type": "code",
   "source": "",
   "id": "ddea575b877cd02",
   "outputs": [],
   "execution_count": null
  },
  {
   "metadata": {
    "ExecuteTime": {
     "end_time": "2025-03-16T04:34:30.924251Z",
     "start_time": "2025-03-16T04:34:30.922992Z"
    }
   },
   "cell_type": "code",
   "source": "",
   "id": "35140ef0c3605f79",
   "outputs": [],
   "execution_count": null
  },
  {
   "metadata": {
    "ExecuteTime": {
     "end_time": "2025-03-16T04:34:31.071418Z",
     "start_time": "2025-03-16T04:34:31.069891Z"
    }
   },
   "cell_type": "code",
   "source": "",
   "id": "4c2fefbb77a00252",
   "outputs": [],
   "execution_count": null
  },
  {
   "metadata": {
    "ExecuteTime": {
     "end_time": "2025-03-16T04:34:31.198743Z",
     "start_time": "2025-03-16T04:34:31.196735Z"
    }
   },
   "cell_type": "code",
   "source": "",
   "id": "5b7e3b69c1519031",
   "outputs": [],
   "execution_count": null
  },
  {
   "metadata": {
    "ExecuteTime": {
     "end_time": "2025-03-16T04:34:31.331653Z",
     "start_time": "2025-03-16T04:34:31.328739Z"
    }
   },
   "cell_type": "code",
   "source": "",
   "id": "85f07681212be9c3",
   "outputs": [],
   "execution_count": null
  },
  {
   "metadata": {},
   "cell_type": "code",
   "outputs": [],
   "execution_count": null,
   "source": "",
   "id": "e355a62b0fe87ac"
  }
 ],
 "metadata": {
  "kernelspec": {
   "display_name": "Python 3",
   "language": "python",
   "name": "python3"
  },
  "language_info": {
   "codemirror_mode": {
    "name": "ipython",
    "version": 2
   },
   "file_extension": ".py",
   "mimetype": "text/x-python",
   "name": "python",
   "nbconvert_exporter": "python",
   "pygments_lexer": "ipython2",
   "version": "2.7.6"
  }
 },
 "nbformat": 4,
 "nbformat_minor": 5
}
