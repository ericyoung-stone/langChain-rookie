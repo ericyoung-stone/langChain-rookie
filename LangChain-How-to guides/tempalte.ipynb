{
 "cells": [
  {
   "metadata": {},
   "cell_type": "markdown",
   "source": "# title",
   "id": "89facdfe5398a5f4"
  },
  {
   "metadata": {},
   "cell_type": "markdown",
   "source": "## chat models",
   "id": "8270284de4034745"
  },
  {
   "metadata": {
    "ExecuteTime": {
     "end_time": "2025-03-18T13:32:22.810132Z",
     "start_time": "2025-03-18T13:32:22.799205Z"
    }
   },
   "cell_type": "code",
   "source": [
    "import sys\n",
    "sys.path.append('/Users/ericyoung/ysx/code/github-study/langChain-rookie')\n",
    "from env_utils import load_environment_variables\n",
    "\n",
    "load_environment_variables()"
   ],
   "id": "4690e4a032256990",
   "outputs": [
    {
     "name": "stdout",
     "output_type": "stream",
     "text": [
      "__file__: /Users/ericyoung/ysx/code/github-study/langChain-rookie/env_utils.py\n",
      "dotenv_path1: /Users/ericyoung/ysx/code/github-study/langChain-rookie/.env\n",
      "load env ok\n"
     ]
    }
   ],
   "execution_count": 1
  },
  {
   "metadata": {},
   "cell_type": "markdown",
   "source": "### 支持tool的 chat model",
   "id": "6820e42336581aeb"
  },
  {
   "metadata": {
    "editable": true,
    "slideshow": {
     "slide_type": ""
    },
    "tags": [],
    "ExecuteTime": {
     "end_time": "2025-03-18T13:32:23.277829Z",
     "start_time": "2025-03-18T13:32:22.815082Z"
    }
   },
   "cell_type": "code",
   "source": [
    "# Ollama\n",
    "from langchain_ollama import ChatOllama\n",
    "# llm = ChatOllama(\n",
    "#     model=\"qwen2.5:latest\", # gemma3:latest(不支持tool)\n",
    "#     temperature=0.7,\n",
    "#     # other params...\n",
    "# )"
   ],
   "id": "587fe31e8dc504d6",
   "outputs": [],
   "execution_count": 2
  },
  {
   "metadata": {},
   "cell_type": "markdown",
   "source": "### 不支持tool的chat model",
   "id": "b8cdb0a145f350a4"
  },
  {
   "metadata": {
    "ExecuteTime": {
     "end_time": "2025-03-18T13:32:23.386723Z",
     "start_time": "2025-03-18T13:32:23.384594Z"
    }
   },
   "cell_type": "code",
   "source": [
    "# 任何chat model\n",
    "# from models import MyOpenAIModel\n",
    "#\n",
    "# model = MyOpenAIModel()\n",
    "# response = model.generate(\"你好，介绍一下你自己\")\n",
    "# print(response)"
   ],
   "id": "69a54d1249199c66",
   "outputs": [],
   "execution_count": 3
  },
  {
   "metadata": {},
   "cell_type": "markdown",
   "source": [
    "### ⭐️ 不支持tool模型 利用 ChatOpenAI (使用base_url) 实现 bind_tools\n",
    "- 支持结构化输出, with_structured_output方法\n",
    "- 支持使用工具, bind_tools方法\n",
    "- llm = ChatOpenAI(\n",
    "                model=\"gpt-4o\",\n",
    "                temperature=0,\n",
    "                max_tokens=None,\n",
    "                timeout=None,\n",
    "                max_retries=2,\n",
    "                # api_key=\"...\",\n",
    "                # base_url=\"...\",\n",
    "                # organization=\"...\",\n",
    "                # other params...\n",
    "            )"
   ],
   "id": "f0010a0917804b50"
  },
  {
   "metadata": {
    "ExecuteTime": {
     "end_time": "2025-03-18T13:32:26.844018Z",
     "start_time": "2025-03-18T13:32:23.396044Z"
    }
   },
   "cell_type": "code",
   "source": [
    "from models import get_base_url_model_with_tools\n",
    "llm = get_base_url_model_with_tools()\n",
    "print(llm.invoke(\"你是谁?\").content)"
   ],
   "id": "70c8cc470568602c",
   "outputs": [
    {
     "name": "stdout",
     "output_type": "stream",
     "text": [
      "\n",
      "\n",
      "您好！我是由中国的深度求索（DeepSeek）公司开发的智能助手DeepSeek-R1。如您有任何任何问题，我会尽我所能为您提供帮助。\n"
     ]
    }
   ],
   "execution_count": 4
  },
  {
   "metadata": {
    "ExecuteTime": {
     "end_time": "2025-03-18T13:32:26.920678Z",
     "start_time": "2025-03-18T13:32:26.918543Z"
    }
   },
   "cell_type": "code",
   "source": "",
   "id": "31434473f07c115",
   "outputs": [],
   "execution_count": null
  },
  {
   "metadata": {
    "ExecuteTime": {
     "end_time": "2025-03-18T13:32:26.951168Z",
     "start_time": "2025-03-18T13:32:26.949835Z"
    }
   },
   "cell_type": "code",
   "source": "",
   "id": "f7b61a54fcaa7ab0",
   "outputs": [],
   "execution_count": null
  },
  {
   "metadata": {
    "ExecuteTime": {
     "end_time": "2025-03-18T13:32:26.962783Z",
     "start_time": "2025-03-18T13:32:26.961093Z"
    }
   },
   "cell_type": "code",
   "source": "",
   "id": "ddea575b877cd02",
   "outputs": [],
   "execution_count": null
  },
  {
   "metadata": {
    "ExecuteTime": {
     "end_time": "2025-03-18T13:32:26.973920Z",
     "start_time": "2025-03-18T13:32:26.972616Z"
    }
   },
   "cell_type": "code",
   "source": "",
   "id": "35140ef0c3605f79",
   "outputs": [],
   "execution_count": null
  },
  {
   "metadata": {
    "ExecuteTime": {
     "end_time": "2025-03-18T13:32:26.983479Z",
     "start_time": "2025-03-18T13:32:26.982326Z"
    }
   },
   "cell_type": "code",
   "source": "",
   "id": "4c2fefbb77a00252",
   "outputs": [],
   "execution_count": null
  },
  {
   "metadata": {
    "ExecuteTime": {
     "end_time": "2025-03-18T13:32:26.993919Z",
     "start_time": "2025-03-18T13:32:26.992625Z"
    }
   },
   "cell_type": "code",
   "source": "",
   "id": "5b7e3b69c1519031",
   "outputs": [],
   "execution_count": null
  },
  {
   "metadata": {
    "ExecuteTime": {
     "end_time": "2025-03-18T13:32:27.004405Z",
     "start_time": "2025-03-18T13:32:27.002121Z"
    }
   },
   "cell_type": "code",
   "source": "",
   "id": "85f07681212be9c3",
   "outputs": [],
   "execution_count": null
  },
  {
   "metadata": {
    "ExecuteTime": {
     "end_time": "2025-03-18T13:32:27.015545Z",
     "start_time": "2025-03-18T13:32:27.014193Z"
    }
   },
   "cell_type": "code",
   "source": "",
   "id": "e355a62b0fe87ac",
   "outputs": [],
   "execution_count": null
  }
 ],
 "metadata": {
  "kernelspec": {
   "display_name": "Python 3",
   "language": "python",
   "name": "python3"
  },
  "language_info": {
   "codemirror_mode": {
    "name": "ipython",
    "version": 2
   },
   "file_extension": ".py",
   "mimetype": "text/x-python",
   "name": "python",
   "nbconvert_exporter": "python",
   "pygments_lexer": "ipython2",
   "version": "2.7.6"
  }
 },
 "nbformat": 4,
 "nbformat_minor": 5
}
