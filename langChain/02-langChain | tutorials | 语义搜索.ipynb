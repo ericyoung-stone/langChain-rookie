{
 "cells": [
  {
   "cell_type": "markdown",
   "id": "6d42f552-d205-4f38-8697-2f2b82f24715",
   "metadata": {
    "ExecuteTime": {
     "start_time": "2025-02-19T14:15:58.091Z"
    },
    "editable": true,
    "slideshow": {
     "slide_type": ""
    },
    "tags": []
   },
   "source": [
    "- pip install langchain-community pypdf\n",
    "- **使用文档加载器、嵌入模型和向量存储构建一个基于 PDF 的语义搜索引擎。**\n",
    "- Build a semantic search engine over a PDF with document loaders, embedding models, and vector stores.\n",
    "# 加载环境变量"
   ]
  },
  {
   "cell_type": "code",
   "id": "458f806c-3890-4660-8f80-edc10dc4f5e8",
   "metadata": {
    "editable": true,
    "slideshow": {
     "slide_type": ""
    },
    "tags": [],
    "ExecuteTime": {
     "end_time": "2025-02-21T15:07:05.935485Z",
     "start_time": "2025-02-21T15:07:05.927226Z"
    }
   },
   "source": [
    "from dotenv import load_dotenv\n",
    "import os\n",
    "\n",
    "try:\n",
    "    print(__file__)  # 检查 __file__ 是否存在\n",
    "    dotenv_path = os.path.join(os.path.dirname(__file__), '../.env')\n",
    "except NameError:\n",
    "    print(\"Running in an interactive environment, using current directory instead.\")\n",
    "    dotenv_path = os.path.join(os.getcwd(), '../.env')\n",
    "\n",
    "load_dotenv(dotenv_path, override=True)"
   ],
   "outputs": [
    {
     "name": "stdout",
     "output_type": "stream",
     "text": [
      "Running in an interactive environment, using current directory instead.\n"
     ]
    },
    {
     "data": {
      "text/plain": [
       "True"
      ]
     },
     "execution_count": 1,
     "metadata": {},
     "output_type": "execute_result"
    }
   ],
   "execution_count": 1
  },
  {
   "cell_type": "markdown",
   "id": "ced1803d-c0df-4d6a-8bbf-23c5af679ab2",
   "metadata": {
    "editable": true,
    "slideshow": {
     "slide_type": ""
    },
    "tags": []
   },
   "source": [
    "# Documents and Document Loaders\n",
    "文档和文档加载器"
   ]
  },
  {
   "cell_type": "code",
   "execution_count": 39,
   "id": "f57cf917-db3f-46cd-a74b-39a159836278",
   "metadata": {
    "editable": true,
    "slideshow": {
     "slide_type": ""
    },
    "tags": []
   },
   "outputs": [
    {
     "data": {
      "text/plain": [
       "[Document(metadata={'source': 'mammal-pets-doc'}, page_content='Dogs are great companions, known for their loyalty and friendliness.'),\n",
       " Document(metadata={'source': 'mammal-pets-doc'}, page_content='Cats are independent pets that often enjoy their own space.')]"
      ]
     },
     "execution_count": 39,
     "metadata": {},
     "output_type": "execute_result"
    }
   ],
   "source": [
    "from langchain_core.documents import Document\n",
    "\n",
    "documents = [\n",
    "    Document(\n",
    "        page_content=\"Dogs are great companions, known for their loyalty and friendliness.\",\n",
    "        metadata={\"source\": \"mammal-pets-doc\"},\n",
    "    ),\n",
    "    Document(\n",
    "        page_content=\"Cats are independent pets that often enjoy their own space.\",\n",
    "        metadata={\"source\": \"mammal-pets-doc\"},\n",
    "    ),\n",
    "]\n",
    "documents"
   ]
  },
  {
   "cell_type": "markdown",
   "id": "11fc3c26-ebf5-4a08-8c47-9a60cd593ab1",
   "metadata": {
    "editable": true,
    "slideshow": {
     "slide_type": ""
    },
    "tags": []
   },
   "source": [
    "# Loading documents  加载文档"
   ]
  },
  {
   "cell_type": "code",
   "execution_count": 40,
   "id": "59a94c9d-2664-47f8-b9b5-eb3d463d4bf3",
   "metadata": {
    "editable": true,
    "slideshow": {
     "slide_type": ""
    },
    "tags": []
   },
   "outputs": [
    {
     "name": "stdout",
     "output_type": "stream",
     "text": [
      "107\n"
     ]
    }
   ],
   "source": [
    "from langchain_community.document_loaders import PyPDFLoader\n",
    "\n",
    "file_path = \"../example_data/nke-10k-2023.pdf\"\n",
    "loader = PyPDFLoader(file_path)\n",
    "\n",
    "docs = loader.load()\n",
    "\n",
    "print(len(docs))"
   ]
  },
  {
   "cell_type": "code",
   "execution_count": 41,
   "id": "a19befb6-83c4-461c-b98c-4da1c89ce00c",
   "metadata": {
    "editable": true,
    "slideshow": {
     "slide_type": ""
    },
    "tags": []
   },
   "outputs": [
    {
     "name": "stdout",
     "output_type": "stream",
     "text": [
      "Table of Contents\n",
      "UNITED STATES\n",
      "SECURITIES AND EXCHANGE COMMISSION\n",
      "Washington, D.C. 20549\n",
      "FORM 10-K\n",
      "(Mark One)\n",
      "☑  ANNUAL REPORT PURSUANT TO SECTION 13 OR 15(D) OF THE SECURITIES EXCHANGE ACT OF 1934\n",
      "F\n",
      " ======\n",
      "{'source': './example_data/nke-10k-2023.pdf', 'page': 0, 'page_label': '1'}\n"
     ]
    }
   ],
   "source": [
    "# 页面的字符串内容, 包含文件名和页码的元数据\n",
    "print(f\"{docs[0].page_content[:200]}\\n ======\")\n",
    "print(docs[0].metadata)"
   ]
  },
  {
   "cell_type": "markdown",
   "id": "80f9baa2-a50f-4b13-9f83-c6069d3191d5",
   "metadata": {
    "editable": true,
    "slideshow": {
     "slide_type": ""
    },
    "tags": []
   },
   "source": [
    "# Splitting  分割\n",
    "我们可以使用文本分割器来实现这一目的。我们将使用一个基于字符的简单文本分割器。我们将文档分割成每段 1000 个字符的片段，并在片段之间保留 200 个字符的重叠。重叠有助于减少将陈述与其相关的重要上下文分离的可能性。我们将使用 RecursiveCharacterTextSplitter，它会递归地使用常见的分隔符（如换行符）来分割文档，直到每个片段都是适当大小。这是推荐的通用文本使用场景的文本分割器。"
   ]
  },
  {
   "cell_type": "code",
   "execution_count": 42,
   "id": "073d21cd-e263-4936-a446-db573fa8494a",
   "metadata": {
    "editable": true,
    "slideshow": {
     "slide_type": ""
    },
    "tags": []
   },
   "outputs": [
    {
     "data": {
      "text/plain": [
       "516"
      ]
     },
     "execution_count": 42,
     "metadata": {},
     "output_type": "execute_result"
    }
   ],
   "source": [
    "# \n",
    "from langchain_text_splitters import RecursiveCharacterTextSplitter\n",
    "\n",
    "text_splitter = RecursiveCharacterTextSplitter(\n",
    "    chunk_size=1000, chunk_overlap=200, add_start_index=True\n",
    ")\n",
    "all_splits = text_splitter.split_documents(docs)\n",
    "\n",
    "len(all_splits)"
   ]
  },
  {
   "cell_type": "markdown",
   "id": "b91cf41f-b551-4659-9107-0d86bd883d33",
   "metadata": {
    "editable": true,
    "slideshow": {
     "slide_type": ""
    },
    "tags": []
   },
   "source": [
    "# Embeddings  嵌入\n",
    "- 向量搜索是存储和搜索未结构化数据（如未结构化文本）的一种常见方法。基本思路是存储与文本关联的数值向量。给定一个查询，我们可以将其嵌入为相同维度的向量，并使用向量相似度度量（如余弦相似度）来识别相关的文本。\n",
    "- LangChain 支持来自数十个LLM的嵌入。这些模型指定了文本应如何转换为数值向量。"
   ]
  },
  {
   "cell_type": "code",
   "execution_count": 43,
   "id": "be35ba95-9bbe-4788-8bdd-2310a3705f56",
   "metadata": {
    "editable": true,
    "slideshow": {
     "slide_type": ""
    },
    "tags": []
   },
   "outputs": [],
   "source": [
    "from langchain_ollama import OllamaEmbeddings\n",
    "# nomic-embed-text\n",
    "# shunyue/llama3-chinese-shunyue:latest\n",
    "embeddings = OllamaEmbeddings(model=\"nomic-embed-text\")"
   ]
  },
  {
   "cell_type": "code",
   "execution_count": 44,
   "id": "25988726-c8c7-449f-b90f-424666253cab",
   "metadata": {
    "editable": true,
    "slideshow": {
     "slide_type": ""
    },
    "tags": []
   },
   "outputs": [
    {
     "name": "stdout",
     "output_type": "stream",
     "text": [
      "Generated vectors of length 768\n",
      "\n",
      "[-0.02281179, 0.071803115, -0.19200394, -0.06733745, 0.027059343, -0.024033826, 0.05242733, 0.010079667, 0.07523421, 0.0086905705]\n"
     ]
    }
   ],
   "source": [
    "vector_1 = embeddings.embed_query(all_splits[0].page_content)\n",
    "vector_2 = embeddings.embed_query(all_splits[1].page_content)\n",
    "\n",
    "assert len(vector_1) == len(vector_2)\n",
    "print(f\"Generated vectors of length {len(vector_1)}\\n\")\n",
    "print(vector_1[:10])"
   ]
  },
  {
   "cell_type": "markdown",
   "id": "6c433428-0125-4fe7-ae33-46b0e6eb0a57",
   "metadata": {
    "editable": true,
    "slideshow": {
     "slide_type": ""
    },
    "tags": []
   },
   "source": [
    "# Vector stores  向量存储\n",
    "- LangChain VectorStore 对象包含向存储库添加文本和 Document 对象的方法，并使用各种相似性度量查询它们。它们通常使用嵌入模型初始化，这些模型决定了文本数据如何转换为数值向量。\n",
    "- 有许多种类型的向量存储数据库,例如:Chroma"
   ]
  },
  {
   "cell_type": "code",
   "execution_count": 46,
   "id": "632dd25c-2555-4a54-979c-20784d258847",
   "metadata": {},
   "outputs": [],
   "source": [
    "# pip install -qU langchain-chroma"
   ]
  },
  {
   "cell_type": "code",
   "execution_count": 47,
   "id": "1d4051e7-0497-48b8-a6ea-c550c4584318",
   "metadata": {},
   "outputs": [],
   "source": [
    "from langchain_chroma import Chroma\n",
    "\n",
    "vector_store = Chroma(embedding_function=embeddings)"
   ]
  },
  {
   "cell_type": "code",
   "execution_count": 48,
   "id": "01466fee-076a-4301-9e61-6a349554104f",
   "metadata": {},
   "outputs": [],
   "source": [
    "# 实例化我们的向量存储后，我们现在可以索引文档\n",
    "ids = vector_store.add_documents(documents=all_splits)"
   ]
  },
  {
   "cell_type": "markdown",
   "id": "8d417162-479b-4e7c-9700-6d19de1301d1",
   "metadata": {},
   "source": [
    "## VectorStore 包括的查询方法：\n",
    "- 一旦实例化了一个包含文档的 VectorStore ，我们就可以对其进行查询。\n",
    "\n",
    "- Synchronously and asynchronously; 同步和异步；\n",
    "- By string query and by vector; 通过字符串查询和向量\n",
    "- With and without returning similarity scores; 有和无返回相似度分数；\n",
    "- By similarity and maximum marginal relevance (to balance similarity with query to diversity in retrieved results). \n",
    "通过相似性和最大边际相关性（以平衡相似性与查询的多样性，在检索结果中）。"
   ]
  },
  {
   "cell_type": "markdown",
   "id": "b4fcfefc-a014-4328-aca6-7cdf91891f6e",
   "metadata": {},
   "source": [
    "### 根据字符串查询的相似度返回文档"
   ]
  },
  {
   "cell_type": "code",
   "execution_count": 50,
   "id": "a24e7308-4fe5-4d1f-9a80-f456b0a70f49",
   "metadata": {},
   "outputs": [
    {
     "name": "stdout",
     "output_type": "stream",
     "text": [
      "page_content='direct to consumer operations sell products through the following number of retail stores in the United States:\n",
      "U.S. RETAIL STORES NUMBER\n",
      "NIKE Brand factory stores 213 \n",
      "NIKE Brand in-line stores (including employee-only stores) 74 \n",
      "Converse stores (including factory stores) 82 \n",
      "TOTAL 369 \n",
      "In the United States, NIKE has eight significant distribution centers. Refer to Item 2. Properties for further information.\n",
      "2023 FORM 10-K 2' metadata={'page': 4, 'page_label': '5', 'source': './example_data/nke-10k-2023.pdf', 'start_index': 3125}\n"
     ]
    }
   ],
   "source": [
    "results = vector_store.similarity_search(\n",
    "    \"How many distribution centers does Nike have in the US?\"\n",
    ")\n",
    "\n",
    "print(results[0])"
   ]
  },
  {
   "cell_type": "markdown",
   "id": "8b8a7e96-8c56-4fcb-8095-9a70d33f01e9",
   "metadata": {},
   "source": [
    "- Return scores:  返回分数"
   ]
  },
  {
   "cell_type": "code",
   "execution_count": 53,
   "id": "20926477-6bcf-499e-b7e8-a8a9c2192c3a",
   "metadata": {},
   "outputs": [
    {
     "name": "stdout",
     "output_type": "stream",
     "text": [
      "Score: 0.3203344941139221\n",
      "\n",
      "page_content='Table of Contents\n",
      "FISCAL 2023 NIKE BRAND REVENUE HIGHLIGHTSThe following tables present NIKE Brand revenues disaggregated by reportable operating segment, distribution channel and major product line:\n",
      "FISCAL 2023 COMPARED TO FISCAL 2022\n",
      "• NIKE, Inc. Revenues were $51.2 billion in fiscal 2023, which increased 10% and 16% compared to fiscal 2022 on a reported and currency-neutral basis, respectively.\n",
      "The increase was due to higher revenues in North America, Europe, Middle East & Africa (\"EMEA\"), APLA and Greater China, which contributed approximately 7, 6,\n",
      "2 and 1 percentage points to NIKE, Inc. Revenues, respectively.\n",
      "• NIKE Brand revenues, which represented over 90% of NIKE, Inc. Revenues, increased 10% and 16% on a reported and currency-neutral basis, respectively. This\n",
      "increase was primarily due to higher revenues in Men's, the Jordan Brand, Women's and Kids' which grew 17%, 35%,11% and 10%, respectively, on a wholesale\n",
      "equivalent basis.' metadata={'page': 35, 'page_label': '36', 'source': './example_data/nke-10k-2023.pdf', 'start_index': 0}\n"
     ]
    }
   ],
   "source": [
    "# Note that providers implement different scores; the score here\n",
    "# is a distance metric that varies inversely with similarity.\n",
    "\n",
    "results = vector_store.similarity_search_with_score(\"What was Nike's revenue in 2023?\")\n",
    "doc, score = results[0]\n",
    "print(f\"Score: {score}\\n\")\n",
    "print(doc)"
   ]
  },
  {
   "cell_type": "markdown",
   "id": "97888178-1ab5-4747-9cfa-1718b70d7828",
   "metadata": {},
   "source": [
    "### Async query:  异步查询"
   ]
  },
  {
   "cell_type": "code",
   "execution_count": 51,
   "id": "ea13c7e9-a3ec-4103-84b7-b8d0388a6525",
   "metadata": {},
   "outputs": [
    {
     "name": "stdout",
     "output_type": "stream",
     "text": [
      "page_content='transition of NIKE Brand businesses in certain countries within APLA to third-party distributors.\n",
      "The Company's NIKE Direct operations are managed within each NIKE Brand geographic operating segment. Converse is also a reportable segment for the Company\n",
      "and operates in one industry: the design, marketing, licensing and selling of athletic lifestyle sneakers, apparel and accessories.\n",
      "Global Brand Divisions is included within the NIKE Brand for presentation purposes to align with the way management views the Company. Global Brand Divisions\n",
      "revenues include NIKE Brand licensing and other miscellaneous revenues that are not part of a geographic operating segment. Global Brand Divisions costs represent\n",
      "demand creation and operating overhead expense that include product creation and design expenses centrally managed for the NIKE Brand, as well as costs associated\n",
      "with NIKE Direct global digital operations and enterprise technology.\n",
      "(1)\n",
      "2023 FORM 10-K 84' metadata={'page': 86, 'page_label': '87', 'source': './example_data/nke-10k-2023.pdf', 'start_index': 3033}\n"
     ]
    }
   ],
   "source": [
    "results = await vector_store.asimilarity_search(\"When was Nike incorporated?\")\n",
    "\n",
    "print(results[0])"
   ]
  },
  {
   "cell_type": "markdown",
   "id": "b880b0c9-d76b-4550-ad0e-781d16efd342",
   "metadata": {},
   "source": [
    "### 根据嵌入查询的相似度返回文档"
   ]
  },
  {
   "cell_type": "code",
   "execution_count": 54,
   "id": "65cccea9-01c1-4077-b38c-f33d83dab0e8",
   "metadata": {},
   "outputs": [
    {
     "name": "stdout",
     "output_type": "stream",
     "text": [
      "page_content='Enterprise Resource Planning Platform, data and analytics, demand sensing, insight gathering, and other areas to create an end-to-end technology foundation, which we\n",
      "believe will further accelerate our digital transformation. We believe this unified approach will accelerate growth and unlock more efficiency for our business, while driving\n",
      "speed and responsiveness as we serve consumers globally.\n",
      "FINANCIAL HIGHLIGHTS\n",
      "• In fiscal 2023, NIKE, Inc. achieved record Revenues of $51.2 billion, which increased 10% and 16% on a reported and currency-neutral basis, respectively\n",
      "• NIKE Direct revenues grew 14% from $18.7 billion in fiscal 2022 to $21.3 billion in fiscal 2023, and represented approximately 44% of total NIKE Brand revenues for\n",
      "fiscal 2023\n",
      "• Gross margin for the fiscal year decreased 250 basis points to 43.5% primarily driven by higher product costs, higher markdowns and unfavorable changes in foreign\n",
      "currency exchange rates, partially offset by strategic pricing actions' metadata={'page': 30, 'page_label': '31', 'source': './example_data/nke-10k-2023.pdf', 'start_index': 1540}\n"
     ]
    }
   ],
   "source": [
    "embedding = embeddings.embed_query(\"How were Nike's margins impacted in 2023?\")\n",
    "\n",
    "results = vector_store.similarity_search_by_vector(embedding)\n",
    "print(results[0])"
   ]
  },
  {
   "cell_type": "markdown",
   "id": "4f33e74a-47d5-449c-9a35-b4a25ce02496",
   "metadata": {},
   "source": [
    "# Retrievers  检索器\n",
    "- LangChain VectorStore 对象不继承自 Runnable。LangChain 检索器是 Runnable，因此它们实现了一套标准方法（例如同步和异步 invoke 和 batch 操作）。尽管我们可以从向量存储构建检索器，但检索器也可以与数据源的非向量存储接口，例如外部 API。"
   ]
  },
  {
   "cell_type": "markdown",
   "id": "3a574b4f-5ef3-4559-8da2-b18ec5272a02",
   "metadata": {},
   "source": [
    "- 我们可以自己创建一个简单版本，无需继承 Retriever 。如果我们选择我们希望用来检索文档的方法，我们可以轻松地创建一个可运行的版本。以下我们将围绕 similarity_search 方法构建一个："
   ]
  },
  {
   "cell_type": "code",
   "execution_count": 57,
   "id": "92c5294a-956c-4e93-a3a0-3290107d0cb7",
   "metadata": {},
   "outputs": [
    {
     "data": {
      "text/plain": [
       "[[Document(id='1445be55-d806-49d4-884f-88c84ea89a8f', metadata={'page': 4, 'page_label': '5', 'source': './example_data/nke-10k-2023.pdf', 'start_index': 3125}, page_content='direct to consumer operations sell products through the following number of retail stores in the United States:\\nU.S. RETAIL STORES NUMBER\\nNIKE Brand factory stores 213 \\nNIKE Brand in-line stores (including employee-only stores) 74 \\nConverse stores (including factory stores) 82 \\nTOTAL 369 \\nIn the United States, NIKE has eight significant distribution centers. Refer to Item 2. Properties for further information.\\n2023 FORM 10-K 2')],\n",
       " [Document(id='9b30c172-50c7-4303-bc46-751fe383874b', metadata={'page': 86, 'page_label': '87', 'source': './example_data/nke-10k-2023.pdf', 'start_index': 3033}, page_content=\"transition of NIKE Brand businesses in certain countries within APLA to third-party distributors.\\nThe Company's NIKE Direct operations are managed within each NIKE Brand geographic operating segment. Converse is also a reportable segment for the Company\\nand operates in one industry: the design, marketing, licensing and selling of athletic lifestyle sneakers, apparel and accessories.\\nGlobal Brand Divisions is included within the NIKE Brand for presentation purposes to align with the way management views the Company. Global Brand Divisions\\nrevenues include NIKE Brand licensing and other miscellaneous revenues that are not part of a geographic operating segment. Global Brand Divisions costs represent\\ndemand creation and operating overhead expense that include product creation and design expenses centrally managed for the NIKE Brand, as well as costs associated\\nwith NIKE Direct global digital operations and enterprise technology.\\n(1)\\n2023 FORM 10-K 84\")]]"
      ]
     },
     "execution_count": 57,
     "metadata": {},
     "output_type": "execute_result"
    }
   ],
   "source": [
    "from typing import List\n",
    "\n",
    "from langchain_core.documents import Document\n",
    "from langchain_core.runnables import chain\n",
    "\n",
    "\n",
    "@chain\n",
    "def retriever(query: str) -> List[Document]:\n",
    "    return vector_store.similarity_search(query, k=1)\n",
    "\n",
    "\n",
    "retriever.batch(\n",
    "    [\n",
    "        \"How many distribution centers does Nike have in the US?\",\n",
    "        \"When was Nike incorporated?\",\n",
    "    ],\n",
    ")"
   ]
  },
  {
   "cell_type": "markdown",
   "id": "45c045f4-eb1f-41c0-a047-759bf6525ced",
   "metadata": {},
   "source": [
    "- 向量存储实现了一个 as_retriever 方法，该方法将生成一个检索器，具体是 VectorStoreRetriever。这些检索器包括特定的 search_type 和 search_kwargs 属性，用于标识要调用底层向量存储的哪些方法，以及如何参数化它们。例如，实现上述内容同样的效果："
   ]
  },
  {
   "cell_type": "code",
   "execution_count": 58,
   "id": "3683b911-dfd5-4541-b242-132be26d1f2e",
   "metadata": {},
   "outputs": [
    {
     "data": {
      "text/plain": [
       "[[Document(id='1445be55-d806-49d4-884f-88c84ea89a8f', metadata={'page': 4, 'page_label': '5', 'source': './example_data/nke-10k-2023.pdf', 'start_index': 3125}, page_content='direct to consumer operations sell products through the following number of retail stores in the United States:\\nU.S. RETAIL STORES NUMBER\\nNIKE Brand factory stores 213 \\nNIKE Brand in-line stores (including employee-only stores) 74 \\nConverse stores (including factory stores) 82 \\nTOTAL 369 \\nIn the United States, NIKE has eight significant distribution centers. Refer to Item 2. Properties for further information.\\n2023 FORM 10-K 2')],\n",
       " [Document(id='9b30c172-50c7-4303-bc46-751fe383874b', metadata={'page': 86, 'page_label': '87', 'source': './example_data/nke-10k-2023.pdf', 'start_index': 3033}, page_content=\"transition of NIKE Brand businesses in certain countries within APLA to third-party distributors.\\nThe Company's NIKE Direct operations are managed within each NIKE Brand geographic operating segment. Converse is also a reportable segment for the Company\\nand operates in one industry: the design, marketing, licensing and selling of athletic lifestyle sneakers, apparel and accessories.\\nGlobal Brand Divisions is included within the NIKE Brand for presentation purposes to align with the way management views the Company. Global Brand Divisions\\nrevenues include NIKE Brand licensing and other miscellaneous revenues that are not part of a geographic operating segment. Global Brand Divisions costs represent\\ndemand creation and operating overhead expense that include product creation and design expenses centrally managed for the NIKE Brand, as well as costs associated\\nwith NIKE Direct global digital operations and enterprise technology.\\n(1)\\n2023 FORM 10-K 84\")]]"
      ]
     },
     "execution_count": 58,
     "metadata": {},
     "output_type": "execute_result"
    }
   ],
   "source": [
    "retriever = vector_store.as_retriever(\n",
    "    search_type=\"similarity\",\n",
    "    search_kwargs={\"k\": 1},\n",
    ")\n",
    "\n",
    "retriever.batch(\n",
    "    [\n",
    "        \"How many distribution centers does Nike have in the US?\",\n",
    "        \"When was Nike incorporated?\",\n",
    "    ],\n",
    ")"
   ]
  },
  {
   "cell_type": "markdown",
   "id": "c9bb40a1-d866-45cd-ab6a-dd470a6148f2",
   "metadata": {},
   "source": [
    "- **VectorStoreRetriever 支持以下搜索类型： \"similarity\" （默认）、 \"mmr\" （最大边际相关性，如上所述）和 \"similarity_score_threshold\" 。我们可以使用后者通过相似度分数来阈值化检索器输出的文档。**"
   ]
  },
  {
   "cell_type": "code",
   "execution_count": null,
   "id": "a592923d-9b5d-4e24-ad3a-eeec18b4a29b",
   "metadata": {
    "editable": true,
    "slideshow": {
     "slide_type": ""
    },
    "tags": []
   },
   "outputs": [],
   "source": []
  }
 ],
 "metadata": {
  "kernelspec": {
   "display_name": "Python 3 (ipykernel)",
   "language": "python",
   "name": "python3"
  },
  "language_info": {
   "codemirror_mode": {
    "name": "ipython",
    "version": 3
   },
   "file_extension": ".py",
   "mimetype": "text/x-python",
   "name": "python",
   "nbconvert_exporter": "python",
   "pygments_lexer": "ipython3",
   "version": "3.13.1"
  },
  "notify_time": "5",
  "toc": {
   "base_numbering": 1,
   "nav_menu": {},
   "number_sections": true,
   "sideBar": true,
   "skip_h1_title": false,
   "title_cell": "Table of Contents",
   "title_sidebar": "Contents",
   "toc_cell": false,
   "toc_position": {},
   "toc_section_display": true,
   "toc_window_display": true
  }
 },
 "nbformat": 4,
 "nbformat_minor": 5
}
